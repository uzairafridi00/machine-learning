{
 "cells": [
  {
   "cell_type": "code",
   "execution_count": null,
   "id": "ffc45ce1",
   "metadata": {},
   "outputs": [],
   "source": [
    "from sklearn.feature_extraction.text import CountVectorizer"
   ]
  },
  {
   "cell_type": "code",
   "execution_count": null,
   "id": "5488fee0",
   "metadata": {},
   "outputs": [],
   "source": [
    "corpus = ['This is my first text mining.']\n",
    "corpus"
   ]
  },
  {
   "cell_type": "code",
   "execution_count": null,
   "id": "08119ca6",
   "metadata": {},
   "outputs": [],
   "source": [
    "cv = CountVectorizer()\n",
    "data = cv.fit_transform(corpus)"
   ]
  },
  {
   "cell_type": "code",
   "execution_count": null,
   "id": "0f4c7c72",
   "metadata": {},
   "outputs": [],
   "source": [
    "data.toarray()"
   ]
  },
  {
   "cell_type": "code",
   "execution_count": null,
   "id": "95a6711b",
   "metadata": {},
   "outputs": [],
   "source": [
    "cv.get_feature_names()"
   ]
  },
  {
   "cell_type": "code",
   "execution_count": null,
   "id": "6c1eecec",
   "metadata": {},
   "outputs": [],
   "source": [
    "cv.vocabulary_"
   ]
  },
  {
   "cell_type": "markdown",
   "id": "ae8a9337",
   "metadata": {},
   "source": [
    "___"
   ]
  },
  {
   "cell_type": "code",
   "execution_count": null,
   "id": "ed2ae789",
   "metadata": {},
   "outputs": [],
   "source": [
    "corpus = open('dataset3.txt').read()\n",
    "corpus"
   ]
  },
  {
   "cell_type": "code",
   "execution_count": null,
   "id": "6aca59f0",
   "metadata": {},
   "outputs": [],
   "source": [
    "data = corpus.split('\\n')\n",
    "data"
   ]
  },
  {
   "cell_type": "code",
   "execution_count": null,
   "id": "4ede8c46",
   "metadata": {},
   "outputs": [],
   "source": [
    "X = []\n",
    "Y = []\n",
    "for item in data:\n",
    "    text,label = item.split(\":\")\n",
    "    X.append(text)\n",
    "    Y.append(label)"
   ]
  },
  {
   "cell_type": "code",
   "execution_count": null,
   "id": "db58d05c",
   "metadata": {},
   "outputs": [],
   "source": [
    "X"
   ]
  },
  {
   "cell_type": "code",
   "execution_count": null,
   "id": "27f1445a",
   "metadata": {},
   "outputs": [],
   "source": [
    "Y"
   ]
  },
  {
   "cell_type": "code",
   "execution_count": null,
   "id": "81c09754",
   "metadata": {},
   "outputs": [],
   "source": [
    "from sklearn.feature_extraction.text import CountVectorizer"
   ]
  },
  {
   "cell_type": "code",
   "execution_count": null,
   "id": "2766fc0f",
   "metadata": {},
   "outputs": [],
   "source": [
    "cv = CountVectorizer()\n",
    "data_X = cv.fit_transform(X)"
   ]
  },
  {
   "cell_type": "code",
   "execution_count": null,
   "id": "8d7ed615",
   "metadata": {},
   "outputs": [],
   "source": [
    "data_X.toarray()"
   ]
  },
  {
   "cell_type": "markdown",
   "id": "4cb2a4c3",
   "metadata": {},
   "source": [
    "___\n"
   ]
  },
  {
   "cell_type": "markdown",
   "id": "c0250b26",
   "metadata": {},
   "source": [
    "## KNN"
   ]
  },
  {
   "cell_type": "code",
   "execution_count": null,
   "id": "038fa3c6",
   "metadata": {},
   "outputs": [],
   "source": [
    "from sklearn.neighbors import KNeighborsClassifier"
   ]
  },
  {
   "cell_type": "code",
   "execution_count": null,
   "id": "9de2a43a",
   "metadata": {},
   "outputs": [],
   "source": [
    "kn = KNeighborsClassifier(n_neighbors=3)"
   ]
  },
  {
   "cell_type": "code",
   "execution_count": null,
   "id": "9a36ab64",
   "metadata": {},
   "outputs": [],
   "source": [
    "kn.fit(data_X[:5], Y[:5])"
   ]
  },
  {
   "cell_type": "code",
   "execution_count": null,
   "id": "5ea05355",
   "metadata": {},
   "outputs": [],
   "source": [
    "kn.predict(data_X[5])"
   ]
  },
  {
   "cell_type": "markdown",
   "id": "42a199e8",
   "metadata": {},
   "source": [
    "___"
   ]
  },
  {
   "cell_type": "markdown",
   "id": "71eff75f",
   "metadata": {},
   "source": [
    "## Naive Bayes"
   ]
  },
  {
   "cell_type": "code",
   "execution_count": null,
   "id": "0dfd0e5e",
   "metadata": {},
   "outputs": [],
   "source": [
    "from sklearn.naive_bayes import MultinomialNB"
   ]
  },
  {
   "cell_type": "code",
   "execution_count": null,
   "id": "dc1401fb",
   "metadata": {},
   "outputs": [],
   "source": [
    "nb = MultinomialNB()"
   ]
  },
  {
   "cell_type": "code",
   "execution_count": null,
   "id": "56539548",
   "metadata": {},
   "outputs": [],
   "source": [
    "nb.fit(data_X[:5], Y[:5])"
   ]
  },
  {
   "cell_type": "code",
   "execution_count": null,
   "id": "0acb39f1",
   "metadata": {},
   "outputs": [],
   "source": [
    "nb.predict(data_X[5])"
   ]
  },
  {
   "cell_type": "markdown",
   "id": "0c21af58",
   "metadata": {},
   "source": [
    "___"
   ]
  },
  {
   "cell_type": "markdown",
   "id": "0db59e91",
   "metadata": {},
   "source": [
    "## Decision Tree"
   ]
  },
  {
   "cell_type": "code",
   "execution_count": null,
   "id": "0e2bc22d",
   "metadata": {},
   "outputs": [],
   "source": [
    "from sklearn.tree import DecisionTreeClassifier"
   ]
  },
  {
   "cell_type": "code",
   "execution_count": null,
   "id": "7c92cb65",
   "metadata": {},
   "outputs": [],
   "source": [
    "dc = DecisionTreeClassifier(min_samples_leaf=2)"
   ]
  },
  {
   "cell_type": "code",
   "execution_count": null,
   "id": "5d745dee",
   "metadata": {},
   "outputs": [],
   "source": [
    "dc.fit(data_X[:5], Y[:5])"
   ]
  },
  {
   "cell_type": "code",
   "execution_count": null,
   "id": "1355a4eb",
   "metadata": {},
   "outputs": [],
   "source": [
    "dc.predict(data_X[5])"
   ]
  },
  {
   "cell_type": "markdown",
   "id": "f02a0540",
   "metadata": {},
   "source": [
    "___"
   ]
  },
  {
   "cell_type": "markdown",
   "id": "b112ba1f",
   "metadata": {},
   "source": [
    "## Linear Classifier"
   ]
  },
  {
   "cell_type": "code",
   "execution_count": null,
   "id": "24786a6c",
   "metadata": {},
   "outputs": [],
   "source": [
    "from sklearn.linear_model import SGDClassifier"
   ]
  },
  {
   "cell_type": "code",
   "execution_count": null,
   "id": "88d7764b",
   "metadata": {},
   "outputs": [],
   "source": [
    "sg = SGDClassifier()"
   ]
  },
  {
   "cell_type": "code",
   "execution_count": null,
   "id": "b39d09e4",
   "metadata": {},
   "outputs": [],
   "source": [
    "sg.fit(data_X[:5], Y[:5])"
   ]
  },
  {
   "cell_type": "code",
   "execution_count": null,
   "id": "9f753bb6",
   "metadata": {},
   "outputs": [],
   "source": [
    "sg.predict(data_X[5])"
   ]
  },
  {
   "cell_type": "markdown",
   "id": "871b0d78",
   "metadata": {},
   "source": [
    "___"
   ]
  },
  {
   "cell_type": "markdown",
   "id": "d0f33eac",
   "metadata": {},
   "source": [
    "## Clustering\n",
    "## KMeans"
   ]
  },
  {
   "cell_type": "code",
   "execution_count": null,
   "id": "50c8845b",
   "metadata": {},
   "outputs": [],
   "source": [
    "corpus = ['milk bread bread bread',\n",
    "        'bread milk milk bread',\n",
    "        'milk milk milk bread bread bread bread',\n",
    "        'cat cat cat dog dog bark',\n",
    "        'dog dog cat bark mew mew',\n",
    "        'cat dog cat dog mew']\n",
    "corpus"
   ]
  },
  {
   "cell_type": "code",
   "execution_count": null,
   "id": "4147c008",
   "metadata": {},
   "outputs": [],
   "source": [
    "from sklearn.feature_extraction.text import CountVectorizer"
   ]
  },
  {
   "cell_type": "code",
   "execution_count": null,
   "id": "f63af040",
   "metadata": {},
   "outputs": [],
   "source": [
    "cv = CountVectorizer()\n",
    "data_K = cv.fit_transform(corpus)"
   ]
  },
  {
   "cell_type": "code",
   "execution_count": null,
   "id": "b72c974b",
   "metadata": {},
   "outputs": [],
   "source": [
    "data_K.toarray()"
   ]
  },
  {
   "cell_type": "code",
   "execution_count": null,
   "id": "34c345c7",
   "metadata": {},
   "outputs": [],
   "source": [
    "from sklearn.cluster import KMeans"
   ]
  },
  {
   "cell_type": "code",
   "execution_count": null,
   "id": "5a573e91",
   "metadata": {},
   "outputs": [],
   "source": [
    "km = KMeans(n_clusters=2)\n",
    "km.fit(data_K[:5])"
   ]
  },
  {
   "cell_type": "code",
   "execution_count": null,
   "id": "06dc2dd4",
   "metadata": {},
   "outputs": [],
   "source": [
    "labels = km.labels_\n",
    "labels"
   ]
  },
  {
   "cell_type": "code",
   "execution_count": null,
   "id": "a227586c",
   "metadata": {},
   "outputs": [],
   "source": [
    "for i in range(len(labels)):\n",
    "    label = labels[i]\n",
    "    text = corpus[i]\n",
    "    print(f\"(label {label}): {text}\")"
   ]
  },
  {
   "cell_type": "code",
   "execution_count": null,
   "id": "565ebd72",
   "metadata": {},
   "outputs": [],
   "source": [
    "km.predict(data_K[5])"
   ]
  },
  {
   "cell_type": "code",
   "execution_count": 1,
   "id": "75fcc680",
   "metadata": {},
   "outputs": [],
   "source": [
    "corpus = '  This is my Dummy Dataset. It is the part of taught course on text mining  '"
   ]
  },
  {
   "cell_type": "code",
   "execution_count": 2,
   "id": "93cf90c8",
   "metadata": {},
   "outputs": [
    {
     "data": {
      "text/plain": [
       "'this is my dummy dataset. it is the part of taught course on text mining'"
      ]
     },
     "execution_count": 2,
     "metadata": {},
     "output_type": "execute_result"
    }
   ],
   "source": [
    "corpus = corpus.lower().strip()\n",
    "corpus"
   ]
  },
  {
   "cell_type": "code",
   "execution_count": 3,
   "id": "101e7365",
   "metadata": {},
   "outputs": [],
   "source": [
    "from string import punctuation as punc"
   ]
  },
  {
   "cell_type": "code",
   "execution_count": 4,
   "id": "afb3631c",
   "metadata": {},
   "outputs": [
    {
     "data": {
      "text/plain": [
       "'!\"#$%&\\'()*+,-./:;<=>?@[\\\\]^_`{|}~'"
      ]
     },
     "execution_count": 4,
     "metadata": {},
     "output_type": "execute_result"
    }
   ],
   "source": [
    "punc"
   ]
  },
  {
   "cell_type": "code",
   "execution_count": 7,
   "id": "187c2ed7",
   "metadata": {},
   "outputs": [],
   "source": [
    "for ch in punc:\n",
    "    if ch in corpus:\n",
    "        corpus = corpus.replace(ch,\"\")"
   ]
  },
  {
   "cell_type": "code",
   "execution_count": 8,
   "id": "212ff54e",
   "metadata": {},
   "outputs": [
    {
     "data": {
      "text/plain": [
       "'this is my dummy dataset it is the part of taught course on text mining'"
      ]
     },
     "execution_count": 8,
     "metadata": {},
     "output_type": "execute_result"
    }
   ],
   "source": [
    "corpus"
   ]
  },
  {
   "cell_type": "code",
   "execution_count": null,
   "id": "842d278a",
   "metadata": {},
   "outputs": [],
   "source": []
  }
 ],
 "metadata": {
  "kernelspec": {
   "display_name": "Python 3 (ipykernel)",
   "language": "python",
   "name": "python3"
  },
  "language_info": {
   "codemirror_mode": {
    "name": "ipython",
    "version": 3
   },
   "file_extension": ".py",
   "mimetype": "text/x-python",
   "name": "python",
   "nbconvert_exporter": "python",
   "pygments_lexer": "ipython3",
   "version": "3.9.13"
  }
 },
 "nbformat": 4,
 "nbformat_minor": 5
}
