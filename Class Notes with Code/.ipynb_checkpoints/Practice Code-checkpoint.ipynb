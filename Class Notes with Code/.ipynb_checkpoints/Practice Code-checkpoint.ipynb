{
 "cells": [
  {
   "cell_type": "markdown",
   "id": "525228ae",
   "metadata": {},
   "source": [
    "## Converting Text to Binaries"
   ]
  },
  {
   "cell_type": "code",
   "execution_count": null,
   "id": "c0ff6ece",
   "metadata": {},
   "outputs": [],
   "source": [
    "from sklearn.feature_extraction.text import CountVectorizer"
   ]
  },
  {
   "cell_type": "code",
   "execution_count": null,
   "id": "5095570d",
   "metadata": {},
   "outputs": [],
   "source": [
    "corpus = ['Ali is a good boy']\n",
    "# CountVectorizer Parameters which we can pass to it\n",
    "# lowercase=False\n",
    "# stop_words= [‘is’,’to’,’my’]\n",
    "# stop_words=’english’\n",
    "# max_df=1    min_df=2      max_features=3\n",
    "# binary = True   -> by default it is False\n",
    "vec = CountVectorizer()\n",
    "data = vec.fit_transform(corpus)\n",
    "data"
   ]
  },
  {
   "cell_type": "code",
   "execution_count": null,
   "id": "ecc1efe3",
   "metadata": {},
   "outputs": [],
   "source": [
    "data.toarray()"
   ]
  },
  {
   "cell_type": "code",
   "execution_count": null,
   "id": "d148d1ec",
   "metadata": {},
   "outputs": [],
   "source": [
    "vec.get_feature_names()"
   ]
  },
  {
   "cell_type": "code",
   "execution_count": null,
   "id": "d1528c8a",
   "metadata": {},
   "outputs": [],
   "source": [
    "vec.vocabulary_"
   ]
  },
  {
   "cell_type": "markdown",
   "id": "be9e2d38",
   "metadata": {},
   "source": [
    "# KNN"
   ]
  },
  {
   "cell_type": "code",
   "execution_count": null,
   "id": "29e17240",
   "metadata": {},
   "outputs": [],
   "source": [
    "corpus = open('dataset3.txt').read()\n",
    "corpus"
   ]
  },
  {
   "cell_type": "code",
   "execution_count": null,
   "id": "4dd8a2b4",
   "metadata": {},
   "outputs": [],
   "source": [
    "docs = corpus.split(\"\\n\")\n",
    "docs"
   ]
  },
  {
   "cell_type": "code",
   "execution_count": null,
   "id": "087958ea",
   "metadata": {},
   "outputs": [],
   "source": [
    "X,Y = [],[]\n",
    "for item in docs:\n",
    "    title,label = item.split(':')\n",
    "    X.append(title)\n",
    "    Y.append(label)\n",
    "\n",
    "X"
   ]
  },
  {
   "cell_type": "code",
   "execution_count": null,
   "id": "af2963dc",
   "metadata": {},
   "outputs": [],
   "source": [
    "Y"
   ]
  },
  {
   "cell_type": "code",
   "execution_count": null,
   "id": "4c0d3b40",
   "metadata": {},
   "outputs": [],
   "source": [
    "from sklearn.feature_extraction.text import CountVectorizer\n",
    "vec = CountVectorizer()"
   ]
  },
  {
   "cell_type": "code",
   "execution_count": null,
   "id": "7db07bcf",
   "metadata": {},
   "outputs": [],
   "source": [
    "data = vec.fit_transform(X)\n",
    "data.toarray()"
   ]
  },
  {
   "cell_type": "code",
   "execution_count": null,
   "id": "5996c9fd",
   "metadata": {},
   "outputs": [],
   "source": [
    "vec.get_feature_names()"
   ]
  },
  {
   "cell_type": "code",
   "execution_count": null,
   "id": "fe951733",
   "metadata": {},
   "outputs": [],
   "source": [
    "vec.vocabulary_"
   ]
  },
  {
   "cell_type": "code",
   "execution_count": null,
   "id": "dd87d2e6",
   "metadata": {},
   "outputs": [],
   "source": [
    "from sklearn.neighbors import KNeighborsClassifier"
   ]
  },
  {
   "cell_type": "code",
   "execution_count": null,
   "id": "554b7264",
   "metadata": {},
   "outputs": [],
   "source": [
    "n = KNeighborsClassifier(n_neighbors=3)\n",
    "n.fit(data[:5], Y[:5])"
   ]
  },
  {
   "cell_type": "code",
   "execution_count": null,
   "id": "14b653de",
   "metadata": {},
   "outputs": [],
   "source": [
    "n.predict(data[5])"
   ]
  },
  {
   "cell_type": "markdown",
   "id": "ac81e5b7",
   "metadata": {},
   "source": [
    "# Naive Bayesian"
   ]
  },
  {
   "cell_type": "code",
   "execution_count": null,
   "id": "0f01bce0",
   "metadata": {},
   "outputs": [],
   "source": [
    "from sklearn.naive_bayes import GaussianNB\n",
    "gnb = GaussianNB()"
   ]
  },
  {
   "cell_type": "code",
   "execution_count": null,
   "id": "ce7a49a7",
   "metadata": {},
   "outputs": [],
   "source": [
    "# Converting Sparse Matrix to Dense Matrix for Naive Bayesian\n",
    "# This only accepts dense Matriz not Sparse One\n",
    "new_X = data.todense()\n",
    "gnb.fit(new_X[:5],Y[:5])"
   ]
  },
  {
   "cell_type": "code",
   "execution_count": null,
   "id": "964c93c9",
   "metadata": {},
   "outputs": [],
   "source": [
    "gnb.predict(new_X[5])"
   ]
  },
  {
   "cell_type": "code",
   "execution_count": null,
   "id": "1dfddd6f",
   "metadata": {},
   "outputs": [],
   "source": [
    "# Second Method of Naive Bayes\n",
    "from sklearn.naive_bayes import MultinomialNB\n",
    "mb = MultinomialNB()"
   ]
  },
  {
   "cell_type": "code",
   "execution_count": null,
   "id": "41a3a503",
   "metadata": {},
   "outputs": [],
   "source": [
    "mb.fit(data[:5],Y[:5])"
   ]
  },
  {
   "cell_type": "code",
   "execution_count": null,
   "id": "45c6eab0",
   "metadata": {},
   "outputs": [],
   "source": [
    "mb.predict(data[5])"
   ]
  },
  {
   "cell_type": "markdown",
   "id": "b2d129f4",
   "metadata": {},
   "source": [
    "## Decision & Linear Classifiers"
   ]
  },
  {
   "cell_type": "code",
   "execution_count": null,
   "id": "f9dda1d0",
   "metadata": {},
   "outputs": [],
   "source": [
    "from sklearn.tree import DecisionTreeClassifier"
   ]
  },
  {
   "cell_type": "code",
   "execution_count": null,
   "id": "ba93c768",
   "metadata": {},
   "outputs": [],
   "source": [
    "from sklearn.linear_model import SGDClassifier"
   ]
  },
  {
   "cell_type": "markdown",
   "id": "07b249c2",
   "metadata": {},
   "source": [
    "___"
   ]
  },
  {
   "cell_type": "markdown",
   "id": "f8f1dde4",
   "metadata": {},
   "source": [
    "## Stop Words"
   ]
  },
  {
   "cell_type": "code",
   "execution_count": null,
   "id": "180d080e",
   "metadata": {},
   "outputs": [],
   "source": [
    "corpus = '  This is my Dummy Dataset. It is the part of taught course on text mining  '"
   ]
  },
  {
   "cell_type": "code",
   "execution_count": null,
   "id": "f1e9cb6d",
   "metadata": {},
   "outputs": [],
   "source": [
    "corpus = corpus.lower()\n",
    "corpus"
   ]
  },
  {
   "cell_type": "code",
   "execution_count": null,
   "id": "c9c8502f",
   "metadata": {},
   "outputs": [],
   "source": [
    "corpus = corpus.strip()\n",
    "corpus"
   ]
  },
  {
   "cell_type": "code",
   "execution_count": null,
   "id": "3cb38e08",
   "metadata": {},
   "outputs": [],
   "source": [
    "from string import punctuation as punc"
   ]
  },
  {
   "cell_type": "code",
   "execution_count": null,
   "id": "490d6e74",
   "metadata": {},
   "outputs": [],
   "source": [
    "punc"
   ]
  },
  {
   "cell_type": "code",
   "execution_count": null,
   "id": "8aa47efe",
   "metadata": {},
   "outputs": [],
   "source": [
    "for ch in punc:\n",
    "    if ch in corpus:\n",
    "        corpus = corpus.replace(ch,'')\n",
    "        "
   ]
  },
  {
   "cell_type": "code",
   "execution_count": null,
   "id": "0835a6fa",
   "metadata": {},
   "outputs": [],
   "source": [
    "corpus"
   ]
  },
  {
   "cell_type": "code",
   "execution_count": null,
   "id": "581138a7",
   "metadata": {},
   "outputs": [],
   "source": [
    "from sklearn.feature_extraction._stop_words import ENGLISH_STOP_WORDS\n",
    "# ENGLISH_STOP_WORDS"
   ]
  },
  {
   "cell_type": "code",
   "execution_count": null,
   "id": "c2c33f5d",
   "metadata": {},
   "outputs": [],
   "source": [
    "words = corpus.split(' ')\n",
    "# words"
   ]
  },
  {
   "cell_type": "code",
   "execution_count": null,
   "id": "95d13745",
   "metadata": {},
   "outputs": [],
   "source": [
    "# Not Removing all the STOP WORDS\n",
    "for w in words:\n",
    "    if w in ENGLISH_STOP_WORDS:\n",
    "        words.remove(w)\n",
    "words"
   ]
  },
  {
   "cell_type": "code",
   "execution_count": null,
   "id": "000e42ee",
   "metadata": {},
   "outputs": [],
   "source": [
    "# Short & Recommended way\n",
    "f_w = [item for item in words if item not in ENGLISH_STOP_WORDS]\n",
    "f_w"
   ]
  },
  {
   "cell_type": "markdown",
   "id": "5eaf8894",
   "metadata": {},
   "source": [
    "___"
   ]
  },
  {
   "cell_type": "markdown",
   "id": "baa0679c",
   "metadata": {},
   "source": [
    "## Regular Expressions"
   ]
  },
  {
   "cell_type": "code",
   "execution_count": null,
   "id": "11ad7560",
   "metadata": {},
   "outputs": [],
   "source": [
    "corpus = '<html><head></head><body><h1>Paragraph Heading</h1><p>This is some text. <a href=\"\">The original price was $500 but now only USD250 </a> This is some text. This is some text. This is some text. This is some text. This is some text. This is some text. This is some text. This is some text. This is some text. This is <em>some text.</em> <strong>This is some text.</strong> This is some text. This is some text. This is some text. This is some text. This is some text. This is some text. This is some text. This is some text. This is some text. </p></body></html>'"
   ]
  },
  {
   "cell_type": "code",
   "execution_count": null,
   "id": "5f2d657e",
   "metadata": {},
   "outputs": [],
   "source": [
    "corpus"
   ]
  },
  {
   "cell_type": "code",
   "execution_count": null,
   "id": "e8a05a89",
   "metadata": {},
   "outputs": [],
   "source": [
    "import re"
   ]
  },
  {
   "cell_type": "code",
   "execution_count": null,
   "id": "b39955fe",
   "metadata": {},
   "outputs": [],
   "source": [
    "tags = re.compile(r'<.*?>')\n",
    "corpus = tags.sub('',corpus)\n",
    "corpus"
   ]
  },
  {
   "cell_type": "code",
   "execution_count": null,
   "id": "7a6a1284",
   "metadata": {},
   "outputs": [],
   "source": [
    "prices = re.compile(r'(USD|\\$)[0-9]+')\n",
    "corpus = prices.sub('',corpus)\n",
    "corpus"
   ]
  },
  {
   "cell_type": "code",
   "execution_count": null,
   "id": "2f2cbdd8",
   "metadata": {},
   "outputs": [],
   "source": [
    "corpus1 = 'I like this table in my room'"
   ]
  },
  {
   "cell_type": "code",
   "execution_count": null,
   "id": "a21a2462",
   "metadata": {},
   "outputs": [],
   "source": [
    "from nltk import pos_tag"
   ]
  },
  {
   "cell_type": "code",
   "execution_count": null,
   "id": "90e623ab",
   "metadata": {},
   "outputs": [],
   "source": [
    "word2 = corpus1.split(' ')\n",
    "word2"
   ]
  },
  {
   "cell_type": "code",
   "execution_count": null,
   "id": "253ae4d6",
   "metadata": {},
   "outputs": [],
   "source": [
    "#tags = pos_tag(word2)"
   ]
  },
  {
   "cell_type": "code",
   "execution_count": null,
   "id": "934f3d1a",
   "metadata": {},
   "outputs": [],
   "source": [
    "# tags[1][1]\n",
    "#for i in range(0,len(words)):\n",
    "#    if tags[i][1] == 'DT':\n",
    "#        print(tags[i])"
   ]
  },
  {
   "cell_type": "markdown",
   "id": "fbe9079f",
   "metadata": {},
   "source": [
    "___"
   ]
  },
  {
   "cell_type": "markdown",
   "id": "305d1487",
   "metadata": {},
   "source": [
    "## Clustering\n",
    "## K-Means"
   ]
  },
  {
   "cell_type": "code",
   "execution_count": null,
   "id": "1ddad241",
   "metadata": {},
   "outputs": [],
   "source": [
    "corpus = ['milk bread bread bread',\n",
    "        'bread milk milk bread',\n",
    "        'milk milk milk bread bread bread bread',\n",
    "        'cat cat cat dog dog bark',\n",
    "        'dog dog cat bark mew mew',\n",
    "        'cat dog cat dog mew']"
   ]
  },
  {
   "cell_type": "code",
   "execution_count": null,
   "id": "5f9e7f89",
   "metadata": {},
   "outputs": [],
   "source": [
    "from sklearn.feature_extraction.text import CountVectorizer"
   ]
  },
  {
   "cell_type": "code",
   "execution_count": null,
   "id": "a0a732fd",
   "metadata": {},
   "outputs": [],
   "source": [
    "CV = CountVectorizer()"
   ]
  },
  {
   "cell_type": "code",
   "execution_count": null,
   "id": "66363a29",
   "metadata": {},
   "outputs": [],
   "source": [
    "X = CV.fit_transform(corpus)\n",
    "X.toarray()"
   ]
  },
  {
   "cell_type": "code",
   "execution_count": null,
   "id": "a91a72e3",
   "metadata": {},
   "outputs": [],
   "source": [
    "CV.get_feature_names()"
   ]
  },
  {
   "cell_type": "code",
   "execution_count": null,
   "id": "5960c769",
   "metadata": {},
   "outputs": [],
   "source": [
    "from sklearn.cluster import KMeans"
   ]
  },
  {
   "cell_type": "code",
   "execution_count": null,
   "id": "978353a9",
   "metadata": {},
   "outputs": [],
   "source": [
    "km = KMeans(n_clusters=2)"
   ]
  },
  {
   "cell_type": "code",
   "execution_count": null,
   "id": "e5d7ea6d",
   "metadata": {},
   "outputs": [],
   "source": [
    "km.fit(X[:5])"
   ]
  },
  {
   "cell_type": "code",
   "execution_count": null,
   "id": "9084ee65",
   "metadata": {},
   "outputs": [],
   "source": [
    "labels = km.labels_\n",
    "labels"
   ]
  },
  {
   "cell_type": "code",
   "execution_count": null,
   "id": "6ff3209d",
   "metadata": {},
   "outputs": [],
   "source": [
    "\n",
    "for i in range (len(labels)):\n",
    "    label = labels[i]\n",
    "    text = corpus[i]\n",
    "    print(f\"(label {label}): {text}\")"
   ]
  },
  {
   "cell_type": "code",
   "execution_count": null,
   "id": "585d42da",
   "metadata": {},
   "outputs": [],
   "source": [
    "km.predict(X[5])"
   ]
  },
  {
   "cell_type": "code",
   "execution_count": null,
   "id": "4e463290",
   "metadata": {},
   "outputs": [],
   "source": [
    "for i in range (len(labels)):\n",
    "  #  label = labels[i]\n",
    "   # text = corpus[i]\n",
    "    print(f\"(label {labels[i]}): {corpus[i]}\")"
   ]
  },
  {
   "cell_type": "markdown",
   "id": "b0390d05",
   "metadata": {},
   "source": [
    "___"
   ]
  },
  {
   "cell_type": "code",
   "execution_count": null,
   "id": "4564d59a",
   "metadata": {},
   "outputs": [],
   "source": []
  }
 ],
 "metadata": {
  "kernelspec": {
   "display_name": "Python 3 (ipykernel)",
   "language": "python",
   "name": "python3"
  },
  "language_info": {
   "codemirror_mode": {
    "name": "ipython",
    "version": 3
   },
   "file_extension": ".py",
   "mimetype": "text/x-python",
   "name": "python",
   "nbconvert_exporter": "python",
   "pygments_lexer": "ipython3",
   "version": "3.9.13"
  }
 },
 "nbformat": 4,
 "nbformat_minor": 5
}
