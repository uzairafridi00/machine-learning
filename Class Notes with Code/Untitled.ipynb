{
 "cells": [
  {
   "cell_type": "code",
   "execution_count": 1,
   "id": "800b7bee",
   "metadata": {},
   "outputs": [
    {
     "data": {
      "text/plain": [
       "['This is my first text mining.']"
      ]
     },
     "execution_count": 1,
     "metadata": {},
     "output_type": "execute_result"
    }
   ],
   "source": [
    "corpus = ['This is my first text mining.']\n",
    "corpus"
   ]
  },
  {
   "cell_type": "code",
   "execution_count": 2,
   "id": "d2561575",
   "metadata": {},
   "outputs": [],
   "source": [
    "from sklearn.feature_extraction.text import CountVectorizer"
   ]
  },
  {
   "cell_type": "code",
   "execution_count": 3,
   "id": "13ff979f",
   "metadata": {},
   "outputs": [
    {
     "data": {
      "text/plain": [
       "<1x6 sparse matrix of type '<class 'numpy.int64'>'\n",
       "\twith 6 stored elements in Compressed Sparse Row format>"
      ]
     },
     "execution_count": 3,
     "metadata": {},
     "output_type": "execute_result"
    }
   ],
   "source": [
    "vc = CountVectorizer()\n",
    "data = vc.fit_transform(corpus)\n",
    "data"
   ]
  },
  {
   "cell_type": "code",
   "execution_count": 4,
   "id": "795029fc",
   "metadata": {},
   "outputs": [
    {
     "data": {
      "text/plain": [
       "array([[1, 1, 1, 1, 1, 1]], dtype=int64)"
      ]
     },
     "execution_count": 4,
     "metadata": {},
     "output_type": "execute_result"
    }
   ],
   "source": [
    "data.toarray()"
   ]
  },
  {
   "cell_type": "code",
   "execution_count": 5,
   "id": "304247fd",
   "metadata": {},
   "outputs": [
    {
     "name": "stderr",
     "output_type": "stream",
     "text": [
      "C:\\Users\\Uzair Afridi\\anaconda3\\lib\\site-packages\\sklearn\\utils\\deprecation.py:87: FutureWarning: Function get_feature_names is deprecated; get_feature_names is deprecated in 1.0 and will be removed in 1.2. Please use get_feature_names_out instead.\n",
      "  warnings.warn(msg, category=FutureWarning)\n"
     ]
    },
    {
     "data": {
      "text/plain": [
       "['first', 'is', 'mining', 'my', 'text', 'this']"
      ]
     },
     "execution_count": 5,
     "metadata": {},
     "output_type": "execute_result"
    }
   ],
   "source": [
    "vc.get_feature_names()"
   ]
  },
  {
   "cell_type": "code",
   "execution_count": 6,
   "id": "ab496c3c",
   "metadata": {},
   "outputs": [
    {
     "data": {
      "text/plain": [
       "{'this': 5, 'is': 1, 'my': 3, 'first': 0, 'text': 4, 'mining': 2}"
      ]
     },
     "execution_count": 6,
     "metadata": {},
     "output_type": "execute_result"
    }
   ],
   "source": [
    "vc.vocabulary_"
   ]
  },
  {
   "cell_type": "code",
   "execution_count": 7,
   "id": "ea7de605",
   "metadata": {},
   "outputs": [
    {
     "data": {
      "text/plain": [
       "'milk bread bread bread : grocery\\nbread milk milk bread : grocery\\nmilk milk milk bread bread bread bread : grocery\\ncat cat cat dog dog bark : pets\\ndog dog cat bark mew mew : pets\\ncat dog cat dog mew cat :'"
      ]
     },
     "execution_count": 7,
     "metadata": {},
     "output_type": "execute_result"
    }
   ],
   "source": [
    "corpus = open('dataset3.txt').read()\n",
    "corpus"
   ]
  },
  {
   "cell_type": "code",
   "execution_count": 8,
   "id": "e3ba2820",
   "metadata": {},
   "outputs": [
    {
     "data": {
      "text/plain": [
       "['milk bread bread bread : grocery',\n",
       " 'bread milk milk bread : grocery',\n",
       " 'milk milk milk bread bread bread bread : grocery',\n",
       " 'cat cat cat dog dog bark : pets',\n",
       " 'dog dog cat bark mew mew : pets',\n",
       " 'cat dog cat dog mew cat :']"
      ]
     },
     "execution_count": 8,
     "metadata": {},
     "output_type": "execute_result"
    }
   ],
   "source": [
    "data = corpus.split(\"\\n\")\n",
    "data"
   ]
  },
  {
   "cell_type": "code",
   "execution_count": 13,
   "id": "6bfa81d8",
   "metadata": {},
   "outputs": [],
   "source": [
    "X = []\n",
    "Y = []\n",
    "for item in data:\n",
    "    text,label = item.split(':')\n",
    "    X.append(text.strip())\n",
    "    Y.append(label.strip())\n",
    "    "
   ]
  },
  {
   "cell_type": "code",
   "execution_count": 14,
   "id": "0fd6a015",
   "metadata": {},
   "outputs": [
    {
     "data": {
      "text/plain": [
       "['milk bread bread bread',\n",
       " 'bread milk milk bread',\n",
       " 'milk milk milk bread bread bread bread',\n",
       " 'cat cat cat dog dog bark',\n",
       " 'dog dog cat bark mew mew',\n",
       " 'cat dog cat dog mew cat']"
      ]
     },
     "execution_count": 14,
     "metadata": {},
     "output_type": "execute_result"
    }
   ],
   "source": [
    "X"
   ]
  },
  {
   "cell_type": "code",
   "execution_count": 15,
   "id": "046839cf",
   "metadata": {},
   "outputs": [
    {
     "data": {
      "text/plain": [
       "['grocery', 'grocery', 'grocery', 'pets', 'pets', '']"
      ]
     },
     "execution_count": 15,
     "metadata": {},
     "output_type": "execute_result"
    }
   ],
   "source": [
    "Y"
   ]
  },
  {
   "cell_type": "code",
   "execution_count": 17,
   "id": "1c0beff0",
   "metadata": {},
   "outputs": [],
   "source": [
    "from sklearn.feature_extraction.text import CountVectorizer\n",
    "cv = CountVectorizer()\n"
   ]
  },
  {
   "cell_type": "code",
   "execution_count": 18,
   "id": "5621b2e6",
   "metadata": {},
   "outputs": [],
   "source": [
    "data_X = cv.fit_transform(X)"
   ]
  },
  {
   "cell_type": "code",
   "execution_count": 19,
   "id": "df1496de",
   "metadata": {},
   "outputs": [
    {
     "data": {
      "text/plain": [
       "array([[0, 3, 0, 0, 0, 1],\n",
       "       [0, 2, 0, 0, 0, 2],\n",
       "       [0, 4, 0, 0, 0, 3],\n",
       "       [1, 0, 3, 2, 0, 0],\n",
       "       [1, 0, 1, 2, 2, 0],\n",
       "       [0, 0, 3, 2, 1, 0]], dtype=int64)"
      ]
     },
     "execution_count": 19,
     "metadata": {},
     "output_type": "execute_result"
    }
   ],
   "source": [
    "data_X.toarray()"
   ]
  },
  {
   "cell_type": "code",
   "execution_count": null,
   "id": "fd17f2c0",
   "metadata": {},
   "outputs": [],
   "source": []
  },
  {
   "cell_type": "code",
   "execution_count": 16,
   "id": "5109af92",
   "metadata": {},
   "outputs": [],
   "source": [
    "from sklearn.neighbors import KNeighborsClassifier"
   ]
  },
  {
   "cell_type": "code",
   "execution_count": 20,
   "id": "a2bdac71",
   "metadata": {},
   "outputs": [
    {
     "data": {
      "text/plain": [
       "KNeighborsClassifier(n_neighbors=3)"
      ]
     },
     "execution_count": 20,
     "metadata": {},
     "output_type": "execute_result"
    }
   ],
   "source": [
    "kn = KNeighborsClassifier(n_neighbors=3)\n",
    "kn.fit(data_X[:5],Y[:5])"
   ]
  },
  {
   "cell_type": "code",
   "execution_count": 21,
   "id": "d3ca8efb",
   "metadata": {},
   "outputs": [
    {
     "name": "stderr",
     "output_type": "stream",
     "text": [
      "C:\\Users\\Uzair Afridi\\anaconda3\\lib\\site-packages\\sklearn\\neighbors\\_classification.py:228: FutureWarning: Unlike other reduction functions (e.g. `skew`, `kurtosis`), the default behavior of `mode` typically preserves the axis it acts along. In SciPy 1.11.0, this behavior will change: the default value of `keepdims` will become False, the `axis` over which the statistic is taken will be eliminated, and the value None will no longer be accepted. Set `keepdims` to True or False to avoid this warning.\n",
      "  mode, _ = stats.mode(_y[neigh_ind, k], axis=1)\n"
     ]
    },
    {
     "data": {
      "text/plain": [
       "array(['pets'], dtype='<U7')"
      ]
     },
     "execution_count": 21,
     "metadata": {},
     "output_type": "execute_result"
    }
   ],
   "source": [
    "kn.predict(data_X[5])"
   ]
  },
  {
   "cell_type": "code",
   "execution_count": 52,
   "id": "ce9ef487",
   "metadata": {},
   "outputs": [],
   "source": [
    "from sklearn.naive_bayes import MultinomialNB"
   ]
  },
  {
   "cell_type": "code",
   "execution_count": 53,
   "id": "321a3905",
   "metadata": {},
   "outputs": [],
   "source": [
    "nb = MultinomialNB()"
   ]
  },
  {
   "cell_type": "code",
   "execution_count": 54,
   "id": "b1091e7d",
   "metadata": {},
   "outputs": [
    {
     "data": {
      "text/plain": [
       "MultinomialNB()"
      ]
     },
     "execution_count": 54,
     "metadata": {},
     "output_type": "execute_result"
    }
   ],
   "source": [
    "nb.fit(data_X[:5],Y[:5])"
   ]
  },
  {
   "cell_type": "code",
   "execution_count": 55,
   "id": "572a8300",
   "metadata": {},
   "outputs": [
    {
     "data": {
      "text/plain": [
       "array(['pets'], dtype='<U7')"
      ]
     },
     "execution_count": 55,
     "metadata": {},
     "output_type": "execute_result"
    }
   ],
   "source": [
    "nb.predict(data_X[5])"
   ]
  },
  {
   "cell_type": "code",
   "execution_count": 26,
   "id": "a08dde18",
   "metadata": {},
   "outputs": [],
   "source": [
    "from sklearn.tree import DecisionTreeClassifier"
   ]
  },
  {
   "cell_type": "code",
   "execution_count": 35,
   "id": "0b32b8ae",
   "metadata": {},
   "outputs": [
    {
     "data": {
      "text/plain": [
       "DecisionTreeClassifier()"
      ]
     },
     "execution_count": 35,
     "metadata": {},
     "output_type": "execute_result"
    }
   ],
   "source": [
    "dc = DecisionTreeClassifier(min_samples_leaf=1)\n",
    "dc.fit(data_X[:5],Y[:5])"
   ]
  },
  {
   "cell_type": "code",
   "execution_count": 36,
   "id": "1e805625",
   "metadata": {},
   "outputs": [
    {
     "data": {
      "text/plain": [
       "array(['pets'], dtype='<U7')"
      ]
     },
     "execution_count": 36,
     "metadata": {},
     "output_type": "execute_result"
    }
   ],
   "source": [
    "dc.predict(data_X[5])"
   ]
  },
  {
   "cell_type": "code",
   "execution_count": 37,
   "id": "3c8c8cd6",
   "metadata": {},
   "outputs": [],
   "source": [
    "from sklearn.linear_model import SGDClassifier"
   ]
  },
  {
   "cell_type": "code",
   "execution_count": 38,
   "id": "20d53750",
   "metadata": {},
   "outputs": [],
   "source": [
    "sd = SGDClassifier()"
   ]
  },
  {
   "cell_type": "code",
   "execution_count": 39,
   "id": "f0758be9",
   "metadata": {},
   "outputs": [
    {
     "data": {
      "text/plain": [
       "SGDClassifier()"
      ]
     },
     "execution_count": 39,
     "metadata": {},
     "output_type": "execute_result"
    }
   ],
   "source": [
    "sd.fit(data_X[:5],Y[:5])"
   ]
  },
  {
   "cell_type": "code",
   "execution_count": 40,
   "id": "e77db1d8",
   "metadata": {},
   "outputs": [
    {
     "data": {
      "text/plain": [
       "array(['pets'], dtype='<U7')"
      ]
     },
     "execution_count": 40,
     "metadata": {},
     "output_type": "execute_result"
    }
   ],
   "source": [
    "sd.predict(data_X[5])"
   ]
  },
  {
   "cell_type": "code",
   "execution_count": null,
   "id": "89be824a",
   "metadata": {},
   "outputs": [],
   "source": []
  },
  {
   "cell_type": "markdown",
   "id": "fb0419c9",
   "metadata": {},
   "source": [
    "## KMeans"
   ]
  },
  {
   "cell_type": "code",
   "execution_count": 41,
   "id": "be0fec24",
   "metadata": {},
   "outputs": [
    {
     "data": {
      "text/plain": [
       "['milk bread bread bread',\n",
       " 'bread milk milk bread',\n",
       " 'milk milk milk bread bread bread bread',\n",
       " 'cat cat cat dog dog bark',\n",
       " 'dog dog cat bark mew mew',\n",
       " 'cat dog cat dog mew']"
      ]
     },
     "execution_count": 41,
     "metadata": {},
     "output_type": "execute_result"
    }
   ],
   "source": [
    "corpus = ['milk bread bread bread',\n",
    "        'bread milk milk bread',\n",
    "        'milk milk milk bread bread bread bread',\n",
    "        'cat cat cat dog dog bark',\n",
    "        'dog dog cat bark mew mew',\n",
    "        'cat dog cat dog mew']\n",
    "corpus"
   ]
  },
  {
   "cell_type": "code",
   "execution_count": 44,
   "id": "d759bb3b",
   "metadata": {},
   "outputs": [
    {
     "data": {
      "text/plain": [
       "<6x6 sparse matrix of type '<class 'numpy.int64'>'\n",
       "\twith 16 stored elements in Compressed Sparse Row format>"
      ]
     },
     "execution_count": 44,
     "metadata": {},
     "output_type": "execute_result"
    }
   ],
   "source": [
    "cv = CountVectorizer()\n",
    "data_K = cv.fit_transform(corpus)\n",
    "data_K"
   ]
  },
  {
   "cell_type": "code",
   "execution_count": 45,
   "id": "10f10669",
   "metadata": {},
   "outputs": [
    {
     "data": {
      "text/plain": [
       "array([[0, 3, 0, 0, 0, 1],\n",
       "       [0, 2, 0, 0, 0, 2],\n",
       "       [0, 4, 0, 0, 0, 3],\n",
       "       [1, 0, 3, 2, 0, 0],\n",
       "       [1, 0, 1, 2, 2, 0],\n",
       "       [0, 0, 2, 2, 1, 0]], dtype=int64)"
      ]
     },
     "execution_count": 45,
     "metadata": {},
     "output_type": "execute_result"
    }
   ],
   "source": [
    "data_K.toarray()"
   ]
  },
  {
   "cell_type": "code",
   "execution_count": 46,
   "id": "ad02415c",
   "metadata": {},
   "outputs": [],
   "source": [
    "from sklearn.cluster import KMeans"
   ]
  },
  {
   "cell_type": "code",
   "execution_count": 48,
   "id": "3796467f",
   "metadata": {},
   "outputs": [
    {
     "data": {
      "text/plain": [
       "KMeans(n_clusters=2)"
      ]
     },
     "execution_count": 48,
     "metadata": {},
     "output_type": "execute_result"
    }
   ],
   "source": [
    "km = KMeans(n_clusters=2)\n",
    "km.fit(data_K[:5])"
   ]
  },
  {
   "cell_type": "code",
   "execution_count": 49,
   "id": "1478b2c9",
   "metadata": {},
   "outputs": [
    {
     "data": {
      "text/plain": [
       "array([1, 1, 1, 0, 0])"
      ]
     },
     "execution_count": 49,
     "metadata": {},
     "output_type": "execute_result"
    }
   ],
   "source": [
    "label = km.labels_\n",
    "label"
   ]
  },
  {
   "cell_type": "code",
   "execution_count": 51,
   "id": "25bd6ff7",
   "metadata": {},
   "outputs": [
    {
     "data": {
      "text/plain": [
       "array([0])"
      ]
     },
     "execution_count": 51,
     "metadata": {},
     "output_type": "execute_result"
    }
   ],
   "source": [
    "km.predict(data_K[5])"
   ]
  },
  {
   "cell_type": "code",
   "execution_count": null,
   "id": "e1200600",
   "metadata": {},
   "outputs": [],
   "source": []
  },
  {
   "cell_type": "code",
   "execution_count": 57,
   "id": "2261df89",
   "metadata": {},
   "outputs": [
    {
     "data": {
      "text/plain": [
       "'  This is my Dummy Dataset. It is the part of taught course on text mining  '"
      ]
     },
     "execution_count": 57,
     "metadata": {},
     "output_type": "execute_result"
    }
   ],
   "source": [
    "corpus = '  This is my Dummy Dataset. It is the part of taught course on text mining  '\n",
    "corpus"
   ]
  },
  {
   "cell_type": "code",
   "execution_count": 58,
   "id": "12bcd830",
   "metadata": {},
   "outputs": [
    {
     "data": {
      "text/plain": [
       "'!\"#$%&\\'()*+,-./:;<=>?@[\\\\]^_`{|}~'"
      ]
     },
     "execution_count": 58,
     "metadata": {},
     "output_type": "execute_result"
    }
   ],
   "source": [
    "from string import punctuation as punc\n",
    "punc"
   ]
  },
  {
   "cell_type": "code",
   "execution_count": 60,
   "id": "210120d5",
   "metadata": {},
   "outputs": [
    {
     "data": {
      "text/plain": [
       "'This is my Dummy Dataset. It is the part of taught course on text mining'"
      ]
     },
     "execution_count": 60,
     "metadata": {},
     "output_type": "execute_result"
    }
   ],
   "source": [
    "corpus = corpus.strip()\n",
    "corpus"
   ]
  },
  {
   "cell_type": "code",
   "execution_count": 61,
   "id": "8f182c30",
   "metadata": {},
   "outputs": [],
   "source": [
    "for ch in punc:\n",
    "    if ch in corpus:\n",
    "        corpus = corpus.replace(ch,\"\")"
   ]
  },
  {
   "cell_type": "code",
   "execution_count": 62,
   "id": "d5384aa9",
   "metadata": {},
   "outputs": [
    {
     "data": {
      "text/plain": [
       "'This is my Dummy Dataset It is the part of taught course on text mining'"
      ]
     },
     "execution_count": 62,
     "metadata": {},
     "output_type": "execute_result"
    }
   ],
   "source": [
    "corpus"
   ]
  },
  {
   "cell_type": "code",
   "execution_count": 63,
   "id": "e5ec69fe",
   "metadata": {},
   "outputs": [],
   "source": [
    "from sklearn.feature_extraction._stop_words import ENGLISH_STOP_WORDS"
   ]
  },
  {
   "cell_type": "code",
   "execution_count": 65,
   "id": "9cafd4f5",
   "metadata": {},
   "outputs": [
    {
     "data": {
      "text/plain": [
       "['This',\n",
       " 'is',\n",
       " 'my',\n",
       " 'Dummy',\n",
       " 'Dataset',\n",
       " 'It',\n",
       " 'is',\n",
       " 'the',\n",
       " 'part',\n",
       " 'of',\n",
       " 'taught',\n",
       " 'course',\n",
       " 'on',\n",
       " 'text',\n",
       " 'mining']"
      ]
     },
     "execution_count": 65,
     "metadata": {},
     "output_type": "execute_result"
    }
   ],
   "source": [
    "words = corpus.split(\" \")\n",
    "words"
   ]
  },
  {
   "cell_type": "code",
   "execution_count": 66,
   "id": "6be41681",
   "metadata": {},
   "outputs": [
    {
     "data": {
      "text/plain": [
       "['This', 'Dummy', 'Dataset', 'It', 'taught', 'course', 'text', 'mining']"
      ]
     },
     "execution_count": 66,
     "metadata": {},
     "output_type": "execute_result"
    }
   ],
   "source": [
    "s_w = [item for item in words if item not in ENGLISH_STOP_WORDS]\n",
    "s_w"
   ]
  },
  {
   "cell_type": "code",
   "execution_count": null,
   "id": "3e37486c",
   "metadata": {},
   "outputs": [],
   "source": []
  },
  {
   "cell_type": "code",
   "execution_count": null,
   "id": "46502a4b",
   "metadata": {},
   "outputs": [],
   "source": []
  },
  {
   "cell_type": "code",
   "execution_count": 67,
   "id": "5296e735",
   "metadata": {},
   "outputs": [
    {
     "data": {
      "text/plain": [
       "'<html><head></head><body><h1>Paragraph Heading</h1><p>This is some text. <a href=\"\">The original price was $500 but now only USD250 </a> This is some text. This is some text. This is some text. This is some text. This is some text. This is some text. This is some text. This is some text. This is some text. This is <em>some text.</em> <strong>This is some text.</strong> This is some text. This is some text. This is some text. This is some text. This is some text. This is some text. This is some text. This is some text. This is some text. </p></body></html>'"
      ]
     },
     "execution_count": 67,
     "metadata": {},
     "output_type": "execute_result"
    }
   ],
   "source": [
    "corpus = '<html><head></head><body><h1>Paragraph Heading</h1><p>This is some text. <a href=\"\">The original price was $500 but now only USD250 </a> This is some text. This is some text. This is some text. This is some text. This is some text. This is some text. This is some text. This is some text. This is some text. This is <em>some text.</em> <strong>This is some text.</strong> This is some text. This is some text. This is some text. This is some text. This is some text. This is some text. This is some text. This is some text. This is some text. </p></body></html>'\n",
    "corpus"
   ]
  },
  {
   "cell_type": "code",
   "execution_count": 68,
   "id": "747a0a04",
   "metadata": {},
   "outputs": [],
   "source": [
    "import re"
   ]
  },
  {
   "cell_type": "code",
   "execution_count": 71,
   "id": "6f63cf58",
   "metadata": {},
   "outputs": [
    {
     "data": {
      "text/plain": [
       "'Paragraph HeadingThis is some text. The original price was $500 but now only USD250  This is some text. This is some text. This is some text. This is some text. This is some text. This is some text. This is some text. This is some text. This is some text. This is some text. This is some text. This is some text. This is some text. This is some text. This is some text. This is some text. This is some text. This is some text. This is some text. This is some text. '"
      ]
     },
     "execution_count": 71,
     "metadata": {},
     "output_type": "execute_result"
    }
   ],
   "source": [
    "tags = re.compile(r'<.*?>')\n",
    "corpus = tags.sub('',corpus)\n",
    "corpus"
   ]
  },
  {
   "cell_type": "code",
   "execution_count": 72,
   "id": "a4e0fef3",
   "metadata": {},
   "outputs": [
    {
     "data": {
      "text/plain": [
       "'Paragraph HeadingThis is some text. The original price was  but now only   This is some text. This is some text. This is some text. This is some text. This is some text. This is some text. This is some text. This is some text. This is some text. This is some text. This is some text. This is some text. This is some text. This is some text. This is some text. This is some text. This is some text. This is some text. This is some text. This is some text. '"
      ]
     },
     "execution_count": 72,
     "metadata": {},
     "output_type": "execute_result"
    }
   ],
   "source": [
    "prices = re.compile(r'(USD|\\$)[0-9]+')\n",
    "corpus = prices.sub(\"\",corpus)\n",
    "corpus"
   ]
  },
  {
   "cell_type": "code",
   "execution_count": null,
   "id": "ff1dd748",
   "metadata": {},
   "outputs": [],
   "source": []
  },
  {
   "cell_type": "code",
   "execution_count": 82,
   "id": "daeb070b",
   "metadata": {},
   "outputs": [
    {
     "name": "stderr",
     "output_type": "stream",
     "text": [
      "[nltk_data] Downloading package averaged_perceptron_tagger to\n",
      "[nltk_data]     C:\\Users\\Uzair Afridi\\AppData\\Roaming\\nltk_data...\n",
      "[nltk_data]   Package averaged_perceptron_tagger is already up-to-\n",
      "[nltk_data]       date!\n"
     ]
    },
    {
     "data": {
      "text/plain": [
       "True"
      ]
     },
     "execution_count": 82,
     "metadata": {},
     "output_type": "execute_result"
    }
   ],
   "source": [
    "import nltk\n",
    "nltk.download('averaged_perceptron_tagger')"
   ]
  },
  {
   "cell_type": "code",
   "execution_count": 83,
   "id": "8502f576",
   "metadata": {},
   "outputs": [],
   "source": [
    "from nltk import pos_tag\n"
   ]
  },
  {
   "cell_type": "code",
   "execution_count": 84,
   "id": "81e240d2",
   "metadata": {},
   "outputs": [
    {
     "data": {
      "text/plain": [
       "['I', 'like', 'this', 'table', 'in', 'my', 'room']"
      ]
     },
     "execution_count": 84,
     "metadata": {},
     "output_type": "execute_result"
    }
   ],
   "source": [
    "corpus1 = 'I like this table in my room'\n",
    "word_2 = corpus1.split(\" \")\n",
    "word_2"
   ]
  },
  {
   "cell_type": "code",
   "execution_count": 86,
   "id": "77c3d033",
   "metadata": {},
   "outputs": [
    {
     "data": {
      "text/plain": [
       "[('I', 'PRP'),\n",
       " ('like', 'VBP'),\n",
       " ('this', 'DT'),\n",
       " ('table', 'NN'),\n",
       " ('in', 'IN'),\n",
       " ('my', 'PRP$'),\n",
       " ('room', 'NN')]"
      ]
     },
     "execution_count": 86,
     "metadata": {},
     "output_type": "execute_result"
    }
   ],
   "source": [
    "tags = pos_tag(word_2)\n",
    "tags"
   ]
  },
  {
   "cell_type": "code",
   "execution_count": null,
   "id": "af4ba18a",
   "metadata": {},
   "outputs": [],
   "source": []
  }
 ],
 "metadata": {
  "kernelspec": {
   "display_name": "Python 3 (ipykernel)",
   "language": "python",
   "name": "python3"
  },
  "language_info": {
   "codemirror_mode": {
    "name": "ipython",
    "version": 3
   },
   "file_extension": ".py",
   "mimetype": "text/x-python",
   "name": "python",
   "nbconvert_exporter": "python",
   "pygments_lexer": "ipython3",
   "version": "3.9.13"
  }
 },
 "nbformat": 4,
 "nbformat_minor": 5
}
