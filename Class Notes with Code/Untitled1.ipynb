{
 "cells": [
  {
   "cell_type": "code",
   "execution_count": 1,
   "id": "a8931936",
   "metadata": {},
   "outputs": [
    {
     "data": {
      "text/plain": [
       "'milk bread bread bread : grocery\\nbread milk milk bread : grocery\\nmilk milk milk bread bread bread bread : grocery\\ncat cat cat dog dog bark : pets\\ndog dog cat bark mew mew : pets\\ncat dog cat dog mew cat :'"
      ]
     },
     "execution_count": 1,
     "metadata": {},
     "output_type": "execute_result"
    }
   ],
   "source": [
    "sherry = open(\"dataset3.txt\").read()\n",
    "sherry"
   ]
  },
  {
   "cell_type": "code",
   "execution_count": 2,
   "id": "133b708d",
   "metadata": {},
   "outputs": [
    {
     "data": {
      "text/plain": [
       "['milk bread bread bread : grocery',\n",
       " 'bread milk milk bread : grocery',\n",
       " 'milk milk milk bread bread bread bread : grocery',\n",
       " 'cat cat cat dog dog bark : pets',\n",
       " 'dog dog cat bark mew mew : pets',\n",
       " 'cat dog cat dog mew cat :']"
      ]
     },
     "execution_count": 2,
     "metadata": {},
     "output_type": "execute_result"
    }
   ],
   "source": [
    "ok = sherry.split(\"\\n\")\n",
    "ok"
   ]
  },
  {
   "cell_type": "code",
   "execution_count": 8,
   "id": "a43cc18e",
   "metadata": {},
   "outputs": [],
   "source": [
    "x=[]\n",
    "y=[]\n",
    "for item in ok:\n",
    "    text,label = item.split(\":\")\n",
    "    x.append(text.strip())\n",
    "    y.append(label.strip())\n",
    "    "
   ]
  },
  {
   "cell_type": "code",
   "execution_count": 9,
   "id": "82e5a105",
   "metadata": {},
   "outputs": [
    {
     "data": {
      "text/plain": [
       "['milk bread bread bread',\n",
       " 'bread milk milk bread',\n",
       " 'milk milk milk bread bread bread bread',\n",
       " 'cat cat cat dog dog bark',\n",
       " 'dog dog cat bark mew mew',\n",
       " 'cat dog cat dog mew cat']"
      ]
     },
     "execution_count": 9,
     "metadata": {},
     "output_type": "execute_result"
    }
   ],
   "source": [
    "x"
   ]
  },
  {
   "cell_type": "code",
   "execution_count": 10,
   "id": "052f8d2d",
   "metadata": {},
   "outputs": [
    {
     "data": {
      "text/plain": [
       "['grocery', 'grocery', 'grocery', 'pets', 'pets', '']"
      ]
     },
     "execution_count": 10,
     "metadata": {},
     "output_type": "execute_result"
    }
   ],
   "source": [
    "y"
   ]
  },
  {
   "cell_type": "code",
   "execution_count": 13,
   "id": "38258a69",
   "metadata": {},
   "outputs": [
    {
     "data": {
      "text/plain": [
       "<6x6 sparse matrix of type '<class 'numpy.int64'>'\n",
       "\twith 16 stored elements in Compressed Sparse Row format>"
      ]
     },
     "execution_count": 13,
     "metadata": {},
     "output_type": "execute_result"
    }
   ],
   "source": [
    "from sklearn.feature_extraction.text import CountVectorizer\n",
    "\n",
    "cv = CountVectorizer()\n",
    "data_x = cv.fit_transform(x)\n",
    "data_x\n"
   ]
  },
  {
   "cell_type": "code",
   "execution_count": 14,
   "id": "e8d3c37b",
   "metadata": {},
   "outputs": [
    {
     "data": {
      "text/plain": [
       "array([[0, 3, 0, 0, 0, 1],\n",
       "       [0, 2, 0, 0, 0, 2],\n",
       "       [0, 4, 0, 0, 0, 3],\n",
       "       [1, 0, 3, 2, 0, 0],\n",
       "       [1, 0, 1, 2, 2, 0],\n",
       "       [0, 0, 3, 2, 1, 0]], dtype=int64)"
      ]
     },
     "execution_count": 14,
     "metadata": {},
     "output_type": "execute_result"
    }
   ],
   "source": [
    "data_x.toarray()"
   ]
  },
  {
   "cell_type": "code",
   "execution_count": 15,
   "id": "731f87f6",
   "metadata": {},
   "outputs": [
    {
     "data": {
      "text/plain": [
       "['milk bread bread bread',\n",
       " 'bread milk milk bread',\n",
       " 'milk milk milk bread bread bread bread',\n",
       " 'cat cat cat dog dog bark',\n",
       " 'dog dog cat bark mew mew',\n",
       " 'cat dog cat dog mew']"
      ]
     },
     "execution_count": 15,
     "metadata": {},
     "output_type": "execute_result"
    }
   ],
   "source": [
    "corpus = ['milk bread bread bread',\n",
    "        'bread milk milk bread',\n",
    "        'milk milk milk bread bread bread bread',\n",
    "        'cat cat cat dog dog bark',\n",
    "        'dog dog cat bark mew mew',\n",
    "        'cat dog cat dog mew']\n",
    "corpus"
   ]
  },
  {
   "cell_type": "code",
   "execution_count": 16,
   "id": "b69723ca",
   "metadata": {},
   "outputs": [
    {
     "data": {
      "text/plain": [
       "<6x6 sparse matrix of type '<class 'numpy.int64'>'\n",
       "\twith 16 stored elements in Compressed Sparse Row format>"
      ]
     },
     "execution_count": 16,
     "metadata": {},
     "output_type": "execute_result"
    }
   ],
   "source": [
    "cv = CountVectorizer()\n",
    "data_K = cv.fit_transform(corpus)\n",
    "data_K"
   ]
  },
  {
   "cell_type": "code",
   "execution_count": 17,
   "id": "050bd940",
   "metadata": {},
   "outputs": [
    {
     "data": {
      "text/plain": [
       "array([[0, 3, 0, 0, 0, 1],\n",
       "       [0, 2, 0, 0, 0, 2],\n",
       "       [0, 4, 0, 0, 0, 3],\n",
       "       [1, 0, 3, 2, 0, 0],\n",
       "       [1, 0, 1, 2, 2, 0],\n",
       "       [0, 0, 2, 2, 1, 0]], dtype=int64)"
      ]
     },
     "execution_count": 17,
     "metadata": {},
     "output_type": "execute_result"
    }
   ],
   "source": [
    "data_K.toarray()"
   ]
  },
  {
   "cell_type": "code",
   "execution_count": 18,
   "id": "640f000c",
   "metadata": {},
   "outputs": [],
   "source": [
    "from sklearn.cluster import KMeans"
   ]
  },
  {
   "cell_type": "code",
   "execution_count": 20,
   "id": "6794dd7c",
   "metadata": {},
   "outputs": [
    {
     "data": {
      "text/plain": [
       "KMeans(n_clusters=2)"
      ]
     },
     "execution_count": 20,
     "metadata": {},
     "output_type": "execute_result"
    }
   ],
   "source": [
    "km = KMeans(n_clusters=2)\n",
    "km.fit(data_K[:5])"
   ]
  },
  {
   "cell_type": "code",
   "execution_count": 30,
   "id": "c4e26bcf",
   "metadata": {},
   "outputs": [
    {
     "data": {
      "text/plain": [
       "array([0, 0, 0, 1, 1])"
      ]
     },
     "execution_count": 30,
     "metadata": {},
     "output_type": "execute_result"
    }
   ],
   "source": [
    "labels = km.labels_\n",
    "labels"
   ]
  },
  {
   "cell_type": "code",
   "execution_count": 31,
   "id": "18fcad93",
   "metadata": {},
   "outputs": [
    {
     "data": {
      "text/plain": [
       "array([1])"
      ]
     },
     "execution_count": 31,
     "metadata": {},
     "output_type": "execute_result"
    }
   ],
   "source": [
    "km.predict(data_K[5])"
   ]
  },
  {
   "cell_type": "code",
   "execution_count": 32,
   "id": "71deacf0",
   "metadata": {},
   "outputs": [
    {
     "name": "stdout",
     "output_type": "stream",
     "text": [
      "(label 0): milk bread bread bread\n",
      "(label 0): bread milk milk bread\n",
      "(label 0): milk milk milk bread bread bread bread\n",
      "(label 1): cat cat cat dog dog bark\n",
      "(label 1): dog dog cat bark mew mew\n"
     ]
    }
   ],
   "source": [
    "for i in range(len(labels)):\n",
    "    label = labels[i]\n",
    "    text = corpus[i]\n",
    "    print(f\"(label {label}): {text}\")"
   ]
  },
  {
   "cell_type": "code",
   "execution_count": null,
   "id": "51a50523",
   "metadata": {},
   "outputs": [],
   "source": []
  },
  {
   "cell_type": "code",
   "execution_count": 33,
   "id": "4e25f90d",
   "metadata": {},
   "outputs": [],
   "source": [
    "from nltk import pos_tag"
   ]
  },
  {
   "cell_type": "code",
   "execution_count": 35,
   "id": "789de20e",
   "metadata": {},
   "outputs": [
    {
     "data": {
      "text/plain": [
       "['I', 'like', 'this', 'table', 'in', 'my', 'room']"
      ]
     },
     "execution_count": 35,
     "metadata": {},
     "output_type": "execute_result"
    }
   ],
   "source": [
    "corpus1 = 'I like this table in my room'\n",
    "corpus1 = corpus1.split(\" \")\n",
    "corpus1"
   ]
  },
  {
   "cell_type": "code",
   "execution_count": 36,
   "id": "d6932b1a",
   "metadata": {},
   "outputs": [
    {
     "data": {
      "text/plain": [
       "[('I', 'PRP'),\n",
       " ('like', 'VBP'),\n",
       " ('this', 'DT'),\n",
       " ('table', 'NN'),\n",
       " ('in', 'IN'),\n",
       " ('my', 'PRP$'),\n",
       " ('room', 'NN')]"
      ]
     },
     "execution_count": 36,
     "metadata": {},
     "output_type": "execute_result"
    }
   ],
   "source": [
    "tags = pos_tag(corpus1)\n",
    "tags"
   ]
  },
  {
   "cell_type": "code",
   "execution_count": null,
   "id": "9bd1a9e2",
   "metadata": {},
   "outputs": [],
   "source": []
  }
 ],
 "metadata": {
  "kernelspec": {
   "display_name": "Python 3 (ipykernel)",
   "language": "python",
   "name": "python3"
  },
  "language_info": {
   "codemirror_mode": {
    "name": "ipython",
    "version": 3
   },
   "file_extension": ".py",
   "mimetype": "text/x-python",
   "name": "python",
   "nbconvert_exporter": "python",
   "pygments_lexer": "ipython3",
   "version": "3.9.13"
  }
 },
 "nbformat": 4,
 "nbformat_minor": 5
}
