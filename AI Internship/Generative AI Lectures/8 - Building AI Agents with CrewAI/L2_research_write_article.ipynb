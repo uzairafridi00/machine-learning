{
 "cells": [
  {
   "cell_type": "markdown",
   "metadata": {},
   "source": [
    "You can download the `requirements.txt` for this course from the workspace of this lab. `File --> Open...`"
   ]
  },
  {
   "cell_type": "markdown",
   "metadata": {},
   "source": [
    "# L2: Create Agents to Research and Write an Article\n",
    "\n",
    "In this lesson, you will be introduced to the foundational concepts of multi-agent systems and get an overview of the crewAI framework."
   ]
  },
  {
   "cell_type": "markdown",
   "metadata": {},
   "source": [
    "The libraries are already installed in the classroom. If you're running this notebook on your own machine, you can install the following:\n",
    "```Python\n",
    "!pip install crewai==0.28.8 crewai_tools==0.1.6 langchain_community==0.0.29\n",
    "```"
   ]
  },
  {
   "cell_type": "code",
   "execution_count": 1,
   "metadata": {
    "height": 64
   },
   "outputs": [],
   "source": [
    "# Warning control\n",
    "import warnings\n",
    "warnings.filterwarnings('ignore')"
   ]
  },
  {
   "cell_type": "markdown",
   "metadata": {},
   "source": [
    "- Import from the crewAI libray."
   ]
  },
  {
   "cell_type": "code",
   "execution_count": 2,
   "metadata": {
    "height": 30
   },
   "outputs": [],
   "source": [
    "from crewai import Agent, Task, Crew"
   ]
  },
  {
   "cell_type": "markdown",
   "metadata": {},
   "source": [
    "- As a LLM for your agents, you'll be using OpenAI's `gpt-3.5-turbo`.\n",
    "\n",
    "**Optional Note:** crewAI also allow other popular models to be used as a LLM for your Agents. You can see some of the examples at the [bottom of the notebook](#1)."
   ]
  },
  {
   "cell_type": "code",
   "execution_count": 3,
   "metadata": {
    "height": 98
   },
   "outputs": [],
   "source": [
    "import os\n",
    "from utils import get_openai_api_key\n",
    "\n",
    "openai_api_key = get_openai_api_key()\n",
    "os.environ[\"OPENAI_MODEL_NAME\"] = 'gpt-3.5-turbo'"
   ]
  },
  {
   "cell_type": "markdown",
   "metadata": {},
   "source": [
    "## Creating Agents\n",
    "\n",
    "- Define your Agents, and provide them a `role`, `goal` and `backstory`.\n",
    "- It has been seen that LLMs perform better when they are role playing."
   ]
  },
  {
   "cell_type": "markdown",
   "metadata": {},
   "source": [
    "### Agent: Planner\n",
    "\n",
    "**Note**: The benefit of using _multiple strings_ :\n",
    "```Python\n",
    "varname = \"line 1 of text\"\n",
    "          \"line 2 of text\"\n",
    "```\n",
    "\n",
    "versus the _triple quote docstring_:\n",
    "```Python\n",
    "varname = \"\"\"line 1 of text\n",
    "             line 2 of text\n",
    "          \"\"\"\n",
    "```\n",
    "is that it can avoid adding those whitespaces and newline characters, making it better formatted to be passed to the LLM."
   ]
  },
  {
   "cell_type": "code",
   "execution_count": 4,
   "metadata": {
    "height": 249
   },
   "outputs": [],
   "source": [
    "planner = Agent(\n",
    "    role=\"Content Planner\",\n",
    "    goal=\"Plan engaging and factually accurate content on {topic}\",\n",
    "    backstory=\"You're working on planning a blog article \"\n",
    "              \"about the topic: {topic}.\"\n",
    "              \"You collect information that helps the \"\n",
    "              \"audience learn something \"\n",
    "              \"and make informed decisions. \"\n",
    "              \"Your work is the basis for \"\n",
    "              \"the Content Writer to write an article on this topic.\",\n",
    "    allow_delegation=False,\n",
    "\tverbose=True\n",
    ")"
   ]
  },
  {
   "cell_type": "markdown",
   "metadata": {},
   "source": [
    "### Agent: Writer"
   ]
  },
  {
   "cell_type": "code",
   "execution_count": 5,
   "metadata": {
    "height": 385
   },
   "outputs": [],
   "source": [
    "writer = Agent(\n",
    "    role=\"Content Writer\",\n",
    "    goal=\"Write insightful and factually accurate \"\n",
    "         \"opinion piece about the topic: {topic}\",\n",
    "    backstory=\"You're working on a writing \"\n",
    "              \"a new opinion piece about the topic: {topic}. \"\n",
    "              \"You base your writing on the work of \"\n",
    "              \"the Content Planner, who provides an outline \"\n",
    "              \"and relevant context about the topic. \"\n",
    "              \"You follow the main objectives and \"\n",
    "              \"direction of the outline, \"\n",
    "              \"as provide by the Content Planner. \"\n",
    "              \"You also provide objective and impartial insights \"\n",
    "              \"and back them up with information \"\n",
    "              \"provide by the Content Planner. \"\n",
    "              \"You acknowledge in your opinion piece \"\n",
    "              \"when your statements are opinions \"\n",
    "              \"as opposed to objective statements.\",\n",
    "    allow_delegation=False,\n",
    "    verbose=True\n",
    ")"
   ]
  },
  {
   "cell_type": "markdown",
   "metadata": {},
   "source": [
    "### Agent: Editor"
   ]
  },
  {
   "cell_type": "code",
   "execution_count": 6,
   "metadata": {
    "height": 283
   },
   "outputs": [],
   "source": [
    "editor = Agent(\n",
    "    role=\"Editor\",\n",
    "    goal=\"Edit a given blog post to align with \"\n",
    "         \"the writing style of the organization. \",\n",
    "    backstory=\"You are an editor who receives a blog post \"\n",
    "              \"from the Content Writer. \"\n",
    "              \"Your goal is to review the blog post \"\n",
    "              \"to ensure that it follows journalistic best practices,\"\n",
    "              \"provides balanced viewpoints \"\n",
    "              \"when providing opinions or assertions, \"\n",
    "              \"and also avoids major controversial topics \"\n",
    "              \"or opinions when possible.\",\n",
    "    allow_delegation=False,\n",
    "    verbose=True\n",
    ")"
   ]
  },
  {
   "cell_type": "markdown",
   "metadata": {},
   "source": [
    "## Creating Tasks\n",
    "\n",
    "- Define your Tasks, and provide them a `description`, `expected_output` and `agent`."
   ]
  },
  {
   "cell_type": "markdown",
   "metadata": {},
   "source": [
    "### Task: Plan"
   ]
  },
  {
   "cell_type": "code",
   "execution_count": 7,
   "metadata": {
    "height": 283
   },
   "outputs": [],
   "source": [
    "plan = Task(\n",
    "    description=(\n",
    "        \"1. Prioritize the latest trends, key players, \"\n",
    "            \"and noteworthy news on {topic}.\\n\"\n",
    "        \"2. Identify the target audience, considering \"\n",
    "            \"their interests and pain points.\\n\"\n",
    "        \"3. Develop a detailed content outline including \"\n",
    "            \"an introduction, key points, and a call to action.\\n\"\n",
    "        \"4. Include SEO keywords and relevant data or sources.\"\n",
    "    ),\n",
    "    expected_output=\"A comprehensive content plan document \"\n",
    "        \"with an outline, audience analysis, \"\n",
    "        \"SEO keywords, and resources.\",\n",
    "    agent=planner,\n",
    ")"
   ]
  },
  {
   "cell_type": "markdown",
   "metadata": {},
   "source": [
    "### Task: Write"
   ]
  },
  {
   "cell_type": "code",
   "execution_count": 8,
   "metadata": {
    "height": 319
   },
   "outputs": [],
   "source": [
    "write = Task(\n",
    "    description=(\n",
    "        \"1. Use the content plan to craft a compelling \"\n",
    "            \"blog post on {topic}.\\n\"\n",
    "        \"2. Incorporate SEO keywords naturally.\\n\"\n",
    "\t\t\"3. Sections/Subtitles are properly named \"\n",
    "            \"in an engaging manner.\\n\"\n",
    "        \"4. Ensure the post is structured with an \"\n",
    "            \"engaging introduction, insightful body, \"\n",
    "            \"and a summarizing conclusion.\\n\"\n",
    "        \"5. Proofread for grammatical errors and \"\n",
    "            \"alignment with the brand's voice.\\n\"\n",
    "    ),\n",
    "    expected_output=\"A well-written blog post \"\n",
    "        \"in markdown format, ready for publication, \"\n",
    "        \"each section should have 2 or 3 paragraphs.\",\n",
    "    agent=writer,\n",
    ")"
   ]
  },
  {
   "cell_type": "markdown",
   "metadata": {},
   "source": [
    "### Task: Edit"
   ]
  },
  {
   "cell_type": "code",
   "execution_count": 9,
   "metadata": {
    "height": 181
   },
   "outputs": [],
   "source": [
    "edit = Task(\n",
    "    description=(\"Proofread the given blog post for \"\n",
    "                 \"grammatical errors and \"\n",
    "                 \"alignment with the brand's voice.\"),\n",
    "    expected_output=\"A well-written blog post in markdown format, \"\n",
    "                    \"ready for publication, \"\n",
    "                    \"each section should have 2 or 3 paragraphs.\",\n",
    "    agent=editor\n",
    ")"
   ]
  },
  {
   "cell_type": "markdown",
   "metadata": {},
   "source": [
    "## Creating the Crew\n",
    "\n",
    "- Create your crew of Agents\n",
    "- Pass the tasks to be performed by those agents.\n",
    "    - **Note**: *For this simple example*, the tasks will be performed sequentially (i.e they are dependent on each other), so the _order_ of the task in the list _matters_.\n",
    "- `verbose=2` allows you to see all the logs of the execution. "
   ]
  },
  {
   "cell_type": "code",
   "execution_count": 10,
   "metadata": {
    "height": 98
   },
   "outputs": [],
   "source": [
    "crew = Crew(\n",
    "    agents=[planner, writer, editor],\n",
    "    tasks=[plan, write, edit],\n",
    "    verbose=2\n",
    ")"
   ]
  },
  {
   "cell_type": "markdown",
   "metadata": {},
   "source": [
    "## Running the Crew"
   ]
  },
  {
   "cell_type": "markdown",
   "metadata": {},
   "source": [
    "**Note**: LLMs can provide different outputs for they same input, so what you get might be different than what you see in the video."
   ]
  },
  {
   "cell_type": "code",
   "execution_count": 11,
   "metadata": {
    "height": 45
   },
   "outputs": [
    {
     "name": "stdout",
     "output_type": "stream",
     "text": [
      "\u001b[1m\u001b[95m [DEBUG]: == Working Agent: Content Planner\u001b[00m\n",
      "\u001b[1m\u001b[95m [INFO]: == Starting Task: 1. Prioritize the latest trends, key players, and noteworthy news on Artificial Intelligence.\n",
      "2. Identify the target audience, considering their interests and pain points.\n",
      "3. Develop a detailed content outline including an introduction, key points, and a call to action.\n",
      "4. Include SEO keywords and relevant data or sources.\u001b[00m\n",
      "\n",
      "\n",
      "\u001b[1m> Entering new CrewAgentExecutor chain...\u001b[0m\n",
      "\u001b[32;1m\u001b[1;3mI now can give a great answer\n",
      "\n",
      "Final Answer:\n",
      "\n",
      "Content Plan Document:\n",
      "\n",
      "Title: Unveiling the Latest Trends in Artificial Intelligence\n",
      "\n",
      "Introduction:\n",
      "- Brief overview of the significance of Artificial Intelligence in today's world\n",
      "- Mention of key players in the AI industry\n",
      "- Preview of the key points to be covered in the article\n",
      "\n",
      "Key Points:\n",
      "1. Latest Trends in Artificial Intelligence:\n",
      "- Advancements in machine learning algorithms\n",
      "- Integration of AI in various industries such as healthcare, finance, and retail\n",
      "- The rise of autonomous vehicles and smart assistants\n",
      "- Ethical considerations in AI development\n",
      "\n",
      "2. Key Players in the AI Industry:\n",
      "- Google DeepMind\n",
      "- IBM Watson\n",
      "- Amazon Web Services\n",
      "- Microsoft Azure\n",
      "- OpenAI\n",
      "\n",
      "3. Noteworthy News in Artificial Intelligence:\n",
      "- Recent breakthroughs in natural language processing\n",
      "- Applications of AI in combating climate change\n",
      "- Impact of AI on job automation and workforce transformation\n",
      "- Regulatory developments in AI governance\n",
      "\n",
      "Audience Analysis:\n",
      "- Target Audience: Professionals in the technology sector, business owners looking to implement AI solutions, students interested in AI research\n",
      "- Interests: Cutting-edge technology, industry insights, future trends in AI\n",
      "- Pain Points: Understanding complex AI concepts, keeping up with rapid advancements in the field, ethical concerns related to AI deployment\n",
      "\n",
      "SEO Keywords:\n",
      "- Artificial Intelligence trends 2021\n",
      "- Top AI companies\n",
      "- AI news and updates\n",
      "- Machine learning advancements\n",
      "- Ethical AI development\n",
      "\n",
      "Resources:\n",
      "1. \"The AI 50: America’s Most Promising Artificial Intelligence Companies\" - Forbes\n",
      "2. \"Ethical AI Principles\" - Google\n",
      "3. \"State of AI Report 2021\" - AI Index\n",
      "4. \"The Impact of AI on the Future of Work\" - World Economic Forum\n",
      "\n",
      "Call to Action:\n",
      "- Encourage readers to stay informed about AI trends by subscribing to industry newsletters or attending AI conferences\n",
      "- Prompt readers to share their thoughts on the latest AI developments in the comments section\n",
      "- Provide links to related articles or resources for further reading\n",
      "\n",
      "Overall, this content plan aims to deliver comprehensive insights into the latest trends, key players, and noteworthy news in Artificial Intelligence, catering to a diverse audience interested in staying informed and engaged with the rapidly evolving AI landscape.\u001b[0m\n",
      "\n",
      "\u001b[1m> Finished chain.\u001b[0m\n",
      "\u001b[1m\u001b[92m [DEBUG]: == [Content Planner] Task output: Content Plan Document:\n",
      "\n",
      "Title: Unveiling the Latest Trends in Artificial Intelligence\n",
      "\n",
      "Introduction:\n",
      "- Brief overview of the significance of Artificial Intelligence in today's world\n",
      "- Mention of key players in the AI industry\n",
      "- Preview of the key points to be covered in the article\n",
      "\n",
      "Key Points:\n",
      "1. Latest Trends in Artificial Intelligence:\n",
      "- Advancements in machine learning algorithms\n",
      "- Integration of AI in various industries such as healthcare, finance, and retail\n",
      "- The rise of autonomous vehicles and smart assistants\n",
      "- Ethical considerations in AI development\n",
      "\n",
      "2. Key Players in the AI Industry:\n",
      "- Google DeepMind\n",
      "- IBM Watson\n",
      "- Amazon Web Services\n",
      "- Microsoft Azure\n",
      "- OpenAI\n",
      "\n",
      "3. Noteworthy News in Artificial Intelligence:\n",
      "- Recent breakthroughs in natural language processing\n",
      "- Applications of AI in combating climate change\n",
      "- Impact of AI on job automation and workforce transformation\n",
      "- Regulatory developments in AI governance\n",
      "\n",
      "Audience Analysis:\n",
      "- Target Audience: Professionals in the technology sector, business owners looking to implement AI solutions, students interested in AI research\n",
      "- Interests: Cutting-edge technology, industry insights, future trends in AI\n",
      "- Pain Points: Understanding complex AI concepts, keeping up with rapid advancements in the field, ethical concerns related to AI deployment\n",
      "\n",
      "SEO Keywords:\n",
      "- Artificial Intelligence trends 2021\n",
      "- Top AI companies\n",
      "- AI news and updates\n",
      "- Machine learning advancements\n",
      "- Ethical AI development\n",
      "\n",
      "Resources:\n",
      "1. \"The AI 50: America’s Most Promising Artificial Intelligence Companies\" - Forbes\n",
      "2. \"Ethical AI Principles\" - Google\n",
      "3. \"State of AI Report 2021\" - AI Index\n",
      "4. \"The Impact of AI on the Future of Work\" - World Economic Forum\n",
      "\n",
      "Call to Action:\n",
      "- Encourage readers to stay informed about AI trends by subscribing to industry newsletters or attending AI conferences\n",
      "- Prompt readers to share their thoughts on the latest AI developments in the comments section\n",
      "- Provide links to related articles or resources for further reading\n",
      "\n",
      "Overall, this content plan aims to deliver comprehensive insights into the latest trends, key players, and noteworthy news in Artificial Intelligence, catering to a diverse audience interested in staying informed and engaged with the rapidly evolving AI landscape.\n",
      "\n",
      "\u001b[00m\n",
      "\u001b[1m\u001b[95m [DEBUG]: == Working Agent: Content Writer\u001b[00m\n",
      "\u001b[1m\u001b[95m [INFO]: == Starting Task: 1. Use the content plan to craft a compelling blog post on Artificial Intelligence.\n",
      "2. Incorporate SEO keywords naturally.\n",
      "3. Sections/Subtitles are properly named in an engaging manner.\n",
      "4. Ensure the post is structured with an engaging introduction, insightful body, and a summarizing conclusion.\n",
      "5. Proofread for grammatical errors and alignment with the brand's voice.\n",
      "\u001b[00m\n",
      "\n",
      "\n",
      "\u001b[1m> Entering new CrewAgentExecutor chain...\u001b[0m\n",
      "\u001b[32;1m\u001b[1;3mI now can give a great answer\n",
      "\n",
      "Final Answer:\n",
      "\n",
      "# Unveiling the Latest Trends in Artificial Intelligence\n",
      "\n",
      "## Introduction\n",
      "Artificial Intelligence (AI) has become an integral part of our modern world, revolutionizing industries and shaping the way we interact with technology. From advancements in machine learning algorithms to the integration of AI in sectors like healthcare, finance, and retail, the impact of AI is undeniable. Key players in the AI industry, such as Google DeepMind, IBM Watson, Amazon Web Services, Microsoft Azure, and OpenAI, are constantly pushing the boundaries of what AI can achieve. In this article, we will delve into the latest trends in AI, explore the key players driving innovation, and discuss noteworthy news in the field.\n",
      "\n",
      "## Latest Trends in Artificial Intelligence\n",
      "One of the most significant trends in AI is the continuous advancements in machine learning algorithms. These algorithms are becoming more sophisticated and efficient, allowing AI systems to learn and adapt in real-time. Additionally, AI is being increasingly integrated into various industries, transforming processes and driving efficiency. From healthcare diagnostics to financial forecasting, AI is revolutionizing the way businesses operate. Moreover, the rise of autonomous vehicles and smart assistants is reshaping how we interact with technology on a daily basis. However, as AI becomes more prevalent, ethical considerations in its development and deployment are gaining importance, ensuring that AI technologies are used responsibly and ethically.\n",
      "\n",
      "## Key Players in the AI Industry\n",
      "The AI industry is dominated by key players who are at the forefront of innovation. Google DeepMind, known for its groundbreaking work in deep learning and reinforcement learning, continues to push the boundaries of AI research. IBM Watson, with its cognitive computing capabilities, is revolutionizing industries like healthcare and finance. Amazon Web Services and Microsoft Azure are leading providers of AI services and solutions, enabling businesses to leverage AI technologies effectively. OpenAI, founded with the mission to ensure that artificial general intelligence benefits all of humanity, is driving research in AI ethics and safety.\n",
      "\n",
      "## Noteworthy News in Artificial Intelligence\n",
      "Recent breakthroughs in natural language processing have enabled AI systems to understand and generate human-like text, opening up new possibilities for applications in content creation and communication. AI is also being utilized to combat climate change, with innovative solutions for environmental monitoring and conservation. However, the impact of AI on job automation and workforce transformation raises concerns about the future of work. Regulatory developments in AI governance are crucial to ensure that AI technologies are developed and deployed responsibly, addressing issues of bias, fairness, and transparency.\n",
      "\n",
      "In conclusion, Artificial Intelligence is a rapidly evolving field with profound implications for society and the economy. By staying informed about the latest trends, key players, and noteworthy news in AI, professionals, business owners, and students can navigate the complex landscape of AI technologies and contribute to shaping a more ethical and sustainable future. Stay engaged with AI developments by subscribing to industry newsletters, attending AI conferences, and sharing your thoughts on the latest advancements in the comments section below.\n",
      "\n",
      "---\n",
      "*Stay updated on Artificial Intelligence trends by subscribing to our newsletter or attending industry conferences. Share your thoughts on the latest AI developments in the comments section below. For further reading, check out our related articles and resources.*\u001b[0m\n",
      "\n",
      "\u001b[1m> Finished chain.\u001b[0m\n",
      "\u001b[1m\u001b[92m [DEBUG]: == [Content Writer] Task output: # Unveiling the Latest Trends in Artificial Intelligence\n",
      "\n",
      "## Introduction\n",
      "Artificial Intelligence (AI) has become an integral part of our modern world, revolutionizing industries and shaping the way we interact with technology. From advancements in machine learning algorithms to the integration of AI in sectors like healthcare, finance, and retail, the impact of AI is undeniable. Key players in the AI industry, such as Google DeepMind, IBM Watson, Amazon Web Services, Microsoft Azure, and OpenAI, are constantly pushing the boundaries of what AI can achieve. In this article, we will delve into the latest trends in AI, explore the key players driving innovation, and discuss noteworthy news in the field.\n",
      "\n",
      "## Latest Trends in Artificial Intelligence\n",
      "One of the most significant trends in AI is the continuous advancements in machine learning algorithms. These algorithms are becoming more sophisticated and efficient, allowing AI systems to learn and adapt in real-time. Additionally, AI is being increasingly integrated into various industries, transforming processes and driving efficiency. From healthcare diagnostics to financial forecasting, AI is revolutionizing the way businesses operate. Moreover, the rise of autonomous vehicles and smart assistants is reshaping how we interact with technology on a daily basis. However, as AI becomes more prevalent, ethical considerations in its development and deployment are gaining importance, ensuring that AI technologies are used responsibly and ethically.\n",
      "\n",
      "## Key Players in the AI Industry\n",
      "The AI industry is dominated by key players who are at the forefront of innovation. Google DeepMind, known for its groundbreaking work in deep learning and reinforcement learning, continues to push the boundaries of AI research. IBM Watson, with its cognitive computing capabilities, is revolutionizing industries like healthcare and finance. Amazon Web Services and Microsoft Azure are leading providers of AI services and solutions, enabling businesses to leverage AI technologies effectively. OpenAI, founded with the mission to ensure that artificial general intelligence benefits all of humanity, is driving research in AI ethics and safety.\n",
      "\n",
      "## Noteworthy News in Artificial Intelligence\n",
      "Recent breakthroughs in natural language processing have enabled AI systems to understand and generate human-like text, opening up new possibilities for applications in content creation and communication. AI is also being utilized to combat climate change, with innovative solutions for environmental monitoring and conservation. However, the impact of AI on job automation and workforce transformation raises concerns about the future of work. Regulatory developments in AI governance are crucial to ensure that AI technologies are developed and deployed responsibly, addressing issues of bias, fairness, and transparency.\n",
      "\n",
      "In conclusion, Artificial Intelligence is a rapidly evolving field with profound implications for society and the economy. By staying informed about the latest trends, key players, and noteworthy news in AI, professionals, business owners, and students can navigate the complex landscape of AI technologies and contribute to shaping a more ethical and sustainable future. Stay engaged with AI developments by subscribing to industry newsletters, attending AI conferences, and sharing your thoughts on the latest advancements in the comments section below.\n",
      "\n",
      "---\n",
      "*Stay updated on Artificial Intelligence trends by subscribing to our newsletter or attending industry conferences. Share your thoughts on the latest AI developments in the comments section below. For further reading, check out our related articles and resources.*\n",
      "\n",
      "\u001b[00m\n",
      "\u001b[1m\u001b[95m [DEBUG]: == Working Agent: Editor\u001b[00m\n",
      "\u001b[1m\u001b[95m [INFO]: == Starting Task: Proofread the given blog post for grammatical errors and alignment with the brand's voice.\u001b[00m\n",
      "\n",
      "\n",
      "\u001b[1m> Entering new CrewAgentExecutor chain...\u001b[0m\n"
     ]
    },
    {
     "name": "stdout",
     "output_type": "stream",
     "text": [
      "\u001b[32;1m\u001b[1;3mI now can give a great answer\n",
      "\n",
      "Final Answer: \n",
      "\n",
      "# Unveiling the Latest Trends in Artificial Intelligence\n",
      "\n",
      "## Introduction\n",
      "Artificial Intelligence (AI) has become an integral part of our modern world, revolutionizing industries and shaping the way we interact with technology. From advancements in machine learning algorithms to the integration of AI in sectors like healthcare, finance, and retail, the impact of AI is undeniable. Key players in the AI industry, such as Google DeepMind, IBM Watson, Amazon Web Services, Microsoft Azure, and OpenAI, are constantly pushing the boundaries of what AI can achieve. In this article, we will delve into the latest trends in AI, explore the key players driving innovation, and discuss noteworthy news in the field.\n",
      "\n",
      "## Latest Trends in Artificial Intelligence\n",
      "One of the most significant trends in AI is the continuous advancements in machine learning algorithms. These algorithms are becoming more sophisticated and efficient, allowing AI systems to learn and adapt in real-time. Additionally, AI is being increasingly integrated into various industries, transforming processes and driving efficiency. From healthcare diagnostics to financial forecasting, AI is revolutionizing the way businesses operate. Moreover, the rise of autonomous vehicles and smart assistants is reshaping how we interact with technology on a daily basis. However, as AI becomes more prevalent, ethical considerations in its development and deployment are gaining importance, ensuring that AI technologies are used responsibly and ethically.\n",
      "\n",
      "## Key Players in the AI Industry\n",
      "The AI industry is dominated by key players who are at the forefront of innovation. Google DeepMind, known for its groundbreaking work in deep learning and reinforcement learning, continues to push the boundaries of AI research. IBM Watson, with its cognitive computing capabilities, is revolutionizing industries like healthcare and finance. Amazon Web Services and Microsoft Azure are leading providers of AI services and solutions, enabling businesses to leverage AI technologies effectively. OpenAI, founded with the mission to ensure that artificial general intelligence benefits all of humanity, is driving research in AI ethics and safety.\n",
      "\n",
      "## Noteworthy News in Artificial Intelligence\n",
      "Recent breakthroughs in natural language processing have enabled AI systems to understand and generate human-like text, opening up new possibilities for applications in content creation and communication. AI is also being utilized to combat climate change, with innovative solutions for environmental monitoring and conservation. However, the impact of AI on job automation and workforce transformation raises concerns about the future of work. Regulatory developments in AI governance are crucial to ensure that AI technologies are developed and deployed responsibly, addressing issues of bias, fairness, and transparency.\n",
      "\n",
      "In conclusion, Artificial Intelligence is a rapidly evolving field with profound implications for society and the economy. By staying informed about the latest trends, key players, and noteworthy news in AI, professionals, business owners, and students can navigate the complex landscape of AI technologies and contribute to shaping a more ethical and sustainable future. Stay engaged with AI developments by subscribing to industry newsletters, attending AI conferences, and sharing your thoughts on the latest advancements in the comments section below.\n",
      "\n",
      "---\n",
      "*Stay updated on Artificial Intelligence trends by subscribing to our newsletter or attending industry conferences. Share your thoughts on the latest AI developments in the comments section below. For further reading, check out our related articles and resources.*\u001b[0m\n",
      "\n",
      "\u001b[1m> Finished chain.\u001b[0m\n",
      "\u001b[1m\u001b[92m [DEBUG]: == [Editor] Task output: # Unveiling the Latest Trends in Artificial Intelligence\n",
      "\n",
      "## Introduction\n",
      "Artificial Intelligence (AI) has become an integral part of our modern world, revolutionizing industries and shaping the way we interact with technology. From advancements in machine learning algorithms to the integration of AI in sectors like healthcare, finance, and retail, the impact of AI is undeniable. Key players in the AI industry, such as Google DeepMind, IBM Watson, Amazon Web Services, Microsoft Azure, and OpenAI, are constantly pushing the boundaries of what AI can achieve. In this article, we will delve into the latest trends in AI, explore the key players driving innovation, and discuss noteworthy news in the field.\n",
      "\n",
      "## Latest Trends in Artificial Intelligence\n",
      "One of the most significant trends in AI is the continuous advancements in machine learning algorithms. These algorithms are becoming more sophisticated and efficient, allowing AI systems to learn and adapt in real-time. Additionally, AI is being increasingly integrated into various industries, transforming processes and driving efficiency. From healthcare diagnostics to financial forecasting, AI is revolutionizing the way businesses operate. Moreover, the rise of autonomous vehicles and smart assistants is reshaping how we interact with technology on a daily basis. However, as AI becomes more prevalent, ethical considerations in its development and deployment are gaining importance, ensuring that AI technologies are used responsibly and ethically.\n",
      "\n",
      "## Key Players in the AI Industry\n",
      "The AI industry is dominated by key players who are at the forefront of innovation. Google DeepMind, known for its groundbreaking work in deep learning and reinforcement learning, continues to push the boundaries of AI research. IBM Watson, with its cognitive computing capabilities, is revolutionizing industries like healthcare and finance. Amazon Web Services and Microsoft Azure are leading providers of AI services and solutions, enabling businesses to leverage AI technologies effectively. OpenAI, founded with the mission to ensure that artificial general intelligence benefits all of humanity, is driving research in AI ethics and safety.\n",
      "\n",
      "## Noteworthy News in Artificial Intelligence\n",
      "Recent breakthroughs in natural language processing have enabled AI systems to understand and generate human-like text, opening up new possibilities for applications in content creation and communication. AI is also being utilized to combat climate change, with innovative solutions for environmental monitoring and conservation. However, the impact of AI on job automation and workforce transformation raises concerns about the future of work. Regulatory developments in AI governance are crucial to ensure that AI technologies are developed and deployed responsibly, addressing issues of bias, fairness, and transparency.\n",
      "\n",
      "In conclusion, Artificial Intelligence is a rapidly evolving field with profound implications for society and the economy. By staying informed about the latest trends, key players, and noteworthy news in AI, professionals, business owners, and students can navigate the complex landscape of AI technologies and contribute to shaping a more ethical and sustainable future. Stay engaged with AI developments by subscribing to industry newsletters, attending AI conferences, and sharing your thoughts on the latest advancements in the comments section below.\n",
      "\n",
      "---\n",
      "*Stay updated on Artificial Intelligence trends by subscribing to our newsletter or attending industry conferences. Share your thoughts on the latest AI developments in the comments section below. For further reading, check out our related articles and resources.*\n",
      "\n",
      "\u001b[00m\n"
     ]
    }
   ],
   "source": [
    "result = crew.kickoff(inputs={\"topic\": \"Artificial Intelligence\"})"
   ]
  },
  {
   "cell_type": "markdown",
   "metadata": {},
   "source": [
    "- Display the results of your execution as markdown in the notebook."
   ]
  },
  {
   "cell_type": "code",
   "execution_count": 12,
   "metadata": {
    "height": 47
   },
   "outputs": [
    {
     "data": {
      "text/markdown": [
       "# Unveiling the Latest Trends in Artificial Intelligence\n",
       "\n",
       "## Introduction\n",
       "Artificial Intelligence (AI) has become an integral part of our modern world, revolutionizing industries and shaping the way we interact with technology. From advancements in machine learning algorithms to the integration of AI in sectors like healthcare, finance, and retail, the impact of AI is undeniable. Key players in the AI industry, such as Google DeepMind, IBM Watson, Amazon Web Services, Microsoft Azure, and OpenAI, are constantly pushing the boundaries of what AI can achieve. In this article, we will delve into the latest trends in AI, explore the key players driving innovation, and discuss noteworthy news in the field.\n",
       "\n",
       "## Latest Trends in Artificial Intelligence\n",
       "One of the most significant trends in AI is the continuous advancements in machine learning algorithms. These algorithms are becoming more sophisticated and efficient, allowing AI systems to learn and adapt in real-time. Additionally, AI is being increasingly integrated into various industries, transforming processes and driving efficiency. From healthcare diagnostics to financial forecasting, AI is revolutionizing the way businesses operate. Moreover, the rise of autonomous vehicles and smart assistants is reshaping how we interact with technology on a daily basis. However, as AI becomes more prevalent, ethical considerations in its development and deployment are gaining importance, ensuring that AI technologies are used responsibly and ethically.\n",
       "\n",
       "## Key Players in the AI Industry\n",
       "The AI industry is dominated by key players who are at the forefront of innovation. Google DeepMind, known for its groundbreaking work in deep learning and reinforcement learning, continues to push the boundaries of AI research. IBM Watson, with its cognitive computing capabilities, is revolutionizing industries like healthcare and finance. Amazon Web Services and Microsoft Azure are leading providers of AI services and solutions, enabling businesses to leverage AI technologies effectively. OpenAI, founded with the mission to ensure that artificial general intelligence benefits all of humanity, is driving research in AI ethics and safety.\n",
       "\n",
       "## Noteworthy News in Artificial Intelligence\n",
       "Recent breakthroughs in natural language processing have enabled AI systems to understand and generate human-like text, opening up new possibilities for applications in content creation and communication. AI is also being utilized to combat climate change, with innovative solutions for environmental monitoring and conservation. However, the impact of AI on job automation and workforce transformation raises concerns about the future of work. Regulatory developments in AI governance are crucial to ensure that AI technologies are developed and deployed responsibly, addressing issues of bias, fairness, and transparency.\n",
       "\n",
       "In conclusion, Artificial Intelligence is a rapidly evolving field with profound implications for society and the economy. By staying informed about the latest trends, key players, and noteworthy news in AI, professionals, business owners, and students can navigate the complex landscape of AI technologies and contribute to shaping a more ethical and sustainable future. Stay engaged with AI developments by subscribing to industry newsletters, attending AI conferences, and sharing your thoughts on the latest advancements in the comments section below.\n",
       "\n",
       "---\n",
       "*Stay updated on Artificial Intelligence trends by subscribing to our newsletter or attending industry conferences. Share your thoughts on the latest AI developments in the comments section below. For further reading, check out our related articles and resources.*"
      ],
      "text/plain": [
       "<IPython.core.display.Markdown object>"
      ]
     },
     "execution_count": 12,
     "metadata": {},
     "output_type": "execute_result"
    }
   ],
   "source": [
    "from IPython.display import Markdown\n",
    "Markdown(result)"
   ]
  },
  {
   "cell_type": "markdown",
   "metadata": {},
   "source": [
    "## Try it Yourself\n",
    "\n",
    "- Pass in a topic of your choice and see what the agents come up with!"
   ]
  },
  {
   "cell_type": "code",
   "execution_count": 13,
   "metadata": {
    "height": 47
   },
   "outputs": [
    {
     "name": "stdout",
     "output_type": "stream",
     "text": [
      "\u001b[1m\u001b[95m [DEBUG]: == Working Agent: Content Planner\u001b[00m\n",
      "\u001b[1m\u001b[95m [INFO]: == Starting Task: 1. Prioritize the latest trends, key players, and noteworthy news on Artificial General Intelligence.\n",
      "2. Identify the target audience, considering their interests and pain points.\n",
      "3. Develop a detailed content outline including an introduction, key points, and a call to action.\n",
      "4. Include SEO keywords and relevant data or sources.\u001b[00m\n",
      "\n",
      "\n",
      "\u001b[1m> Entering new CrewAgentExecutor chain...\u001b[0m\n",
      "\u001b[32;1m\u001b[1;3mI now can give a great answer\n",
      "\n",
      "Final Answer: \n",
      "\n",
      "Content Plan: \n",
      "\n",
      "Title: The Future of Artificial General Intelligence: Trends, Players, and News\n",
      "\n",
      "Introduction: \n",
      "- Brief overview of Artificial General Intelligence (AGI) and its potential impact on society\n",
      "- Mention of recent developments and breakthroughs in the field\n",
      "\n",
      "Key Points: \n",
      "1. Latest Trends in AGI:\n",
      "- Advancements in machine learning algorithms and neural networks\n",
      "- Integration of AGI in various industries such as healthcare, finance, and transportation\n",
      "- Ethical considerations and regulations surrounding AGI development\n",
      "\n",
      "2. Key Players in AGI:\n",
      "- Companies leading the way in AGI research and development (e.g., OpenAI, DeepMind, IBM)\n",
      "- Collaboration between academia and industry in advancing AGI technologies\n",
      "- Profiles of influential figures in the AGI community\n",
      "\n",
      "3. Noteworthy News in AGI:\n",
      "- Recent studies or experiments showcasing the capabilities of AGI systems\n",
      "- Updates on AGI projects and initiatives worldwide\n",
      "- Impact of AGI on job markets and workforce automation\n",
      "\n",
      "Audience Analysis: \n",
      "- Target Audience: Tech enthusiasts, researchers, students, and industry professionals interested in AGI\n",
      "- Interests: Latest advancements in artificial intelligence, ethical implications of AGI, future applications of AGI technologies\n",
      "- Pain Points: Understanding complex concepts in AGI, staying informed on the latest trends and developments, navigating the evolving landscape of AI research\n",
      "\n",
      "SEO Keywords: \n",
      "- Artificial General Intelligence trends\n",
      "- Key players in AGI research\n",
      "- Latest news on AGI development\n",
      "- Ethical considerations in AGI\n",
      "- Future of artificial intelligence technologies\n",
      "\n",
      "Resources:\n",
      "1. \"The AGI Revolution: What We Know and What We Don't Know\" - by Nick Bostrom\n",
      "2. OpenAI Blog - updates on AGI research and projects\n",
      "3. DeepMind Research Publications - latest advancements in AI technologies\n",
      "4. IEEE Spectrum: Artificial Intelligence - news and articles on AI developments\n",
      "\n",
      "Call to Action: \n",
      "- Encourage readers to stay informed on AGI developments by subscribing to industry newsletters or attending AI conferences\n",
      "- Invite feedback and discussion on the topic of AGI and its potential impact on society\n",
      "\n",
      "Overall, this content plan aims to provide a comprehensive overview of the latest trends, key players, and noteworthy news in the field of Artificial General Intelligence. By addressing the interests and pain points of the target audience and incorporating relevant SEO keywords and resources, the blog article will engage readers and equip them with valuable insights to make informed decisions about the future of AGI.\u001b[0m\n",
      "\n",
      "\u001b[1m> Finished chain.\u001b[0m\n",
      "\u001b[1m\u001b[92m [DEBUG]: == [Content Planner] Task output: Content Plan: \n",
      "\n",
      "Title: The Future of Artificial General Intelligence: Trends, Players, and News\n",
      "\n",
      "Introduction: \n",
      "- Brief overview of Artificial General Intelligence (AGI) and its potential impact on society\n",
      "- Mention of recent developments and breakthroughs in the field\n",
      "\n",
      "Key Points: \n",
      "1. Latest Trends in AGI:\n",
      "- Advancements in machine learning algorithms and neural networks\n",
      "- Integration of AGI in various industries such as healthcare, finance, and transportation\n",
      "- Ethical considerations and regulations surrounding AGI development\n",
      "\n",
      "2. Key Players in AGI:\n",
      "- Companies leading the way in AGI research and development (e.g., OpenAI, DeepMind, IBM)\n",
      "- Collaboration between academia and industry in advancing AGI technologies\n",
      "- Profiles of influential figures in the AGI community\n",
      "\n",
      "3. Noteworthy News in AGI:\n",
      "- Recent studies or experiments showcasing the capabilities of AGI systems\n",
      "- Updates on AGI projects and initiatives worldwide\n",
      "- Impact of AGI on job markets and workforce automation\n",
      "\n",
      "Audience Analysis: \n",
      "- Target Audience: Tech enthusiasts, researchers, students, and industry professionals interested in AGI\n",
      "- Interests: Latest advancements in artificial intelligence, ethical implications of AGI, future applications of AGI technologies\n",
      "- Pain Points: Understanding complex concepts in AGI, staying informed on the latest trends and developments, navigating the evolving landscape of AI research\n",
      "\n",
      "SEO Keywords: \n",
      "- Artificial General Intelligence trends\n",
      "- Key players in AGI research\n",
      "- Latest news on AGI development\n",
      "- Ethical considerations in AGI\n",
      "- Future of artificial intelligence technologies\n",
      "\n",
      "Resources:\n",
      "1. \"The AGI Revolution: What We Know and What We Don't Know\" - by Nick Bostrom\n",
      "2. OpenAI Blog - updates on AGI research and projects\n",
      "3. DeepMind Research Publications - latest advancements in AI technologies\n",
      "4. IEEE Spectrum: Artificial Intelligence - news and articles on AI developments\n",
      "\n",
      "Call to Action: \n",
      "- Encourage readers to stay informed on AGI developments by subscribing to industry newsletters or attending AI conferences\n",
      "- Invite feedback and discussion on the topic of AGI and its potential impact on society\n",
      "\n",
      "Overall, this content plan aims to provide a comprehensive overview of the latest trends, key players, and noteworthy news in the field of Artificial General Intelligence. By addressing the interests and pain points of the target audience and incorporating relevant SEO keywords and resources, the blog article will engage readers and equip them with valuable insights to make informed decisions about the future of AGI.\n",
      "\n",
      "\u001b[00m\n",
      "\u001b[1m\u001b[95m [DEBUG]: == Working Agent: Content Writer\u001b[00m\n",
      "\u001b[1m\u001b[95m [INFO]: == Starting Task: 1. Use the content plan to craft a compelling blog post on Artificial General Intelligence.\n",
      "2. Incorporate SEO keywords naturally.\n",
      "3. Sections/Subtitles are properly named in an engaging manner.\n",
      "4. Ensure the post is structured with an engaging introduction, insightful body, and a summarizing conclusion.\n",
      "5. Proofread for grammatical errors and alignment with the brand's voice.\n",
      "\u001b[00m\n",
      "\n",
      "\n",
      "\u001b[1m> Entering new CrewAgentExecutor chain...\u001b[0m\n",
      "\u001b[32;1m\u001b[1;3mI now can give a great answer\n",
      "\n",
      "Final Answer:\n",
      "\n",
      "# The Future of Artificial General Intelligence: Trends, Players, and News\n",
      "\n",
      "## Introduction\n",
      "\n",
      "Artificial General Intelligence (AGI) has been a topic of fascination and concern in the tech world for its potential to revolutionize society. Recent breakthroughs in AGI have captured the attention of researchers, industry professionals, and tech enthusiasts alike. As advancements in machine learning and neural networks continue to push the boundaries of what AI can achieve, the implications of AGI on various industries and ethical considerations surrounding its development have come to the forefront of discussions.\n",
      "\n",
      "## Latest Trends in AGI\n",
      "\n",
      "In recent years, the field of AGI has seen significant advancements in machine learning algorithms and neural networks. These developments have paved the way for the integration of AGI in industries such as healthcare, finance, and transportation, where AI-powered solutions are transforming operations and decision-making processes. However, with the rise of AGI comes a host of ethical considerations and regulatory challenges that must be addressed to ensure responsible and safe deployment of these technologies.\n",
      "\n",
      "## Key Players in AGI\n",
      "\n",
      "Leading the charge in AGI research and development are companies like OpenAI, DeepMind, and IBM, who are pushing the boundaries of AI capabilities and exploring new frontiers in machine intelligence. Collaboration between academia and industry has played a crucial role in advancing AGI technologies, with influential figures in the AGI community driving innovation and shaping the future of artificial intelligence.\n",
      "\n",
      "## Noteworthy News in AGI\n",
      "\n",
      "Recent studies and experiments have showcased the incredible capabilities of AGI systems, from natural language processing to complex decision-making tasks. Updates on AGI projects and initiatives worldwide continue to highlight the rapid pace of innovation in the field, raising questions about the impact of AGI on job markets and the need for workforce automation. As AGI technologies continue to evolve, staying informed on the latest trends and developments is essential for navigating the complex landscape of AI research.\n",
      "\n",
      "## Conclusion\n",
      "\n",
      "As the field of Artificial General Intelligence continues to progress, it is crucial for tech enthusiasts, researchers, students, and industry professionals to stay informed on the latest trends, key players, and noteworthy news in AGI. By addressing ethical considerations, exploring future applications of AGI technologies, and engaging in discussions about the impact of AI on society, we can shape a future where AGI benefits humanity in meaningful and responsible ways.\n",
      "\n",
      "Remember to subscribe to industry newsletters, attend AI conferences, and join the conversation on the future of AGI. Your insights and contributions are invaluable in shaping the future of artificial intelligence technologies.\n",
      "\n",
      "Let's continue to explore the possibilities of AGI and embrace the opportunities it presents for a brighter and more intelligent future.\u001b[0m\n",
      "\n",
      "\u001b[1m> Finished chain.\u001b[0m\n",
      "\u001b[1m\u001b[92m [DEBUG]: == [Content Writer] Task output: # The Future of Artificial General Intelligence: Trends, Players, and News\n",
      "\n",
      "## Introduction\n",
      "\n",
      "Artificial General Intelligence (AGI) has been a topic of fascination and concern in the tech world for its potential to revolutionize society. Recent breakthroughs in AGI have captured the attention of researchers, industry professionals, and tech enthusiasts alike. As advancements in machine learning and neural networks continue to push the boundaries of what AI can achieve, the implications of AGI on various industries and ethical considerations surrounding its development have come to the forefront of discussions.\n",
      "\n",
      "## Latest Trends in AGI\n",
      "\n",
      "In recent years, the field of AGI has seen significant advancements in machine learning algorithms and neural networks. These developments have paved the way for the integration of AGI in industries such as healthcare, finance, and transportation, where AI-powered solutions are transforming operations and decision-making processes. However, with the rise of AGI comes a host of ethical considerations and regulatory challenges that must be addressed to ensure responsible and safe deployment of these technologies.\n",
      "\n",
      "## Key Players in AGI\n",
      "\n",
      "Leading the charge in AGI research and development are companies like OpenAI, DeepMind, and IBM, who are pushing the boundaries of AI capabilities and exploring new frontiers in machine intelligence. Collaboration between academia and industry has played a crucial role in advancing AGI technologies, with influential figures in the AGI community driving innovation and shaping the future of artificial intelligence.\n",
      "\n",
      "## Noteworthy News in AGI\n",
      "\n",
      "Recent studies and experiments have showcased the incredible capabilities of AGI systems, from natural language processing to complex decision-making tasks. Updates on AGI projects and initiatives worldwide continue to highlight the rapid pace of innovation in the field, raising questions about the impact of AGI on job markets and the need for workforce automation. As AGI technologies continue to evolve, staying informed on the latest trends and developments is essential for navigating the complex landscape of AI research.\n",
      "\n",
      "## Conclusion\n",
      "\n",
      "As the field of Artificial General Intelligence continues to progress, it is crucial for tech enthusiasts, researchers, students, and industry professionals to stay informed on the latest trends, key players, and noteworthy news in AGI. By addressing ethical considerations, exploring future applications of AGI technologies, and engaging in discussions about the impact of AI on society, we can shape a future where AGI benefits humanity in meaningful and responsible ways.\n",
      "\n",
      "Remember to subscribe to industry newsletters, attend AI conferences, and join the conversation on the future of AGI. Your insights and contributions are invaluable in shaping the future of artificial intelligence technologies.\n",
      "\n",
      "Let's continue to explore the possibilities of AGI and embrace the opportunities it presents for a brighter and more intelligent future.\n",
      "\n",
      "\u001b[00m\n",
      "\u001b[1m\u001b[95m [DEBUG]: == Working Agent: Editor\u001b[00m\n",
      "\u001b[1m\u001b[95m [INFO]: == Starting Task: Proofread the given blog post for grammatical errors and alignment with the brand's voice.\u001b[00m\n",
      "\n",
      "\n",
      "\u001b[1m> Entering new CrewAgentExecutor chain...\u001b[0m\n"
     ]
    },
    {
     "name": "stdout",
     "output_type": "stream",
     "text": [
      "\u001b[32;1m\u001b[1;3mI now can give a great answer.\n",
      "\n",
      "Final Answer: \n",
      "\n",
      "# The Future of Artificial General Intelligence: Trends, Players, and News\n",
      "\n",
      "## Introduction\n",
      "\n",
      "Artificial General Intelligence (AGI) has become a captivating subject in the tech industry due to its potential to revolutionize society. Recent breakthroughs in AGI have garnered the attention of researchers, industry professionals, and tech enthusiasts alike. Advances in machine learning and neural networks are continuously expanding the capabilities of AI, bringing to light the implications of AGI on various industries and the ethical considerations surrounding its development.\n",
      "\n",
      "## Latest Trends in AGI\n",
      "\n",
      "The field of AGI has witnessed significant progress in recent years, particularly in machine learning algorithms and neural networks. These advancements have paved the way for the incorporation of AGI in industries such as healthcare, finance, and transportation, where AI-driven solutions are reshaping operations and decision-making processes. However, the rise of AGI also brings forth a myriad of ethical dilemmas and regulatory hurdles that must be navigated to ensure the responsible and safe deployment of these technologies.\n",
      "\n",
      "## Key Players in AGI\n",
      "\n",
      "At the forefront of AGI research and development are companies like OpenAI, DeepMind, and IBM, who are at the forefront of expanding the boundaries of AI capabilities and exploring new horizons in machine intelligence. The collaboration between academia and industry has played a pivotal role in the advancement of AGI technologies, with influential figures in the AGI community driving innovation and molding the future of artificial intelligence.\n",
      "\n",
      "## Noteworthy News in AGI\n",
      "\n",
      "Recent studies and experiments have demonstrated the remarkable abilities of AGI systems, ranging from natural language processing to complex decision-making tasks. Updates on AGI projects and initiatives worldwide continue to showcase the rapid pace of innovation in the field, prompting discussions on the impact of AGI on job markets and the necessity for workforce automation. Keeping abreast of the latest trends and developments in AGI technologies is essential for navigating the intricate landscape of AI research.\n",
      "\n",
      "## Conclusion\n",
      "\n",
      "As the field of Artificial General Intelligence progresses, it is essential for tech enthusiasts, researchers, students, and industry professionals to stay informed about the latest trends, key players, and significant news in AGI. By addressing ethical considerations, exploring future applications of AGI technologies, and engaging in dialogues about the societal impact of AI, we can shape a future where AGI enhances humanity in meaningful and responsible ways.\n",
      "\n",
      "Remember to subscribe to industry newsletters, participate in AI conferences, and contribute to discussions on the future of AGI. Your insights and input are invaluable in shaping the trajectory of artificial intelligence technologies.\n",
      "\n",
      "Let us continue to delve into the possibilities of AGI and embrace the opportunities it offers for a brighter and more intelligent future.\u001b[0m\n",
      "\n",
      "\u001b[1m> Finished chain.\u001b[0m\n",
      "\u001b[1m\u001b[92m [DEBUG]: == [Editor] Task output: # The Future of Artificial General Intelligence: Trends, Players, and News\n",
      "\n",
      "## Introduction\n",
      "\n",
      "Artificial General Intelligence (AGI) has become a captivating subject in the tech industry due to its potential to revolutionize society. Recent breakthroughs in AGI have garnered the attention of researchers, industry professionals, and tech enthusiasts alike. Advances in machine learning and neural networks are continuously expanding the capabilities of AI, bringing to light the implications of AGI on various industries and the ethical considerations surrounding its development.\n",
      "\n",
      "## Latest Trends in AGI\n",
      "\n",
      "The field of AGI has witnessed significant progress in recent years, particularly in machine learning algorithms and neural networks. These advancements have paved the way for the incorporation of AGI in industries such as healthcare, finance, and transportation, where AI-driven solutions are reshaping operations and decision-making processes. However, the rise of AGI also brings forth a myriad of ethical dilemmas and regulatory hurdles that must be navigated to ensure the responsible and safe deployment of these technologies.\n",
      "\n",
      "## Key Players in AGI\n",
      "\n",
      "At the forefront of AGI research and development are companies like OpenAI, DeepMind, and IBM, who are at the forefront of expanding the boundaries of AI capabilities and exploring new horizons in machine intelligence. The collaboration between academia and industry has played a pivotal role in the advancement of AGI technologies, with influential figures in the AGI community driving innovation and molding the future of artificial intelligence.\n",
      "\n",
      "## Noteworthy News in AGI\n",
      "\n",
      "Recent studies and experiments have demonstrated the remarkable abilities of AGI systems, ranging from natural language processing to complex decision-making tasks. Updates on AGI projects and initiatives worldwide continue to showcase the rapid pace of innovation in the field, prompting discussions on the impact of AGI on job markets and the necessity for workforce automation. Keeping abreast of the latest trends and developments in AGI technologies is essential for navigating the intricate landscape of AI research.\n",
      "\n",
      "## Conclusion\n",
      "\n",
      "As the field of Artificial General Intelligence progresses, it is essential for tech enthusiasts, researchers, students, and industry professionals to stay informed about the latest trends, key players, and significant news in AGI. By addressing ethical considerations, exploring future applications of AGI technologies, and engaging in dialogues about the societal impact of AI, we can shape a future where AGI enhances humanity in meaningful and responsible ways.\n",
      "\n",
      "Remember to subscribe to industry newsletters, participate in AI conferences, and contribute to discussions on the future of AGI. Your insights and input are invaluable in shaping the trajectory of artificial intelligence technologies.\n",
      "\n",
      "Let us continue to delve into the possibilities of AGI and embrace the opportunities it offers for a brighter and more intelligent future.\n",
      "\n",
      "\u001b[00m\n"
     ]
    }
   ],
   "source": [
    "topic = \"Artificial General Intelligence\"\n",
    "result = crew.kickoff(inputs={\"topic\": topic})"
   ]
  },
  {
   "cell_type": "code",
   "execution_count": 14,
   "metadata": {
    "height": 30
   },
   "outputs": [
    {
     "data": {
      "text/markdown": [
       "# The Future of Artificial General Intelligence: Trends, Players, and News\n",
       "\n",
       "## Introduction\n",
       "\n",
       "Artificial General Intelligence (AGI) has become a captivating subject in the tech industry due to its potential to revolutionize society. Recent breakthroughs in AGI have garnered the attention of researchers, industry professionals, and tech enthusiasts alike. Advances in machine learning and neural networks are continuously expanding the capabilities of AI, bringing to light the implications of AGI on various industries and the ethical considerations surrounding its development.\n",
       "\n",
       "## Latest Trends in AGI\n",
       "\n",
       "The field of AGI has witnessed significant progress in recent years, particularly in machine learning algorithms and neural networks. These advancements have paved the way for the incorporation of AGI in industries such as healthcare, finance, and transportation, where AI-driven solutions are reshaping operations and decision-making processes. However, the rise of AGI also brings forth a myriad of ethical dilemmas and regulatory hurdles that must be navigated to ensure the responsible and safe deployment of these technologies.\n",
       "\n",
       "## Key Players in AGI\n",
       "\n",
       "At the forefront of AGI research and development are companies like OpenAI, DeepMind, and IBM, who are at the forefront of expanding the boundaries of AI capabilities and exploring new horizons in machine intelligence. The collaboration between academia and industry has played a pivotal role in the advancement of AGI technologies, with influential figures in the AGI community driving innovation and molding the future of artificial intelligence.\n",
       "\n",
       "## Noteworthy News in AGI\n",
       "\n",
       "Recent studies and experiments have demonstrated the remarkable abilities of AGI systems, ranging from natural language processing to complex decision-making tasks. Updates on AGI projects and initiatives worldwide continue to showcase the rapid pace of innovation in the field, prompting discussions on the impact of AGI on job markets and the necessity for workforce automation. Keeping abreast of the latest trends and developments in AGI technologies is essential for navigating the intricate landscape of AI research.\n",
       "\n",
       "## Conclusion\n",
       "\n",
       "As the field of Artificial General Intelligence progresses, it is essential for tech enthusiasts, researchers, students, and industry professionals to stay informed about the latest trends, key players, and significant news in AGI. By addressing ethical considerations, exploring future applications of AGI technologies, and engaging in dialogues about the societal impact of AI, we can shape a future where AGI enhances humanity in meaningful and responsible ways.\n",
       "\n",
       "Remember to subscribe to industry newsletters, participate in AI conferences, and contribute to discussions on the future of AGI. Your insights and input are invaluable in shaping the trajectory of artificial intelligence technologies.\n",
       "\n",
       "Let us continue to delve into the possibilities of AGI and embrace the opportunities it offers for a brighter and more intelligent future."
      ],
      "text/plain": [
       "<IPython.core.display.Markdown object>"
      ]
     },
     "execution_count": 14,
     "metadata": {},
     "output_type": "execute_result"
    }
   ],
   "source": [
    "Markdown(result)"
   ]
  },
  {
   "cell_type": "markdown",
   "metadata": {},
   "source": [
    "<a name='1'></a>\n",
    " ## Other Popular Models as LLM for your Agents"
   ]
  },
  {
   "cell_type": "markdown",
   "metadata": {},
   "source": [
    "#### Hugging Face (HuggingFaceHub endpoint)\n",
    "\n",
    "```Python\n",
    "from langchain_community.llms import HuggingFaceHub\n",
    "\n",
    "llm = HuggingFaceHub(\n",
    "    repo_id=\"HuggingFaceH4/zephyr-7b-beta\",\n",
    "    huggingfacehub_api_token=\"<HF_TOKEN_HERE>\",\n",
    "    task=\"text-generation\",\n",
    ")\n",
    "\n",
    "### you will pass \"llm\" to your agent function\n",
    "```"
   ]
  },
  {
   "cell_type": "markdown",
   "metadata": {},
   "source": [
    "#### Mistral API\n",
    "\n",
    "```Python\n",
    "OPENAI_API_KEY=your-mistral-api-key\n",
    "OPENAI_API_BASE=https://api.mistral.ai/v1\n",
    "OPENAI_MODEL_NAME=\"mistral-small\"\n",
    "```"
   ]
  },
  {
   "cell_type": "markdown",
   "metadata": {},
   "source": [
    "#### Cohere\n",
    "\n",
    "```Python\n",
    "from langchain_community.chat_models import ChatCohere\n",
    "# Initialize language model\n",
    "os.environ[\"COHERE_API_KEY\"] = \"your-cohere-api-key\"\n",
    "llm = ChatCohere()\n",
    "\n",
    "### you will pass \"llm\" to your agent function\n",
    "```"
   ]
  },
  {
   "cell_type": "markdown",
   "metadata": {},
   "source": [
    "### For using Llama locally with Ollama and more, checkout the crewAI documentation on [Connecting to any LLM](https://docs.crewai.com/how-to/LLM-Connections/)."
   ]
  },
  {
   "cell_type": "code",
   "execution_count": null,
   "metadata": {
    "height": 30
   },
   "outputs": [],
   "source": []
  },
  {
   "cell_type": "code",
   "execution_count": null,
   "metadata": {
    "height": 30
   },
   "outputs": [],
   "source": []
  },
  {
   "cell_type": "code",
   "execution_count": null,
   "metadata": {
    "height": 30
   },
   "outputs": [],
   "source": []
  }
 ],
 "metadata": {
  "colab": {
   "gpuType": "T4",
   "provenance": []
  },
  "kernelspec": {
   "display_name": "Python 3 (ipykernel)",
   "language": "python",
   "name": "python3"
  },
  "language_info": {
   "codemirror_mode": {
    "name": "ipython",
    "version": 3
   },
   "file_extension": ".py",
   "mimetype": "text/x-python",
   "name": "python",
   "nbconvert_exporter": "python",
   "pygments_lexer": "ipython3",
   "version": "3.11.9"
  }
 },
 "nbformat": 4,
 "nbformat_minor": 4
}
