{
 "cells": [
  {
   "cell_type": "markdown",
   "metadata": {},
   "source": [
    "## Introducing Numpy\n",
    "\n",
    "NumPy is a library for the Python programming language, adding support for large, multi-dimensional arrays and matrices.\n",
    "\n",
    "- **Data Types and Shapes**\n",
    "  - Scalar\n",
    "  - Vectors\n",
    "  - Matrices\n",
    "  - Tensors\n",
    "  - Changing Shapes\n",
    "  - Commonly used initializations\n",
    "\n",
    "- **Element Wise Operation**\n",
    "  - The Python way\n",
    "  - The NumPy way\n",
    "  - Element-wise Matrix Operations\n",
    "\n",
    "- **NumPy Matrix Multiplication**\n",
    "  - Element-wise Multiplication\n",
    "  - Matrix Product\n",
    "  - NumPys dot function\n",
    "  - Transpose\n",
    "\n",
    "- **Sorting, Subsetting, Slicing, Splitting and Indexing**"
   ]
  },
  {
   "cell_type": "code",
   "execution_count": 2,
   "metadata": {},
   "outputs": [],
   "source": [
    "# import library\n",
    "import numpy as np"
   ]
  },
  {
   "cell_type": "markdown",
   "metadata": {},
   "source": [
    "## Data Types and Shapes\n",
    "\n",
    "The most common way to work with numbers in NumPy is through ndarray objects. Thery are similar to Python lists, but can have any number of dimensions. Also, ndarray supports fast math operations, which is just what we want.\n",
    "\n",
    "Since it can store any number of dimensions, we can use ndarray's to represent any of the data types: \n",
    "\n",
    "- Scalars\n",
    "- Vectors\n",
    "- Matrices\n",
    "- Tensors"
   ]
  },
  {
   "cell_type": "markdown",
   "metadata": {},
   "source": [
    "## Scalars\n",
    "\n",
    "Scalars in NumPy are a bit more involved than in Python. Instead of Python's basic types like int, float, etc., NumPy lets we specify signed and unsigned types, as well as different sizes. So instead of Python's int, we have access to types like uint8, int8, uint16, int16, and so on.\n",
    "\n",
    "These types are important because every object we make (vectors, matrices, tensors) eventually stores scalars. And when we create a NumPy array, we can specify the type - **but every item in the array must have the same type**. In this regard, NumPy arrays are more like C arrays than Python lists.\n",
    "\n",
    "If we want to create a NumPy array that holds a scalar, we can do so by passing the value to NumPy's array function, like so:"
   ]
  },
  {
   "cell_type": "code",
   "execution_count": 3,
   "metadata": {},
   "outputs": [
    {
     "name": "stdout",
     "output_type": "stream",
     "text": [
      "5\n"
     ]
    }
   ],
   "source": [
    "s = np.array(5)\n",
    "print(s)"
   ]
  },
  {
   "cell_type": "code",
   "execution_count": 4,
   "metadata": {},
   "outputs": [
    {
     "name": "stdout",
     "output_type": "stream",
     "text": [
      "()\n"
     ]
    }
   ],
   "source": [
    "# shape of our array\n",
    "print(s.shape)"
   ]
  },
  {
   "cell_type": "markdown",
   "metadata": {},
   "source": [
    "- Here, this empty pair of **parenthesis ()** indicates that it has **zero dimensions**."
   ]
  },
  {
   "cell_type": "code",
   "execution_count": 12,
   "metadata": {},
   "outputs": [
    {
     "name": "stdout",
     "output_type": "stream",
     "text": [
      "8\n"
     ]
    }
   ],
   "source": [
    "x = s + 3\n",
    "print(x)"
   ]
  },
  {
   "cell_type": "code",
   "execution_count": 13,
   "metadata": {},
   "outputs": [
    {
     "name": "stdout",
     "output_type": "stream",
     "text": [
      "<class 'numpy.int32'>\n"
     ]
    }
   ],
   "source": [
    "print(type(x))"
   ]
  },
  {
   "cell_type": "code",
   "execution_count": 14,
   "metadata": {},
   "outputs": [
    {
     "name": "stdout",
     "output_type": "stream",
     "text": [
      "()\n"
     ]
    }
   ],
   "source": [
    "print(x.shape)\n",
    "# x = 8\n",
    "# print(x.shape)"
   ]
  },
  {
   "cell_type": "markdown",
   "metadata": {},
   "source": [
    "## Vectors\n",
    "\n",
    "To create a vector, we'd pass a Python list to the array function, like this:"
   ]
  },
  {
   "cell_type": "code",
   "execution_count": 15,
   "metadata": {},
   "outputs": [
    {
     "name": "stdout",
     "output_type": "stream",
     "text": [
      "[1 2 3 4 5]\n"
     ]
    }
   ],
   "source": [
    "v = np.array([1,2,3,4,5])\n",
    "print(v)"
   ]
  },
  {
   "cell_type": "code",
   "execution_count": 16,
   "metadata": {},
   "outputs": [
    {
     "name": "stdout",
     "output_type": "stream",
     "text": [
      "(5,)\n"
     ]
    }
   ],
   "source": [
    "# check shape\n",
    "print(v.shape)"
   ]
  },
  {
   "cell_type": "markdown",
   "metadata": {},
   "source": [
    "- Now that there is a number, we can see that the shape is a tuple with the sizes of each of the ndarray 's dimensions. \n",
    "- For **scalars** it was just an empty tuple, but **vectors** have one dimension, so the tuple includes a number and a comma.\n",
    "- Python doesn't understand (3) as a tuple with one item, so it requires the comma."
   ]
  },
  {
   "cell_type": "code",
   "execution_count": 17,
   "metadata": {},
   "outputs": [
    {
     "name": "stdout",
     "output_type": "stream",
     "text": [
      "2\n"
     ]
    }
   ],
   "source": [
    "# accessing item in vector\n",
    "x = v[1]\n",
    "print(x)"
   ]
  },
  {
   "cell_type": "markdown",
   "metadata": {},
   "source": [
    "## Matrices\n",
    "\n",
    "\n",
    "We can create matrices using NumPy's array function, similar to that of vectors. However, instead of just passing in a list, we need to supply a list of lists, where each list represents a row. So to create a 3x3 matrix containing the numbers one through nine, we could do this:"
   ]
  },
  {
   "cell_type": "code",
   "execution_count": 19,
   "metadata": {},
   "outputs": [
    {
     "name": "stdout",
     "output_type": "stream",
     "text": [
      "m = \n",
      " [[1 2 3]\n",
      " [4 5 6]\n",
      " [7 8 9]]\n",
      "m.shape: (3, 3)\n"
     ]
    }
   ],
   "source": [
    "m = np.array([[1,2,3], [4,5,6], [7,8,9]])\n",
    "print(\"m = \\n\",m, )\n",
    "print(\"m.shape:\", m.shape)"
   ]
  },
  {
   "cell_type": "markdown",
   "metadata": {},
   "source": [
    "- m is thus a (3,3) tuple. This indicates that it has two dimensions each of size 3. We can access elements of matrices just like vectors but additional index values."
   ]
  },
  {
   "cell_type": "code",
   "execution_count": 20,
   "metadata": {},
   "outputs": [
    {
     "name": "stdout",
     "output_type": "stream",
     "text": [
      "6\n"
     ]
    }
   ],
   "source": [
    "# accessing element\n",
    "print(m[1][2])"
   ]
  },
  {
   "cell_type": "markdown",
   "metadata": {},
   "source": [
    "## Tensors\n",
    "\n",
    "Tensors are just like vectors and matrices, **but they can have more dimensions**.\n",
    "\n",
    "For example, to create a 3x3x2x1 tensor, we could do the following:"
   ]
  },
  {
   "cell_type": "code",
   "execution_count": 27,
   "metadata": {},
   "outputs": [],
   "source": [
    "t = np.array([[\n",
    "    [[1],[2]], [[3],[4]], [[4],[5]],\\\n",
    "        [[6],[7]], [[7],[8]], [[8],[9]],\\\n",
    "            [[9],[10]], [[10],[11]], [[11],[12]],\\\n",
    "]])"
   ]
  },
  {
   "cell_type": "code",
   "execution_count": 28,
   "metadata": {},
   "outputs": [
    {
     "name": "stdout",
     "output_type": "stream",
     "text": [
      "(1, 9, 2, 1)\n"
     ]
    }
   ],
   "source": [
    "print(t.shape)"
   ]
  },
  {
   "cell_type": "code",
   "execution_count": 30,
   "metadata": {},
   "outputs": [
    {
     "data": {
      "text/plain": [
       "array([[7],\n",
       "       [8]])"
      ]
     },
     "execution_count": 30,
     "metadata": {},
     "output_type": "execute_result"
    }
   ],
   "source": [
    "t[0,4]"
   ]
  },
  {
   "cell_type": "markdown",
   "metadata": {},
   "source": [
    "- `Size` function which returns the total number of elements in an array."
   ]
  },
  {
   "cell_type": "code",
   "execution_count": 31,
   "metadata": {},
   "outputs": [
    {
     "name": "stdout",
     "output_type": "stream",
     "text": [
      "18\n"
     ]
    }
   ],
   "source": [
    "print(t.size)"
   ]
  },
  {
   "cell_type": "markdown",
   "metadata": {},
   "source": [
    "## Changing Shapes\n",
    "\n",
    "- Sometimes we need to change the shape of our data without actually changing the content.\n",
    "- For example, we may have a vector, which is one-dimensional, but need a matrix, which is two-dimensional."
   ]
  },
  {
   "cell_type": "code",
   "execution_count": 32,
   "metadata": {},
   "outputs": [],
   "source": [
    "v = np.array([1,2,3,4])"
   ]
  },
  {
   "cell_type": "code",
   "execution_count": 33,
   "metadata": {},
   "outputs": [
    {
     "name": "stdout",
     "output_type": "stream",
     "text": [
      "(4,)\n"
     ]
    }
   ],
   "source": [
    "print(v.shape)"
   ]
  },
  {
   "cell_type": "code",
   "execution_count": 34,
   "metadata": {},
   "outputs": [],
   "source": [
    "# 1x4 matrix\n",
    "x = v.reshape(1,4)"
   ]
  },
  {
   "cell_type": "code",
   "execution_count": 35,
   "metadata": {},
   "outputs": [
    {
     "name": "stdout",
     "output_type": "stream",
     "text": [
      "(1, 4)\n"
     ]
    }
   ],
   "source": [
    "print(x.shape)"
   ]
  },
  {
   "cell_type": "code",
   "execution_count": 36,
   "metadata": {},
   "outputs": [
    {
     "name": "stdout",
     "output_type": "stream",
     "text": [
      "[[1 2 3 4]]\n"
     ]
    }
   ],
   "source": [
    "print(x)"
   ]
  },
  {
   "cell_type": "code",
   "execution_count": 37,
   "metadata": {},
   "outputs": [
    {
     "name": "stdout",
     "output_type": "stream",
     "text": [
      "(4, 1)\n",
      "[[1]\n",
      " [2]\n",
      " [3]\n",
      " [4]]\n"
     ]
    }
   ],
   "source": [
    "# 4x1 matrix\n",
    "x = v.reshape(4,1)\n",
    "print(x.shape)\n",
    "print(x) "
   ]
  },
  {
   "cell_type": "code",
   "execution_count": 38,
   "metadata": {},
   "outputs": [
    {
     "name": "stdout",
     "output_type": "stream",
     "text": [
      "[[ 1  2  3  4]\n",
      " [ 5  6  7  8]\n",
      " [ 9 10 11 12]]\n"
     ]
    }
   ],
   "source": [
    "# We have matrix A\n",
    "A = np.array([[1,2,3,4], [5,6,7,8], [9,10,11,12]])\n",
    "print(A)"
   ]
  },
  {
   "cell_type": "code",
   "execution_count": 39,
   "metadata": {},
   "outputs": [
    {
     "name": "stdout",
     "output_type": "stream",
     "text": [
      "[[ 1  2  3  4  5  6]\n",
      " [ 7  8  9 10 11 12]]\n"
     ]
    }
   ],
   "source": [
    "x = A.reshape(2,6)\n",
    "print(x)"
   ]
  },
  {
   "cell_type": "markdown",
   "metadata": {},
   "source": [
    "## Commonly Used Initilizations"
   ]
  },
  {
   "cell_type": "code",
   "execution_count": 40,
   "metadata": {},
   "outputs": [
    {
     "name": "stdout",
     "output_type": "stream",
     "text": [
      "(3, 4)\n",
      "[[0. 0. 0. 0.]\n",
      " [0. 0. 0. 0.]\n",
      " [0. 0. 0. 0.]]\n"
     ]
    }
   ],
   "source": [
    "a = np.zeros((3,4))\n",
    "print(a.shape)\n",
    "print(a)"
   ]
  },
  {
   "cell_type": "code",
   "execution_count": 42,
   "metadata": {},
   "outputs": [
    {
     "name": "stdout",
     "output_type": "stream",
     "text": [
      "[[[1. 1.]\n",
      "  [1. 1.]]\n",
      "\n",
      " [[1. 1.]\n",
      "  [1. 1.]]\n",
      "\n",
      " [[1. 1.]\n",
      "  [1. 1.]]]\n"
     ]
    }
   ],
   "source": [
    "a = np.ones((3,2,2))\n",
    "print(a)"
   ]
  },
  {
   "cell_type": "code",
   "execution_count": 43,
   "metadata": {},
   "outputs": [
    {
     "name": "stdout",
     "output_type": "stream",
     "text": [
      "[[0.72238531 0.65795314 0.73193924 0.361499   0.94142669]\n",
      " [0.25772851 0.79432977 0.43811966 0.84143946 0.8875978 ]\n",
      " [0.12856463 0.84898421 0.06072346 0.06379779 0.81462284]]\n"
     ]
    }
   ],
   "source": [
    "a = np.random.rand(3,5)\n",
    "print(a)"
   ]
  },
  {
   "cell_type": "code",
   "execution_count": 44,
   "metadata": {},
   "outputs": [
    {
     "name": "stdout",
     "output_type": "stream",
     "text": [
      "0.0038480117826439836\n",
      "1.0070831565239695\n"
     ]
    }
   ],
   "source": [
    "a = np.random.randn(50,100)\n",
    "print(a.mean())\n",
    "print(np.std(a)**2)"
   ]
  },
  {
   "cell_type": "code",
   "execution_count": 45,
   "metadata": {},
   "outputs": [
    {
     "data": {
      "text/plain": [
       "array([[-1.11731749, -0.83231033,  0.64648328, ...,  0.75305574,\n",
       "        -0.73771529, -1.64768293],\n",
       "       [ 0.12858262,  0.38874918,  0.22129821, ..., -1.49577999,\n",
       "         0.39131029, -1.22963294],\n",
       "       [-0.83386706, -1.78931047,  0.12014107, ..., -1.18454287,\n",
       "         0.1600025 ,  1.93109068],\n",
       "       ...,\n",
       "       [-0.62104817, -0.76313758, -0.01597626, ..., -0.45525703,\n",
       "         0.62902737,  0.83889227],\n",
       "       [-1.61272413, -0.8857467 , -1.07926646, ..., -1.5934398 ,\n",
       "        -0.97685306,  0.05360186],\n",
       "       [ 1.67620519,  1.00685153, -0.18138342, ..., -1.15514131,\n",
       "        -0.19518415, -1.80291903]])"
      ]
     },
     "execution_count": 45,
     "metadata": {},
     "output_type": "execute_result"
    }
   ],
   "source": [
    "a"
   ]
  },
  {
   "cell_type": "markdown",
   "metadata": {},
   "source": [
    "## Element Wise Operations"
   ]
  },
  {
   "cell_type": "markdown",
   "metadata": {},
   "source": [
    "- The Python Way"
   ]
  },
  {
   "cell_type": "code",
   "execution_count": 46,
   "metadata": {},
   "outputs": [
    {
     "name": "stdout",
     "output_type": "stream",
     "text": [
      "[6, 7, 8, 9, 10]\n"
     ]
    }
   ],
   "source": [
    "values = [1,2,3,4,5]\n",
    "for i in range(len(values)):\n",
    "    values[i] += 5\n",
    "print(values)"
   ]
  },
  {
   "cell_type": "markdown",
   "metadata": {},
   "source": [
    "- Numpy Way"
   ]
  },
  {
   "cell_type": "code",
   "execution_count": 47,
   "metadata": {},
   "outputs": [
    {
     "name": "stdout",
     "output_type": "stream",
     "text": [
      "[ 6  7  8  9 10]\n"
     ]
    }
   ],
   "source": [
    "values = [1,2,3,4,5]\n",
    "values = np.array(values) + 5\n",
    "print(values)"
   ]
  },
  {
   "cell_type": "code",
   "execution_count": 48,
   "metadata": {},
   "outputs": [
    {
     "name": "stdout",
     "output_type": "stream",
     "text": [
      "[30 35 40 45 50]\n"
     ]
    }
   ],
   "source": [
    "x = np.multiply(values, 5)\n",
    "print(x)"
   ]
  },
  {
   "cell_type": "code",
   "execution_count": null,
   "metadata": {},
   "outputs": [],
   "source": []
  }
 ],
 "metadata": {
  "kernelspec": {
   "display_name": "python_ml",
   "language": "python",
   "name": "python3"
  },
  "language_info": {
   "codemirror_mode": {
    "name": "ipython",
    "version": 3
   },
   "file_extension": ".py",
   "mimetype": "text/x-python",
   "name": "python",
   "nbconvert_exporter": "python",
   "pygments_lexer": "ipython3",
   "version": "3.12.3"
  }
 },
 "nbformat": 4,
 "nbformat_minor": 2
}
