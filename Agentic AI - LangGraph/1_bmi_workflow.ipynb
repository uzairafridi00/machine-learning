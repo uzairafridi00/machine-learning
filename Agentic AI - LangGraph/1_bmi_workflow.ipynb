{
 "cells": [
  {
   "cell_type": "markdown",
   "id": "9d7fa932",
   "metadata": {},
   "source": [
    "## **Calculating BMI using Simple Workflow**"
   ]
  },
  {
   "cell_type": "code",
   "execution_count": 16,
   "id": "d8778ced",
   "metadata": {},
   "outputs": [],
   "source": [
    "from langgraph.graph import StateGraph, START, END\n",
    "from typing import TypedDict"
   ]
  },
  {
   "cell_type": "code",
   "execution_count": 17,
   "id": "199e9e05",
   "metadata": {},
   "outputs": [],
   "source": [
    "# define state\n",
    "class BMIState(TypedDict):\n",
    "    weight: float  # in kg\n",
    "    height: float  # in meters\n",
    "    bmi: float     # Body Mass Index\n",
    "    category: str  # BMI category"
   ]
  },
  {
   "cell_type": "code",
   "execution_count": 18,
   "id": "43f8bd7d",
   "metadata": {},
   "outputs": [],
   "source": [
    "# calculate bmi\n",
    "def calculate_bmi(state: BMIState) -> BMIState:\n",
    "    weight = state['weight']\n",
    "    height = state['height']\n",
    "    bmi = weight / (height ** 2)\n",
    "    state['bmi'] = round(bmi, 2) # round to 2 decimal places\n",
    "    return state"
   ]
  },
  {
   "cell_type": "code",
   "execution_count": null,
   "id": "b5cd4926",
   "metadata": {},
   "outputs": [],
   "source": [
    "# categorize bmi\n",
    "def categorize_bmi(state: BMIState) -> BMIState:\n",
    "    bmi = state['bmi']\n",
    "    if bmi < 18.5:\n",
    "        state['category'] = 'Underweight'\n",
    "    elif 18.5 <= bmi < 24.9:\n",
    "        state['category'] = 'Normal weight'\n",
    "    elif 25 <= bmi < 29.9:\n",
    "        state['category'] = 'Overweight'\n",
    "    else:\n",
    "        state['category'] = 'Obese'\n",
    "\n",
    "    return state"
   ]
  },
  {
   "cell_type": "code",
   "execution_count": 20,
   "id": "9e47fc68",
   "metadata": {},
   "outputs": [],
   "source": [
    "# define graph\n",
    "graph = StateGraph(BMIState)\n",
    "\n",
    "# define nodes for the graph\n",
    "graph.add_node('calculate_bmi', calculate_bmi)\n",
    "graph.add_node('categorize_bmi', categorize_bmi)\n",
    "\n",
    "# add edges to the graph\n",
    "graph.add_edge(START, 'calculate_bmi')\n",
    "graph.add_edge('calculate_bmi', 'categorize_bmi')\n",
    "graph.add_edge('categorize_bmi', END)\n",
    "\n",
    "# compile the graph\n",
    "workflow = graph.compile()"
   ]
  },
  {
   "cell_type": "code",
   "execution_count": 24,
   "id": "f4149d23",
   "metadata": {},
   "outputs": [
    {
     "name": "stdout",
     "output_type": "stream",
     "text": [
      "{'weight': 72, 'height': 1.75, 'bmi': 23.51, 'category': 'Normal weight'}\n"
     ]
    }
   ],
   "source": [
    "# execute the workflow\n",
    "initial_state = {'weight': 72, 'height': 1.75}\n",
    "\n",
    "final_state = workflow.invoke(initial_state)\n",
    "\n",
    "print(final_state)"
   ]
  },
  {
   "cell_type": "markdown",
   "id": "a343eb05",
   "metadata": {},
   "source": [
    "- **View Your Graph Visually**"
   ]
  },
  {
   "cell_type": "code",
   "execution_count": 25,
   "id": "d3f75ed2",
   "metadata": {},
   "outputs": [
    {
     "data": {
      "image/png": "[encoded data removed]",
      "text/plain": [
       "<IPython.core.display.Image object>"
      ]
     },
     "execution_count": 25,
     "metadata": {},
     "output_type": "execute_result"
    }
   ],
   "source": [
    "from IPython.display import Image\n",
    "Image(workflow.get_graph().draw_mermaid_png())"
   ]
  },
  {
   "cell_type": "code",
   "execution_count": null,
   "id": "59ea0771",
   "metadata": {},
   "outputs": [],
   "source": []
  }
 ],
 "metadata": {
  "kernelspec": {
   "display_name": ".myenv",
   "language": "python",
   "name": "python3"
  },
  "language_info": {
   "codemirror_mode": {
    "name": "ipython",
    "version": 3
   },
   "file_extension": ".py",
   "mimetype": "text/x-python",
   "name": "python",
   "nbconvert_exporter": "python",
   "pygments_lexer": "ipython3",
   "version": "3.12.7"
  }
 },
 "nbformat": 4,
 "nbformat_minor": 5
}
