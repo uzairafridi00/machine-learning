{
 "cells": [
  {
   "cell_type": "markdown",
   "metadata": {},
   "source": [
    "# **Evaluation Metrics**\n",
    "\n",
    "Evaluation metrics are important in machine learning because they allow us to measure the performance of a model, and compare the performance of different models. By using evaluation metrics, we can determine which model is the best for a given task, and how to improve the performance of the model.\n",
    "\n",
    "We have three problems to solve:\n",
    "\n",
    "1. Classification\n",
    "   - Supervised Learning.\n",
    "   - Output is categorical quantity.\n",
    "   - Main aim is to compute the category of data.\n",
    "   - Classify email as spam or non-spam.\n",
    "   - Logistic Regression \n",
    "\n",
    "2. Regression\n",
    "   - Supervised Learning.\n",
    "   - Output is continous quantity.\n",
    "   - Main aim is to forecast or predict.\n",
    "   - Predict stock market.\n",
    "   - Linear Regression \n",
    "\n",
    "3. Clustering\n",
    "   - Unsupervised Learning.\n",
    "   - Assigns data points into clusters.\n",
    "   - Main aim is to group similar items clusters.\n",
    "   - Find all transactions which are fraudulent in nature.\n",
    "   - K-Means "
   ]
  },
  {
   "cell_type": "markdown",
   "metadata": {},
   "source": [
    "____"
   ]
  },
  {
   "cell_type": "markdown",
   "metadata": {},
   "source": [
    "## **Regression Metrics**\n",
    "\n",
    "1. **Mean Absolute Error (MAE)**\n",
    "   - MAE measures the **average magnitude** of the errors in a set of prediction, without considering their directions.\n",
    "   - `Interpretation`\n",
    "     - Lower values are better. A value of 0 indicates no error.\n",
    "\n",
    "`MAE = (1/n) * Σ(|y_i - ŷ_i|)`\n",
    "\n",
    "\n",
    "2. **Mean Squared Error (MSE)**\n",
    "   - MSE measures the average of the square of the errors - that is the average squared difference between the estimated values and the actual value.\n",
    "   - `Interpretation`\n",
    "     - Like MAE, lower values are better. MSE is more sensitive to outliers than MAE.\n",
    "     - Outliers skewed the MEAN that's why it is sensitive to outliers.\n",
    "\n",
    "`MSE = (1/n) * Σ((y_i - ŷ_i)^2)`\n",
    "\n",
    "\n",
    "3. **Root Mean Squared Error (RMSE)**\n",
    "   - RMSE is the square root of the mean of the squared errors. It's a way to quantify the size of the error made by the model.\n",
    "     - `Interpretation`\n",
    "       - Lower values indicate better fit. RMSE is more sensitive to outliers than MAE and often used when large errors are particularly undersirable.\n",
    "\n",
    "`RMSE = sqrt(MSE)`\n",
    "\n",
    "\n",
    "4. **R-Squared (Co-efficient of Determination)**\n",
    "   - R-squared represents the proportion of the variance for the dependent variable that's explained by the independent variables in regression model.\n",
    "   - `Interpretation`\n",
    "     - Values ranges from 0 to 1. A higher R-squared indicates a better fit between the model and the data.\n",
    "\n",
    "```\n",
    "\n",
    "R² = 1 - (SS_res / SS_tot)\n",
    "\n",
    "where:\n",
    "\n",
    "R² is the R-Squared value\n",
    "SS_res is the sum of squared residuals\n",
    "SS_tot is the total sum of squares\n",
    "1 is the constant value 1.\n",
    "\n",
    "``` "
   ]
  },
  {
   "cell_type": "markdown",
   "metadata": {},
   "source": [
    "5. **Adjusted R-Squared**\n",
    "   - Modified version of R-squared that has been adjusted for the number of predictors in the model.\n",
    "   - `Interpretation`\n",
    "     - Compares the explanatory power of regression models that contain different numbers of predictors."
   ]
  },
  {
   "cell_type": "markdown",
   "metadata": {},
   "source": [
    "## **Choosing the Right Metric**\n",
    "\n",
    "1. Depends on specific requirements of your analysis and nature of the data.\n",
    "2. If you are more concerned about outliers, MSE or RMSE might be more appropriate.\n",
    "3. R-squared and Adjusted R-squared are useful for understanding the proportion of variance explained by the model, but they don't necessarily imply that the model is accurate."
   ]
  },
  {
   "cell_type": "markdown",
   "metadata": {},
   "source": [
    "____"
   ]
  },
  {
   "cell_type": "markdown",
   "metadata": {},
   "source": [
    "## **Classification Metrics**\n",
    "\n",
    "1. "
   ]
  },
  {
   "cell_type": "markdown",
   "metadata": {},
   "source": [
    "![Confusion Matrix](./images/confusion_matrix.png)\n",
    "\n",
    "![Confusion Matrix](./images/classification_metrics.png)\n",
    "\n",
    "![Confusion Matrix](./images/classification_metrics_2.png)"
   ]
  },
  {
   "cell_type": "markdown",
   "metadata": {},
   "source": [
    "![Example](./images/classification_metrics_example.png)"
   ]
  },
  {
   "cell_type": "code",
   "execution_count": null,
   "metadata": {},
   "outputs": [],
   "source": []
  }
 ],
 "metadata": {
  "kernelspec": {
   "display_name": "python_ml",
   "language": "python",
   "name": "python3"
  },
  "language_info": {
   "codemirror_mode": {
    "name": "ipython",
    "version": 3
   },
   "file_extension": ".py",
   "mimetype": "text/x-python",
   "name": "python",
   "nbconvert_exporter": "python",
   "pygments_lexer": "ipython3",
   "version": "3.12.3"
  }
 },
 "nbformat": 4,
 "nbformat_minor": 2
}
