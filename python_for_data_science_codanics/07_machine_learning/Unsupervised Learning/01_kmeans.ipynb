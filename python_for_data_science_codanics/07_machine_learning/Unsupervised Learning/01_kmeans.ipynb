{
 "cells": [
  {
   "cell_type": "markdown",
   "metadata": {},
   "source": [
    "## **K-Means Clustering**\n",
    "\n",
    "1. `K` represents a number and `Means` repreent average.\n",
    "2. This is a kind of unsupervised machine learning. We have only features (X) here.\n",
    "3. Classify data points into groups based on their similarities.\n",
    "4. `K` shows the number of clusters to be created.\n",
    "   1. `But how many clusters (K) should we have?`\n",
    "5. `Means` is a data point of cluster average.\n",
    "   1. `Centroid` is just like gravity which divides the cluster.\n",
    "   2. Centroid, Inertia and Distance plays a key role.\n",
    "\n",
    "`Inertia` measures how well a dataset was clustered by K-Means. It is calculated by measuring the `distance` between each data point and its `centroid`, squaring this distance, and summing these squares across one cluster. A good model is one with low inertia AND a low number of clusters ( K ).\n",
    "\n",
    "`Inertia` is the sum of the squared distances between each data point and its closest cluster center.\n",
    "\n",
    "#### **Centroid:**\n",
    "\n",
    "1. Depends on user input (K). How much centroid will be made?\n",
    "2. Data points are together to make teams.\n",
    "3. Which form a cluster.\n",
    "\n",
    "\n",
    "`The most important thing is to choose correct K value and iterations`"
   ]
  },
  {
   "cell_type": "markdown",
   "metadata": {},
   "source": [
    "#### **K-Means works in 4 Steps**\n",
    "\n",
    "1. Initilization\n",
    "    - randomly initializa K number centriods.\n",
    "2. Assignment\n",
    "    - the data points near to centroids count in that cluster.\n",
    "3. Update\n",
    "    - the position of each centroid is recalculated (means).\n",
    "4. Iteration\n",
    "    - Step 2 and 3 is repeated again and again. Until the centroid is not moved significantly."
   ]
  },
  {
   "cell_type": "markdown",
   "metadata": {},
   "source": [
    "### Two Methods To Choose K\n",
    "\n",
    "1. Elbow Method\n",
    "2. Silhouette Method\n",
    "\n",
    "### Selecting Iteration\n",
    "\n",
    "1. Run algorithm based on centroid value.\n",
    "2. We make graph against number of iteration."
   ]
  },
  {
   "cell_type": "markdown",
   "metadata": {},
   "source": [
    "### **Evaluation of K-Means Clustering**\n",
    "\n",
    "1. `WCSS (Within Cluster Sum of Squares)` is inertia -> Inertia (distance of data points to the closest point of centroid).\n",
    "    - If inertia is low (tight) then it means that cluster is best.\n",
    "2. `Silhouette Score` -> is a measure of how similar an object is to its own cluster's data point.\n",
    "    - If Silhouette score is +1 then it well match to its cluster.\n",
    "    - If its near to 0 then it thinks that I don't have cluster. With Every cluster it matches.\n",
    "    - If its -1 then it doesn't match to this cluster and matches to other cluster."
   ]
  },
  {
   "cell_type": "markdown",
   "metadata": {},
   "source": [
    "#### **Limitations of K-Means Cluster**\n",
    "\n",
    "1. Fast, Efficient and Simple (Benefits).\n",
    "2. Hard to find number of clusters.\n",
    "3. Sensitive to initial centroid.\n",
    "4. Multiple Runs.\n",
    "5. Sperical Assumptions.\n",
    "6. No outliers in data.\n",
    "7. Require scaled data.\n",
    "8. Not good for binary data.\n",
    "9. Computationally Expensive.\n",
    "\n",
    "`Global Optimia` In optimization problems, a global optima (plural: global optima) refers to the best possible solution across the entire solution space. It can be either a global minimum or a global maximum depending on whether the objective is to minimize or maximize a function."
   ]
  },
  {
   "cell_type": "markdown",
   "metadata": {},
   "source": [
    "## **K-Means ++**\n",
    "\n",
    "K-means++ is a smart centroid initialization method for the K-mean algorithm. The goal is to spread out the initial centroid by assigning the first centroid randomly then selecting the rest of the centroids based on the maximum squared distance. The idea is to push the centroids as far as possible from one another."
   ]
  },
  {
   "cell_type": "markdown",
   "metadata": {},
   "source": [
    "15:00"
   ]
  }
 ],
 "metadata": {
  "language_info": {
   "name": "python"
  }
 },
 "nbformat": 4,
 "nbformat_minor": 2
}
