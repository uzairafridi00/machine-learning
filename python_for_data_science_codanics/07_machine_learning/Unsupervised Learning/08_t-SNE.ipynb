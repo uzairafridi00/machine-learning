{
 "cells": [
  {
   "cell_type": "markdown",
   "metadata": {},
   "source": [
    "# **t-SNE (t Distributed Stochastic Neighbour Embedding)**\n",
    "\n",
    "It is a statistical algorithm that visualizes high-dimensional data by reducing it to a lower-dimensional space.\n",
    "\n",
    "## How it works\n",
    "\n",
    "t-SNE embeds high-dimensional data points into a low-dimensional space, usually two or three dimensions, while preserving similarities between points. Nearby points in the high-dimensional space are embedded as nearby points in the low-dimensional space, and distant points are embedded as distant points.\n",
    "\n",
    "## Why it's useful\n",
    "\n",
    "t-SNE is useful for visualizing complex datasets, such as those in machine learning and data science. It helps users understand the underlying patterns and relationships in the data. \n",
    "\n",
    "\n",
    "`Perplexity` is a measure derived from the conditional probabilities used in t-SNE. Mathematically, it is related to the effective number of neighbors."
   ]
  },
  {
   "cell_type": "markdown",
   "metadata": {},
   "source": []
  }
 ],
 "metadata": {
  "language_info": {
   "name": "python"
  }
 },
 "nbformat": 4,
 "nbformat_minor": 2
}
