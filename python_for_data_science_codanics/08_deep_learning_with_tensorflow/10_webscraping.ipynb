{
 "cells": [
  {
   "cell_type": "markdown",
   "metadata": {},
   "source": [
    "### **Webscraping Websites**"
   ]
  },
  {
   "cell_type": "code",
   "execution_count": 1,
   "metadata": {},
   "outputs": [],
   "source": [
    "# import libraries\n",
    "import requests\n",
    "from bs4 import BeautifulSoup\n",
    "import pandas as pd"
   ]
  },
  {
   "cell_type": "code",
   "execution_count": 2,
   "metadata": {},
   "outputs": [],
   "source": [
    "url = \"https://en.wikipedia.org/wiki/List_of_countries_by_GDP_(nominal)\"\n",
    "response = requests.get(url)\n",
    "soup = BeautifulSoup(response.text, \"html.parser\")"
   ]
  },
  {
   "cell_type": "code",
   "execution_count": 4,
   "metadata": {},
   "outputs": [
    {
     "name": "stdout",
     "output_type": "stream",
     "text": [
      "<title>List of countries by GDP (nominal) - Wikipedia</title>\n",
      "List of countries by GDP (nominal) - Wikipedia\n"
     ]
    }
   ],
   "source": [
    "# get the title tag of the page\n",
    "print(soup.title)\n",
    "print(soup.title.text)"
   ]
  },
  {
   "cell_type": "code",
   "execution_count": null,
   "metadata": {},
   "outputs": [],
   "source": [
    "# # get all the elements of the page\n",
    "# # print the whole HTML\n",
    "# print(soup.prettify())"
   ]
  },
  {
   "cell_type": "code",
   "execution_count": 15,
   "metadata": {},
   "outputs": [
    {
     "name": "stdout",
     "output_type": "stream",
     "text": [
      "7\n"
     ]
    }
   ],
   "source": [
    "# find all the tables in the page\n",
    "tables = soup.find_all(\"table\")\n",
    "print(len(tables))\n",
    "# print(tables[0])\n",
    "\n",
    "# create the dataframe\n",
    "dataframe = [] # empty list\n",
    "\n",
    "for table in tables:\n",
    "    rows = table.find_all(\"tr\")[1:] # skip the first row\n",
    "    data = [] # empty list\n",
    "    for row in rows:\n",
    "        cols = row.find_all(\"td\")\n",
    "        cols = [col.text.strip() for col in cols]\n",
    "        data.append(cols)\n",
    "    df = pd.DataFrame(data)\n",
    "    dataframe.append(df)"
   ]
  },
  {
   "cell_type": "code",
   "execution_count": 29,
   "metadata": {},
   "outputs": [
    {
     "data": {
      "text/html": [
       "<div>\n",
       "<style scoped>\n",
       "    .dataframe tbody tr th:only-of-type {\n",
       "        vertical-align: middle;\n",
       "    }\n",
       "\n",
       "    .dataframe tbody tr th {\n",
       "        vertical-align: top;\n",
       "    }\n",
       "\n",
       "    .dataframe thead th {\n",
       "        text-align: right;\n",
       "    }\n",
       "</style>\n",
       "<table border=\"1\" class=\"dataframe\">\n",
       "  <thead>\n",
       "    <tr style=\"text-align: right;\">\n",
       "      <th></th>\n",
       "      <th>0</th>\n",
       "      <th>1</th>\n",
       "      <th>2</th>\n",
       "      <th>3</th>\n",
       "      <th>4</th>\n",
       "      <th>5</th>\n",
       "      <th>6</th>\n",
       "    </tr>\n",
       "  </thead>\n",
       "  <tbody>\n",
       "    <tr>\n",
       "      <th>0</th>\n",
       "      <td>None</td>\n",
       "      <td>None</td>\n",
       "      <td>None</td>\n",
       "      <td>None</td>\n",
       "      <td>None</td>\n",
       "      <td>None</td>\n",
       "      <td>None</td>\n",
       "    </tr>\n",
       "    <tr>\n",
       "      <th>1</th>\n",
       "      <td>World</td>\n",
       "      <td>115,494,312</td>\n",
       "      <td>2025</td>\n",
       "      <td>105,435,540</td>\n",
       "      <td>2023</td>\n",
       "      <td>100,834,796</td>\n",
       "      <td>2022</td>\n",
       "    </tr>\n",
       "    <tr>\n",
       "      <th>2</th>\n",
       "      <td>United States</td>\n",
       "      <td>30,337,162</td>\n",
       "      <td>2025</td>\n",
       "      <td>27,360,935</td>\n",
       "      <td>2023</td>\n",
       "      <td>25,744,100</td>\n",
       "      <td>2022</td>\n",
       "    </tr>\n",
       "    <tr>\n",
       "      <th>3</th>\n",
       "      <td>China</td>\n",
       "      <td>19,534,894</td>\n",
       "      <td>[n 1]2025</td>\n",
       "      <td>17,794,782</td>\n",
       "      <td>[n 3]2023</td>\n",
       "      <td>17,963,170</td>\n",
       "      <td>[n 1]2022</td>\n",
       "    </tr>\n",
       "    <tr>\n",
       "      <th>4</th>\n",
       "      <td>Germany</td>\n",
       "      <td>4,921,563</td>\n",
       "      <td>2025</td>\n",
       "      <td>4,456,081</td>\n",
       "      <td>2023</td>\n",
       "      <td>4,076,923</td>\n",
       "      <td>2022</td>\n",
       "    </tr>\n",
       "  </tbody>\n",
       "</table>\n",
       "</div>"
      ],
      "text/plain": [
       "               0            1          2            3          4            5  \\\n",
       "0           None         None       None         None       None         None   \n",
       "1          World  115,494,312       2025  105,435,540       2023  100,834,796   \n",
       "2  United States   30,337,162       2025   27,360,935       2023   25,744,100   \n",
       "3          China   19,534,894  [n 1]2025   17,794,782  [n 3]2023   17,963,170   \n",
       "4        Germany    4,921,563       2025    4,456,081       2023    4,076,923   \n",
       "\n",
       "           6  \n",
       "0       None  \n",
       "1       2022  \n",
       "2       2022  \n",
       "3  [n 1]2022  \n",
       "4       2022  "
      ]
     },
     "execution_count": 29,
     "metadata": {},
     "output_type": "execute_result"
    }
   ],
   "source": [
    "# all the tables data are stored in dataframe\n",
    "dataframe[2].head()"
   ]
  },
  {
   "cell_type": "code",
   "execution_count": 31,
   "metadata": {},
   "outputs": [],
   "source": [
    "# you can save the dataframe to a csv file\n",
    "dataframe[2].to_csv(\"data/gdp.csv\", index=False, header=False)"
   ]
  },
  {
   "cell_type": "markdown",
   "metadata": {},
   "source": [
    "- Geeks for Geeks Website\n",
    "- If you have 1000 urls and you want to analyze the text of all the websites. You can do this with the help of `NLP` that is `LLM`."
   ]
  },
  {
   "cell_type": "code",
   "execution_count": 34,
   "metadata": {},
   "outputs": [
    {
     "name": "stdout",
     "output_type": "stream",
     "text": [
      "<title>GeeksforGeeks | A computer science portal for geeks</title>\n",
      "GeeksforGeeks | A computer science portal for geeks\n"
     ]
    }
   ],
   "source": [
    "url = \"https://www.geeksforgeeks.org/\"\n",
    "response = requests.get(url)\n",
    "soup = BeautifulSoup(response.text, \"html.parser\")\n",
    "\n",
    "print(soup.title)\n",
    "print(soup.title.text)"
   ]
  },
  {
   "cell_type": "code",
   "execution_count": 37,
   "metadata": {},
   "outputs": [
    {
     "name": "stdout",
     "output_type": "stream",
     "text": [
      "GeeksforGeeks | A computer science portal for geeksCoursesTutorialsDSAData ScienceWeb TechData StructureJavaPythonHTMLInterview PreparationTrending NowData StructuresAlgorithmsSystem DesignFoundational CoursesData SciencePractice ProblemPythonMachine LearningData Science Using PythonDjangoDevOpsJavaScriptJavaC C++ReactJSNodeJSWeb DevelopmentWeb DesignWeb BrowserCP LiveAptitudePuzzlesProjectsDSADesign PatternsSoftware DevelopmentSEOProduct ManagementSAPProgrammingHello, What Do You Want To Learn?Master DS & MLCourses @90% RefundFull Stack Live ClassesExploreData Structure and AlgorithmsView morePractice DSAView moreAI ML & Data ScienceView moreWeb DevelopmentView morePythonView moreMachine LearningView moreSystem DesignView moreDevOpsView moreInterested in advertising with us?Get in touchCoursesView All4.4DSA to Development: A Complete GuideBeginner to Advance478k+ interested GeeksExplore now4.7JAVA Backend Development - LiveIntermediate and Advance275k+ interested GeeksExplore now4.9Tech Interview 101 - From DSA to System Design for Working ProfessionalsBeginner to Advance319k+ interested GeeksExplore now4.7Full Stack Development with React & Node JS - LiveBeginner to Advance322k+ interested GeeksExplore now4.6Java Programming Online Course [Complete Beginner to Advanced]Beginner to Advance265k+ interested GeeksExplore now4.7C++ Programming Course Online - Complete Beginner to AdvancedBeginner to Advance219k+ interested GeeksExplore nowDSAView AllAnalysis of AlgorithmsArrayLinked ListSearching AlgorithmsStackSorting AlgorithmsQueueGraphAI ML & Data ScienceView AllMachine LearningData ScienceData AnalysisData VisualizationDeep LearningNatural Language ProcessingComputer VisionArtificial IntelligenceWeb DevelopmentView AllJavaScriptHTMLCSSReactJSNode.jsDjangoFrontend DevelopmentBackend DevelopmentLanguagesView AllPythonJavaC++CPHPRFlutterGolangCS Subjects View AllOperating SystemComputer NetworkDBMSEngineering MathematicsSoftware EngineeringDigital ElectronicsCompiler DesignComputer Organisation and ArchitectureDatabasesView AllSQLMYSQLMongoDBPostgreSQLPL/SQLSQL CheatsheetSQL Interview QuestionsMYSQL Interview QuestionsDevOpsView AllGIT Amazon Web ServicesKubernetesDockerMicrosoft AzureGoogle Cloud PlatformDevOps RoadmapDevOps Interview QuestionsTutorialsView AllSystem Design AndroidLinuxDesign PatternSoftware TestingProduct ManagementProject ManagementExcelFree CoursesDSA Roadmap Beg to AdvDynamic ProgrammingSystem Design Interview GuideDjango with TailwindDjango with ReactJSSQL Complete CourseR ProgrammingExpress.jsGfG School View AllMathsPhysicsChemistryBiologyCommerceSocial ScienceEnglishSchool ProgrammingMust ExploreTrending NowWatch VideosGfG Coding ContestAdvertise with UsCorporate & Communications Address:A-143, 7th Floor, Sovereign Corporate Tower, Sector- 136, Noida, Uttar Pradesh (201305)Registered Address:K 061, Tower K, Gulshan Vivante Apartment, Sector 137, Noida, Gautam Buddh Nagar, Uttar Pradesh, 201305Advertise with usCompanyAbout UsLegalPrivacy PolicyIn MediaContact UsAdvertise with usGFG Corporate SolutionPlacement Training ProgramGeeksforGeeks CommunityLanguagesPythonJavaC++PHPGoLangSQLR LanguageAndroid TutorialTutorials ArchiveDSAData StructuresAlgorithmsDSA for BeginnersBasic DSA ProblemsDSA RoadmapTop 100 DSA Interview ProblemsDSA Roadmap by Sandeep JainAll Cheat SheetsData Science & MLData Science With PythonData Science For BeginnerMachine LearningML MathsData VisualisationPandasNumPyNLPDeep LearningWeb TechnologiesHTMLCSSJavaScriptTypeScriptReactJSNextJSBootstrapWeb DesignPython TutorialPython Programming ExamplesPython ProjectsPython TkinterWeb ScrapingOpenCV TutorialPython Interview QuestionDjangoComputer ScienceOperating SystemsComputer NetworkDatabase Management SystemSoftware EngineeringDigital Logic DesignEngineering MathsSoftware DevelopmentSoftware TestingDevOpsGitLinuxAWSDockerKubernetesAzureGCPDevOps RoadmapSystem DesignHigh Level DesignLow Level DesignUML DiagramsInterview GuideDesign PatternsOOADSystem Design BootcampInterview QuestionsInteview PreparationCompetitive ProgrammingTop DS or Algo for CPCompany-Wise Recruitment ProcessCompany-Wise PreparationAptitude PreparationPuzzlesSchool SubjectsMathematicsPhysicsChemistryBiologySocial ScienceEnglish GrammarCommerceWorld GKGeeksforGeeks VideosDSAPythonJavaC++Web DevelopmentData ScienceCS Subjects@GeeksforGeeks, Sanchhaya Education Private Limited, All rights reserved\n"
     ]
    }
   ],
   "source": [
    "print(soup.text)\n",
    "# print(soup.prettify())"
   ]
  },
  {
   "cell_type": "code",
   "execution_count": 40,
   "metadata": {},
   "outputs": [],
   "source": [
    "# Import Libraries\n",
    "import requests\n",
    "from bs4 import BeautifulSoup\n",
    "\n",
    "# Send a GET request to the Wikipedia page\n",
    "req = requests.get(\"https://en.wikipedia.org/wiki/List_of_countries_and_dependencies_by_population\")\n",
    "\n",
    "# Parse the HTML content using BeautifulSoup\n",
    "soup = BeautifulSoup(req.content, 'html.parser')\n",
    "\n",
    "# Find the table with population data\n",
    "table = soup.find('table', {'class': 'wikitable sortable'})\n",
    "\n",
    "# Find all the rows in the table\n",
    "rows = table.find_all('tr')\n",
    "\n",
    "# Loop through each row and extract the data\n",
    "for row in rows:\n",
    "    # Find all the cells in the row\n",
    "    cells = row.find_all('td')\n",
    "    \n",
    "    # Extract the data from the cells\n",
    "    if len(cells) > 1:\n",
    "        rank = cells[0].text.strip()\n",
    "        country = cells[1].text.strip()\n",
    "        population = cells[2].text.strip()\n",
    "        \n",
    "        # Print the data\n",
    "        print(f'{rank}\\t{country}\\t{population}')"
   ]
  },
  {
   "cell_type": "code",
   "execution_count": null,
   "metadata": {},
   "outputs": [],
   "source": []
  }
 ],
 "metadata": {
  "kernelspec": {
   "display_name": "webscrapping",
   "language": "python",
   "name": "python3"
  },
  "language_info": {
   "codemirror_mode": {
    "name": "ipython",
    "version": 3
   },
   "file_extension": ".py",
   "mimetype": "text/x-python",
   "name": "python",
   "nbconvert_exporter": "python",
   "pygments_lexer": "ipython3",
   "version": "3.13.1"
  }
 },
 "nbformat": 4,
 "nbformat_minor": 2
}
