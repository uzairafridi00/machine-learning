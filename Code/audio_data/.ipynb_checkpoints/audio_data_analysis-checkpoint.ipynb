{
 "cells": [
  {
   "cell_type": "code",
   "execution_count": null,
   "id": "af418171",
   "metadata": {},
   "outputs": [],
   "source": [
    "pip install librosa"
   ]
  },
  {
   "cell_type": "code",
   "execution_count": null,
   "id": "3702258c",
   "metadata": {},
   "outputs": [],
   "source": [
    "import numpy as np\n",
    "import librosa\n",
    "from sklearn.model_selection import train_test_split\n",
    "from sklearn.ensemble import RandomForestClassifier\n",
    "from sklearn.metrics import accuracy_score\n",
    "import os\n",
    "\n",
    "# Set the path to the directory containing audio files for training\n",
    "train_dir = 'assets/Animals/bird/'\n",
    "\n",
    "# Set the categories or labels for spoken words\n",
    "categories = ['cat', 'dog', 'bird']\n",
    "\n",
    "# Initialize empty lists for features and labels\n",
    "X = []\n",
    "y = []\n",
    "\n",
    "# Iterate through the audio files in the training directory\n",
    "for file_name in os.listdir(train_dir):\n",
    "    if file_name.endswith('.wav'):\n",
    "        # Load the audio file\n",
    "        audio_file = os.path.join(train_dir, file_name)\n",
    "        audio_data, sampling_rate = librosa.load(audio_file)\n",
    "        \n",
    "        # Preprocessing Steps\n",
    "        # Step 1: Resampling\n",
    "        target_sampling_rate = 22050  # Example target sampling rate\n",
    "        resampled_data = librosa.resample(audio_data, orig_sr=sampling_rate, target_sr=target_sampling_rate)\n",
    "\n",
    "        # Step 2: Normalization\n",
    "        normalized_data = librosa.util.normalize(resampled_data)\n",
    "\n",
    "        # Step 3: Feature Extraction (MFCCs)\n",
    "        mfccs = librosa.feature.mfcc(normalized_data, sr=target_sampling_rate)\n",
    "\n",
    "        # Flatten the feature matrix and append it to the feature list\n",
    "        flattened_mfccs = mfccs.flatten()\n",
    "        X.append(flattened_mfccs)\n",
    "        \n",
    "        # Get the label from the file name and append it to the label list\n",
    "        label = file_name.split('_')[0]  # Assuming the label is the first part before '_'\n",
    "        y.append(label)\n",
    "\n",
    "# Convert the feature and label lists to numpy arrays\n",
    "X = np.array(X)\n",
    "y = np.array(y)\n",
    "\n",
    "# Split the data into training and testing sets\n",
    "X_train, X_test, y_train, y_test = train_test_split(X, y, test_size=0.2, random_state=42)\n",
    "\n",
    "# Initialize the Random Forest classifier\n",
    "classifier = RandomForestClassifier(n_estimators=100, random_state=42)\n",
    "\n",
    "# Train the classifier\n",
    "classifier.fit(X_train, y_train)\n",
    "\n",
    "# Predict the labels for the test set\n",
    "y_pred = classifier.predict(X_test)\n",
    "\n",
    "# Calculate the accuracy of the classifier\n",
    "accuracy = accuracy_score(y_test, y_pred)\n",
    "print('Accuracy:', accuracy)\n"
   ]
  },
  {
   "cell_type": "code",
   "execution_count": null,
   "id": "f12105fe",
   "metadata": {},
   "outputs": [],
   "source": []
  }
 ],
 "metadata": {
  "kernelspec": {
   "display_name": "Python 3 (ipykernel)",
   "language": "python",
   "name": "python3"
  },
  "language_info": {
   "codemirror_mode": {
    "name": "ipython",
    "version": 3
   },
   "file_extension": ".py",
   "mimetype": "text/x-python",
   "name": "python",
   "nbconvert_exporter": "python",
   "pygments_lexer": "ipython3",
   "version": "3.9.13"
  }
 },
 "nbformat": 4,
 "nbformat_minor": 5
}
