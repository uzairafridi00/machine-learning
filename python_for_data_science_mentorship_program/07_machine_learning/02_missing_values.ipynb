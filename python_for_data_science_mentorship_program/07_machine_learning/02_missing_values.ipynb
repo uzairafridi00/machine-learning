{
 "cells": [
  {
   "cell_type": "markdown",
   "metadata": {},
   "source": [
    "# Dealing with Missing Values\n",
    "\n",
    "We can't ignore missing values in our data. We need to handle it either to remove them or impute them.\n",
    "\n",
    "Missing values different names:\n",
    "\n",
    "1. NA\n",
    "2. NaN\n",
    "3. Null\n",
    "4. Undefined\n",
    "5. Blank or Empty\n",
    "6. Placeholder Values\n",
    "7. Sentinel Values\n",
    "8. Dummy Data\n",
    "9. Missing Data"
   ]
  },
  {
   "cell_type": "markdown",
   "metadata": {},
   "source": [
    "## Handling Missing Values\n",
    "\n",
    "1. If possible get data again from available data source.\n",
    "   - It is the best way to impute missing data from available resources.\n",
    "2. Impute data with Mean, Median and Mode.\n",
    "3. Use Forward or Backward fill to impute the missing values.\n",
    "4. Use KNN imputation. It impute the missing values using the patterns.\n",
    "5. Use Deep Learning imputation algorithm (Iterative Imputer).\n",
    "6. OR you can simply delete missing values. Delete them if a column has more than 70% of missing values. Also check it if it is necessary or not before deleting missing values.\n",
    "7. If you don't handle the missing values.\n",
    "   - Less model accuracy.\n",
    "   - Wrong analysis.\n",
    "   - Model gets confuse.\n",
    "   - Bias in model.\n",
    "   - Wrong interpretation of data.\n",
    "   - Storage issues.\n",
    "   - Problem in data integration.\n",
    "   - Wrong experimental results.\n",
    "   - You will get stress and will do all the work again.   "
   ]
  },
  {
   "cell_type": "code",
   "execution_count": null,
   "metadata": {},
   "outputs": [],
   "source": []
  }
 ],
 "metadata": {
  "kernelspec": {
   "display_name": "python_ml",
   "language": "python",
   "name": "python3"
  },
  "language_info": {
   "name": "python",
   "version": "3.12.3"
  }
 },
 "nbformat": 4,
 "nbformat_minor": 2
}
