{
 "cells": [
  {
   "cell_type": "markdown",
   "metadata": {},
   "source": [
    "# Support vector Machines\n",
    "\n",
    "Support Vector Machines (SVM) is a `supervised` machine learning algorithm which can be used for both `classification` or `regression` challenges. It can also used for `Outlier detection`.\n",
    "\n",
    "- For Classification SCV\n",
    "- For Regression SVR\n",
    "\n",
    "However, it is mostly used in classification problems. It works on both linear and non-linear data.\n",
    "\n",
    "In this algorithm, we plot each data item as a point in n-dimensional space (where n is number of features you have) with the value of each feature being the value of a particular coordinate. Then, we perform classification by finding the hyper-plane that differentiate the two classes very well."
   ]
  },
  {
   "cell_type": "markdown",
   "metadata": {},
   "source": [
    "### Types of SVM kernels:\n",
    "\n",
    "1. Linear Kernel\n",
    "2. Polynomial Kernel\n",
    "3. Radial Basis Function Kernel (RBF)"
   ]
  },
  {
   "cell_type": "markdown",
   "metadata": {},
   "source": [
    "### **NOTE**\n",
    "\n",
    "In the support vector machine, every line shows the degree of data points and three types of kernel functions that can be used to separate the data points through hyperplane boundaries. (1) Linear Kernel (2) RBF-Radial Basis Function Kernel (3) Polynomial Kernel"
   ]
  },
  {
   "cell_type": "markdown",
   "metadata": {},
   "source": [
    "![SVM](./images/support_vector_machines.png)\n",
    "\n",
    "![SVC](./images/support_vector_classifier.png)"
   ]
  },
  {
   "cell_type": "markdown",
   "metadata": {},
   "source": [
    "### Applications of SVM\n",
    "\n",
    "1. Image Classification\n",
    "2. Classification of text\n",
    "3. Protein Classification\n",
    "4. Handwriting Distinguishing"
   ]
  },
  {
   "cell_type": "code",
   "execution_count": null,
   "metadata": {},
   "outputs": [],
   "source": []
  }
 ],
 "metadata": {
  "kernelspec": {
   "display_name": "python_ml",
   "language": "python",
   "name": "python3"
  },
  "language_info": {
   "name": "python",
   "version": "3.12.3"
  }
 },
 "nbformat": 4,
 "nbformat_minor": 2
}
