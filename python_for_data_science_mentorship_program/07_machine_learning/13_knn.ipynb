{
 "cells": [
  {
   "cell_type": "markdown",
   "metadata": {},
   "source": [
    "# K-nearest Neighbour (KNN)\n",
    "\n",
    "KNN is a `supervised machine learning` algorithm that can be used to solve both `classification` and `regression` problems.\n",
    "\n",
    "It is a `non-parametric`, lazy learning algorithm. `Non-parametric means that it does not make any assumptions on the underlying data distribution`. `Lazy` learning means that it does not require any training data points for model generation. All training data used in the testing phase. This makes training faster and testing phase slower and costlier.\n",
    "\n",
    "KNN algorithm at the training phase just stores the dataset and when it gets new data, then it classifies that data into a category that is much similar to the new data."
   ]
  },
  {
   "cell_type": "markdown",
   "metadata": {},
   "source": [
    "The `idea` behind KNN is to find the `K nearest neighbors` to a given data point and then use their labels or values to make a prediction.\n",
    "\n",
    "In KNN, the label of the K nearest neighbors is used to determine the class of the data point. For example, if K=5 and the 5 nearest neighbors to a data point all belong to class A, then the data point is also classified as class A.\n",
    "\n",
    "KNN can also be `slow` for `large datasets`, as it requires computing the `distance` between every data point and the query point."
   ]
  },
  {
   "cell_type": "markdown",
   "metadata": {},
   "source": [
    "## Merits & Demerits\n",
    "\n",
    "1. Simple\n",
    "2. Training Phase not needed\n",
    "3. Versatile (Euclidean, Manhattan, Minkowski, Hamming distances)\n",
    "\n",
    "- Requires more computation power on large datasets.\n",
    "- Sensitive to imbalance data (bias data).\n",
    "- Sensitive to irrelevant features\n",
    "\n",
    "\n",
    "## Applications\n",
    "\n",
    "1. Recommendation System\n",
    "2. Financial Services\n",
    "3. Banking System (Fraud Detection)\n",
    "4. Healthcare Systems"
   ]
  },
  {
   "cell_type": "markdown",
   "metadata": {},
   "source": [
    "![KNN](./images/knn.png)\n",
    "\n",
    "![KNN Distances](./images/knn_distances.png)"
   ]
  },
  {
   "cell_type": "markdown",
   "metadata": {},
   "source": [
    "____"
   ]
  },
  {
   "cell_type": "markdown",
   "metadata": {},
   "source": [
    "## Euclidean / Pythagorean Distance\n",
    "\n",
    "Euclidean distance is a measure of the distance between two points in a Euclidean space, and is often used in machine learning algorithms such as KNN to find the nearest neighbors to a given data point.\n",
    "\n",
    "The Euclidean distance between two points `x` and `y` in an `n-dimensional space` is defined as:\n",
    "\n",
    "`d(x, y) = sqrt(sum((x_i - y_i)^2))`\n",
    "\n",
    "where `x_i` and `y_i` are the ith components of the vectors x and y, respectively.\n",
    "\n",
    "For example, if x = [1, 2, 3] and y = [4, 5, 6], then the Euclidean distance between x and y is:"
   ]
  },
  {
   "cell_type": "markdown",
   "metadata": {},
   "source": [
    "## Manhattan Distance\n",
    "\n",
    "The Manhattan distance, also known as the L1 distance, is a measure of the distance between two points in a grid-like or rectangular space. \n",
    "\n",
    "It is called the Manhattan distance because it measures the distance as taxi would have to travel in a city like Manhattan, where the streets are arranged in a grid and the taxi can only move along the streets. Travels in blocks."
   ]
  },
  {
   "cell_type": "markdown",
   "metadata": {},
   "source": [
    "![Difference](./images/euclidean_vs_manhattan.png)"
   ]
  },
  {
   "cell_type": "markdown",
   "metadata": {},
   "source": [
    "## Minkowski Distance\n",
    "\n",
    "The Minkowski distance is a generalization of the Euclidean and Manhattan distances, and is used to measure the distance between two points in a multi-dimensional space.\n",
    "\n",
    "The reason why we use Minkowski distance instead of Euclidean and Manhattan distance is because of its `flexibility`, and sometimes the nature of the data is such that we have to use both because we want to check the comparison."
   ]
  },
  {
   "cell_type": "markdown",
   "metadata": {},
   "source": [
    "![Minkowski Distance](./images/Minkowski_Distance.png)"
   ]
  },
  {
   "cell_type": "code",
   "execution_count": null,
   "metadata": {},
   "outputs": [],
   "source": []
  }
 ],
 "metadata": {
  "kernelspec": {
   "display_name": "python_ml",
   "language": "python",
   "name": "python3"
  },
  "language_info": {
   "name": "python",
   "version": "3.12.3"
  }
 },
 "nbformat": 4,
 "nbformat_minor": 2
}
