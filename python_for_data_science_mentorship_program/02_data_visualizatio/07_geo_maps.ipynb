{
 "cells": [
  {
   "cell_type": "markdown",
   "metadata": {},
   "source": [
    "# GEO Maps in Python"
   ]
  },
  {
   "cell_type": "code",
   "execution_count": null,
   "metadata": {},
   "outputs": [],
   "source": [
    "import plotly.express as px\n",
    "\n",
    "df = px.data.election()\n",
    "\n",
    "geojson = px.data.election_geojson()\n",
    "\n",
    "print(df[\"district\"][2])\n",
    "print(geojson[\"features\"][0][\"properties\"])"
   ]
  },
  {
   "cell_type": "code",
   "execution_count": null,
   "metadata": {},
   "outputs": [],
   "source": [
    "geojson"
   ]
  },
  {
   "cell_type": "code",
   "execution_count": null,
   "metadata": {},
   "outputs": [],
   "source": [
    "df.head()"
   ]
  },
  {
   "cell_type": "code",
   "execution_count": null,
   "metadata": {},
   "outputs": [],
   "source": [
    "fig = px.choropleth_mapbox(df, geojson=geojson, color=\"Coderre\",\n",
    "                           locations=\"district\", featureidkey=\"properties.district\",\n",
    "                           center={\"lat\": 45.5517, \"lon\": -73.7073},\n",
    "                           mapbox_style=\"carto-positron\", zoom=9)\n",
    "fig.update_layout(margin={\"r\":0,\"t\":0,\"l\":0,\"b\":0})\n",
    "fig.show()"
   ]
  },
  {
   "cell_type": "code",
   "execution_count": null,
   "metadata": {},
   "outputs": [],
   "source": [
    "import pandas as pd\n",
    "# Sample population data\n",
    "data = {\n",
    "    'Country': ['China', 'India', 'United States', 'Indonesia', 'Pakistan'],\n",
    "    'Population': [1444216107, 1393409038, 332915073, 276361783, 225199937]\n",
    "}\n",
    "\n",
    "# Create a pandas DataFrame\n",
    "df = pd.DataFrame(data)\n",
    "\n",
    "# Display the DataFrame\n",
    "print(df)"
   ]
  },
  {
   "cell_type": "code",
   "execution_count": null,
   "metadata": {},
   "outputs": [],
   "source": [
    "import plotly.express as px\n",
    "# Create the map visualization\n",
    "fig = px.choropleth(df, locations='Country', locationmode='country names', color = 'Population',\n",
    "                    title='Global Population by Country')\n",
    "# Display the map\n",
    "fig.show()"
   ]
  },
  {
   "cell_type": "markdown",
   "metadata": {},
   "source": [
    "# COVID 19 Map"
   ]
  },
  {
   "cell_type": "code",
   "execution_count": null,
   "metadata": {},
   "outputs": [],
   "source": [
    "# import libraries\n",
    "import pandas as pd\n",
    "import plotly.express as px"
   ]
  },
  {
   "cell_type": "code",
   "execution_count": null,
   "metadata": {},
   "outputs": [],
   "source": [
    "# import the data\n",
    "df = pd.read_csv(\"./data/covid-data.csv\")\n",
    "# set max column print option\n",
    "pd.set_option('display.max_columns', None)"
   ]
  },
  {
   "cell_type": "code",
   "execution_count": null,
   "metadata": {},
   "outputs": [],
   "source": [
    "df.head(2)"
   ]
  },
  {
   "cell_type": "code",
   "execution_count": null,
   "metadata": {},
   "outputs": [],
   "source": [
    "df['total_cases'].value_counts()"
   ]
  },
  {
   "cell_type": "code",
   "execution_count": null,
   "metadata": {},
   "outputs": [],
   "source": [
    "# lets take an average of total case by location using groupby function and create a new df\n",
    "df_total_cases = df.groupby(['location'])['total_cases'].mean().reset_index()\n",
    "df_total_cases"
   ]
  },
  {
   "cell_type": "code",
   "execution_count": null,
   "metadata": {},
   "outputs": [],
   "source": [
    "# Create the map visualization\n",
    "fig = px.choropleth(df_total_cases, locations='location', locationmode='country names', color = 'total_cases',\n",
    "                    title='Total Cases by Country', range_color=[0, 10000000])\n",
    "# Display the map\n",
    "fig.show()"
   ]
  },
  {
   "cell_type": "code",
   "execution_count": null,
   "metadata": {},
   "outputs": [],
   "source": [
    "px.choropleth(df, locations='location', locationmode='country names', color = 'new_cases',\n",
    "                    title='Total Cases by Country', range_color=[0, 10000],\n",
    "                    animation_frame= 'date'\n",
    "                    )"
   ]
  },
  {
   "cell_type": "markdown",
   "metadata": {},
   "source": [
    "Animate this graph using Monthly Data, convert the data into monthly data and then animated the plot, save it as avi and mp4 file or gif"
   ]
  },
  {
   "cell_type": "code",
   "execution_count": null,
   "metadata": {},
   "outputs": [],
   "source": [
    "# group df based on each month in date and take average of new_cases\n",
    "# Convert the 'date' column to datetime format\n",
    "df['date'] = pd.to_datetime(df['date'])\n",
    "\n",
    "# Create a new column 'year_month' to represent the year and month\n",
    "df['year_month'] = df['date'].dt.to_period('M')\n",
    "\n",
    "# Now group by 'year_month' and 'location', and sum the 'new_cases' for each group\n",
    "monthly_cases = df.groupby(['year_month', 'location']).agg({'total_cases': 'sum'}).reset_index()\n",
    "\n",
    "# Convert 'year_month' back to a string format for readability\n",
    "monthly_cases['year_month'] = monthly_cases['year_month'].astype(str)\n",
    "\n",
    "# This will give you a new DataFrame with the sum of new cases for each month and location\n",
    "monthly_cases.head()"
   ]
  },
  {
   "cell_type": "code",
   "execution_count": null,
   "metadata": {},
   "outputs": [],
   "source": [
    "fig = px.choropleth(monthly_cases, locations='location', locationmode='country names', color = 'total_cases',\n",
    "                    title='Total Covid Cases Worldwide (January 2021 -to- April 2023)', \n",
    "                    range_color=[0, monthly_cases['total_cases'].quantile(0.85)],\n",
    "                    animation_frame= 'year_month', color_continuous_scale='viridis',\n",
    "                    labels={'year_month':'Year-Month', 'total_cases':'Total Cases'}\n",
    "                    )\n",
    "# increase the size of the map\n",
    "fig.update_layout(height=600, width=800)"
   ]
  },
  {
   "cell_type": "code",
   "execution_count": null,
   "metadata": {},
   "outputs": [],
   "source": [
    "# saving animated gif\n",
    "import plotly.express as px\n",
    "import pandas as pd\n",
    "import numpy as np\n",
    "import io\n",
    "import PIL\n",
    "fig = px.choropleth(monthly_cases, locations='location', locationmode='country names', color = 'total_cases',\n",
    "                    title='Total Covid Cases Worldwide (January 2021 -to- April 2023)', \n",
    "                    range_color=[0, monthly_cases['total_cases'].quantile(0.85)],\n",
    "                    animation_frame= 'year_month', color_continuous_scale='viridis',\n",
    "                    labels={'year_month':'Year-Month', 'total_cases':'Total Cases'}\n",
    "                    )\n",
    "# increase the size of the map\n",
    "fig.update_layout(height=600, width=800)\n",
    "\n",
    "# generate images for each step in animation\n",
    "frames = []\n",
    "for s, fr in enumerate(fig.frames):\n",
    "    # set main traces to appropriate traces within plotly frame\n",
    "    fig.update(data=fr.data)\n",
    "    # move slider to correct place\n",
    "    fig.layout.sliders[0].update(active=s)\n",
    "    # generate image of current state\n",
    "    frames.append(PIL.Image.open(io.BytesIO(fig.to_image(format=\"png\", scale=3))))\n",
    "    \n",
    "# create animated GIF\n",
    "frames[0].save(\n",
    "        \"./output/total_covid_cases_worldwide.gif\",\n",
    "        save_all=True,\n",
    "        append_images=frames[1:],\n",
    "        optimize=True,\n",
    "        duration=500, # milliseconds per frame\n",
    "        loop=0, # infinite loop\n",
    "        dither=None  # Turn off dithering\n",
    "    )"
   ]
  },
  {
   "cell_type": "code",
   "execution_count": null,
   "metadata": {},
   "outputs": [],
   "source": []
  }
 ],
 "metadata": {
  "kernelspec": {
   "display_name": "python_eda",
   "language": "python",
   "name": "python3"
  },
  "language_info": {
   "codemirror_mode": {
    "name": "ipython",
    "version": 3
   },
   "file_extension": ".py",
   "mimetype": "text/x-python",
   "name": "python",
   "nbconvert_exporter": "python",
   "pygments_lexer": "ipython3",
   "version": "3.12.2"
  }
 },
 "nbformat": 4,
 "nbformat_minor": 2
}
