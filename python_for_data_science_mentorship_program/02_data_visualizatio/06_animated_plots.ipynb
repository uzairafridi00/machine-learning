{
 "cells": [
  {
   "cell_type": "markdown",
   "metadata": {},
   "source": [
    "# Animated Plots\n",
    "\n",
    "We will use plotly to make animated plots"
   ]
  },
  {
   "cell_type": "code",
   "execution_count": null,
   "metadata": {},
   "outputs": [],
   "source": [
    "# import library\n",
    "import plotly.express as px\n",
    "import pandas as pd\n",
    "import numpy as np"
   ]
  },
  {
   "cell_type": "code",
   "execution_count": null,
   "metadata": {},
   "outputs": [],
   "source": [
    "# 2 import Dataset\n",
    "df = px.data.gapminder()\n",
    "\n",
    "# explore the data\n",
    "df.head()"
   ]
  },
  {
   "cell_type": "code",
   "execution_count": null,
   "metadata": {},
   "outputs": [],
   "source": [
    "fig = px.sunburst(df, \n",
    "                  path=['continent','country', 'year'], \n",
    "                  values='pop' , color='continent')\n",
    "\n",
    "# Show the plot\n",
    "fig.show()"
   ]
  },
  {
   "cell_type": "code",
   "execution_count": null,
   "metadata": {},
   "outputs": [],
   "source": [
    "# animated plot\n",
    "px.scatter(df, x= \"gdpPercap\",\n",
    "            y = \"lifeExp\",\n",
    "            size= \"pop\", color= \"continent\",\n",
    "            animation_frame='year', animation_group=\"country\",\n",
    "            log_x=True, size_max=55, range_x=[100,100000], range_y=[5,100])"
   ]
  },
  {
   "cell_type": "markdown",
   "metadata": {},
   "source": [
    "## Save Plot as .gif animation"
   ]
  },
  {
   "cell_type": "code",
   "execution_count": null,
   "metadata": {},
   "outputs": [],
   "source": [
    "import plotly.express as px\n",
    "import pandas as pd\n",
    "import numpy as np\n",
    "import io\n",
    "import PIL\n",
    "\n",
    "\n",
    "fig = px.scatter(df, x= \"gdpPercap\",\n",
    "            y = \"lifeExp\",\n",
    "            size= \"pop\", color= \"continent\",\n",
    "            animation_frame='year', animation_group=\"country\",\n",
    "            log_x=True, size_max=55, range_x=[100,100000], range_y=[5,100])\n",
    "\n",
    "# generate images for each step in animation\n",
    "frames = []\n",
    "for s, fr in enumerate(fig.frames):\n",
    "    # set main traces to appropriate traces within plotly frame\n",
    "    fig.update(data=fr.data)\n",
    "    # move slider to correct place\n",
    "    fig.layout.sliders[0].update(active=s)\n",
    "    # generate image of current state\n",
    "    frames.append(PIL.Image.open(io.BytesIO(fig.to_image(format=\"png\", scale=3))))\n",
    "    \n",
    "# create animated GIF\n",
    "frames[0].save(\n",
    "        \"./output/gapminder.gif\",\n",
    "        save_all=True,\n",
    "        append_images=frames[1:],\n",
    "        optimize=True,\n",
    "        duration=500,\n",
    "        loop=0,\n",
    "        dither=None  # Turn off dithering\n",
    "    )"
   ]
  },
  {
   "cell_type": "code",
   "execution_count": null,
   "metadata": {},
   "outputs": [],
   "source": []
  }
 ],
 "metadata": {
  "kernelspec": {
   "display_name": "python_eda",
   "language": "python",
   "name": "python3"
  },
  "language_info": {
   "codemirror_mode": {
    "name": "ipython",
    "version": 3
   },
   "file_extension": ".py",
   "mimetype": "text/x-python",
   "name": "python",
   "nbconvert_exporter": "python",
   "pygments_lexer": "ipython3",
   "version": "3.12.2"
  }
 },
 "nbformat": 4,
 "nbformat_minor": 2
}
