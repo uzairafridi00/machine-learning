{
 "cells": [
  {
   "cell_type": "markdown",
   "metadata": {},
   "source": [
    "# Data Viz\n",
    "\n",
    "#dataviz #datavisualization"
   ]
  },
  {
   "cell_type": "markdown",
   "metadata": {},
   "source": [
    "- importing libraries"
   ]
  },
  {
   "cell_type": "code",
   "execution_count": 3,
   "metadata": {},
   "outputs": [],
   "source": [
    "import pandas as pd\n",
    "import numpy as np\n",
    "import matplotlib.pyplot as plt\n",
    "import seaborn as sns"
   ]
  },
  {
   "cell_type": "code",
   "execution_count": 4,
   "metadata": {},
   "outputs": [
    {
     "data": {
      "text/html": [
       "<div>\n",
       "<style scoped>\n",
       "    .dataframe tbody tr th:only-of-type {\n",
       "        vertical-align: middle;\n",
       "    }\n",
       "\n",
       "    .dataframe tbody tr th {\n",
       "        vertical-align: top;\n",
       "    }\n",
       "\n",
       "    .dataframe thead th {\n",
       "        text-align: right;\n",
       "    }\n",
       "</style>\n",
       "<table border=\"1\" class=\"dataframe\">\n",
       "  <thead>\n",
       "    <tr style=\"text-align: right;\">\n",
       "      <th></th>\n",
       "      <th>survived</th>\n",
       "      <th>pclass</th>\n",
       "      <th>sex</th>\n",
       "      <th>age</th>\n",
       "      <th>sibsp</th>\n",
       "      <th>parch</th>\n",
       "      <th>fare</th>\n",
       "      <th>embarked</th>\n",
       "      <th>class</th>\n",
       "      <th>who</th>\n",
       "      <th>adult_male</th>\n",
       "      <th>deck</th>\n",
       "      <th>embark_town</th>\n",
       "      <th>alive</th>\n",
       "      <th>alone</th>\n",
       "    </tr>\n",
       "  </thead>\n",
       "  <tbody>\n",
       "    <tr>\n",
       "      <th>0</th>\n",
       "      <td>0</td>\n",
       "      <td>3</td>\n",
       "      <td>male</td>\n",
       "      <td>22.0</td>\n",
       "      <td>1</td>\n",
       "      <td>0</td>\n",
       "      <td>7.2500</td>\n",
       "      <td>S</td>\n",
       "      <td>Third</td>\n",
       "      <td>man</td>\n",
       "      <td>True</td>\n",
       "      <td>NaN</td>\n",
       "      <td>Southampton</td>\n",
       "      <td>no</td>\n",
       "      <td>False</td>\n",
       "    </tr>\n",
       "    <tr>\n",
       "      <th>1</th>\n",
       "      <td>1</td>\n",
       "      <td>1</td>\n",
       "      <td>female</td>\n",
       "      <td>38.0</td>\n",
       "      <td>1</td>\n",
       "      <td>0</td>\n",
       "      <td>71.2833</td>\n",
       "      <td>C</td>\n",
       "      <td>First</td>\n",
       "      <td>woman</td>\n",
       "      <td>False</td>\n",
       "      <td>C</td>\n",
       "      <td>Cherbourg</td>\n",
       "      <td>yes</td>\n",
       "      <td>False</td>\n",
       "    </tr>\n",
       "    <tr>\n",
       "      <th>2</th>\n",
       "      <td>1</td>\n",
       "      <td>3</td>\n",
       "      <td>female</td>\n",
       "      <td>26.0</td>\n",
       "      <td>0</td>\n",
       "      <td>0</td>\n",
       "      <td>7.9250</td>\n",
       "      <td>S</td>\n",
       "      <td>Third</td>\n",
       "      <td>woman</td>\n",
       "      <td>False</td>\n",
       "      <td>NaN</td>\n",
       "      <td>Southampton</td>\n",
       "      <td>yes</td>\n",
       "      <td>True</td>\n",
       "    </tr>\n",
       "    <tr>\n",
       "      <th>3</th>\n",
       "      <td>1</td>\n",
       "      <td>1</td>\n",
       "      <td>female</td>\n",
       "      <td>35.0</td>\n",
       "      <td>1</td>\n",
       "      <td>0</td>\n",
       "      <td>53.1000</td>\n",
       "      <td>S</td>\n",
       "      <td>First</td>\n",
       "      <td>woman</td>\n",
       "      <td>False</td>\n",
       "      <td>C</td>\n",
       "      <td>Southampton</td>\n",
       "      <td>yes</td>\n",
       "      <td>False</td>\n",
       "    </tr>\n",
       "    <tr>\n",
       "      <th>4</th>\n",
       "      <td>0</td>\n",
       "      <td>3</td>\n",
       "      <td>male</td>\n",
       "      <td>35.0</td>\n",
       "      <td>0</td>\n",
       "      <td>0</td>\n",
       "      <td>8.0500</td>\n",
       "      <td>S</td>\n",
       "      <td>Third</td>\n",
       "      <td>man</td>\n",
       "      <td>True</td>\n",
       "      <td>NaN</td>\n",
       "      <td>Southampton</td>\n",
       "      <td>no</td>\n",
       "      <td>True</td>\n",
       "    </tr>\n",
       "  </tbody>\n",
       "</table>\n",
       "</div>"
      ],
      "text/plain": [
       "   survived  pclass     sex   age  sibsp  parch     fare embarked  class  \\\n",
       "0         0       3    male  22.0      1      0   7.2500        S  Third   \n",
       "1         1       1  female  38.0      1      0  71.2833        C  First   \n",
       "2         1       3  female  26.0      0      0   7.9250        S  Third   \n",
       "3         1       1  female  35.0      1      0  53.1000        S  First   \n",
       "4         0       3    male  35.0      0      0   8.0500        S  Third   \n",
       "\n",
       "     who  adult_male deck  embark_town alive  alone  \n",
       "0    man        True  NaN  Southampton    no  False  \n",
       "1  woman       False    C    Cherbourg   yes  False  \n",
       "2  woman       False  NaN  Southampton   yes   True  \n",
       "3  woman       False    C  Southampton   yes  False  \n",
       "4    man        True  NaN  Southampton    no   True  "
      ]
     },
     "execution_count": 4,
     "metadata": {},
     "output_type": "execute_result"
    }
   ],
   "source": [
    "# importing titanic dataset from seaborn library\n",
    "\n",
    "df = sns.load_dataset('titanic')\n",
    "df.head()"
   ]
  },
  {
   "cell_type": "code",
   "execution_count": null,
   "metadata": {},
   "outputs": [],
   "source": [
    "# plotting the scatter using pandas\n",
    "\n",
    "df.plot(kind='scatter', x='age', y='fare')"
   ]
  },
  {
   "cell_type": "code",
   "execution_count": null,
   "metadata": {},
   "outputs": [],
   "source": [
    "df.plot(kind='scatter', x='age', y='fare', color='red')"
   ]
  },
  {
   "cell_type": "code",
   "execution_count": null,
   "metadata": {},
   "outputs": [],
   "source": [
    "# changing color using hex code\n",
    "\n",
    "df.plot(kind='scatter', x='age', y='fare', color='#00ecfc')"
   ]
  },
  {
   "cell_type": "code",
   "execution_count": null,
   "metadata": {},
   "outputs": [],
   "source": [
    "df.head()"
   ]
  },
  {
   "cell_type": "code",
   "execution_count": null,
   "metadata": {},
   "outputs": [],
   "source": [
    "# using groupby to plot\n",
    "\n",
    "df.groupby('sex')['fare'].mean().plot(kind='bar')\n",
    "plt.ylabel('Average Fare')\n",
    "plt.xlabel('Gender')"
   ]
  },
  {
   "cell_type": "code",
   "execution_count": null,
   "metadata": {},
   "outputs": [],
   "source": [
    "# seaborn plots\n",
    "\n",
    "# bar plot using seaborn on df\n",
    "sns.barplot(data=df, x='survived', y='fare')"
   ]
  },
  {
   "cell_type": "code",
   "execution_count": null,
   "metadata": {},
   "outputs": [],
   "source": [
    "# on class basis\n",
    "\n",
    "sns.scatterplot(data=df, x='fare', y='age', hue='class')"
   ]
  },
  {
   "cell_type": "code",
   "execution_count": null,
   "metadata": {},
   "outputs": [],
   "source": [
    "# on sex basis\n",
    "\n",
    "sns.scatterplot(data=df, x='fare', y='age', hue='sex')"
   ]
  },
  {
   "cell_type": "code",
   "execution_count": null,
   "metadata": {},
   "outputs": [],
   "source": [
    "df.columns"
   ]
  },
  {
   "cell_type": "markdown",
   "metadata": {},
   "source": [
    "- Plotly makes interactive graphs"
   ]
  },
  {
   "cell_type": "code",
   "execution_count": 6,
   "metadata": {},
   "outputs": [
    {
     "data": {
      "application/vnd.plotly.v1+json": {
       "config": {
        "plotlyServerURL": "https://plot.ly"
       },
       "data": [
        {
         "hovertemplate": "class=Third<br>age=%{x}<br>fare=%{y}<extra></extra>",
         "legendgroup": "Third",
         "marker": {
          "color": "#636efa",
          "symbol": "circle"
         },
         "mode": "markers",
         "name": "Third",
         "orientation": "v",
         "showlegend": true,
         "type": "scatter",
         "x": [
          22,
          26,
          35,
          null,
          2,
          27,
          4,
          20,
          39,
          14,
          2,
          31,
          null,
          15,
          8,
          38,
          null,
          null,
          null,
          null,
          null,
          21,
          18,
          14,
          40,
          null,
          19,
          null,
          null,
          null,
          null,
          18,
          7,
          21,
          28.5,
          11,
          22,
          4,
          null,
          19,
          17,
          26,
          16,
          26,
          32,
          25,
          null,
          null,
          30,
          22,
          29,
          null,
          33,
          16,
          null,
          24,
          29,
          20,
          26,
          59,
          null,
          28,
          null,
          33,
          37,
          28,
          21,
          null,
          38,
          null,
          14.5,
          22,
          20,
          17,
          21,
          70.5,
          2,
          null,
          12,
          null,
          24,
          null,
          45,
          33,
          20,
          47,
          16,
          null,
          22,
          24,
          19,
          27,
          9,
          55.5,
          40.5,
          null,
          16,
          30,
          null,
          null,
          44,
          26,
          17,
          1,
          9,
          45,
          28,
          4,
          1,
          21,
          18,
          null,
          36,
          null,
          9,
          4,
          null,
          40,
          36,
          19,
          null,
          42,
          null,
          28,
          null,
          34,
          45.5,
          18,
          2,
          32,
          26,
          16,
          24,
          22,
          null,
          27,
          16,
          51,
          null,
          22,
          20.5,
          null,
          29,
          5,
          null,
          null,
          null,
          22,
          30,
          25,
          null,
          29,
          30,
          41,
          29,
          null,
          3,
          null,
          16,
          25,
          25,
          null,
          45,
          7,
          35,
          65,
          28,
          16,
          19,
          33,
          30,
          22,
          22,
          24,
          24,
          23.5,
          null,
          null,
          19,
          null,
          28,
          26,
          22,
          27,
          null,
          61,
          31,
          null,
          16,
          null,
          45,
          null,
          3,
          42,
          23,
          15,
          25,
          null,
          28,
          null,
          null,
          40,
          45,
          35,
          null,
          30,
          null,
          null,
          18,
          19,
          3,
          22,
          20,
          19,
          1,
          32,
          null,
          1,
          null,
          21,
          28,
          24,
          22,
          31,
          39,
          26,
          21,
          28,
          20,
          51,
          21,
          null,
          null,
          null,
          44,
          null,
          10,
          null,
          21,
          29,
          28,
          18,
          null,
          null,
          32,
          null,
          17,
          21,
          20,
          25,
          null,
          5,
          null,
          null,
          29,
          null,
          34,
          null,
          38,
          null,
          0.75,
          null,
          38,
          22,
          29,
          22,
          2,
          9,
          50,
          63,
          null,
          30,
          9,
          null,
          21,
          21,
          null,
          null,
          24,
          17,
          21,
          null,
          37,
          28,
          26,
          29,
          null,
          24,
          null,
          32,
          22,
          null,
          null,
          40.5,
          39,
          null,
          17,
          null,
          30,
          null,
          9,
          11,
          33,
          null,
          22,
          22,
          36,
          null,
          40,
          null,
          null,
          24,
          19,
          29,
          null,
          32,
          null,
          16,
          19,
          null,
          32,
          null,
          22,
          null,
          35,
          47,
          null,
          36,
          49,
          null,
          null,
          44,
          36,
          30,
          39,
          null,
          null,
          null,
          35,
          34,
          26,
          27,
          20,
          21,
          21,
          26,
          null,
          51,
          9,
          32,
          41,
          null,
          20,
          2,
          null,
          0.75,
          19,
          null,
          23,
          null,
          21,
          null,
          18,
          null,
          32,
          40,
          36,
          20,
          null,
          43,
          18,
          24.5,
          18,
          43,
          null,
          20,
          14,
          14,
          19,
          18,
          4,
          null,
          25,
          44,
          null,
          42,
          18,
          25,
          26,
          null,
          29,
          19,
          null,
          33,
          17,
          20,
          null,
          25,
          11,
          28.5,
          48,
          null,
          null,
          24,
          31,
          16,
          31,
          6,
          33,
          23,
          28,
          34,
          null,
          41,
          20,
          16,
          30.5,
          null,
          32,
          24,
          48,
          null,
          18,
          null,
          5,
          null,
          13,
          null,
          25,
          25,
          18,
          8,
          1,
          null,
          null,
          25,
          31,
          30,
          30,
          0.42,
          27,
          31,
          18,
          26,
          39,
          6,
          30.5,
          23,
          43,
          10,
          27,
          27,
          2,
          null,
          null,
          null,
          15,
          null,
          23,
          18,
          21,
          null,
          32,
          20,
          34.5,
          17,
          42,
          null,
          35,
          4,
          74,
          9,
          18,
          24,
          null,
          41,
          null,
          null,
          4,
          26,
          47,
          15,
          20,
          19,
          null,
          33,
          22,
          25,
          39,
          null,
          32
         ],
         "xaxis": "x",
         "y": [
          7.25,
          7.925,
          8.05,
          8.4583,
          21.075,
          11.1333,
          16.7,
          8.05,
          31.275,
          7.8542,
          29.125,
          18,
          7.225,
          8.0292,
          21.075,
          31.3875,
          7.225,
          7.8792,
          7.8958,
          7.75,
          7.2292,
          8.05,
          18,
          11.2417,
          9.475,
          7.8958,
          7.8792,
          8.05,
          15.5,
          7.75,
          21.6792,
          17.8,
          39.6875,
          7.8,
          7.2292,
          46.9,
          7.2292,
          27.9,
          15.2458,
          8.1583,
          7.925,
          8.6625,
          46.9,
          14.4542,
          56.4958,
          7.65,
          7.8958,
          8.05,
          12.475,
          9,
          9.5,
          7.7875,
          15.85,
          34.375,
          8.05,
          8.05,
          8.05,
          7.8542,
          20.575,
          7.25,
          8.05,
          7.8958,
          7.8958,
          8.6542,
          7.925,
          7.8958,
          7.65,
          7.775,
          7.8958,
          24.15,
          14.4542,
          8.05,
          9.825,
          14.4583,
          7.925,
          7.75,
          31.275,
          8.05,
          11.2417,
          7.75,
          7.1417,
          22.3583,
          6.975,
          7.8958,
          7.05,
          14.5,
          9.2167,
          15.2458,
          7.75,
          15.85,
          6.75,
          7.7958,
          34.375,
          8.05,
          14.5,
          7.3125,
          7.7333,
          8.05,
          8.6625,
          69.55,
          16.1,
          7.775,
          8.6625,
          39.6875,
          20.525,
          27.9,
          56.4958,
          29.125,
          11.1333,
          7.925,
          7.8542,
          25.4667,
          0,
          69.55,
          31.3875,
          22.025,
          15.5,
          15.5,
          7.8958,
          7.8542,
          7.75,
          8.4042,
          7.75,
          9.5,
          69.55,
          6.4958,
          7.225,
          8.05,
          10.4625,
          15.85,
          18.7875,
          7.75,
          7.05,
          7.25,
          7.75,
          7.925,
          8.05,
          8.05,
          7.8958,
          9.35,
          7.25,
          25.4667,
          7.775,
          31.3875,
          7.55,
          14.4542,
          15.5,
          7.125,
          7.225,
          7.775,
          7.25,
          10.4625,
          16.1,
          20.2125,
          15.2458,
          7.75,
          31.3875,
          7.75,
          39.6875,
          7.775,
          0,
          7.75,
          7.75,
          29.125,
          20.25,
          7.75,
          7.8542,
          9.5,
          8.05,
          8.6625,
          9.5,
          7.8958,
          7.75,
          8.85,
          7.8958,
          7.2292,
          7.75,
          23.25,
          0,
          8.05,
          7.8958,
          7.8542,
          7.25,
          7.8958,
          69.55,
          6.2375,
          20.525,
          23.25,
          18,
          7.8958,
          8.05,
          16.1,
          15.9,
          8.6625,
          9.225,
          7.2292,
          17.8,
          7.225,
          9.5,
          7.8792,
          7.8792,
          27.9,
          14.4542,
          7.05,
          15.5,
          7.25,
          7.2292,
          7.75,
          6.4958,
          8.05,
          21.075,
          7.25,
          4.0125,
          7.775,
          15.7417,
          7.925,
          7.8958,
          46.9,
          7.7292,
          7.7958,
          7.925,
          16.7,
          7.7958,
          7.8542,
          7.925,
          8.05,
          9.825,
          15.85,
          8.6625,
          7.75,
          7.775,
          25.4667,
          7.8958,
          6.8583,
          7.925,
          8.05,
          24.15,
          7.8958,
          7.7333,
          7.875,
          14.4,
          20.2125,
          7.25,
          7.75,
          8.05,
          16.1,
          7.125,
          34.375,
          9.5,
          7.775,
          8.1125,
          19.2583,
          19.9667,
          8.05,
          7.8958,
          7.75,
          8.05,
          8.05,
          7.05,
          7.725,
          19.2583,
          7.25,
          8.6625,
          9.8375,
          7.0458,
          7.5208,
          12.2875,
          46.9,
          8.05,
          9.5875,
          25.4667,
          8.05,
          15.9,
          19.9667,
          7.25,
          8.05,
          14.4583,
          15.1,
          7.7958,
          8.6625,
          7.75,
          7.6292,
          9.5875,
          22.525,
          56.4958,
          7.75,
          8.05,
          7.4958,
          24.15,
          7.8958,
          7.8958,
          7.225,
          7.2292,
          7.75,
          7.925,
          7.2292,
          7.2292,
          22.3583,
          8.6625,
          14.5,
          31.275,
          31.275,
          20.525,
          7.8292,
          7.225,
          7.775,
          17.4,
          7.75,
          7.8958,
          8.05,
          8.05,
          24.15,
          7.8958,
          21.075,
          7.2292,
          7.8542,
          7.75,
          8.05,
          14.5,
          14.4583,
          7.925,
          8.7125,
          8.05,
          8.05,
          7.125,
          7.25,
          7.75,
          24.15,
          0,
          7.225,
          7.8958,
          8.05,
          15.55,
          7.8958,
          31.275,
          7.05,
          15.5,
          7.75,
          8.05,
          14.4,
          16.1,
          14.4542,
          15.7417,
          7.8542,
          16.1,
          7.8958,
          7.7333,
          7.0542,
          27.9,
          7.925,
          39.6875,
          16.1,
          7.8542,
          27.9,
          56.4958,
          19.2583,
          7.8958,
          7.55,
          7.55,
          7.8958,
          8.4333,
          7.8292,
          6.75,
          7.8958,
          15.5,
          7.225,
          7.4958,
          7.925,
          7.775,
          8.05,
          7.775,
          8.05,
          9.8417,
          46.9,
          8.1375,
          9.225,
          46.9,
          39.6875,
          10.1708,
          7.7958,
          13.4167,
          56.4958,
          7.225,
          8.05,
          7.7333,
          7.65,
          14.4542,
          7.7417,
          7.8542,
          15.2458,
          9.4833,
          7.65,
          15.5,
          7.775,
          7.0542,
          8.6625,
          7.7375,
          7.925,
          18.7875,
          16.1,
          34.375,
          7.8958,
          7.8958,
          16.1,
          7.925,
          20.25,
          7.75,
          12.475,
          9.5,
          7.8958,
          7.7958,
          8.05,
          14.5,
          7.125,
          7.2292,
          7.775,
          7.75,
          24.15,
          8.3625,
          9.5,
          7.8542,
          7.225,
          7.75,
          7.75,
          12.475,
          7.7375,
          7.2292,
          23.45,
          7.05,
          7.25,
          7.4958,
          29.125,
          20.575,
          7.75,
          69.55,
          7.8958,
          8.6833,
          7.2292,
          24.15,
          8.5167,
          6.975,
          7.775,
          7.775,
          7.8875,
          24.15,
          31.275,
          8.05,
          7.925,
          6.45,
          27.9,
          8.6625,
          12.475,
          39.6875,
          6.95,
          56.4958,
          7.75,
          14.4542,
          7.2292,
          7.8542,
          8.3,
          8.6625,
          8.05,
          56.4958,
          7.925,
          6.4375,
          8.6625,
          7.55,
          69.55,
          7.8958,
          31.275,
          7.775,
          15.2458,
          9.35,
          19.2583,
          7.2292,
          14.1083,
          69.55,
          9.5,
          11.1333,
          7.8958,
          9,
          7.225,
          9.8458,
          7.8958,
          7.8958,
          7.8958,
          10.5167,
          7.05,
          29.125,
          23.45,
          7.75
         ],
         "yaxis": "y"
        },
        {
         "hovertemplate": "class=First<br>age=%{x}<br>fare=%{y}<extra></extra>",
         "legendgroup": "First",
         "marker": {
          "color": "#EF553B",
          "symbol": "circle"
         },
         "mode": "markers",
         "name": "First",
         "orientation": "v",
         "showlegend": true,
         "type": "scatter",
         "x": [
          38,
          35,
          54,
          58,
          28,
          19,
          40,
          null,
          28,
          42,
          49,
          65,
          null,
          38,
          45,
          null,
          28,
          23,
          46,
          71,
          23,
          21,
          47,
          24,
          54,
          19,
          37,
          24,
          22,
          51,
          null,
          null,
          61,
          56,
          50,
          null,
          45,
          44,
          58,
          40,
          31,
          32,
          38,
          35,
          44,
          37,
          62,
          null,
          30,
          35,
          52,
          40,
          58,
          35,
          null,
          37,
          63,
          null,
          26,
          19,
          null,
          2,
          null,
          50,
          0.92,
          null,
          17,
          30,
          24,
          18,
          31,
          40,
          36,
          16,
          45.5,
          38,
          null,
          29,
          41,
          45,
          24,
          null,
          22,
          60,
          24,
          25,
          22,
          null,
          27,
          42,
          35,
          36,
          23,
          33,
          28,
          50,
          14,
          64,
          4,
          34,
          52,
          30,
          49,
          65,
          null,
          48,
          47,
          56,
          null,
          25,
          35,
          58,
          55,
          71,
          54,
          25,
          16,
          18,
          null,
          36,
          54,
          47,
          30,
          44,
          null,
          45,
          30,
          22,
          36,
          50,
          64,
          17,
          62,
          48,
          null,
          39,
          53,
          36,
          39,
          39,
          36,
          18,
          60,
          52,
          49,
          null,
          35,
          27,
          40,
          42,
          61,
          21,
          80,
          32,
          null,
          24,
          48,
          56,
          58,
          50,
          47,
          null,
          31,
          36,
          27,
          15,
          31,
          60,
          49,
          18,
          35,
          42,
          22,
          24,
          null,
          48,
          38,
          27,
          29,
          35,
          null,
          36,
          21,
          70,
          19,
          33,
          36,
          51,
          null,
          43,
          17,
          29,
          46,
          null,
          49,
          11,
          39,
          33,
          null,
          52,
          38,
          62,
          39,
          null,
          30,
          null,
          16,
          45,
          51,
          48,
          31,
          47,
          33,
          56,
          19,
          26
         ],
         "xaxis": "x",
         "y": [
          71.2833,
          53.1,
          51.8625,
          26.55,
          35.5,
          263,
          27.7208,
          146.5208,
          82.1708,
          52,
          76.7292,
          61.9792,
          35.5,
          80,
          83.475,
          27.7208,
          47.1,
          263,
          61.175,
          34.6542,
          63.3583,
          77.2875,
          52,
          247.5208,
          77.2875,
          26.2833,
          53.1,
          79.2,
          66.6,
          61.3792,
          55,
          25.925,
          33.5,
          30.6958,
          28.7125,
          50,
          26.55,
          27.7208,
          146.5208,
          31,
          113.275,
          76.2917,
          90,
          83.475,
          90,
          52.5542,
          26.55,
          79.2,
          86.5,
          512.3292,
          79.65,
          0,
          153.4625,
          135.6333,
          31,
          29.7,
          77.9583,
          26,
          78.85,
          91.0792,
          27.7208,
          151.55,
          30.5,
          247.5208,
          151.55,
          110.8833,
          108.9,
          56.9292,
          83.1583,
          262.375,
          164.8667,
          134.5,
          135.6333,
          57.9792,
          28.5,
          153.4625,
          133.65,
          66.6,
          134.5,
          35.5,
          263,
          35,
          55,
          75.25,
          69.3,
          55.4417,
          135.6333,
          82.1708,
          211.5,
          227.525,
          52,
          120,
          113.275,
          90,
          26.55,
          55.9,
          120,
          263,
          81.8583,
          26.55,
          30.5,
          27.75,
          89.1042,
          26.55,
          51.8625,
          26.55,
          38.5,
          26.55,
          52,
          91.0792,
          90,
          29.7,
          30.5,
          49.5042,
          78.2667,
          151.55,
          86.5,
          108.9,
          26.55,
          26.2875,
          59.4,
          34.0208,
          93.5,
          57.9792,
          221.7792,
          26.55,
          106.425,
          49.5,
          71,
          106.425,
          26,
          110.8833,
          26.55,
          39.6,
          227.525,
          79.65,
          51.4792,
          26.3875,
          55.9,
          110.8833,
          40.125,
          79.65,
          79.2,
          78.2667,
          56.9292,
          42.4,
          26.55,
          30.5,
          153.4625,
          52.5542,
          32.3208,
          77.9583,
          30,
          30.5,
          0,
          69.3,
          76.7292,
          35.5,
          113.275,
          133.65,
          25.5875,
          52,
          52,
          512.3292,
          76.7292,
          211.3375,
          57,
          26.55,
          110.8833,
          227.525,
          26.2875,
          26.2875,
          151.55,
          49.5042,
          26.55,
          52,
          227.525,
          53.1,
          211.3375,
          512.3292,
          30,
          78.85,
          262.375,
          71,
          53.1,
          86.5,
          120,
          77.9583,
          39.6,
          211.3375,
          57,
          30,
          79.2,
          30.6958,
          25.9292,
          120,
          0,
          53.1,
          0,
          93.5,
          0,
          80,
          83.1583,
          29.7,
          31,
          89.1042,
          39.4,
          164.8667,
          26.55,
          25.9292,
          50.4958,
          52.5542,
          5,
          83.1583,
          30,
          30
         ],
         "yaxis": "y"
        },
        {
         "hovertemplate": "class=Second<br>age=%{x}<br>fare=%{y}<extra></extra>",
         "legendgroup": "Second",
         "marker": {
          "color": "#00cc96",
          "symbol": "circle"
         },
         "mode": "markers",
         "name": "Second",
         "orientation": "v",
         "showlegend": true,
         "type": "scatter",
         "x": [
          14,
          55,
          null,
          35,
          34,
          66,
          27,
          3,
          29,
          21,
          5,
          29,
          32,
          21,
          0.83,
          17,
          34,
          34,
          29,
          21,
          32.5,
          32.5,
          29,
          25,
          23,
          18,
          19,
          36.5,
          42,
          51,
          40,
          30,
          null,
          1,
          32,
          19,
          3,
          24,
          35,
          30,
          42,
          30,
          27,
          19,
          18,
          59,
          24,
          44,
          8,
          19,
          33,
          29,
          24,
          54,
          50,
          36,
          41,
          null,
          42,
          36,
          null,
          30,
          26,
          43,
          24,
          54,
          30,
          22,
          36,
          2,
          28,
          25,
          36,
          24,
          40,
          38,
          29,
          18,
          36,
          17,
          46,
          23,
          28,
          34,
          3,
          null,
          34,
          18,
          30,
          28,
          19,
          42,
          24,
          31,
          45,
          28,
          13,
          36,
          50,
          48,
          null,
          33,
          23,
          34,
          null,
          33,
          34,
          36,
          50,
          23,
          2,
          7,
          32,
          19,
          null,
          8,
          27,
          28,
          62,
          34,
          25,
          54,
          47,
          37,
          null,
          24,
          22,
          24,
          4,
          26,
          57,
          28,
          31,
          18,
          24,
          23,
          32,
          25,
          40,
          70,
          31,
          null,
          60,
          25,
          52,
          39,
          45,
          52,
          27,
          6,
          34,
          50,
          30,
          25,
          null,
          23,
          23,
          30,
          4,
          48,
          0.67,
          18,
          57,
          54,
          16,
          39,
          34,
          31,
          39,
          35,
          31,
          1,
          0.83,
          16,
          28,
          44,
          21,
          24,
          42,
          27,
          28,
          25,
          28,
          27
         ],
         "xaxis": "x",
         "y": [
          30.0708,
          16,
          13,
          26,
          13,
          10.5,
          21,
          41.5792,
          26,
          10.5,
          27.75,
          10.5,
          10.5,
          73.5,
          29,
          10.5,
          23,
          26,
          21,
          73.5,
          30.0708,
          13,
          26,
          13,
          15.0458,
          11.5,
          36.75,
          26,
          13,
          12.525,
          15.75,
          13,
          15.05,
          39,
          13,
          13,
          26,
          13,
          21,
          13,
          27,
          10.5,
          13,
          10.5,
          13,
          13.5,
          10.5,
          26,
          26.25,
          10.5,
          12.275,
          10.5,
          14.5,
          26,
          26,
          10.5,
          19.5,
          0,
          13,
          12.875,
          12.35,
          24,
          26,
          26.25,
          26,
          14,
          12.35,
          29,
          13,
          26,
          13,
          13,
          13,
          13,
          13,
          13,
          27.7208,
          73.5,
          13,
          12,
          26,
          10.5,
          12.65,
          21,
          18.75,
          0,
          32.5,
          13,
          13,
          26,
          26,
          26,
          18.75,
          10.5,
          26.25,
          13,
          19.5,
          27.75,
          10.5,
          13,
          0,
          27.75,
          13.7917,
          21,
          0,
          26,
          10.5,
          26,
          10.5,
          11.5,
          26,
          26.25,
          26,
          26,
          13.8625,
          36.75,
          26,
          13.5,
          10.5,
          13,
          30,
          26,
          15,
          26,
          33,
          27,
          41.5792,
          65,
          39,
          10.5,
          12.35,
          13,
          26.25,
          23,
          73.5,
          13,
          73.5,
          13,
          39,
          10.5,
          13,
          0,
          39,
          41.5792,
          13.5,
          26,
          13.5,
          13,
          10.5,
          33,
          13,
          13,
          21,
          26,
          0,
          13,
          13,
          13,
          23,
          65,
          14.5,
          11.5,
          10.5,
          23,
          26,
          13,
          13,
          26.25,
          13,
          10.5,
          37.0042,
          37.0042,
          18.75,
          10.5,
          33,
          26,
          11.5,
          13,
          13,
          13.8583,
          24,
          26,
          10.5,
          13
         ],
         "yaxis": "y"
        }
       ],
       "layout": {
        "legend": {
         "title": {
          "text": "class"
         },
         "tracegroupgap": 0
        },
        "margin": {
         "t": 60
        },
        "template": {
         "data": {
          "bar": [
           {
            "error_x": {
             "color": "#2a3f5f"
            },
            "error_y": {
             "color": "#2a3f5f"
            },
            "marker": {
             "line": {
              "color": "#E5ECF6",
              "width": 0.5
             },
             "pattern": {
              "fillmode": "overlay",
              "size": 10,
              "solidity": 0.2
             }
            },
            "type": "bar"
           }
          ],
          "barpolar": [
           {
            "marker": {
             "line": {
              "color": "#E5ECF6",
              "width": 0.5
             },
             "pattern": {
              "fillmode": "overlay",
              "size": 10,
              "solidity": 0.2
             }
            },
            "type": "barpolar"
           }
          ],
          "carpet": [
           {
            "aaxis": {
             "endlinecolor": "#2a3f5f",
             "gridcolor": "white",
             "linecolor": "white",
             "minorgridcolor": "white",
             "startlinecolor": "#2a3f5f"
            },
            "baxis": {
             "endlinecolor": "#2a3f5f",
             "gridcolor": "white",
             "linecolor": "white",
             "minorgridcolor": "white",
             "startlinecolor": "#2a3f5f"
            },
            "type": "carpet"
           }
          ],
          "choropleth": [
           {
            "colorbar": {
             "outlinewidth": 0,
             "ticks": ""
            },
            "type": "choropleth"
           }
          ],
          "contour": [
           {
            "colorbar": {
             "outlinewidth": 0,
             "ticks": ""
            },
            "colorscale": [
             [
              0,
              "#0d0887"
             ],
             [
              0.1111111111111111,
              "#46039f"
             ],
             [
              0.2222222222222222,
              "#7201a8"
             ],
             [
              0.3333333333333333,
              "#9c179e"
             ],
             [
              0.4444444444444444,
              "#bd3786"
             ],
             [
              0.5555555555555556,
              "#d8576b"
             ],
             [
              0.6666666666666666,
              "#ed7953"
             ],
             [
              0.7777777777777778,
              "#fb9f3a"
             ],
             [
              0.8888888888888888,
              "#fdca26"
             ],
             [
              1,
              "#f0f921"
             ]
            ],
            "type": "contour"
           }
          ],
          "contourcarpet": [
           {
            "colorbar": {
             "outlinewidth": 0,
             "ticks": ""
            },
            "type": "contourcarpet"
           }
          ],
          "heatmap": [
           {
            "colorbar": {
             "outlinewidth": 0,
             "ticks": ""
            },
            "colorscale": [
             [
              0,
              "#0d0887"
             ],
             [
              0.1111111111111111,
              "#46039f"
             ],
             [
              0.2222222222222222,
              "#7201a8"
             ],
             [
              0.3333333333333333,
              "#9c179e"
             ],
             [
              0.4444444444444444,
              "#bd3786"
             ],
             [
              0.5555555555555556,
              "#d8576b"
             ],
             [
              0.6666666666666666,
              "#ed7953"
             ],
             [
              0.7777777777777778,
              "#fb9f3a"
             ],
             [
              0.8888888888888888,
              "#fdca26"
             ],
             [
              1,
              "#f0f921"
             ]
            ],
            "type": "heatmap"
           }
          ],
          "heatmapgl": [
           {
            "colorbar": {
             "outlinewidth": 0,
             "ticks": ""
            },
            "colorscale": [
             [
              0,
              "#0d0887"
             ],
             [
              0.1111111111111111,
              "#46039f"
             ],
             [
              0.2222222222222222,
              "#7201a8"
             ],
             [
              0.3333333333333333,
              "#9c179e"
             ],
             [
              0.4444444444444444,
              "#bd3786"
             ],
             [
              0.5555555555555556,
              "#d8576b"
             ],
             [
              0.6666666666666666,
              "#ed7953"
             ],
             [
              0.7777777777777778,
              "#fb9f3a"
             ],
             [
              0.8888888888888888,
              "#fdca26"
             ],
             [
              1,
              "#f0f921"
             ]
            ],
            "type": "heatmapgl"
           }
          ],
          "histogram": [
           {
            "marker": {
             "pattern": {
              "fillmode": "overlay",
              "size": 10,
              "solidity": 0.2
             }
            },
            "type": "histogram"
           }
          ],
          "histogram2d": [
           {
            "colorbar": {
             "outlinewidth": 0,
             "ticks": ""
            },
            "colorscale": [
             [
              0,
              "#0d0887"
             ],
             [
              0.1111111111111111,
              "#46039f"
             ],
             [
              0.2222222222222222,
              "#7201a8"
             ],
             [
              0.3333333333333333,
              "#9c179e"
             ],
             [
              0.4444444444444444,
              "#bd3786"
             ],
             [
              0.5555555555555556,
              "#d8576b"
             ],
             [
              0.6666666666666666,
              "#ed7953"
             ],
             [
              0.7777777777777778,
              "#fb9f3a"
             ],
             [
              0.8888888888888888,
              "#fdca26"
             ],
             [
              1,
              "#f0f921"
             ]
            ],
            "type": "histogram2d"
           }
          ],
          "histogram2dcontour": [
           {
            "colorbar": {
             "outlinewidth": 0,
             "ticks": ""
            },
            "colorscale": [
             [
              0,
              "#0d0887"
             ],
             [
              0.1111111111111111,
              "#46039f"
             ],
             [
              0.2222222222222222,
              "#7201a8"
             ],
             [
              0.3333333333333333,
              "#9c179e"
             ],
             [
              0.4444444444444444,
              "#bd3786"
             ],
             [
              0.5555555555555556,
              "#d8576b"
             ],
             [
              0.6666666666666666,
              "#ed7953"
             ],
             [
              0.7777777777777778,
              "#fb9f3a"
             ],
             [
              0.8888888888888888,
              "#fdca26"
             ],
             [
              1,
              "#f0f921"
             ]
            ],
            "type": "histogram2dcontour"
           }
          ],
          "mesh3d": [
           {
            "colorbar": {
             "outlinewidth": 0,
             "ticks": ""
            },
            "type": "mesh3d"
           }
          ],
          "parcoords": [
           {
            "line": {
             "colorbar": {
              "outlinewidth": 0,
              "ticks": ""
             }
            },
            "type": "parcoords"
           }
          ],
          "pie": [
           {
            "automargin": true,
            "type": "pie"
           }
          ],
          "scatter": [
           {
            "fillpattern": {
             "fillmode": "overlay",
             "size": 10,
             "solidity": 0.2
            },
            "type": "scatter"
           }
          ],
          "scatter3d": [
           {
            "line": {
             "colorbar": {
              "outlinewidth": 0,
              "ticks": ""
             }
            },
            "marker": {
             "colorbar": {
              "outlinewidth": 0,
              "ticks": ""
             }
            },
            "type": "scatter3d"
           }
          ],
          "scattercarpet": [
           {
            "marker": {
             "colorbar": {
              "outlinewidth": 0,
              "ticks": ""
             }
            },
            "type": "scattercarpet"
           }
          ],
          "scattergeo": [
           {
            "marker": {
             "colorbar": {
              "outlinewidth": 0,
              "ticks": ""
             }
            },
            "type": "scattergeo"
           }
          ],
          "scattergl": [
           {
            "marker": {
             "colorbar": {
              "outlinewidth": 0,
              "ticks": ""
             }
            },
            "type": "scattergl"
           }
          ],
          "scattermapbox": [
           {
            "marker": {
             "colorbar": {
              "outlinewidth": 0,
              "ticks": ""
             }
            },
            "type": "scattermapbox"
           }
          ],
          "scatterpolar": [
           {
            "marker": {
             "colorbar": {
              "outlinewidth": 0,
              "ticks": ""
             }
            },
            "type": "scatterpolar"
           }
          ],
          "scatterpolargl": [
           {
            "marker": {
             "colorbar": {
              "outlinewidth": 0,
              "ticks": ""
             }
            },
            "type": "scatterpolargl"
           }
          ],
          "scatterternary": [
           {
            "marker": {
             "colorbar": {
              "outlinewidth": 0,
              "ticks": ""
             }
            },
            "type": "scatterternary"
           }
          ],
          "surface": [
           {
            "colorbar": {
             "outlinewidth": 0,
             "ticks": ""
            },
            "colorscale": [
             [
              0,
              "#0d0887"
             ],
             [
              0.1111111111111111,
              "#46039f"
             ],
             [
              0.2222222222222222,
              "#7201a8"
             ],
             [
              0.3333333333333333,
              "#9c179e"
             ],
             [
              0.4444444444444444,
              "#bd3786"
             ],
             [
              0.5555555555555556,
              "#d8576b"
             ],
             [
              0.6666666666666666,
              "#ed7953"
             ],
             [
              0.7777777777777778,
              "#fb9f3a"
             ],
             [
              0.8888888888888888,
              "#fdca26"
             ],
             [
              1,
              "#f0f921"
             ]
            ],
            "type": "surface"
           }
          ],
          "table": [
           {
            "cells": {
             "fill": {
              "color": "#EBF0F8"
             },
             "line": {
              "color": "white"
             }
            },
            "header": {
             "fill": {
              "color": "#C8D4E3"
             },
             "line": {
              "color": "white"
             }
            },
            "type": "table"
           }
          ]
         },
         "layout": {
          "annotationdefaults": {
           "arrowcolor": "#2a3f5f",
           "arrowhead": 0,
           "arrowwidth": 1
          },
          "autotypenumbers": "strict",
          "coloraxis": {
           "colorbar": {
            "outlinewidth": 0,
            "ticks": ""
           }
          },
          "colorscale": {
           "diverging": [
            [
             0,
             "#8e0152"
            ],
            [
             0.1,
             "#c51b7d"
            ],
            [
             0.2,
             "#de77ae"
            ],
            [
             0.3,
             "#f1b6da"
            ],
            [
             0.4,
             "#fde0ef"
            ],
            [
             0.5,
             "#f7f7f7"
            ],
            [
             0.6,
             "#e6f5d0"
            ],
            [
             0.7,
             "#b8e186"
            ],
            [
             0.8,
             "#7fbc41"
            ],
            [
             0.9,
             "#4d9221"
            ],
            [
             1,
             "#276419"
            ]
           ],
           "sequential": [
            [
             0,
             "#0d0887"
            ],
            [
             0.1111111111111111,
             "#46039f"
            ],
            [
             0.2222222222222222,
             "#7201a8"
            ],
            [
             0.3333333333333333,
             "#9c179e"
            ],
            [
             0.4444444444444444,
             "#bd3786"
            ],
            [
             0.5555555555555556,
             "#d8576b"
            ],
            [
             0.6666666666666666,
             "#ed7953"
            ],
            [
             0.7777777777777778,
             "#fb9f3a"
            ],
            [
             0.8888888888888888,
             "#fdca26"
            ],
            [
             1,
             "#f0f921"
            ]
           ],
           "sequentialminus": [
            [
             0,
             "#0d0887"
            ],
            [
             0.1111111111111111,
             "#46039f"
            ],
            [
             0.2222222222222222,
             "#7201a8"
            ],
            [
             0.3333333333333333,
             "#9c179e"
            ],
            [
             0.4444444444444444,
             "#bd3786"
            ],
            [
             0.5555555555555556,
             "#d8576b"
            ],
            [
             0.6666666666666666,
             "#ed7953"
            ],
            [
             0.7777777777777778,
             "#fb9f3a"
            ],
            [
             0.8888888888888888,
             "#fdca26"
            ],
            [
             1,
             "#f0f921"
            ]
           ]
          },
          "colorway": [
           "#636efa",
           "#EF553B",
           "#00cc96",
           "#ab63fa",
           "#FFA15A",
           "#19d3f3",
           "#FF6692",
           "#B6E880",
           "#FF97FF",
           "#FECB52"
          ],
          "font": {
           "color": "#2a3f5f"
          },
          "geo": {
           "bgcolor": "white",
           "lakecolor": "white",
           "landcolor": "#E5ECF6",
           "showlakes": true,
           "showland": true,
           "subunitcolor": "white"
          },
          "hoverlabel": {
           "align": "left"
          },
          "hovermode": "closest",
          "mapbox": {
           "style": "light"
          },
          "paper_bgcolor": "white",
          "plot_bgcolor": "#E5ECF6",
          "polar": {
           "angularaxis": {
            "gridcolor": "white",
            "linecolor": "white",
            "ticks": ""
           },
           "bgcolor": "#E5ECF6",
           "radialaxis": {
            "gridcolor": "white",
            "linecolor": "white",
            "ticks": ""
           }
          },
          "scene": {
           "xaxis": {
            "backgroundcolor": "#E5ECF6",
            "gridcolor": "white",
            "gridwidth": 2,
            "linecolor": "white",
            "showbackground": true,
            "ticks": "",
            "zerolinecolor": "white"
           },
           "yaxis": {
            "backgroundcolor": "#E5ECF6",
            "gridcolor": "white",
            "gridwidth": 2,
            "linecolor": "white",
            "showbackground": true,
            "ticks": "",
            "zerolinecolor": "white"
           },
           "zaxis": {
            "backgroundcolor": "#E5ECF6",
            "gridcolor": "white",
            "gridwidth": 2,
            "linecolor": "white",
            "showbackground": true,
            "ticks": "",
            "zerolinecolor": "white"
           }
          },
          "shapedefaults": {
           "line": {
            "color": "#2a3f5f"
           }
          },
          "ternary": {
           "aaxis": {
            "gridcolor": "white",
            "linecolor": "white",
            "ticks": ""
           },
           "baxis": {
            "gridcolor": "white",
            "linecolor": "white",
            "ticks": ""
           },
           "bgcolor": "#E5ECF6",
           "caxis": {
            "gridcolor": "white",
            "linecolor": "white",
            "ticks": ""
           }
          },
          "title": {
           "x": 0.05
          },
          "xaxis": {
           "automargin": true,
           "gridcolor": "white",
           "linecolor": "white",
           "ticks": "",
           "title": {
            "standoff": 15
           },
           "zerolinecolor": "white",
           "zerolinewidth": 2
          },
          "yaxis": {
           "automargin": true,
           "gridcolor": "white",
           "linecolor": "white",
           "ticks": "",
           "title": {
            "standoff": 15
           },
           "zerolinecolor": "white",
           "zerolinewidth": 2
          }
         }
        },
        "xaxis": {
         "anchor": "y",
         "domain": [
          0,
          1
         ],
         "title": {
          "text": "age"
         }
        },
        "yaxis": {
         "anchor": "x",
         "domain": [
          0,
          1
         ],
         "title": {
          "text": "fare"
         }
        }
       }
      }
     },
     "metadata": {},
     "output_type": "display_data"
    }
   ],
   "source": [
    "# make scatter plot via plotly\n",
    "import plotly.express as px\n",
    "\n",
    "fig = px.scatter(df, x='age', y='fare', color='class')\n",
    "fig.show()"
   ]
  },
  {
   "cell_type": "code",
   "execution_count": 7,
   "metadata": {},
   "outputs": [
    {
     "data": {
      "application/vnd.plotly.v1+json": {
       "config": {
        "plotlyServerURL": "https://plot.ly"
       },
       "data": [
        {
         "type": "surface",
         "z": [
          [
           0,
           27.80985,
           49.61936,
           83.08067,
           116.6632,
           130.414,
           150.7206,
           220.1871,
           156.1536,
           148.6416,
           203.7845,
           206.0386,
           107.1618,
           68.36975,
           45.3359,
           49.96142,
           21.89279,
           17.02552,
           11.74317,
           14.75226,
           13.6671,
           5.677561,
           3.31234,
           1.156517,
           -0.147662
          ],
          [
           1,
           27.71966,
           48.55022,
           65.21374,
           95.27666,
           116.9964,
           133.9056,
           152.3412,
           151.934,
           160.1139,
           179.5327,
           147.6184,
           170.3943,
           121.8194,
           52.58537,
           33.08871,
           38.40972,
           44.24843,
           69.5786,
           4.019351,
           3.050024,
           3.039719,
           2.996142,
           2.967954,
           1.999594
          ],
          [
           2,
           30.4267,
           33.47752,
           44.80953,
           62.47495,
           77.43523,
           104.2153,
           102.7393,
           137.0004,
           186.0706,
           219.3173,
           181.7615,
           120.9154,
           143.1835,
           82.40501,
           48.47132,
           74.71461,
           60.0909,
           7.073525,
           6.089851,
           6.53745,
           6.666096,
           7.306965,
           5.73684,
           3.625628
          ],
          [
           3,
           16.66549,
           30.1086,
           39.96952,
           44.12225,
           59.57512,
           77.56929,
           106.8925,
           166.5539,
           175.2381,
           185.2815,
           154.5056,
           83.0433,
           62.61732,
           62.33167,
           60.55916,
           55.92124,
           15.17284,
           8.248324,
           36.68087,
           61.93413,
           20.26867,
           68.58819,
           46.49812,
           0.2360095
          ],
          [
           4,
           8.815617,
           18.3516,
           8.658275,
           27.5859,
           48.62691,
           60.18013,
           91.3286,
           145.7109,
           116.0653,
           106.2662,
           68.69447,
           53.10596,
           37.92797,
           47.95942,
           47.42691,
           69.20731,
           44.95468,
           29.17197,
           17.91674,
           16.25515,
           14.65559,
           17.26048,
           31.22245,
           46.71704
          ],
          [
           5,
           6.628881,
           10.41339,
           24.81939,
           26.08952,
           30.1605,
           52.30802,
           64.71007,
           76.30823,
           84.63686,
           99.4324,
           62.52132,
           46.81647,
           55.76606,
           82.4099,
           140.2647,
           81.26501,
           56.45756,
           30.42164,
           17.28782,
           8.302431,
           2.981626,
           2.698536,
           5.886086,
           5.268358
          ],
          [
           6,
           21.83975,
           6.63927,
           18.97085,
           32.89204,
           43.15014,
           62.86014,
           104.6657,
           130.2294,
           114.8494,
           106.9873,
           61.89647,
           55.55682,
           86.80986,
           89.27802,
           122.4221,
           123.9698,
           109.0952,
           98.41956,
           77.61374,
           32.49031,
           14.67344,
           7.370775,
           0.03711011,
           0.6423392
          ],
          [
           7,
           53.34303,
           26.79797,
           6.63927,
           10.88787,
           17.2044,
           56.18116,
           79.70141,
           90.8453,
           98.27675,
           80.87243,
           74.7931,
           75.54661,
           73.4373,
           74.11694,
           68.1749,
           46.24076,
           39.93857,
           31.21653,
           36.88335,
           40.02525,
           117.4297,
           12.70328,
           1.729771,
           0
          ],
          [
           8,
           25.66785,
           63.05717,
           22.1414,
           17.074,
           41.74483,
           60.27227,
           81.42432,
           114.444,
           102.3234,
           101.7878,
           111.031,
           119.2309,
           114.0777,
           110.5296,
           59.19355,
           42.47175,
           14.63598,
           6.944074,
           6.944075,
           27.74936,
           0,
           0,
           0.09449376,
           0.07732264
          ],
          [
           9,
           12.827,
           69.20554,
           46.76293,
           13.96517,
           33.88744,
           61.82613,
           84.74799,
           121.122,
           145.2741,
           153.1797,
           204.786,
           227.9242,
           236.3038,
           228.3655,
           79.34425,
           25.93483,
           6.944074,
           6.944074,
           6.944075,
           7.553681,
           0,
           0,
           0,
           0
          ],
          [
           10,
           0,
           68.66396,
           59.0435,
           33.35762,
           47.45282,
           57.8355,
           78.91689,
           107.8275,
           168.0053,
           130.9597,
           212.5541,
           165.8122,
           210.2429,
           181.1713,
           189.7617,
           137.3378,
           84.65395,
           8.677168,
           6.956576,
           8.468093,
           0,
           0,
           0,
           0
          ],
          [
           11,
           0,
           95.17499,
           80.03818,
           59.89862,
           39.58476,
           50.28058,
           63.81641,
           80.61302,
           66.37824,
           198.7651,
           244.3467,
           294.2474,
           264.3517,
           176.4082,
           60.21857,
           77.41475,
           53.16981,
           56.16393,
           6.949235,
           7.531059,
           3.780177,
           0,
           0,
           0
          ],
          [
           12,
           0,
           134.9879,
           130.3696,
           96.86325,
           75.70494,
           58.86466,
           57.20374,
           55.18837,
           78.128,
           108.5582,
           154.3774,
           319.1686,
           372.8826,
           275.4655,
           130.2632,
           54.93822,
           25.49719,
           8.047439,
           8.084393,
           5.115252,
           5.678269,
           0,
           0,
           0
          ],
          [
           13,
           0,
           48.08919,
           142.5558,
           140.3777,
           154.7261,
           87.9361,
           58.11092,
           52.83869,
           67.14822,
           83.66798,
           118.9242,
           150.0681,
           272.9709,
           341.1366,
           238.664,
           190.2,
           116.8943,
           91.48672,
           14.0157,
           42.29277,
           5.115252,
           0,
           0,
           0
          ],
          [
           14,
           0,
           54.1941,
           146.3839,
           99.48143,
           96.19411,
           102.9473,
           76.14089,
           57.7844,
           47.0402,
           64.36799,
           84.23767,
           162.7181,
           121.3275,
           213.1646,
           328.482,
           285.4489,
           283.8319,
           212.815,
           164.549,
           92.29631,
           7.244015,
           1.167,
           0,
           0
          ],
          [
           15,
           0,
           6.919659,
           195.1709,
           132.5253,
           135.2341,
           89.85069,
           89.45549,
           60.29967,
           50.33806,
           39.17583,
           59.06854,
           74.52159,
           84.93402,
           187.1219,
           123.9673,
           103.7027,
           128.986,
           165.1283,
           249.7054,
           95.39966,
           10.00284,
           2.39255,
           0,
           0
          ],
          [
           16,
           0,
           21.73871,
           123.1339,
           176.7414,
           158.2698,
           137.235,
           105.3089,
           86.63255,
           53.11591,
           29.03865,
           30.40539,
           39.04902,
           49.23405,
           63.27853,
           111.4215,
           101.1956,
           40.00962,
           59.84565,
           74.51253,
           17.06316,
           2.435141,
           2.287471,
           -0.0003636982,
           0
          ],
          [
           17,
           0,
           0,
           62.04672,
           136.3122,
           201.7952,
           168.1343,
           95.2046,
           58.90624,
           46.94091,
           49.27053,
           37.10416,
           17.97011,
           30.93697,
           33.39257,
           44.03077,
           55.64542,
           78.22423,
           14.42782,
           9.954997,
           7.768213,
           13.0254,
           21.73166,
           2.156372,
           0.5317867
          ],
          [
           18,
           0,
           0,
           79.62993,
           139.6978,
           173.167,
           192.8718,
           196.3499,
           144.6611,
           106.5424,
           57.16653,
           41.16107,
           32.12764,
           13.8566,
           10.91772,
           12.07177,
           22.38254,
           24.72105,
           6.803666,
           4.200841,
           16.46857,
           15.70744,
           33.96221,
           7.575688,
           -0.04880907
          ],
          [
           19,
           0,
           0,
           33.2664,
           57.53643,
           167.2241,
           196.4833,
           194.7966,
           182.1884,
           119.6961,
           73.02113,
           48.36549,
           33.74652,
           26.2379,
           16.3578,
           6.811293,
           6.63927,
           6.639271,
           8.468093,
           6.194273,
           3.591233,
           3.81486,
           8.600739,
           5.21889,
           0
          ],
          [
           20,
           0,
           0,
           29.77937,
           54.97282,
           144.7995,
           207.4904,
           165.3432,
           171.4047,
           174.9216,
           100.2733,
           61.46441,
           50.19171,
           26.08209,
           17.18218,
           8.468093,
           6.63927,
           6.334467,
           6.334467,
           5.666687,
           4.272203,
           0,
           0,
           0,
           0
          ],
          [
           21,
           0,
           0,
           31.409,
           132.7418,
           185.5796,
           121.8299,
           185.3841,
           160.6566,
           116.1478,
           118.1078,
           141.7946,
           65.56351,
           48.84066,
           23.13864,
           18.12932,
           10.28531,
           6.029663,
           6.044627,
           5.694764,
           3.739085,
           3.896037,
           0,
           0,
           0
          ],
          [
           22,
           0,
           0,
           19.58994,
           42.30355,
           96.26777,
           187.1207,
           179.6626,
           221.3898,
           154.2617,
           142.1604,
           148.5737,
           67.17937,
           40.69044,
           39.74512,
           26.10166,
           14.48469,
           8.65873,
           3.896037,
           3.571392,
           3.896037,
           3.896037,
           3.896037,
           1.077756,
           0
          ],
          [
           23,
           0.001229679,
           3.008948,
           5.909858,
           33.50574,
           104.3341,
           152.2165,
           198.1988,
           191.841,
           228.7349,
           168.1041,
           144.2759,
           110.7436,
           57.65214,
           42.63504,
           27.91891,
           15.41052,
           8.056102,
           3.90283,
           3.879774,
           3.936718,
           3.968634,
           0.1236256,
           3.985531,
           -0.1835741
          ],
          [
           24,
           0,
           5.626141,
           7.676256,
           63.16226,
           45.99762,
           79.56688,
           227.311,
           203.9287,
           172.5618,
           177.1462,
           140.4554,
           123.9905,
           110.346,
           65.12319,
           34.31887,
           24.5278,
           9.561069,
           3.334991,
           5.590495,
           5.487353,
           5.909499,
           5.868994,
           5.833817,
           3.568177
          ]
         ]
        }
       ],
       "layout": {
        "autosize": false,
        "height": 500,
        "margin": {
         "b": 65,
         "l": 65,
         "r": 50,
         "t": 90
        },
        "template": {
         "data": {
          "bar": [
           {
            "error_x": {
             "color": "#2a3f5f"
            },
            "error_y": {
             "color": "#2a3f5f"
            },
            "marker": {
             "line": {
              "color": "#E5ECF6",
              "width": 0.5
             },
             "pattern": {
              "fillmode": "overlay",
              "size": 10,
              "solidity": 0.2
             }
            },
            "type": "bar"
           }
          ],
          "barpolar": [
           {
            "marker": {
             "line": {
              "color": "#E5ECF6",
              "width": 0.5
             },
             "pattern": {
              "fillmode": "overlay",
              "size": 10,
              "solidity": 0.2
             }
            },
            "type": "barpolar"
           }
          ],
          "carpet": [
           {
            "aaxis": {
             "endlinecolor": "#2a3f5f",
             "gridcolor": "white",
             "linecolor": "white",
             "minorgridcolor": "white",
             "startlinecolor": "#2a3f5f"
            },
            "baxis": {
             "endlinecolor": "#2a3f5f",
             "gridcolor": "white",
             "linecolor": "white",
             "minorgridcolor": "white",
             "startlinecolor": "#2a3f5f"
            },
            "type": "carpet"
           }
          ],
          "choropleth": [
           {
            "colorbar": {
             "outlinewidth": 0,
             "ticks": ""
            },
            "type": "choropleth"
           }
          ],
          "contour": [
           {
            "colorbar": {
             "outlinewidth": 0,
             "ticks": ""
            },
            "colorscale": [
             [
              0,
              "#0d0887"
             ],
             [
              0.1111111111111111,
              "#46039f"
             ],
             [
              0.2222222222222222,
              "#7201a8"
             ],
             [
              0.3333333333333333,
              "#9c179e"
             ],
             [
              0.4444444444444444,
              "#bd3786"
             ],
             [
              0.5555555555555556,
              "#d8576b"
             ],
             [
              0.6666666666666666,
              "#ed7953"
             ],
             [
              0.7777777777777778,
              "#fb9f3a"
             ],
             [
              0.8888888888888888,
              "#fdca26"
             ],
             [
              1,
              "#f0f921"
             ]
            ],
            "type": "contour"
           }
          ],
          "contourcarpet": [
           {
            "colorbar": {
             "outlinewidth": 0,
             "ticks": ""
            },
            "type": "contourcarpet"
           }
          ],
          "heatmap": [
           {
            "colorbar": {
             "outlinewidth": 0,
             "ticks": ""
            },
            "colorscale": [
             [
              0,
              "#0d0887"
             ],
             [
              0.1111111111111111,
              "#46039f"
             ],
             [
              0.2222222222222222,
              "#7201a8"
             ],
             [
              0.3333333333333333,
              "#9c179e"
             ],
             [
              0.4444444444444444,
              "#bd3786"
             ],
             [
              0.5555555555555556,
              "#d8576b"
             ],
             [
              0.6666666666666666,
              "#ed7953"
             ],
             [
              0.7777777777777778,
              "#fb9f3a"
             ],
             [
              0.8888888888888888,
              "#fdca26"
             ],
             [
              1,
              "#f0f921"
             ]
            ],
            "type": "heatmap"
           }
          ],
          "heatmapgl": [
           {
            "colorbar": {
             "outlinewidth": 0,
             "ticks": ""
            },
            "colorscale": [
             [
              0,
              "#0d0887"
             ],
             [
              0.1111111111111111,
              "#46039f"
             ],
             [
              0.2222222222222222,
              "#7201a8"
             ],
             [
              0.3333333333333333,
              "#9c179e"
             ],
             [
              0.4444444444444444,
              "#bd3786"
             ],
             [
              0.5555555555555556,
              "#d8576b"
             ],
             [
              0.6666666666666666,
              "#ed7953"
             ],
             [
              0.7777777777777778,
              "#fb9f3a"
             ],
             [
              0.8888888888888888,
              "#fdca26"
             ],
             [
              1,
              "#f0f921"
             ]
            ],
            "type": "heatmapgl"
           }
          ],
          "histogram": [
           {
            "marker": {
             "pattern": {
              "fillmode": "overlay",
              "size": 10,
              "solidity": 0.2
             }
            },
            "type": "histogram"
           }
          ],
          "histogram2d": [
           {
            "colorbar": {
             "outlinewidth": 0,
             "ticks": ""
            },
            "colorscale": [
             [
              0,
              "#0d0887"
             ],
             [
              0.1111111111111111,
              "#46039f"
             ],
             [
              0.2222222222222222,
              "#7201a8"
             ],
             [
              0.3333333333333333,
              "#9c179e"
             ],
             [
              0.4444444444444444,
              "#bd3786"
             ],
             [
              0.5555555555555556,
              "#d8576b"
             ],
             [
              0.6666666666666666,
              "#ed7953"
             ],
             [
              0.7777777777777778,
              "#fb9f3a"
             ],
             [
              0.8888888888888888,
              "#fdca26"
             ],
             [
              1,
              "#f0f921"
             ]
            ],
            "type": "histogram2d"
           }
          ],
          "histogram2dcontour": [
           {
            "colorbar": {
             "outlinewidth": 0,
             "ticks": ""
            },
            "colorscale": [
             [
              0,
              "#0d0887"
             ],
             [
              0.1111111111111111,
              "#46039f"
             ],
             [
              0.2222222222222222,
              "#7201a8"
             ],
             [
              0.3333333333333333,
              "#9c179e"
             ],
             [
              0.4444444444444444,
              "#bd3786"
             ],
             [
              0.5555555555555556,
              "#d8576b"
             ],
             [
              0.6666666666666666,
              "#ed7953"
             ],
             [
              0.7777777777777778,
              "#fb9f3a"
             ],
             [
              0.8888888888888888,
              "#fdca26"
             ],
             [
              1,
              "#f0f921"
             ]
            ],
            "type": "histogram2dcontour"
           }
          ],
          "mesh3d": [
           {
            "colorbar": {
             "outlinewidth": 0,
             "ticks": ""
            },
            "type": "mesh3d"
           }
          ],
          "parcoords": [
           {
            "line": {
             "colorbar": {
              "outlinewidth": 0,
              "ticks": ""
             }
            },
            "type": "parcoords"
           }
          ],
          "pie": [
           {
            "automargin": true,
            "type": "pie"
           }
          ],
          "scatter": [
           {
            "fillpattern": {
             "fillmode": "overlay",
             "size": 10,
             "solidity": 0.2
            },
            "type": "scatter"
           }
          ],
          "scatter3d": [
           {
            "line": {
             "colorbar": {
              "outlinewidth": 0,
              "ticks": ""
             }
            },
            "marker": {
             "colorbar": {
              "outlinewidth": 0,
              "ticks": ""
             }
            },
            "type": "scatter3d"
           }
          ],
          "scattercarpet": [
           {
            "marker": {
             "colorbar": {
              "outlinewidth": 0,
              "ticks": ""
             }
            },
            "type": "scattercarpet"
           }
          ],
          "scattergeo": [
           {
            "marker": {
             "colorbar": {
              "outlinewidth": 0,
              "ticks": ""
             }
            },
            "type": "scattergeo"
           }
          ],
          "scattergl": [
           {
            "marker": {
             "colorbar": {
              "outlinewidth": 0,
              "ticks": ""
             }
            },
            "type": "scattergl"
           }
          ],
          "scattermapbox": [
           {
            "marker": {
             "colorbar": {
              "outlinewidth": 0,
              "ticks": ""
             }
            },
            "type": "scattermapbox"
           }
          ],
          "scatterpolar": [
           {
            "marker": {
             "colorbar": {
              "outlinewidth": 0,
              "ticks": ""
             }
            },
            "type": "scatterpolar"
           }
          ],
          "scatterpolargl": [
           {
            "marker": {
             "colorbar": {
              "outlinewidth": 0,
              "ticks": ""
             }
            },
            "type": "scatterpolargl"
           }
          ],
          "scatterternary": [
           {
            "marker": {
             "colorbar": {
              "outlinewidth": 0,
              "ticks": ""
             }
            },
            "type": "scatterternary"
           }
          ],
          "surface": [
           {
            "colorbar": {
             "outlinewidth": 0,
             "ticks": ""
            },
            "colorscale": [
             [
              0,
              "#0d0887"
             ],
             [
              0.1111111111111111,
              "#46039f"
             ],
             [
              0.2222222222222222,
              "#7201a8"
             ],
             [
              0.3333333333333333,
              "#9c179e"
             ],
             [
              0.4444444444444444,
              "#bd3786"
             ],
             [
              0.5555555555555556,
              "#d8576b"
             ],
             [
              0.6666666666666666,
              "#ed7953"
             ],
             [
              0.7777777777777778,
              "#fb9f3a"
             ],
             [
              0.8888888888888888,
              "#fdca26"
             ],
             [
              1,
              "#f0f921"
             ]
            ],
            "type": "surface"
           }
          ],
          "table": [
           {
            "cells": {
             "fill": {
              "color": "#EBF0F8"
             },
             "line": {
              "color": "white"
             }
            },
            "header": {
             "fill": {
              "color": "#C8D4E3"
             },
             "line": {
              "color": "white"
             }
            },
            "type": "table"
           }
          ]
         },
         "layout": {
          "annotationdefaults": {
           "arrowcolor": "#2a3f5f",
           "arrowhead": 0,
           "arrowwidth": 1
          },
          "autotypenumbers": "strict",
          "coloraxis": {
           "colorbar": {
            "outlinewidth": 0,
            "ticks": ""
           }
          },
          "colorscale": {
           "diverging": [
            [
             0,
             "#8e0152"
            ],
            [
             0.1,
             "#c51b7d"
            ],
            [
             0.2,
             "#de77ae"
            ],
            [
             0.3,
             "#f1b6da"
            ],
            [
             0.4,
             "#fde0ef"
            ],
            [
             0.5,
             "#f7f7f7"
            ],
            [
             0.6,
             "#e6f5d0"
            ],
            [
             0.7,
             "#b8e186"
            ],
            [
             0.8,
             "#7fbc41"
            ],
            [
             0.9,
             "#4d9221"
            ],
            [
             1,
             "#276419"
            ]
           ],
           "sequential": [
            [
             0,
             "#0d0887"
            ],
            [
             0.1111111111111111,
             "#46039f"
            ],
            [
             0.2222222222222222,
             "#7201a8"
            ],
            [
             0.3333333333333333,
             "#9c179e"
            ],
            [
             0.4444444444444444,
             "#bd3786"
            ],
            [
             0.5555555555555556,
             "#d8576b"
            ],
            [
             0.6666666666666666,
             "#ed7953"
            ],
            [
             0.7777777777777778,
             "#fb9f3a"
            ],
            [
             0.8888888888888888,
             "#fdca26"
            ],
            [
             1,
             "#f0f921"
            ]
           ],
           "sequentialminus": [
            [
             0,
             "#0d0887"
            ],
            [
             0.1111111111111111,
             "#46039f"
            ],
            [
             0.2222222222222222,
             "#7201a8"
            ],
            [
             0.3333333333333333,
             "#9c179e"
            ],
            [
             0.4444444444444444,
             "#bd3786"
            ],
            [
             0.5555555555555556,
             "#d8576b"
            ],
            [
             0.6666666666666666,
             "#ed7953"
            ],
            [
             0.7777777777777778,
             "#fb9f3a"
            ],
            [
             0.8888888888888888,
             "#fdca26"
            ],
            [
             1,
             "#f0f921"
            ]
           ]
          },
          "colorway": [
           "#636efa",
           "#EF553B",
           "#00cc96",
           "#ab63fa",
           "#FFA15A",
           "#19d3f3",
           "#FF6692",
           "#B6E880",
           "#FF97FF",
           "#FECB52"
          ],
          "font": {
           "color": "#2a3f5f"
          },
          "geo": {
           "bgcolor": "white",
           "lakecolor": "white",
           "landcolor": "#E5ECF6",
           "showlakes": true,
           "showland": true,
           "subunitcolor": "white"
          },
          "hoverlabel": {
           "align": "left"
          },
          "hovermode": "closest",
          "mapbox": {
           "style": "light"
          },
          "paper_bgcolor": "white",
          "plot_bgcolor": "#E5ECF6",
          "polar": {
           "angularaxis": {
            "gridcolor": "white",
            "linecolor": "white",
            "ticks": ""
           },
           "bgcolor": "#E5ECF6",
           "radialaxis": {
            "gridcolor": "white",
            "linecolor": "white",
            "ticks": ""
           }
          },
          "scene": {
           "xaxis": {
            "backgroundcolor": "#E5ECF6",
            "gridcolor": "white",
            "gridwidth": 2,
            "linecolor": "white",
            "showbackground": true,
            "ticks": "",
            "zerolinecolor": "white"
           },
           "yaxis": {
            "backgroundcolor": "#E5ECF6",
            "gridcolor": "white",
            "gridwidth": 2,
            "linecolor": "white",
            "showbackground": true,
            "ticks": "",
            "zerolinecolor": "white"
           },
           "zaxis": {
            "backgroundcolor": "#E5ECF6",
            "gridcolor": "white",
            "gridwidth": 2,
            "linecolor": "white",
            "showbackground": true,
            "ticks": "",
            "zerolinecolor": "white"
           }
          },
          "shapedefaults": {
           "line": {
            "color": "#2a3f5f"
           }
          },
          "ternary": {
           "aaxis": {
            "gridcolor": "white",
            "linecolor": "white",
            "ticks": ""
           },
           "baxis": {
            "gridcolor": "white",
            "linecolor": "white",
            "ticks": ""
           },
           "bgcolor": "#E5ECF6",
           "caxis": {
            "gridcolor": "white",
            "linecolor": "white",
            "ticks": ""
           }
          },
          "title": {
           "x": 0.05
          },
          "xaxis": {
           "automargin": true,
           "gridcolor": "white",
           "linecolor": "white",
           "ticks": "",
           "title": {
            "standoff": 15
           },
           "zerolinecolor": "white",
           "zerolinewidth": 2
          },
          "yaxis": {
           "automargin": true,
           "gridcolor": "white",
           "linecolor": "white",
           "ticks": "",
           "title": {
            "standoff": 15
           },
           "zerolinecolor": "white",
           "zerolinewidth": 2
          }
         }
        },
        "title": {
         "text": "Mt Bruno Elevation"
        },
        "width": 500
       }
      }
     },
     "metadata": {},
     "output_type": "display_data"
    }
   ],
   "source": [
    "import plotly.graph_objects as go\n",
    "\n",
    "import pandas as pd\n",
    "\n",
    "# Read data from a csv\n",
    "z_data = pd.read_csv('https://raw.githubusercontent.com/plotly/datasets/master/api_docs/mt_bruno_elevation.csv')\n",
    "\n",
    "fig = go.Figure(data=[go.Surface(z=z_data.values)])\n",
    "\n",
    "fig.update_layout(title='Mt Bruno Elevation', autosize=False,\n",
    "                  width=500, height=500,\n",
    "                  margin=dict(l=65, r=50, b=65, t=90))\n",
    "\n",
    "fig.show()"
   ]
  },
  {
   "cell_type": "code",
   "execution_count": 8,
   "metadata": {},
   "outputs": [
    {
     "data": {
      "application/vnd.plotly.v1+json": {
       "config": {
        "plotlyServerURL": "https://plot.ly"
       },
       "data": [
        {
         "hovertemplate": "<b>%{hovertext}</b><br><br>continent=Asia<br>year=1952<br>gdpPercap=%{x}<br>lifeExp=%{y}<br>pop=%{marker.size}<extra></extra>",
         "hovertext": [
          "Afghanistan",
          "Bahrain",
          "Bangladesh",
          "Cambodia",
          "China",
          "Hong Kong, China",
          "India",
          "Indonesia",
          "Iran",
          "Iraq",
          "Israel",
          "Japan",
          "Jordan",
          "Korea, Dem. Rep.",
          "Korea, Rep.",
          "Kuwait",
          "Lebanon",
          "Malaysia",
          "Mongolia",
          "Myanmar",
          "Nepal",
          "Oman",
          "Pakistan",
          "Philippines",
          "Saudi Arabia",
          "Singapore",
          "Sri Lanka",
          "Syria",
          "Taiwan",
          "Thailand",
          "Vietnam",
          "West Bank and Gaza",
          "Yemen, Rep."
         ],
         "ids": [
          "Afghanistan",
          "Bahrain",
          "Bangladesh",
          "Cambodia",
          "China",
          "Hong Kong, China",
          "India",
          "Indonesia",
          "Iran",
          "Iraq",
          "Israel",
          "Japan",
          "Jordan",
          "Korea, Dem. Rep.",
          "Korea, Rep.",
          "Kuwait",
          "Lebanon",
          "Malaysia",
          "Mongolia",
          "Myanmar",
          "Nepal",
          "Oman",
          "Pakistan",
          "Philippines",
          "Saudi Arabia",
          "Singapore",
          "Sri Lanka",
          "Syria",
          "Taiwan",
          "Thailand",
          "Vietnam",
          "West Bank and Gaza",
          "Yemen, Rep."
         ],
         "legendgroup": "Asia",
         "marker": {
          "color": "#636efa",
          "size": [
           8425333,
           120447,
           46886859,
           4693836,
           556263527,
           2125900,
           372000000,
           82052000,
           17272000,
           5441766,
           1620914,
           86459025,
           607914,
           8865488,
           20947571,
           160000,
           1439529,
           6748378,
           800663,
           20092996,
           9182536,
           507833,
           41346560,
           22438691,
           4005677,
           1127000,
           7982342,
           3661549,
           8550362,
           21289402,
           26246839,
           1030585,
           4963829
          ],
          "sizemode": "area",
          "sizeref": 435928.2961983471,
          "symbol": "circle"
         },
         "mode": "markers",
         "name": "Asia",
         "orientation": "v",
         "showlegend": true,
         "type": "scatter",
         "x": [
          779.4453145,
          9867.084765,
          684.2441716,
          368.4692856,
          400.448611,
          3054.421209,
          546.5657493,
          749.6816546,
          3035.326002,
          4129.766056,
          4086.522128,
          3216.956347,
          1546.907807,
          1088.277758,
          1030.592226,
          108382.3529,
          4834.804067,
          1831.132894,
          786.5668575,
          331,
          545.8657228999998,
          1828.230307,
          684.5971437999998,
          1272.880995,
          6459.554823,
          2315.138227,
          1083.53203,
          1643.485354,
          1206.947913,
          757.7974177,
          605.0664917,
          1515.5923289999996,
          781.7175761
         ],
         "xaxis": "x",
         "y": [
          28.801,
          50.93899999999999,
          37.484,
          39.417,
          44,
          60.96,
          37.37300000000001,
          37.468,
          44.869,
          45.32,
          65.39,
          63.03,
          43.158,
          50.056,
          47.453,
          55.565,
          55.928,
          48.463,
          42.244,
          36.319,
          36.157,
          37.578,
          43.43600000000001,
          47.752,
          39.875,
          60.396,
          57.593,
          45.883,
          58.5,
          50.848,
          40.412,
          43.16,
          32.548
         ],
         "yaxis": "y"
        },
        {
         "hovertemplate": "<b>%{hovertext}</b><br><br>continent=Europe<br>year=1952<br>gdpPercap=%{x}<br>lifeExp=%{y}<br>pop=%{marker.size}<extra></extra>",
         "hovertext": [
          "Albania",
          "Austria",
          "Belgium",
          "Bosnia and Herzegovina",
          "Bulgaria",
          "Croatia",
          "Czech Republic",
          "Denmark",
          "Finland",
          "France",
          "Germany",
          "Greece",
          "Hungary",
          "Iceland",
          "Ireland",
          "Italy",
          "Montenegro",
          "Netherlands",
          "Norway",
          "Poland",
          "Portugal",
          "Romania",
          "Serbia",
          "Slovak Republic",
          "Slovenia",
          "Spain",
          "Sweden",
          "Switzerland",
          "Turkey",
          "United Kingdom"
         ],
         "ids": [
          "Albania",
          "Austria",
          "Belgium",
          "Bosnia and Herzegovina",
          "Bulgaria",
          "Croatia",
          "Czech Republic",
          "Denmark",
          "Finland",
          "France",
          "Germany",
          "Greece",
          "Hungary",
          "Iceland",
          "Ireland",
          "Italy",
          "Montenegro",
          "Netherlands",
          "Norway",
          "Poland",
          "Portugal",
          "Romania",
          "Serbia",
          "Slovak Republic",
          "Slovenia",
          "Spain",
          "Sweden",
          "Switzerland",
          "Turkey",
          "United Kingdom"
         ],
         "legendgroup": "Europe",
         "marker": {
          "color": "#EF553B",
          "size": [
           1282697,
           6927772,
           8730405,
           2791000,
           7274900,
           3882229,
           9125183,
           4334000,
           4090500,
           42459667,
           69145952,
           7733250,
           9504000,
           147962,
           2952156,
           47666000,
           413834,
           10381988,
           3327728,
           25730551,
           8526050,
           16630000,
           6860147,
           3558137,
           1489518,
           28549870,
           7124673,
           4815000,
           22235677,
           50430000
          ],
          "sizemode": "area",
          "sizeref": 435928.2961983471,
          "symbol": "circle"
         },
         "mode": "markers",
         "name": "Europe",
         "orientation": "v",
         "showlegend": true,
         "type": "scatter",
         "x": [
          1601.056136,
          6137.076492,
          8343.105126999999,
          973.5331948,
          2444.286648,
          3119.23652,
          6876.14025,
          9692.385245,
          6424.519071,
          7029.809327,
          7144.114393000002,
          3530.690067,
          5263.673816,
          7267.688428,
          5210.280328,
          4931.404154999998,
          2647.585601,
          8941.571858,
          10095.42172,
          4029.329699,
          3068.319867,
          3144.613186,
          3581.459448,
          5074.659104,
          4215.041741,
          3834.034742,
          8527.844662000001,
          14734.23275,
          1969.10098,
          9979.508487
         ],
         "xaxis": "x",
         "y": [
          55.23,
          66.8,
          68,
          53.82,
          59.6,
          61.21,
          66.87,
          70.78,
          66.55,
          67.41,
          67.5,
          65.86,
          64.03,
          72.49,
          66.91,
          65.94,
          59.164,
          72.13,
          72.67,
          61.31,
          59.82,
          61.05,
          57.996,
          64.36,
          65.57,
          64.94,
          71.86,
          69.62,
          43.585,
          69.18
         ],
         "yaxis": "y"
        },
        {
         "hovertemplate": "<b>%{hovertext}</b><br><br>continent=Africa<br>year=1952<br>gdpPercap=%{x}<br>lifeExp=%{y}<br>pop=%{marker.size}<extra></extra>",
         "hovertext": [
          "Algeria",
          "Angola",
          "Benin",
          "Botswana",
          "Burkina Faso",
          "Burundi",
          "Cameroon",
          "Central African Republic",
          "Chad",
          "Comoros",
          "Congo, Dem. Rep.",
          "Congo, Rep.",
          "Cote d'Ivoire",
          "Djibouti",
          "Egypt",
          "Equatorial Guinea",
          "Eritrea",
          "Ethiopia",
          "Gabon",
          "Gambia",
          "Ghana",
          "Guinea",
          "Guinea-Bissau",
          "Kenya",
          "Lesotho",
          "Liberia",
          "Libya",
          "Madagascar",
          "Malawi",
          "Mali",
          "Mauritania",
          "Mauritius",
          "Morocco",
          "Mozambique",
          "Namibia",
          "Niger",
          "Nigeria",
          "Reunion",
          "Rwanda",
          "Sao Tome and Principe",
          "Senegal",
          "Sierra Leone",
          "Somalia",
          "South Africa",
          "Sudan",
          "Swaziland",
          "Tanzania",
          "Togo",
          "Tunisia",
          "Uganda",
          "Zambia",
          "Zimbabwe"
         ],
         "ids": [
          "Algeria",
          "Angola",
          "Benin",
          "Botswana",
          "Burkina Faso",
          "Burundi",
          "Cameroon",
          "Central African Republic",
          "Chad",
          "Comoros",
          "Congo, Dem. Rep.",
          "Congo, Rep.",
          "Cote d'Ivoire",
          "Djibouti",
          "Egypt",
          "Equatorial Guinea",
          "Eritrea",
          "Ethiopia",
          "Gabon",
          "Gambia",
          "Ghana",
          "Guinea",
          "Guinea-Bissau",
          "Kenya",
          "Lesotho",
          "Liberia",
          "Libya",
          "Madagascar",
          "Malawi",
          "Mali",
          "Mauritania",
          "Mauritius",
          "Morocco",
          "Mozambique",
          "Namibia",
          "Niger",
          "Nigeria",
          "Reunion",
          "Rwanda",
          "Sao Tome and Principe",
          "Senegal",
          "Sierra Leone",
          "Somalia",
          "South Africa",
          "Sudan",
          "Swaziland",
          "Tanzania",
          "Togo",
          "Tunisia",
          "Uganda",
          "Zambia",
          "Zimbabwe"
         ],
         "legendgroup": "Africa",
         "marker": {
          "color": "#00cc96",
          "size": [
           9279525,
           4232095,
           1738315,
           442308,
           4469979,
           2445618,
           5009067,
           1291695,
           2682462,
           153936,
           14100005,
           854885,
           2977019,
           63149,
           22223309,
           216964,
           1438760,
           20860941,
           420702,
           284320,
           5581001,
           2664249,
           580653,
           6464046,
           748747,
           863308,
           1019729,
           4762912,
           2917802,
           3838168,
           1022556,
           516556,
           9939217,
           6446316,
           485831,
           3379468,
           33119096,
           257700,
           2534927,
           60011,
           2755589,
           2143249,
           2526994,
           14264935,
           8504667,
           290243,
           8322925,
           1219113,
           3647735,
           5824797,
           2672000,
           3080907
          ],
          "sizemode": "area",
          "sizeref": 435928.2961983471,
          "symbol": "circle"
         },
         "mode": "markers",
         "name": "Africa",
         "orientation": "v",
         "showlegend": true,
         "type": "scatter",
         "x": [
          2449.008185,
          3520.610273,
          1062.7522,
          851.2411407,
          543.2552413,
          339.2964587,
          1172.667655,
          1071.310713,
          1178.665927,
          1102.990936,
          780.5423257,
          2125.621418,
          1388.594732,
          2669.529475,
          1418.822445,
          375.6431231,
          328.9405571000001,
          362.1462796,
          4293.476475,
          485.2306591,
          911.2989371,
          510.1964923000001,
          299.850319,
          853.5409189999998,
          298.8462121,
          575.5729961000002,
          2387.54806,
          1443.011715,
          369.1650802,
          452.3369807,
          743.1159097,
          1967.955707,
          1688.20357,
          468.5260381,
          2423.780443,
          761.879376,
          1077.281856,
          2718.885295,
          493.3238752,
          879.5835855,
          1450.356983,
          879.7877358,
          1135.749842,
          4725.295531000002,
          1615.991129,
          1148.376626,
          716.6500721,
          859.8086567,
          1468.475631,
          734.753484,
          1147.388831,
          406.8841148
         ],
         "xaxis": "x",
         "y": [
          43.077,
          30.015,
          38.223,
          47.622,
          31.975,
          39.031,
          38.523,
          35.463,
          38.092,
          40.715,
          39.143,
          42.111,
          40.477,
          34.812,
          41.893,
          34.482,
          35.92800000000001,
          34.078,
          37.003,
          30,
          43.149,
          33.609,
          32.5,
          42.27,
          42.13800000000001,
          38.48,
          42.723,
          36.681,
          36.256,
          33.685,
          40.543,
          50.986,
          42.87300000000001,
          31.286,
          41.725,
          37.444,
          36.324,
          52.724,
          40,
          46.471,
          37.278,
          30.331,
          32.978,
          45.00899999999999,
          38.635,
          41.407,
          41.215,
          38.596,
          44.6,
          39.978,
          42.038,
          48.451
         ],
         "yaxis": "y"
        },
        {
         "hovertemplate": "<b>%{hovertext}</b><br><br>continent=Americas<br>year=1952<br>gdpPercap=%{x}<br>lifeExp=%{y}<br>pop=%{marker.size}<extra></extra>",
         "hovertext": [
          "Argentina",
          "Bolivia",
          "Brazil",
          "Canada",
          "Chile",
          "Colombia",
          "Costa Rica",
          "Cuba",
          "Dominican Republic",
          "Ecuador",
          "El Salvador",
          "Guatemala",
          "Haiti",
          "Honduras",
          "Jamaica",
          "Mexico",
          "Nicaragua",
          "Panama",
          "Paraguay",
          "Peru",
          "Puerto Rico",
          "Trinidad and Tobago",
          "United States",
          "Uruguay",
          "Venezuela"
         ],
         "ids": [
          "Argentina",
          "Bolivia",
          "Brazil",
          "Canada",
          "Chile",
          "Colombia",
          "Costa Rica",
          "Cuba",
          "Dominican Republic",
          "Ecuador",
          "El Salvador",
          "Guatemala",
          "Haiti",
          "Honduras",
          "Jamaica",
          "Mexico",
          "Nicaragua",
          "Panama",
          "Paraguay",
          "Peru",
          "Puerto Rico",
          "Trinidad and Tobago",
          "United States",
          "Uruguay",
          "Venezuela"
         ],
         "legendgroup": "Americas",
         "marker": {
          "color": "#ab63fa",
          "size": [
           17876956,
           2883315,
           56602560,
           14785584,
           6377619,
           12350771,
           926317,
           6007797,
           2491346,
           3548753,
           2042865,
           3146381,
           3201488,
           1517453,
           1426095,
           30144317,
           1165790,
           940080,
           1555876,
           8025700,
           2227000,
           662850,
           157553000,
           2252965,
           5439568
          ],
          "sizemode": "area",
          "sizeref": 435928.2961983471,
          "symbol": "circle"
         },
         "mode": "markers",
         "name": "Americas",
         "orientation": "v",
         "showlegend": true,
         "type": "scatter",
         "x": [
          5911.315053,
          2677.326347,
          2108.944355,
          11367.16112,
          3939.978789,
          2144.115096,
          2627.0094710000008,
          5586.53878,
          1397.717137,
          3522.110717,
          3048.3029,
          2428.2377690000008,
          1840.366939,
          2194.926204,
          2898.530881,
          3478.125529,
          3112.363948,
          2480.380334,
          1952.308701,
          3758.523437,
          3081.959785,
          3023.271928,
          13990.482080000002,
          5716.766744,
          7689.799761
         ],
         "xaxis": "x",
         "y": [
          62.485,
          40.414,
          50.917,
          68.75,
          54.745,
          50.643,
          57.206,
          59.42100000000001,
          45.928,
          48.357,
          45.262,
          42.023,
          37.579,
          41.912,
          58.53,
          50.789,
          42.31399999999999,
          55.191,
          62.649,
          43.902,
          64.28,
          59.1,
          68.44,
          66.071,
          55.088
         ],
         "yaxis": "y"
        },
        {
         "hovertemplate": "<b>%{hovertext}</b><br><br>continent=Oceania<br>year=1952<br>gdpPercap=%{x}<br>lifeExp=%{y}<br>pop=%{marker.size}<extra></extra>",
         "hovertext": [
          "Australia",
          "New Zealand"
         ],
         "ids": [
          "Australia",
          "New Zealand"
         ],
         "legendgroup": "Oceania",
         "marker": {
          "color": "#FFA15A",
          "size": [
           8691212,
           1994794
          ],
          "sizemode": "area",
          "sizeref": 435928.2961983471,
          "symbol": "circle"
         },
         "mode": "markers",
         "name": "Oceania",
         "orientation": "v",
         "showlegend": true,
         "type": "scatter",
         "x": [
          10039.59564,
          10556.57566
         ],
         "xaxis": "x",
         "y": [
          69.12,
          69.39
         ],
         "yaxis": "y"
        }
       ],
       "frames": [
        {
         "data": [
          {
           "hovertemplate": "<b>%{hovertext}</b><br><br>continent=Asia<br>year=1952<br>gdpPercap=%{x}<br>lifeExp=%{y}<br>pop=%{marker.size}<extra></extra>",
           "hovertext": [
            "Afghanistan",
            "Bahrain",
            "Bangladesh",
            "Cambodia",
            "China",
            "Hong Kong, China",
            "India",
            "Indonesia",
            "Iran",
            "Iraq",
            "Israel",
            "Japan",
            "Jordan",
            "Korea, Dem. Rep.",
            "Korea, Rep.",
            "Kuwait",
            "Lebanon",
            "Malaysia",
            "Mongolia",
            "Myanmar",
            "Nepal",
            "Oman",
            "Pakistan",
            "Philippines",
            "Saudi Arabia",
            "Singapore",
            "Sri Lanka",
            "Syria",
            "Taiwan",
            "Thailand",
            "Vietnam",
            "West Bank and Gaza",
            "Yemen, Rep."
           ],
           "ids": [
            "Afghanistan",
            "Bahrain",
            "Bangladesh",
            "Cambodia",
            "China",
            "Hong Kong, China",
            "India",
            "Indonesia",
            "Iran",
            "Iraq",
            "Israel",
            "Japan",
            "Jordan",
            "Korea, Dem. Rep.",
            "Korea, Rep.",
            "Kuwait",
            "Lebanon",
            "Malaysia",
            "Mongolia",
            "Myanmar",
            "Nepal",
            "Oman",
            "Pakistan",
            "Philippines",
            "Saudi Arabia",
            "Singapore",
            "Sri Lanka",
            "Syria",
            "Taiwan",
            "Thailand",
            "Vietnam",
            "West Bank and Gaza",
            "Yemen, Rep."
           ],
           "legendgroup": "Asia",
           "marker": {
            "color": "#636efa",
            "size": [
             8425333,
             120447,
             46886859,
             4693836,
             556263527,
             2125900,
             372000000,
             82052000,
             17272000,
             5441766,
             1620914,
             86459025,
             607914,
             8865488,
             20947571,
             160000,
             1439529,
             6748378,
             800663,
             20092996,
             9182536,
             507833,
             41346560,
             22438691,
             4005677,
             1127000,
             7982342,
             3661549,
             8550362,
             21289402,
             26246839,
             1030585,
             4963829
            ],
            "sizemode": "area",
            "sizeref": 435928.2961983471,
            "symbol": "circle"
           },
           "mode": "markers",
           "name": "Asia",
           "orientation": "v",
           "showlegend": true,
           "type": "scatter",
           "x": [
            779.4453145,
            9867.084765,
            684.2441716,
            368.4692856,
            400.448611,
            3054.421209,
            546.5657493,
            749.6816546,
            3035.326002,
            4129.766056,
            4086.522128,
            3216.956347,
            1546.907807,
            1088.277758,
            1030.592226,
            108382.3529,
            4834.804067,
            1831.132894,
            786.5668575,
            331,
            545.8657228999998,
            1828.230307,
            684.5971437999998,
            1272.880995,
            6459.554823,
            2315.138227,
            1083.53203,
            1643.485354,
            1206.947913,
            757.7974177,
            605.0664917,
            1515.5923289999996,
            781.7175761
           ],
           "xaxis": "x",
           "y": [
            28.801,
            50.93899999999999,
            37.484,
            39.417,
            44,
            60.96,
            37.37300000000001,
            37.468,
            44.869,
            45.32,
            65.39,
            63.03,
            43.158,
            50.056,
            47.453,
            55.565,
            55.928,
            48.463,
            42.244,
            36.319,
            36.157,
            37.578,
            43.43600000000001,
            47.752,
            39.875,
            60.396,
            57.593,
            45.883,
            58.5,
            50.848,
            40.412,
            43.16,
            32.548
           ],
           "yaxis": "y"
          },
          {
           "hovertemplate": "<b>%{hovertext}</b><br><br>continent=Europe<br>year=1952<br>gdpPercap=%{x}<br>lifeExp=%{y}<br>pop=%{marker.size}<extra></extra>",
           "hovertext": [
            "Albania",
            "Austria",
            "Belgium",
            "Bosnia and Herzegovina",
            "Bulgaria",
            "Croatia",
            "Czech Republic",
            "Denmark",
            "Finland",
            "France",
            "Germany",
            "Greece",
            "Hungary",
            "Iceland",
            "Ireland",
            "Italy",
            "Montenegro",
            "Netherlands",
            "Norway",
            "Poland",
            "Portugal",
            "Romania",
            "Serbia",
            "Slovak Republic",
            "Slovenia",
            "Spain",
            "Sweden",
            "Switzerland",
            "Turkey",
            "United Kingdom"
           ],
           "ids": [
            "Albania",
            "Austria",
            "Belgium",
            "Bosnia and Herzegovina",
            "Bulgaria",
            "Croatia",
            "Czech Republic",
            "Denmark",
            "Finland",
            "France",
            "Germany",
            "Greece",
            "Hungary",
            "Iceland",
            "Ireland",
            "Italy",
            "Montenegro",
            "Netherlands",
            "Norway",
            "Poland",
            "Portugal",
            "Romania",
            "Serbia",
            "Slovak Republic",
            "Slovenia",
            "Spain",
            "Sweden",
            "Switzerland",
            "Turkey",
            "United Kingdom"
           ],
           "legendgroup": "Europe",
           "marker": {
            "color": "#EF553B",
            "size": [
             1282697,
             6927772,
             8730405,
             2791000,
             7274900,
             3882229,
             9125183,
             4334000,
             4090500,
             42459667,
             69145952,
             7733250,
             9504000,
             147962,
             2952156,
             47666000,
             413834,
             10381988,
             3327728,
             25730551,
             8526050,
             16630000,
             6860147,
             3558137,
             1489518,
             28549870,
             7124673,
             4815000,
             22235677,
             50430000
            ],
            "sizemode": "area",
            "sizeref": 435928.2961983471,
            "symbol": "circle"
           },
           "mode": "markers",
           "name": "Europe",
           "orientation": "v",
           "showlegend": true,
           "type": "scatter",
           "x": [
            1601.056136,
            6137.076492,
            8343.105126999999,
            973.5331948,
            2444.286648,
            3119.23652,
            6876.14025,
            9692.385245,
            6424.519071,
            7029.809327,
            7144.114393000002,
            3530.690067,
            5263.673816,
            7267.688428,
            5210.280328,
            4931.404154999998,
            2647.585601,
            8941.571858,
            10095.42172,
            4029.329699,
            3068.319867,
            3144.613186,
            3581.459448,
            5074.659104,
            4215.041741,
            3834.034742,
            8527.844662000001,
            14734.23275,
            1969.10098,
            9979.508487
           ],
           "xaxis": "x",
           "y": [
            55.23,
            66.8,
            68,
            53.82,
            59.6,
            61.21,
            66.87,
            70.78,
            66.55,
            67.41,
            67.5,
            65.86,
            64.03,
            72.49,
            66.91,
            65.94,
            59.164,
            72.13,
            72.67,
            61.31,
            59.82,
            61.05,
            57.996,
            64.36,
            65.57,
            64.94,
            71.86,
            69.62,
            43.585,
            69.18
           ],
           "yaxis": "y"
          },
          {
           "hovertemplate": "<b>%{hovertext}</b><br><br>continent=Africa<br>year=1952<br>gdpPercap=%{x}<br>lifeExp=%{y}<br>pop=%{marker.size}<extra></extra>",
           "hovertext": [
            "Algeria",
            "Angola",
            "Benin",
            "Botswana",
            "Burkina Faso",
            "Burundi",
            "Cameroon",
            "Central African Republic",
            "Chad",
            "Comoros",
            "Congo, Dem. Rep.",
            "Congo, Rep.",
            "Cote d'Ivoire",
            "Djibouti",
            "Egypt",
            "Equatorial Guinea",
            "Eritrea",
            "Ethiopia",
            "Gabon",
            "Gambia",
            "Ghana",
            "Guinea",
            "Guinea-Bissau",
            "Kenya",
            "Lesotho",
            "Liberia",
            "Libya",
            "Madagascar",
            "Malawi",
            "Mali",
            "Mauritania",
            "Mauritius",
            "Morocco",
            "Mozambique",
            "Namibia",
            "Niger",
            "Nigeria",
            "Reunion",
            "Rwanda",
            "Sao Tome and Principe",
            "Senegal",
            "Sierra Leone",
            "Somalia",
            "South Africa",
            "Sudan",
            "Swaziland",
            "Tanzania",
            "Togo",
            "Tunisia",
            "Uganda",
            "Zambia",
            "Zimbabwe"
           ],
           "ids": [
            "Algeria",
            "Angola",
            "Benin",
            "Botswana",
            "Burkina Faso",
            "Burundi",
            "Cameroon",
            "Central African Republic",
            "Chad",
            "Comoros",
            "Congo, Dem. Rep.",
            "Congo, Rep.",
            "Cote d'Ivoire",
            "Djibouti",
            "Egypt",
            "Equatorial Guinea",
            "Eritrea",
            "Ethiopia",
            "Gabon",
            "Gambia",
            "Ghana",
            "Guinea",
            "Guinea-Bissau",
            "Kenya",
            "Lesotho",
            "Liberia",
            "Libya",
            "Madagascar",
            "Malawi",
            "Mali",
            "Mauritania",
            "Mauritius",
            "Morocco",
            "Mozambique",
            "Namibia",
            "Niger",
            "Nigeria",
            "Reunion",
            "Rwanda",
            "Sao Tome and Principe",
            "Senegal",
            "Sierra Leone",
            "Somalia",
            "South Africa",
            "Sudan",
            "Swaziland",
            "Tanzania",
            "Togo",
            "Tunisia",
            "Uganda",
            "Zambia",
            "Zimbabwe"
           ],
           "legendgroup": "Africa",
           "marker": {
            "color": "#00cc96",
            "size": [
             9279525,
             4232095,
             1738315,
             442308,
             4469979,
             2445618,
             5009067,
             1291695,
             2682462,
             153936,
             14100005,
             854885,
             2977019,
             63149,
             22223309,
             216964,
             1438760,
             20860941,
             420702,
             284320,
             5581001,
             2664249,
             580653,
             6464046,
             748747,
             863308,
             1019729,
             4762912,
             2917802,
             3838168,
             1022556,
             516556,
             9939217,
             6446316,
             485831,
             3379468,
             33119096,
             257700,
             2534927,
             60011,
             2755589,
             2143249,
             2526994,
             14264935,
             8504667,
             290243,
             8322925,
             1219113,
             3647735,
             5824797,
             2672000,
             3080907
            ],
            "sizemode": "area",
            "sizeref": 435928.2961983471,
            "symbol": "circle"
           },
           "mode": "markers",
           "name": "Africa",
           "orientation": "v",
           "showlegend": true,
           "type": "scatter",
           "x": [
            2449.008185,
            3520.610273,
            1062.7522,
            851.2411407,
            543.2552413,
            339.2964587,
            1172.667655,
            1071.310713,
            1178.665927,
            1102.990936,
            780.5423257,
            2125.621418,
            1388.594732,
            2669.529475,
            1418.822445,
            375.6431231,
            328.9405571000001,
            362.1462796,
            4293.476475,
            485.2306591,
            911.2989371,
            510.1964923000001,
            299.850319,
            853.5409189999998,
            298.8462121,
            575.5729961000002,
            2387.54806,
            1443.011715,
            369.1650802,
            452.3369807,
            743.1159097,
            1967.955707,
            1688.20357,
            468.5260381,
            2423.780443,
            761.879376,
            1077.281856,
            2718.885295,
            493.3238752,
            879.5835855,
            1450.356983,
            879.7877358,
            1135.749842,
            4725.295531000002,
            1615.991129,
            1148.376626,
            716.6500721,
            859.8086567,
            1468.475631,
            734.753484,
            1147.388831,
            406.8841148
           ],
           "xaxis": "x",
           "y": [
            43.077,
            30.015,
            38.223,
            47.622,
            31.975,
            39.031,
            38.523,
            35.463,
            38.092,
            40.715,
            39.143,
            42.111,
            40.477,
            34.812,
            41.893,
            34.482,
            35.92800000000001,
            34.078,
            37.003,
            30,
            43.149,
            33.609,
            32.5,
            42.27,
            42.13800000000001,
            38.48,
            42.723,
            36.681,
            36.256,
            33.685,
            40.543,
            50.986,
            42.87300000000001,
            31.286,
            41.725,
            37.444,
            36.324,
            52.724,
            40,
            46.471,
            37.278,
            30.331,
            32.978,
            45.00899999999999,
            38.635,
            41.407,
            41.215,
            38.596,
            44.6,
            39.978,
            42.038,
            48.451
           ],
           "yaxis": "y"
          },
          {
           "hovertemplate": "<b>%{hovertext}</b><br><br>continent=Americas<br>year=1952<br>gdpPercap=%{x}<br>lifeExp=%{y}<br>pop=%{marker.size}<extra></extra>",
           "hovertext": [
            "Argentina",
            "Bolivia",
            "Brazil",
            "Canada",
            "Chile",
            "Colombia",
            "Costa Rica",
            "Cuba",
            "Dominican Republic",
            "Ecuador",
            "El Salvador",
            "Guatemala",
            "Haiti",
            "Honduras",
            "Jamaica",
            "Mexico",
            "Nicaragua",
            "Panama",
            "Paraguay",
            "Peru",
            "Puerto Rico",
            "Trinidad and Tobago",
            "United States",
            "Uruguay",
            "Venezuela"
           ],
           "ids": [
            "Argentina",
            "Bolivia",
            "Brazil",
            "Canada",
            "Chile",
            "Colombia",
            "Costa Rica",
            "Cuba",
            "Dominican Republic",
            "Ecuador",
            "El Salvador",
            "Guatemala",
            "Haiti",
            "Honduras",
            "Jamaica",
            "Mexico",
            "Nicaragua",
            "Panama",
            "Paraguay",
            "Peru",
            "Puerto Rico",
            "Trinidad and Tobago",
            "United States",
            "Uruguay",
            "Venezuela"
           ],
           "legendgroup": "Americas",
           "marker": {
            "color": "#ab63fa",
            "size": [
             17876956,
             2883315,
             56602560,
             14785584,
             6377619,
             12350771,
             926317,
             6007797,
             2491346,
             3548753,
             2042865,
             3146381,
             3201488,
             1517453,
             1426095,
             30144317,
             1165790,
             940080,
             1555876,
             8025700,
             2227000,
             662850,
             157553000,
             2252965,
             5439568
            ],
            "sizemode": "area",
            "sizeref": 435928.2961983471,
            "symbol": "circle"
           },
           "mode": "markers",
           "name": "Americas",
           "orientation": "v",
           "showlegend": true,
           "type": "scatter",
           "x": [
            5911.315053,
            2677.326347,
            2108.944355,
            11367.16112,
            3939.978789,
            2144.115096,
            2627.0094710000008,
            5586.53878,
            1397.717137,
            3522.110717,
            3048.3029,
            2428.2377690000008,
            1840.366939,
            2194.926204,
            2898.530881,
            3478.125529,
            3112.363948,
            2480.380334,
            1952.308701,
            3758.523437,
            3081.959785,
            3023.271928,
            13990.482080000002,
            5716.766744,
            7689.799761
           ],
           "xaxis": "x",
           "y": [
            62.485,
            40.414,
            50.917,
            68.75,
            54.745,
            50.643,
            57.206,
            59.42100000000001,
            45.928,
            48.357,
            45.262,
            42.023,
            37.579,
            41.912,
            58.53,
            50.789,
            42.31399999999999,
            55.191,
            62.649,
            43.902,
            64.28,
            59.1,
            68.44,
            66.071,
            55.088
           ],
           "yaxis": "y"
          },
          {
           "hovertemplate": "<b>%{hovertext}</b><br><br>continent=Oceania<br>year=1952<br>gdpPercap=%{x}<br>lifeExp=%{y}<br>pop=%{marker.size}<extra></extra>",
           "hovertext": [
            "Australia",
            "New Zealand"
           ],
           "ids": [
            "Australia",
            "New Zealand"
           ],
           "legendgroup": "Oceania",
           "marker": {
            "color": "#FFA15A",
            "size": [
             8691212,
             1994794
            ],
            "sizemode": "area",
            "sizeref": 435928.2961983471,
            "symbol": "circle"
           },
           "mode": "markers",
           "name": "Oceania",
           "orientation": "v",
           "showlegend": true,
           "type": "scatter",
           "x": [
            10039.59564,
            10556.57566
           ],
           "xaxis": "x",
           "y": [
            69.12,
            69.39
           ],
           "yaxis": "y"
          }
         ],
         "name": "1952"
        },
        {
         "data": [
          {
           "hovertemplate": "<b>%{hovertext}</b><br><br>continent=Asia<br>year=1957<br>gdpPercap=%{x}<br>lifeExp=%{y}<br>pop=%{marker.size}<extra></extra>",
           "hovertext": [
            "Afghanistan",
            "Bahrain",
            "Bangladesh",
            "Cambodia",
            "China",
            "Hong Kong, China",
            "India",
            "Indonesia",
            "Iran",
            "Iraq",
            "Israel",
            "Japan",
            "Jordan",
            "Korea, Dem. Rep.",
            "Korea, Rep.",
            "Kuwait",
            "Lebanon",
            "Malaysia",
            "Mongolia",
            "Myanmar",
            "Nepal",
            "Oman",
            "Pakistan",
            "Philippines",
            "Saudi Arabia",
            "Singapore",
            "Sri Lanka",
            "Syria",
            "Taiwan",
            "Thailand",
            "Vietnam",
            "West Bank and Gaza",
            "Yemen, Rep."
           ],
           "ids": [
            "Afghanistan",
            "Bahrain",
            "Bangladesh",
            "Cambodia",
            "China",
            "Hong Kong, China",
            "India",
            "Indonesia",
            "Iran",
            "Iraq",
            "Israel",
            "Japan",
            "Jordan",
            "Korea, Dem. Rep.",
            "Korea, Rep.",
            "Kuwait",
            "Lebanon",
            "Malaysia",
            "Mongolia",
            "Myanmar",
            "Nepal",
            "Oman",
            "Pakistan",
            "Philippines",
            "Saudi Arabia",
            "Singapore",
            "Sri Lanka",
            "Syria",
            "Taiwan",
            "Thailand",
            "Vietnam",
            "West Bank and Gaza",
            "Yemen, Rep."
           ],
           "legendgroup": "Asia",
           "marker": {
            "color": "#636efa",
            "size": [
             9240934,
             138655,
             51365468,
             5322536,
             637408000,
             2736300,
             409000000,
             90124000,
             19792000,
             6248643,
             1944401,
             91563009,
             746559,
             9411381,
             22611552,
             212846,
             1647412,
             7739235,
             882134,
             21731844,
             9682338,
             561977,
             46679944,
             26072194,
             4419650,
             1445929,
             9128546,
             4149908,
             10164215,
             25041917,
             28998543,
             1070439,
             5498090
            ],
            "sizemode": "area",
            "sizeref": 435928.2961983471,
            "symbol": "circle"
           },
           "mode": "markers",
           "name": "Asia",
           "orientation": "v",
           "showlegend": true,
           "type": "scatter",
           "x": [
            820.8530296,
            11635.79945,
            661.6374577,
            434.0383364,
            575.9870009,
            3629.076457,
            590.061996,
            858.9002707000002,
            3290.257643,
            6229.333562,
            5385.278451,
            4317.694365,
            1886.080591,
            1571.134655,
            1487.593537,
            113523.1329,
            6089.786934000002,
            1810.0669920000007,
            912.6626085,
            350,
            597.9363557999999,
            2242.746551,
            747.0835292,
            1547.944844,
            8157.5912480000015,
            2843.104409,
            1072.546602,
            2117.234893,
            1507.86129,
            793.5774147999998,
            676.2854477999998,
            1827.067742,
            804.8304547
           ],
           "xaxis": "x",
           "y": [
            30.332,
            53.832,
            39.348,
            41.36600000000001,
            50.54896,
            64.75,
            40.249,
            39.918,
            47.181,
            48.437,
            67.84,
            65.5,
            45.669,
            54.081,
            52.681,
            58.033,
            59.489,
            52.102,
            45.24800000000001,
            41.905,
            37.686,
            40.08,
            45.557,
            51.334,
            42.868,
            63.179,
            61.456,
            48.284,
            62.4,
            53.63,
            42.887,
            45.67100000000001,
            33.97
           ],
           "yaxis": "y"
          },
          {
           "hovertemplate": "<b>%{hovertext}</b><br><br>continent=Europe<br>year=1957<br>gdpPercap=%{x}<br>lifeExp=%{y}<br>pop=%{marker.size}<extra></extra>",
           "hovertext": [
            "Albania",
            "Austria",
            "Belgium",
            "Bosnia and Herzegovina",
            "Bulgaria",
            "Croatia",
            "Czech Republic",
            "Denmark",
            "Finland",
            "France",
            "Germany",
            "Greece",
            "Hungary",
            "Iceland",
            "Ireland",
            "Italy",
            "Montenegro",
            "Netherlands",
            "Norway",
            "Poland",
            "Portugal",
            "Romania",
            "Serbia",
            "Slovak Republic",
            "Slovenia",
            "Spain",
            "Sweden",
            "Switzerland",
            "Turkey",
            "United Kingdom"
           ],
           "ids": [
            "Albania",
            "Austria",
            "Belgium",
            "Bosnia and Herzegovina",
            "Bulgaria",
            "Croatia",
            "Czech Republic",
            "Denmark",
            "Finland",
            "France",
            "Germany",
            "Greece",
            "Hungary",
            "Iceland",
            "Ireland",
            "Italy",
            "Montenegro",
            "Netherlands",
            "Norway",
            "Poland",
            "Portugal",
            "Romania",
            "Serbia",
            "Slovak Republic",
            "Slovenia",
            "Spain",
            "Sweden",
            "Switzerland",
            "Turkey",
            "United Kingdom"
           ],
           "legendgroup": "Europe",
           "marker": {
            "color": "#EF553B",
            "size": [
             1476505,
             6965860,
             8989111,
             3076000,
             7651254,
             3991242,
             9513758,
             4487831,
             4324000,
             44310863,
             71019069,
             8096218,
             9839000,
             165110,
             2878220,
             49182000,
             442829,
             11026383,
             3491938,
             28235346,
             8817650,
             17829327,
             7271135,
             3844277,
             1533070,
             29841614,
             7363802,
             5126000,
             25670939,
             51430000
            ],
            "sizemode": "area",
            "sizeref": 435928.2961983471,
            "symbol": "circle"
           },
           "mode": "markers",
           "name": "Europe",
           "orientation": "v",
           "showlegend": true,
           "type": "scatter",
           "x": [
            1942.284244,
            8842.59803,
            9714.960623,
            1353.989176,
            3008.670727,
            4338.231617,
            8256.343918,
            11099.65935,
            7545.415386,
            8662.834898000001,
            10187.82665,
            4916.299889,
            6040.180011,
            9244.001412,
            5599.077872,
            6248.656232,
            3682.259903,
            11276.19344,
            11653.97304,
            4734.253019,
            3774.571743,
            3943.370225,
            4981.090891,
            6093.26298,
            5862.276629,
            4564.80241,
            9911.878226,
            17909.48973,
            2218.754257,
            11283.17795
           ],
           "xaxis": "x",
           "y": [
            59.28,
            67.48,
            69.24,
            58.45,
            66.61,
            64.77,
            69.03,
            71.81,
            67.49,
            68.93,
            69.1,
            67.86,
            66.41,
            73.47,
            68.9,
            67.81,
            61.448,
            72.99,
            73.44,
            65.77,
            61.51,
            64.1,
            61.685,
            67.45,
            67.85,
            66.66,
            72.49,
            70.56,
            48.07899999999999,
            70.42
           ],
           "yaxis": "y"
          },
          {
           "hovertemplate": "<b>%{hovertext}</b><br><br>continent=Africa<br>year=1957<br>gdpPercap=%{x}<br>lifeExp=%{y}<br>pop=%{marker.size}<extra></extra>",
           "hovertext": [
            "Algeria",
            "Angola",
            "Benin",
            "Botswana",
            "Burkina Faso",
            "Burundi",
            "Cameroon",
            "Central African Republic",
            "Chad",
            "Comoros",
            "Congo, Dem. Rep.",
            "Congo, Rep.",
            "Cote d'Ivoire",
            "Djibouti",
            "Egypt",
            "Equatorial Guinea",
            "Eritrea",
            "Ethiopia",
            "Gabon",
            "Gambia",
            "Ghana",
            "Guinea",
            "Guinea-Bissau",
            "Kenya",
            "Lesotho",
            "Liberia",
            "Libya",
            "Madagascar",
            "Malawi",
            "Mali",
            "Mauritania",
            "Mauritius",
            "Morocco",
            "Mozambique",
            "Namibia",
            "Niger",
            "Nigeria",
            "Reunion",
            "Rwanda",
            "Sao Tome and Principe",
            "Senegal",
            "Sierra Leone",
            "Somalia",
            "South Africa",
            "Sudan",
            "Swaziland",
            "Tanzania",
            "Togo",
            "Tunisia",
            "Uganda",
            "Zambia",
            "Zimbabwe"
           ],
           "ids": [
            "Algeria",
            "Angola",
            "Benin",
            "Botswana",
            "Burkina Faso",
            "Burundi",
            "Cameroon",
            "Central African Republic",
            "Chad",
            "Comoros",
            "Congo, Dem. Rep.",
            "Congo, Rep.",
            "Cote d'Ivoire",
            "Djibouti",
            "Egypt",
            "Equatorial Guinea",
            "Eritrea",
            "Ethiopia",
            "Gabon",
            "Gambia",
            "Ghana",
            "Guinea",
            "Guinea-Bissau",
            "Kenya",
            "Lesotho",
            "Liberia",
            "Libya",
            "Madagascar",
            "Malawi",
            "Mali",
            "Mauritania",
            "Mauritius",
            "Morocco",
            "Mozambique",
            "Namibia",
            "Niger",
            "Nigeria",
            "Reunion",
            "Rwanda",
            "Sao Tome and Principe",
            "Senegal",
            "Sierra Leone",
            "Somalia",
            "South Africa",
            "Sudan",
            "Swaziland",
            "Tanzania",
            "Togo",
            "Tunisia",
            "Uganda",
            "Zambia",
            "Zimbabwe"
           ],
           "legendgroup": "Africa",
           "marker": {
            "color": "#00cc96",
            "size": [
             10270856,
             4561361,
             1925173,
             474639,
             4713416,
             2667518,
             5359923,
             1392284,
             2894855,
             170928,
             15577932,
             940458,
             3300000,
             71851,
             25009741,
             232922,
             1542611,
             22815614,
             434904,
             323150,
             6391288,
             2876726,
             601095,
             7454779,
             813338,
             975950,
             1201578,
             5181679,
             3221238,
             4241884,
             1076852,
             609816,
             11406350,
             7038035,
             548080,
             3692184,
             37173340,
             308700,
             2822082,
             61325,
             3054547,
             2295678,
             2780415,
             16151549,
             9753392,
             326741,
             9452826,
             1357445,
             3950849,
             6675501,
             3016000,
             3646340
            ],
            "sizemode": "area",
            "sizeref": 435928.2961983471,
            "symbol": "circle"
           },
           "mode": "markers",
           "name": "Africa",
           "orientation": "v",
           "showlegend": true,
           "type": "scatter",
           "x": [
            3013.976023,
            3827.940465,
            959.6010805,
            918.2325349,
            617.1834647999998,
            379.5646281000001,
            1313.048099,
            1190.844328,
            1308.495577,
            1211.148548,
            905.8602303,
            2315.056572,
            1500.895925,
            2864.9690760000008,
            1458.915272,
            426.0964081,
            344.1618859,
            378.9041632,
            4976.198099,
            520.9267111,
            1043.5615369999996,
            576.2670245,
            431.79045660000014,
            944.4383152,
            335.9971151000001,
            620.9699901,
            3448.284395,
            1589.20275,
            416.3698064,
            490.3821867,
            846.1202613,
            2034.037981,
            1642.002314,
            495.58683330000014,
            2621.448058,
            835.5234025000002,
            1100.5925630000004,
            2769.451844,
            540.2893982999999,
            860.7369026,
            1567.653006,
            1004.484437,
            1258.147413,
            5487.104219,
            1770.3370739999998,
            1244.708364,
            698.5356073,
            925.9083202,
            1395.232468,
            774.3710692000002,
            1311.956766,
            518.7642681
           ],
           "xaxis": "x",
           "y": [
            45.685,
            31.999,
            40.358,
            49.618,
            34.906,
            40.533,
            40.428,
            37.464,
            39.881,
            42.46,
            40.652,
            45.053,
            42.469,
            37.328,
            44.444,
            35.98300000000001,
            38.047,
            36.667,
            38.999,
            32.065,
            44.779,
            34.558,
            33.489000000000004,
            44.68600000000001,
            45.047,
            39.486,
            45.289,
            38.865,
            37.207,
            35.30699999999999,
            42.338,
            58.089,
            45.423,
            33.779,
            45.226000000000006,
            38.598,
            37.802,
            55.09,
            41.5,
            48.945,
            39.329,
            31.57,
            34.977,
            47.985,
            39.624,
            43.424,
            42.974,
            41.208,
            47.1,
            42.57100000000001,
            44.077,
            50.469
           ],
           "yaxis": "y"
          },
          {
           "hovertemplate": "<b>%{hovertext}</b><br><br>continent=Americas<br>year=1957<br>gdpPercap=%{x}<br>lifeExp=%{y}<br>pop=%{marker.size}<extra></extra>",
           "hovertext": [
            "Argentina",
            "Bolivia",
            "Brazil",
            "Canada",
            "Chile",
            "Colombia",
            "Costa Rica",
            "Cuba",
            "Dominican Republic",
            "Ecuador",
            "El Salvador",
            "Guatemala",
            "Haiti",
            "Honduras",
            "Jamaica",
            "Mexico",
            "Nicaragua",
            "Panama",
            "Paraguay",
            "Peru",
            "Puerto Rico",
            "Trinidad and Tobago",
            "United States",
            "Uruguay",
            "Venezuela"
           ],
           "ids": [
            "Argentina",
            "Bolivia",
            "Brazil",
            "Canada",
            "Chile",
            "Colombia",
            "Costa Rica",
            "Cuba",
            "Dominican Republic",
            "Ecuador",
            "El Salvador",
            "Guatemala",
            "Haiti",
            "Honduras",
            "Jamaica",
            "Mexico",
            "Nicaragua",
            "Panama",
            "Paraguay",
            "Peru",
            "Puerto Rico",
            "Trinidad and Tobago",
            "United States",
            "Uruguay",
            "Venezuela"
           ],
           "legendgroup": "Americas",
           "marker": {
            "color": "#ab63fa",
            "size": [
             19610538,
             3211738,
             65551171,
             17010154,
             7048426,
             14485993,
             1112300,
             6640752,
             2923186,
             4058385,
             2355805,
             3640876,
             3507701,
             1770390,
             1535090,
             35015548,
             1358828,
             1063506,
             1770902,
             9146100,
             2260000,
             764900,
             171984000,
             2424959,
             6702668
            ],
            "sizemode": "area",
            "sizeref": 435928.2961983471,
            "symbol": "circle"
           },
           "mode": "markers",
           "name": "Americas",
           "orientation": "v",
           "showlegend": true,
           "type": "scatter",
           "x": [
            6856.8562120000015,
            2127.686326,
            2487.365989,
            12489.95006,
            4315.622723,
            2323.805581,
            2990.010802,
            6092.1743590000015,
            1544.402995,
            3780.546651,
            3421.523218,
            2617.155967,
            1726.887882,
            2220.487682,
            4756.525781,
            4131.546641,
            3457.415947,
            2961.800905,
            2046.154706,
            4245.256697999999,
            3907.156189,
            4100.3934,
            14847.12712,
            6150.772969,
            9802.466526
           ],
           "xaxis": "x",
           "y": [
            64.399,
            41.89,
            53.285,
            69.96,
            56.074,
            55.118,
            60.026,
            62.325,
            49.828,
            51.356,
            48.57,
            44.142,
            40.696,
            44.665,
            62.61,
            55.19,
            45.432,
            59.201,
            63.19600000000001,
            46.26300000000001,
            68.54,
            61.8,
            69.49,
            67.044,
            57.907
           ],
           "yaxis": "y"
          },
          {
           "hovertemplate": "<b>%{hovertext}</b><br><br>continent=Oceania<br>year=1957<br>gdpPercap=%{x}<br>lifeExp=%{y}<br>pop=%{marker.size}<extra></extra>",
           "hovertext": [
            "Australia",
            "New Zealand"
           ],
           "ids": [
            "Australia",
            "New Zealand"
           ],
           "legendgroup": "Oceania",
           "marker": {
            "color": "#FFA15A",
            "size": [
             9712569,
             2229407
            ],
            "sizemode": "area",
            "sizeref": 435928.2961983471,
            "symbol": "circle"
           },
           "mode": "markers",
           "name": "Oceania",
           "orientation": "v",
           "showlegend": true,
           "type": "scatter",
           "x": [
            10949.64959,
            12247.39532
           ],
           "xaxis": "x",
           "y": [
            70.33,
            70.26
           ],
           "yaxis": "y"
          }
         ],
         "name": "1957"
        },
        {
         "data": [
          {
           "hovertemplate": "<b>%{hovertext}</b><br><br>continent=Asia<br>year=1962<br>gdpPercap=%{x}<br>lifeExp=%{y}<br>pop=%{marker.size}<extra></extra>",
           "hovertext": [
            "Afghanistan",
            "Bahrain",
            "Bangladesh",
            "Cambodia",
            "China",
            "Hong Kong, China",
            "India",
            "Indonesia",
            "Iran",
            "Iraq",
            "Israel",
            "Japan",
            "Jordan",
            "Korea, Dem. Rep.",
            "Korea, Rep.",
            "Kuwait",
            "Lebanon",
            "Malaysia",
            "Mongolia",
            "Myanmar",
            "Nepal",
            "Oman",
            "Pakistan",
            "Philippines",
            "Saudi Arabia",
            "Singapore",
            "Sri Lanka",
            "Syria",
            "Taiwan",
            "Thailand",
            "Vietnam",
            "West Bank and Gaza",
            "Yemen, Rep."
           ],
           "ids": [
            "Afghanistan",
            "Bahrain",
            "Bangladesh",
            "Cambodia",
            "China",
            "Hong Kong, China",
            "India",
            "Indonesia",
            "Iran",
            "Iraq",
            "Israel",
            "Japan",
            "Jordan",
            "Korea, Dem. Rep.",
            "Korea, Rep.",
            "Kuwait",
            "Lebanon",
            "Malaysia",
            "Mongolia",
            "Myanmar",
            "Nepal",
            "Oman",
            "Pakistan",
            "Philippines",
            "Saudi Arabia",
            "Singapore",
            "Sri Lanka",
            "Syria",
            "Taiwan",
            "Thailand",
            "Vietnam",
            "West Bank and Gaza",
            "Yemen, Rep."
           ],
           "legendgroup": "Asia",
           "marker": {
            "color": "#636efa",
            "size": [
             10267083,
             171863,
             56839289,
             6083619,
             665770000,
             3305200,
             454000000,
             99028000,
             22874000,
             7240260,
             2310904,
             95831757,
             933559,
             10917494,
             26420307,
             358266,
             1886848,
             8906385,
             1010280,
             23634436,
             10332057,
             628164,
             53100671,
             30325264,
             4943029,
             1750200,
             10421936,
             4834621,
             11918938,
             29263397,
             33796140,
             1133134,
             6120081
            ],
            "sizemode": "area",
            "sizeref": 435928.2961983471,
            "symbol": "circle"
           },
           "mode": "markers",
           "name": "Asia",
           "orientation": "v",
           "showlegend": true,
           "type": "scatter",
           "x": [
            853.1007099999998,
            12753.27514,
            686.3415537999998,
            496.9136476,
            487.6740183,
            4692.648271999999,
            658.3471509,
            849.2897700999998,
            4187.329802,
            8341.737815,
            7105.630706,
            6576.649461,
            2348.009158,
            1621.693598,
            1536.344387,
            95458.11176,
            5714.560611,
            2036.884944,
            1056.353958,
            388,
            652.3968593,
            2924.638113,
            803.3427418,
            1649.552153,
            11626.41975,
            3674.735572,
            1074.47196,
            2193.037133,
            1822.879028,
            1002.199172,
            772.0491602000002,
            2198.9563120000007,
            825.6232006
           ],
           "xaxis": "x",
           "y": [
            31.997,
            56.923,
            41.216,
            43.415,
            44.50136,
            67.65,
            43.605,
            42.518,
            49.325,
            51.457,
            69.39,
            68.73,
            48.12600000000001,
            56.65600000000001,
            55.292,
            60.47,
            62.094,
            55.737,
            48.25100000000001,
            45.108,
            39.393,
            43.165,
            47.67,
            54.757,
            45.914,
            65.798,
            62.192,
            50.305,
            65.2,
            56.06100000000001,
            45.363,
            48.127,
            35.18
           ],
           "yaxis": "y"
          },
          {
           "hovertemplate": "<b>%{hovertext}</b><br><br>continent=Europe<br>year=1962<br>gdpPercap=%{x}<br>lifeExp=%{y}<br>pop=%{marker.size}<extra></extra>",
           "hovertext": [
            "Albania",
            "Austria",
            "Belgium",
            "Bosnia and Herzegovina",
            "Bulgaria",
            "Croatia",
            "Czech Republic",
            "Denmark",
            "Finland",
            "France",
            "Germany",
            "Greece",
            "Hungary",
            "Iceland",
            "Ireland",
            "Italy",
            "Montenegro",
            "Netherlands",
            "Norway",
            "Poland",
            "Portugal",
            "Romania",
            "Serbia",
            "Slovak Republic",
            "Slovenia",
            "Spain",
            "Sweden",
            "Switzerland",
            "Turkey",
            "United Kingdom"
           ],
           "ids": [
            "Albania",
            "Austria",
            "Belgium",
            "Bosnia and Herzegovina",
            "Bulgaria",
            "Croatia",
            "Czech Republic",
            "Denmark",
            "Finland",
            "France",
            "Germany",
            "Greece",
            "Hungary",
            "Iceland",
            "Ireland",
            "Italy",
            "Montenegro",
            "Netherlands",
            "Norway",
            "Poland",
            "Portugal",
            "Romania",
            "Serbia",
            "Slovak Republic",
            "Slovenia",
            "Spain",
            "Sweden",
            "Switzerland",
            "Turkey",
            "United Kingdom"
           ],
           "legendgroup": "Europe",
           "marker": {
            "color": "#EF553B",
            "size": [
             1728137,
             7129864,
             9218400,
             3349000,
             8012946,
             4076557,
             9620282,
             4646899,
             4491443,
             47124000,
             73739117,
             8448233,
             10063000,
             182053,
             2830000,
             50843200,
             474528,
             11805689,
             3638919,
             30329617,
             9019800,
             18680721,
             7616060,
             4237384,
             1582962,
             31158061,
             7561588,
             5666000,
             29788695,
             53292000
            ],
            "sizemode": "area",
            "sizeref": 435928.2961983471,
            "symbol": "circle"
           },
           "mode": "markers",
           "name": "Europe",
           "orientation": "v",
           "showlegend": true,
           "type": "scatter",
           "x": [
            2312.888958,
            10750.72111,
            10991.20676,
            1709.683679,
            4254.337839,
            5477.890018,
            10136.86713,
            13583.31351,
            9371.842561,
            10560.48553,
            12902.46291,
            6017.190732999999,
            7550.359877,
            10350.15906,
            6631.597314,
            8243.58234,
            4649.593785,
            12790.84956,
            13450.40151,
            5338.752143,
            4727.954889,
            4734.997586,
            6289.629157,
            7481.107598,
            7402.303395,
            5693.843879,
            12329.44192,
            20431.0927,
            2322.869908,
            12477.17707
           ],
           "xaxis": "x",
           "y": [
            64.82,
            69.54,
            70.25,
            61.93,
            69.51,
            67.13,
            69.9,
            72.35,
            68.75,
            70.51,
            70.3,
            69.51,
            67.96,
            73.68,
            70.29,
            69.24,
            63.728,
            73.23,
            73.47,
            67.64,
            64.39,
            66.8,
            64.531,
            70.33,
            69.15,
            69.69,
            73.37,
            71.32,
            52.098,
            70.76
           ],
           "yaxis": "y"
          },
          {
           "hovertemplate": "<b>%{hovertext}</b><br><br>continent=Africa<br>year=1962<br>gdpPercap=%{x}<br>lifeExp=%{y}<br>pop=%{marker.size}<extra></extra>",
           "hovertext": [
            "Algeria",
            "Angola",
            "Benin",
            "Botswana",
            "Burkina Faso",
            "Burundi",
            "Cameroon",
            "Central African Republic",
            "Chad",
            "Comoros",
            "Congo, Dem. Rep.",
            "Congo, Rep.",
            "Cote d'Ivoire",
            "Djibouti",
            "Egypt",
            "Equatorial Guinea",
            "Eritrea",
            "Ethiopia",
            "Gabon",
            "Gambia",
            "Ghana",
            "Guinea",
            "Guinea-Bissau",
            "Kenya",
            "Lesotho",
            "Liberia",
            "Libya",
            "Madagascar",
            "Malawi",
            "Mali",
            "Mauritania",
            "Mauritius",
            "Morocco",
            "Mozambique",
            "Namibia",
            "Niger",
            "Nigeria",
            "Reunion",
            "Rwanda",
            "Sao Tome and Principe",
            "Senegal",
            "Sierra Leone",
            "Somalia",
            "South Africa",
            "Sudan",
            "Swaziland",
            "Tanzania",
            "Togo",
            "Tunisia",
            "Uganda",
            "Zambia",
            "Zimbabwe"
           ],
           "ids": [
            "Algeria",
            "Angola",
            "Benin",
            "Botswana",
            "Burkina Faso",
            "Burundi",
            "Cameroon",
            "Central African Republic",
            "Chad",
            "Comoros",
            "Congo, Dem. Rep.",
            "Congo, Rep.",
            "Cote d'Ivoire",
            "Djibouti",
            "Egypt",
            "Equatorial Guinea",
            "Eritrea",
            "Ethiopia",
            "Gabon",
            "Gambia",
            "Ghana",
            "Guinea",
            "Guinea-Bissau",
            "Kenya",
            "Lesotho",
            "Liberia",
            "Libya",
            "Madagascar",
            "Malawi",
            "Mali",
            "Mauritania",
            "Mauritius",
            "Morocco",
            "Mozambique",
            "Namibia",
            "Niger",
            "Nigeria",
            "Reunion",
            "Rwanda",
            "Sao Tome and Principe",
            "Senegal",
            "Sierra Leone",
            "Somalia",
            "South Africa",
            "Sudan",
            "Swaziland",
            "Tanzania",
            "Togo",
            "Tunisia",
            "Uganda",
            "Zambia",
            "Zimbabwe"
           ],
           "legendgroup": "Africa",
           "marker": {
            "color": "#00cc96",
            "size": [
             11000948,
             4826015,
             2151895,
             512764,
             4919632,
             2961915,
             5793633,
             1523478,
             3150417,
             191689,
             17486434,
             1047924,
             3832408,
             89898,
             28173309,
             249220,
             1666618,
             25145372,
             455661,
             374020,
             7355248,
             3140003,
             627820,
             8678557,
             893143,
             1112796,
             1441863,
             5703324,
             3628608,
             4690372,
             1146757,
             701016,
             13056604,
             7788944,
             621392,
             4076008,
             41871351,
             358900,
             3051242,
             65345,
             3430243,
             2467895,
             3080153,
             18356657,
             11183227,
             370006,
             10863958,
             1528098,
             4286552,
             7688797,
             3421000,
             4277736
            ],
            "sizemode": "area",
            "sizeref": 435928.2961983471,
            "symbol": "circle"
           },
           "mode": "markers",
           "name": "Africa",
           "orientation": "v",
           "showlegend": true,
           "type": "scatter",
           "x": [
            2550.81688,
            4269.276742,
            949.4990641,
            983.6539764,
            722.5120206,
            355.2032273,
            1399.607441,
            1193.068753,
            1389.817618,
            1406.648278,
            896.3146335000001,
            2464.783157,
            1728.8694280000002,
            3020.989263,
            1693.335853,
            582.8419713999998,
            380.9958433000001,
            419.4564161,
            6631.459222,
            599.650276,
            1190.041118,
            686.3736739,
            522.0343725,
            896.9663732,
            411.8006266,
            634.1951625,
            6757.030816,
            1643.38711,
            427.9010856,
            496.1743428,
            1055.896036,
            2529.0674870000007,
            1566.353493,
            556.6863539,
            3173.215595,
            997.7661127,
            1150.9274779999996,
            3173.72334,
            597.4730727000001,
            1071.551119,
            1654.988723,
            1116.6398769999996,
            1369.488336,
            5768.729717,
            1959.593767,
            1856.182125,
            722.0038073,
            1067.53481,
            1660.30321,
            767.2717397999999,
            1452.725766,
            527.2721818
           ],
           "xaxis": "x",
           "y": [
            48.303,
            34,
            42.618,
            51.52,
            37.814,
            42.045,
            42.643,
            39.475,
            41.716,
            44.467,
            42.122,
            48.435,
            44.93,
            39.69300000000001,
            46.992,
            37.485,
            40.158,
            40.059,
            40.489,
            33.896,
            46.452,
            35.753,
            34.488,
            47.949,
            47.747,
            40.502,
            47.808,
            40.848,
            38.41,
            36.936,
            44.24800000000001,
            60.246,
            47.924,
            36.161,
            48.386,
            39.487,
            39.36,
            57.666,
            43,
            51.893,
            41.45399999999999,
            32.767,
            36.981,
            49.951,
            40.87,
            44.992,
            44.246,
            43.922,
            49.57899999999999,
            45.344,
            46.023,
            52.358
           ],
           "yaxis": "y"
          },
          {
           "hovertemplate": "<b>%{hovertext}</b><br><br>continent=Americas<br>year=1962<br>gdpPercap=%{x}<br>lifeExp=%{y}<br>pop=%{marker.size}<extra></extra>",
           "hovertext": [
            "Argentina",
            "Bolivia",
            "Brazil",
            "Canada",
            "Chile",
            "Colombia",
            "Costa Rica",
            "Cuba",
            "Dominican Republic",
            "Ecuador",
            "El Salvador",
            "Guatemala",
            "Haiti",
            "Honduras",
            "Jamaica",
            "Mexico",
            "Nicaragua",
            "Panama",
            "Paraguay",
            "Peru",
            "Puerto Rico",
            "Trinidad and Tobago",
            "United States",
            "Uruguay",
            "Venezuela"
           ],
           "ids": [
            "Argentina",
            "Bolivia",
            "Brazil",
            "Canada",
            "Chile",
            "Colombia",
            "Costa Rica",
            "Cuba",
            "Dominican Republic",
            "Ecuador",
            "El Salvador",
            "Guatemala",
            "Haiti",
            "Honduras",
            "Jamaica",
            "Mexico",
            "Nicaragua",
            "Panama",
            "Paraguay",
            "Peru",
            "Puerto Rico",
            "Trinidad and Tobago",
            "United States",
            "Uruguay",
            "Venezuela"
           ],
           "legendgroup": "Americas",
           "marker": {
            "color": "#ab63fa",
            "size": [
             21283783,
             3593918,
             76039390,
             18985849,
             7961258,
             17009885,
             1345187,
             7254373,
             3453434,
             4681707,
             2747687,
             4208858,
             3880130,
             2090162,
             1665128,
             41121485,
             1590597,
             1215725,
             2009813,
             10516500,
             2448046,
             887498,
             186538000,
             2598466,
             8143375
            ],
            "sizemode": "area",
            "sizeref": 435928.2961983471,
            "symbol": "circle"
           },
           "mode": "markers",
           "name": "Americas",
           "orientation": "v",
           "showlegend": true,
           "type": "scatter",
           "x": [
            7133.166023000002,
            2180.972546,
            3336.585802,
            13462.48555,
            4519.094331,
            2492.351109,
            3460.937025,
            5180.75591,
            1662.137359,
            4086.114078,
            3776.803627,
            2750.364446,
            1796.589032,
            2291.156835,
            5246.107524,
            4581.609385,
            3634.364406,
            3536.540301,
            2148.027146,
            4957.037982,
            5108.34463,
            4997.523971000001,
            16173.14586,
            5603.357717,
            8422.974165000001
           ],
           "xaxis": "x",
           "y": [
            65.142,
            43.428,
            55.665,
            71.3,
            57.924,
            57.863,
            62.842,
            65.24600000000001,
            53.459,
            54.64,
            52.307,
            46.95399999999999,
            43.59,
            48.041,
            65.61,
            58.299,
            48.632,
            61.817,
            64.361,
            49.096,
            69.62,
            64.9,
            70.21,
            68.253,
            60.77
           ],
           "yaxis": "y"
          },
          {
           "hovertemplate": "<b>%{hovertext}</b><br><br>continent=Oceania<br>year=1962<br>gdpPercap=%{x}<br>lifeExp=%{y}<br>pop=%{marker.size}<extra></extra>",
           "hovertext": [
            "Australia",
            "New Zealand"
           ],
           "ids": [
            "Australia",
            "New Zealand"
           ],
           "legendgroup": "Oceania",
           "marker": {
            "color": "#FFA15A",
            "size": [
             10794968,
             2488550
            ],
            "sizemode": "area",
            "sizeref": 435928.2961983471,
            "symbol": "circle"
           },
           "mode": "markers",
           "name": "Oceania",
           "orientation": "v",
           "showlegend": true,
           "type": "scatter",
           "x": [
            12217.22686,
            13175.678
           ],
           "xaxis": "x",
           "y": [
            70.93,
            71.24
           ],
           "yaxis": "y"
          }
         ],
         "name": "1962"
        },
        {
         "data": [
          {
           "hovertemplate": "<b>%{hovertext}</b><br><br>continent=Asia<br>year=1967<br>gdpPercap=%{x}<br>lifeExp=%{y}<br>pop=%{marker.size}<extra></extra>",
           "hovertext": [
            "Afghanistan",
            "Bahrain",
            "Bangladesh",
            "Cambodia",
            "China",
            "Hong Kong, China",
            "India",
            "Indonesia",
            "Iran",
            "Iraq",
            "Israel",
            "Japan",
            "Jordan",
            "Korea, Dem. Rep.",
            "Korea, Rep.",
            "Kuwait",
            "Lebanon",
            "Malaysia",
            "Mongolia",
            "Myanmar",
            "Nepal",
            "Oman",
            "Pakistan",
            "Philippines",
            "Saudi Arabia",
            "Singapore",
            "Sri Lanka",
            "Syria",
            "Taiwan",
            "Thailand",
            "Vietnam",
            "West Bank and Gaza",
            "Yemen, Rep."
           ],
           "ids": [
            "Afghanistan",
            "Bahrain",
            "Bangladesh",
            "Cambodia",
            "China",
            "Hong Kong, China",
            "India",
            "Indonesia",
            "Iran",
            "Iraq",
            "Israel",
            "Japan",
            "Jordan",
            "Korea, Dem. Rep.",
            "Korea, Rep.",
            "Kuwait",
            "Lebanon",
            "Malaysia",
            "Mongolia",
            "Myanmar",
            "Nepal",
            "Oman",
            "Pakistan",
            "Philippines",
            "Saudi Arabia",
            "Singapore",
            "Sri Lanka",
            "Syria",
            "Taiwan",
            "Thailand",
            "Vietnam",
            "West Bank and Gaza",
            "Yemen, Rep."
           ],
           "legendgroup": "Asia",
           "marker": {
            "color": "#636efa",
            "size": [
             11537966,
             202182,
             62821884,
             6960067,
             754550000,
             3722800,
             506000000,
             109343000,
             26538000,
             8519282,
             2693585,
             100825279,
             1255058,
             12617009,
             30131000,
             575003,
             2186894,
             10154878,
             1149500,
             25870271,
             11261690,
             714775,
             60641899,
             35356600,
             5618198,
             1977600,
             11737396,
             5680812,
             13648692,
             34024249,
             39463910,
             1142636,
             6740785
            ],
            "sizemode": "area",
            "sizeref": 435928.2961983471,
            "symbol": "circle"
           },
           "mode": "markers",
           "name": "Asia",
           "orientation": "v",
           "showlegend": true,
           "type": "scatter",
           "x": [
            836.1971382,
            14804.6727,
            721.1860862000002,
            523.4323142,
            612.7056934,
            6197.962814,
            700.7706107000001,
            762.4317721,
            5906.731804999999,
            8931.459811,
            8393.741404,
            9847.788607,
            2741.796252,
            2143.540609,
            2029.228142,
            80894.88326,
            6006.983042,
            2277.742396,
            1226.04113,
            349,
            676.4422254,
            4720.942687,
            942.4082588,
            1814.12743,
            16903.04886,
            4977.41854,
            1135.514326,
            1881.923632,
            2643.858681,
            1295.46066,
            637.1232887,
            2649.715007,
            862.4421463
           ],
           "xaxis": "x",
           "y": [
            34.02,
            59.923,
            43.453,
            45.415,
            58.38112,
            70,
            47.19300000000001,
            45.964,
            52.469,
            54.459,
            70.75,
            71.43,
            51.629,
            59.942,
            57.716,
            64.624,
            63.87,
            59.371,
            51.253,
            49.379,
            41.472,
            46.988,
            49.8,
            56.393,
            49.901,
            67.946,
            64.266,
            53.655,
            67.5,
            58.285,
            47.838,
            51.631,
            36.984
           ],
           "yaxis": "y"
          },
          {
           "hovertemplate": "<b>%{hovertext}</b><br><br>continent=Europe<br>year=1967<br>gdpPercap=%{x}<br>lifeExp=%{y}<br>pop=%{marker.size}<extra></extra>",
           "hovertext": [
            "Albania",
            "Austria",
            "Belgium",
            "Bosnia and Herzegovina",
            "Bulgaria",
            "Croatia",
            "Czech Republic",
            "Denmark",
            "Finland",
            "France",
            "Germany",
            "Greece",
            "Hungary",
            "Iceland",
            "Ireland",
            "Italy",
            "Montenegro",
            "Netherlands",
            "Norway",
            "Poland",
            "Portugal",
            "Romania",
            "Serbia",
            "Slovak Republic",
            "Slovenia",
            "Spain",
            "Sweden",
            "Switzerland",
            "Turkey",
            "United Kingdom"
           ],
           "ids": [
            "Albania",
            "Austria",
            "Belgium",
            "Bosnia and Herzegovina",
            "Bulgaria",
            "Croatia",
            "Czech Republic",
            "Denmark",
            "Finland",
            "France",
            "Germany",
            "Greece",
            "Hungary",
            "Iceland",
            "Ireland",
            "Italy",
            "Montenegro",
            "Netherlands",
            "Norway",
            "Poland",
            "Portugal",
            "Romania",
            "Serbia",
            "Slovak Republic",
            "Slovenia",
            "Spain",
            "Sweden",
            "Switzerland",
            "Turkey",
            "United Kingdom"
           ],
           "legendgroup": "Europe",
           "marker": {
            "color": "#EF553B",
            "size": [
             1984060,
             7376998,
             9556500,
             3585000,
             8310226,
             4174366,
             9835109,
             4838800,
             4605744,
             49569000,
             76368453,
             8716441,
             10223422,
             198676,
             2900100,
             52667100,
             501035,
             12596822,
             3786019,
             31785378,
             9103000,
             19284814,
             7971222,
             4442238,
             1646912,
             32850275,
             7867931,
             6063000,
             33411317,
             54959000
            ],
            "sizemode": "area",
            "sizeref": 435928.2961983471,
            "symbol": "circle"
           },
           "mode": "markers",
           "name": "Europe",
           "orientation": "v",
           "showlegend": true,
           "type": "scatter",
           "x": [
            2760.196931,
            12834.6024,
            13149.04119,
            2172.3524230000007,
            5577.0028,
            6960.297861,
            11399.44489,
            15937.21123,
            10921.63626,
            12999.91766,
            14745.62561,
            8513.097016,
            9326.64467,
            13319.89568,
            7655.568963,
            10022.40131,
            5907.850937,
            15363.25136,
            16361.87647,
            6557.152776,
            6361.517993,
            6470.866545,
            7991.707066,
            8412.902397,
            9405.489397,
            7993.512294,
            15258.29697,
            22966.14432,
            2826.3563870000007,
            14142.85089
           ],
           "xaxis": "x",
           "y": [
            66.22,
            70.14,
            70.94,
            64.79,
            70.42,
            68.5,
            70.38,
            72.96,
            69.83,
            71.55,
            70.8,
            71,
            69.5,
            73.73,
            71.08,
            71.06,
            67.178,
            73.82,
            74.08,
            69.61,
            66.6,
            66.8,
            66.914,
            70.98,
            69.18,
            71.44,
            74.16,
            72.77,
            54.33600000000001,
            71.36
           ],
           "yaxis": "y"
          },
          {
           "hovertemplate": "<b>%{hovertext}</b><br><br>continent=Africa<br>year=1967<br>gdpPercap=%{x}<br>lifeExp=%{y}<br>pop=%{marker.size}<extra></extra>",
           "hovertext": [
            "Algeria",
            "Angola",
            "Benin",
            "Botswana",
            "Burkina Faso",
            "Burundi",
            "Cameroon",
            "Central African Republic",
            "Chad",
            "Comoros",
            "Congo, Dem. Rep.",
            "Congo, Rep.",
            "Cote d'Ivoire",
            "Djibouti",
            "Egypt",
            "Equatorial Guinea",
            "Eritrea",
            "Ethiopia",
            "Gabon",
            "Gambia",
            "Ghana",
            "Guinea",
            "Guinea-Bissau",
            "Kenya",
            "Lesotho",
            "Liberia",
            "Libya",
            "Madagascar",
            "Malawi",
            "Mali",
            "Mauritania",
            "Mauritius",
            "Morocco",
            "Mozambique",
            "Namibia",
            "Niger",
            "Nigeria",
            "Reunion",
            "Rwanda",
            "Sao Tome and Principe",
            "Senegal",
            "Sierra Leone",
            "Somalia",
            "South Africa",
            "Sudan",
            "Swaziland",
            "Tanzania",
            "Togo",
            "Tunisia",
            "Uganda",
            "Zambia",
            "Zimbabwe"
           ],
           "ids": [
            "Algeria",
            "Angola",
            "Benin",
            "Botswana",
            "Burkina Faso",
            "Burundi",
            "Cameroon",
            "Central African Republic",
            "Chad",
            "Comoros",
            "Congo, Dem. Rep.",
            "Congo, Rep.",
            "Cote d'Ivoire",
            "Djibouti",
            "Egypt",
            "Equatorial Guinea",
            "Eritrea",
            "Ethiopia",
            "Gabon",
            "Gambia",
            "Ghana",
            "Guinea",
            "Guinea-Bissau",
            "Kenya",
            "Lesotho",
            "Liberia",
            "Libya",
            "Madagascar",
            "Malawi",
            "Mali",
            "Mauritania",
            "Mauritius",
            "Morocco",
            "Mozambique",
            "Namibia",
            "Niger",
            "Nigeria",
            "Reunion",
            "Rwanda",
            "Sao Tome and Principe",
            "Senegal",
            "Sierra Leone",
            "Somalia",
            "South Africa",
            "Sudan",
            "Swaziland",
            "Tanzania",
            "Togo",
            "Tunisia",
            "Uganda",
            "Zambia",
            "Zimbabwe"
           ],
           "legendgroup": "Africa",
           "marker": {
            "color": "#00cc96",
            "size": [
             12760499,
             5247469,
             2427334,
             553541,
             5127935,
             3330989,
             6335506,
             1733638,
             3495967,
             217378,
             19941073,
             1179760,
             4744870,
             127617,
             31681188,
             259864,
             1820319,
             27860297,
             489004,
             439593,
             8490213,
             3451418,
             601287,
             10191512,
             996380,
             1279406,
             1759224,
             6334556,
             4147252,
             5212416,
             1230542,
             789309,
             14770296,
             8680909,
             706640,
             4534062,
             47287752,
             414024,
             3451079,
             70787,
             3965841,
             2662190,
             3428839,
             20997321,
             12716129,
             420690,
             12607312,
             1735550,
             4786986,
             8900294,
             3900000,
             4995432
            ],
            "sizemode": "area",
            "sizeref": 435928.2961983471,
            "symbol": "circle"
           },
           "mode": "markers",
           "name": "Africa",
           "orientation": "v",
           "showlegend": true,
           "type": "scatter",
           "x": [
            3246.991771,
            5522.776375,
            1035.831411,
            1214.709294,
            794.8265597,
            412.97751360000007,
            1508.453148,
            1136.056615,
            1196.810565,
            1876.029643,
            861.5932424,
            2677.9396420000007,
            2052.050473,
            3020.050513,
            1814.880728,
            915.5960025,
            468.7949699,
            516.1186438,
            8358.761987,
            734.7829124,
            1125.69716,
            708.7595409,
            715.5806402000002,
            1056.736457,
            498.6390265,
            713.6036482999998,
            18772.75169,
            1634.047282,
            495.5147806,
            545.0098873,
            1421.145193,
            2475.387562,
            1711.04477,
            566.6691539,
            3793.694753,
            1054.384891,
            1014.514104,
            4021.175739,
            510.9637142,
            1384.840593,
            1612.404632,
            1206.043465,
            1284.7331800000004,
            7114.477970999998,
            1687.997641,
            2613.101665,
            848.2186575,
            1477.59676,
            1932.3601670000005,
            908.9185217,
            1777.077318,
            569.7950712
           ],
           "xaxis": "x",
           "y": [
            51.407,
            35.985,
            44.885,
            53.298,
            40.697,
            43.548,
            44.799,
            41.478,
            43.601000000000006,
            46.472,
            44.056,
            52.04,
            47.35,
            42.074,
            49.293,
            38.987,
            42.18899999999999,
            42.115,
            44.598,
            35.857,
            48.072,
            37.197,
            35.492,
            50.654,
            48.492,
            41.536,
            50.227,
            42.881,
            39.487,
            38.487,
            46.289,
            61.557,
            50.335,
            38.113,
            51.159,
            40.118,
            41.04,
            60.542,
            44.1,
            54.425,
            43.563,
            34.113,
            38.977,
            51.927,
            42.858,
            46.633,
            45.757,
            46.769,
            52.053,
            48.051,
            47.768,
            53.995
           ],
           "yaxis": "y"
          },
          {
           "hovertemplate": "<b>%{hovertext}</b><br><br>continent=Americas<br>year=1967<br>gdpPercap=%{x}<br>lifeExp=%{y}<br>pop=%{marker.size}<extra></extra>",
           "hovertext": [
            "Argentina",
            "Bolivia",
            "Brazil",
            "Canada",
            "Chile",
            "Colombia",
            "Costa Rica",
            "Cuba",
            "Dominican Republic",
            "Ecuador",
            "El Salvador",
            "Guatemala",
            "Haiti",
            "Honduras",
            "Jamaica",
            "Mexico",
            "Nicaragua",
            "Panama",
            "Paraguay",
            "Peru",
            "Puerto Rico",
            "Trinidad and Tobago",
            "United States",
            "Uruguay",
            "Venezuela"
           ],
           "ids": [
            "Argentina",
            "Bolivia",
            "Brazil",
            "Canada",
            "Chile",
            "Colombia",
            "Costa Rica",
            "Cuba",
            "Dominican Republic",
            "Ecuador",
            "El Salvador",
            "Guatemala",
            "Haiti",
            "Honduras",
            "Jamaica",
            "Mexico",
            "Nicaragua",
            "Panama",
            "Paraguay",
            "Peru",
            "Puerto Rico",
            "Trinidad and Tobago",
            "United States",
            "Uruguay",
            "Venezuela"
           ],
           "legendgroup": "Americas",
           "marker": {
            "color": "#ab63fa",
            "size": [
             22934225,
             4040665,
             88049823,
             20819767,
             8858908,
             19764027,
             1588717,
             8139332,
             4049146,
             5432424,
             3232927,
             4690773,
             4318137,
             2500689,
             1861096,
             47995559,
             1865490,
             1405486,
             2287985,
             12132200,
             2648961,
             960155,
             198712000,
             2748579,
             9709552
            ],
            "sizemode": "area",
            "sizeref": 435928.2961983471,
            "symbol": "circle"
           },
           "mode": "markers",
           "name": "Americas",
           "orientation": "v",
           "showlegend": true,
           "type": "scatter",
           "x": [
            8052.953020999998,
            2586.886053,
            3429.864357,
            16076.58803,
            5106.654313,
            2678.729839,
            4161.727834,
            5690.268015,
            1653.7230029999996,
            4579.074215,
            4358.595393,
            3242.531147,
            1452.057666,
            2538.269358,
            6124.703450999999,
            5754.733883,
            4643.393534000002,
            4421.009084,
            2299.376311,
            5788.09333,
            6929.277714,
            5621.368472,
            19530.36557,
            5444.61962,
            9541.474188
           ],
           "xaxis": "x",
           "y": [
            65.634,
            45.032,
            57.632,
            72.13,
            60.523,
            59.963,
            65.42399999999999,
            68.29,
            56.75100000000001,
            56.678,
            55.855,
            50.01600000000001,
            46.243,
            50.924,
            67.51,
            60.11,
            51.88399999999999,
            64.071,
            64.95100000000001,
            51.445,
            71.1,
            65.4,
            70.76,
            68.468,
            63.479
           ],
           "yaxis": "y"
          },
          {
           "hovertemplate": "<b>%{hovertext}</b><br><br>continent=Oceania<br>year=1967<br>gdpPercap=%{x}<br>lifeExp=%{y}<br>pop=%{marker.size}<extra></extra>",
           "hovertext": [
            "Australia",
            "New Zealand"
           ],
           "ids": [
            "Australia",
            "New Zealand"
           ],
           "legendgroup": "Oceania",
           "marker": {
            "color": "#FFA15A",
            "size": [
             11872264,
             2728150
            ],
            "sizemode": "area",
            "sizeref": 435928.2961983471,
            "symbol": "circle"
           },
           "mode": "markers",
           "name": "Oceania",
           "orientation": "v",
           "showlegend": true,
           "type": "scatter",
           "x": [
            14526.12465,
            14463.918930000002
           ],
           "xaxis": "x",
           "y": [
            71.1,
            71.52
           ],
           "yaxis": "y"
          }
         ],
         "name": "1967"
        },
        {
         "data": [
          {
           "hovertemplate": "<b>%{hovertext}</b><br><br>continent=Asia<br>year=1972<br>gdpPercap=%{x}<br>lifeExp=%{y}<br>pop=%{marker.size}<extra></extra>",
           "hovertext": [
            "Afghanistan",
            "Bahrain",
            "Bangladesh",
            "Cambodia",
            "China",
            "Hong Kong, China",
            "India",
            "Indonesia",
            "Iran",
            "Iraq",
            "Israel",
            "Japan",
            "Jordan",
            "Korea, Dem. Rep.",
            "Korea, Rep.",
            "Kuwait",
            "Lebanon",
            "Malaysia",
            "Mongolia",
            "Myanmar",
            "Nepal",
            "Oman",
            "Pakistan",
            "Philippines",
            "Saudi Arabia",
            "Singapore",
            "Sri Lanka",
            "Syria",
            "Taiwan",
            "Thailand",
            "Vietnam",
            "West Bank and Gaza",
            "Yemen, Rep."
           ],
           "ids": [
            "Afghanistan",
            "Bahrain",
            "Bangladesh",
            "Cambodia",
            "China",
            "Hong Kong, China",
            "India",
            "Indonesia",
            "Iran",
            "Iraq",
            "Israel",
            "Japan",
            "Jordan",
            "Korea, Dem. Rep.",
            "Korea, Rep.",
            "Kuwait",
            "Lebanon",
            "Malaysia",
            "Mongolia",
            "Myanmar",
            "Nepal",
            "Oman",
            "Pakistan",
            "Philippines",
            "Saudi Arabia",
            "Singapore",
            "Sri Lanka",
            "Syria",
            "Taiwan",
            "Thailand",
            "Vietnam",
            "West Bank and Gaza",
            "Yemen, Rep."
           ],
           "legendgroup": "Asia",
           "marker": {
            "color": "#636efa",
            "size": [
             13079460,
             230800,
             70759295,
             7450606,
             862030000,
             4115700,
             567000000,
             121282000,
             30614000,
             10061506,
             3095893,
             107188273,
             1613551,
             14781241,
             33505000,
             841934,
             2680018,
             11441462,
             1320500,
             28466390,
             12412593,
             829050,
             69325921,
             40850141,
             6472756,
             2152400,
             13016733,
             6701172,
             15226039,
             39276153,
             44655014,
             1089572,
             7407075
            ],
            "sizemode": "area",
            "sizeref": 435928.2961983471,
            "symbol": "circle"
           },
           "mode": "markers",
           "name": "Asia",
           "orientation": "v",
           "showlegend": true,
           "type": "scatter",
           "x": [
            739.9811057999998,
            18268.65839,
            630.2336265,
            421.6240257,
            676.9000921,
            8315.928145,
            724.032527,
            1111.107907,
            9613.818607,
            9576.037596,
            12786.93223,
            14778.78636,
            2110.856309,
            3701.621503,
            3030.87665,
            109347.867,
            7486.384341,
            2849.09478,
            1421.741975,
            357,
            674.7881296,
            10618.03855,
            1049.938981,
            1989.37407,
            24837.42865,
            8597.756202,
            1213.39553,
            2571.423014,
            4062.523897,
            1524.358936,
            699.5016441,
            3133.409277,
            1265.047031
           ],
           "xaxis": "x",
           "y": [
            36.088,
            63.3,
            45.252,
            40.317,
            63.11888,
            72,
            50.651,
            49.203,
            55.234,
            56.95,
            71.63,
            73.42,
            56.528,
            63.983,
            62.612,
            67.712,
            65.421,
            63.01,
            53.754,
            53.07,
            43.971,
            52.143,
            51.929,
            58.065,
            53.886,
            69.521,
            65.042,
            57.29600000000001,
            69.39,
            60.405,
            50.254,
            56.532,
            39.848
           ],
           "yaxis": "y"
          },
          {
           "hovertemplate": "<b>%{hovertext}</b><br><br>continent=Europe<br>year=1972<br>gdpPercap=%{x}<br>lifeExp=%{y}<br>pop=%{marker.size}<extra></extra>",
           "hovertext": [
            "Albania",
            "Austria",
            "Belgium",
            "Bosnia and Herzegovina",
            "Bulgaria",
            "Croatia",
            "Czech Republic",
            "Denmark",
            "Finland",
            "France",
            "Germany",
            "Greece",
            "Hungary",
            "Iceland",
            "Ireland",
            "Italy",
            "Montenegro",
            "Netherlands",
            "Norway",
            "Poland",
            "Portugal",
            "Romania",
            "Serbia",
            "Slovak Republic",
            "Slovenia",
            "Spain",
            "Sweden",
            "Switzerland",
            "Turkey",
            "United Kingdom"
           ],
           "ids": [
            "Albania",
            "Austria",
            "Belgium",
            "Bosnia and Herzegovina",
            "Bulgaria",
            "Croatia",
            "Czech Republic",
            "Denmark",
            "Finland",
            "France",
            "Germany",
            "Greece",
            "Hungary",
            "Iceland",
            "Ireland",
            "Italy",
            "Montenegro",
            "Netherlands",
            "Norway",
            "Poland",
            "Portugal",
            "Romania",
            "Serbia",
            "Slovak Republic",
            "Slovenia",
            "Spain",
            "Sweden",
            "Switzerland",
            "Turkey",
            "United Kingdom"
           ],
           "legendgroup": "Europe",
           "marker": {
            "color": "#EF553B",
            "size": [
             2263554,
             7544201,
             9709100,
             3819000,
             8576200,
             4225310,
             9862158,
             4991596,
             4639657,
             51732000,
             78717088,
             8888628,
             10394091,
             209275,
             3024400,
             54365564,
             527678,
             13329874,
             3933004,
             33039545,
             8970450,
             20662648,
             8313288,
             4593433,
             1694510,
             34513161,
             8122293,
             6401400,
             37492953,
             56079000
            ],
            "sizemode": "area",
            "sizeref": 435928.2961983471,
            "symbol": "circle"
           },
           "mode": "markers",
           "name": "Europe",
           "orientation": "v",
           "showlegend": true,
           "type": "scatter",
           "x": [
            3313.422188,
            16661.6256,
            16672.14356,
            2860.16975,
            6597.494398,
            9164.090127,
            13108.4536,
            18866.20721,
            14358.8759,
            16107.19171,
            18016.18027,
            12724.82957,
            10168.65611,
            15798.06362,
            9530.772896,
            12269.27378,
            7778.414017,
            18794.74567,
            18965.05551,
            8006.506993000001,
            9022.247417,
            8011.4144019999985,
            10522.06749,
            9674.167626,
            12383.4862,
            10638.75131,
            17832.02464,
            27195.11304,
            3450.69638,
            15895.11641
           ],
           "xaxis": "x",
           "y": [
            67.69,
            70.63,
            71.44,
            67.45,
            70.9,
            69.61,
            70.29,
            73.47,
            70.87,
            72.38,
            71,
            72.34,
            69.76,
            74.46,
            71.28,
            72.19,
            70.63600000000002,
            73.75,
            74.34,
            70.85,
            69.26,
            69.21,
            68.7,
            70.35,
            69.82,
            73.06,
            74.72,
            73.78,
            57.005,
            72.01
           ],
           "yaxis": "y"
          },
          {
           "hovertemplate": "<b>%{hovertext}</b><br><br>continent=Africa<br>year=1972<br>gdpPercap=%{x}<br>lifeExp=%{y}<br>pop=%{marker.size}<extra></extra>",
           "hovertext": [
            "Algeria",
            "Angola",
            "Benin",
            "Botswana",
            "Burkina Faso",
            "Burundi",
            "Cameroon",
            "Central African Republic",
            "Chad",
            "Comoros",
            "Congo, Dem. Rep.",
            "Congo, Rep.",
            "Cote d'Ivoire",
            "Djibouti",
            "Egypt",
            "Equatorial Guinea",
            "Eritrea",
            "Ethiopia",
            "Gabon",
            "Gambia",
            "Ghana",
            "Guinea",
            "Guinea-Bissau",
            "Kenya",
            "Lesotho",
            "Liberia",
            "Libya",
            "Madagascar",
            "Malawi",
            "Mali",
            "Mauritania",
            "Mauritius",
            "Morocco",
            "Mozambique",
            "Namibia",
            "Niger",
            "Nigeria",
            "Reunion",
            "Rwanda",
            "Sao Tome and Principe",
            "Senegal",
            "Sierra Leone",
            "Somalia",
            "South Africa",
            "Sudan",
            "Swaziland",
            "Tanzania",
            "Togo",
            "Tunisia",
            "Uganda",
            "Zambia",
            "Zimbabwe"
           ],
           "ids": [
            "Algeria",
            "Angola",
            "Benin",
            "Botswana",
            "Burkina Faso",
            "Burundi",
            "Cameroon",
            "Central African Republic",
            "Chad",
            "Comoros",
            "Congo, Dem. Rep.",
            "Congo, Rep.",
            "Cote d'Ivoire",
            "Djibouti",
            "Egypt",
            "Equatorial Guinea",
            "Eritrea",
            "Ethiopia",
            "Gabon",
            "Gambia",
            "Ghana",
            "Guinea",
            "Guinea-Bissau",
            "Kenya",
            "Lesotho",
            "Liberia",
            "Libya",
            "Madagascar",
            "Malawi",
            "Mali",
            "Mauritania",
            "Mauritius",
            "Morocco",
            "Mozambique",
            "Namibia",
            "Niger",
            "Nigeria",
            "Reunion",
            "Rwanda",
            "Sao Tome and Principe",
            "Senegal",
            "Sierra Leone",
            "Somalia",
            "South Africa",
            "Sudan",
            "Swaziland",
            "Tanzania",
            "Togo",
            "Tunisia",
            "Uganda",
            "Zambia",
            "Zimbabwe"
           ],
           "legendgroup": "Africa",
           "marker": {
            "color": "#00cc96",
            "size": [
             14760787,
             5894858,
             2761407,
             619351,
             5433886,
             3529983,
             7021028,
             1927260,
             3899068,
             250027,
             23007669,
             1340458,
             6071696,
             178848,
             34807417,
             277603,
             2260187,
             30770372,
             537977,
             517101,
             9354120,
             3811387,
             625361,
             12044785,
             1116779,
             1482628,
             2183877,
             7082430,
             4730997,
             5828158,
             1332786,
             851334,
             16660670,
             9809596,
             821782,
             5060262,
             53740085,
             461633,
             3992121,
             76595,
             4588696,
             2879013,
             3840161,
             23935810,
             14597019,
             480105,
             14706593,
             2056351,
             5303507,
             10190285,
             4506497,
             5861135
            ],
            "sizemode": "area",
            "sizeref": 435928.2961983471,
            "symbol": "circle"
           },
           "mode": "markers",
           "name": "Africa",
           "orientation": "v",
           "showlegend": true,
           "type": "scatter",
           "x": [
            4182.663766,
            5473.288004999999,
            1085.796879,
            2263.6111140000007,
            854.7359763000002,
            464.0995039,
            1684.1465280000002,
            1070.013275,
            1104.103987,
            1937.577675,
            904.8960685,
            3213.152683,
            2378.201111,
            3694.2123520000014,
            2024.008147,
            672.4122571,
            514.3242081999998,
            566.2439442000001,
            11401.94841,
            756.0868363,
            1178.223708,
            741.6662307,
            820.2245876000002,
            1222.359968,
            496.5815922000001,
            803.0054535,
            21011.49721,
            1748.562982,
            584.6219709,
            581.3688761,
            1586.851781,
            2575.484158,
            1930.194975,
            724.9178037,
            3746.080948,
            954.2092363,
            1698.388838,
            5047.658563,
            590.5806637999998,
            1532.985254,
            1597.712056,
            1353.759762,
            1254.576127,
            7765.962636,
            1659.652775,
            3364.836625,
            915.9850592,
            1649.660188,
            2753.2859940000008,
            950.735869,
            1773.498265,
            799.3621757999998
           ],
           "xaxis": "x",
           "y": [
            54.518,
            37.928,
            47.014,
            56.024,
            43.591,
            44.057,
            47.049,
            43.457,
            45.569,
            48.944,
            45.989,
            54.907,
            49.801,
            44.36600000000001,
            51.137,
            40.516,
            44.142,
            43.515,
            48.69,
            38.308,
            49.875,
            38.842,
            36.486,
            53.559,
            49.767,
            42.614,
            52.773,
            44.851000000000006,
            41.76600000000001,
            39.977,
            48.437,
            62.944,
            52.862,
            40.328,
            53.867,
            40.546,
            42.82100000000001,
            64.274,
            44.6,
            56.48,
            45.815,
            35.4,
            40.973,
            53.69600000000001,
            45.083,
            49.552,
            47.62,
            49.75899999999999,
            55.602,
            51.01600000000001,
            50.107,
            55.635
           ],
           "yaxis": "y"
          },
          {
           "hovertemplate": "<b>%{hovertext}</b><br><br>continent=Americas<br>year=1972<br>gdpPercap=%{x}<br>lifeExp=%{y}<br>pop=%{marker.size}<extra></extra>",
           "hovertext": [
            "Argentina",
            "Bolivia",
            "Brazil",
            "Canada",
            "Chile",
            "Colombia",
            "Costa Rica",
            "Cuba",
            "Dominican Republic",
            "Ecuador",
            "El Salvador",
            "Guatemala",
            "Haiti",
            "Honduras",
            "Jamaica",
            "Mexico",
            "Nicaragua",
            "Panama",
            "Paraguay",
            "Peru",
            "Puerto Rico",
            "Trinidad and Tobago",
            "United States",
            "Uruguay",
            "Venezuela"
           ],
           "ids": [
            "Argentina",
            "Bolivia",
            "Brazil",
            "Canada",
            "Chile",
            "Colombia",
            "Costa Rica",
            "Cuba",
            "Dominican Republic",
            "Ecuador",
            "El Salvador",
            "Guatemala",
            "Haiti",
            "Honduras",
            "Jamaica",
            "Mexico",
            "Nicaragua",
            "Panama",
            "Paraguay",
            "Peru",
            "Puerto Rico",
            "Trinidad and Tobago",
            "United States",
            "Uruguay",
            "Venezuela"
           ],
           "legendgroup": "Americas",
           "marker": {
            "color": "#ab63fa",
            "size": [
             24779799,
             4565872,
             100840058,
             22284500,
             9717524,
             22542890,
             1834796,
             8831348,
             4671329,
             6298651,
             3790903,
             5149581,
             4698301,
             2965146,
             1997616,
             55984294,
             2182908,
             1616384,
             2614104,
             13954700,
             2847132,
             975199,
             209896000,
             2829526,
             11515649
            ],
            "sizemode": "area",
            "sizeref": 435928.2961983471,
            "symbol": "circle"
           },
           "mode": "markers",
           "name": "Americas",
           "orientation": "v",
           "showlegend": true,
           "type": "scatter",
           "x": [
            9443.038526,
            2980.331339,
            4985.711467,
            18970.57086,
            5494.024437,
            3264.660041,
            5118.146939,
            5305.445256,
            2189.874499,
            5280.99471,
            4520.246008,
            4031.408271,
            1654.456946,
            2529.842345,
            7433.889293000001,
            6809.406690000002,
            4688.593267,
            5364.249663000001,
            2523.337977,
            5937.827283,
            9123.041742,
            6619.551418999999,
            21806.03594,
            5703.408898,
            10505.25966
           ],
           "xaxis": "x",
           "y": [
            67.065,
            46.714,
            59.504,
            72.88,
            63.441,
            61.62300000000001,
            67.84899999999999,
            70.723,
            59.631,
            58.79600000000001,
            58.207,
            53.738,
            48.042,
            53.88399999999999,
            69,
            62.361,
            55.151,
            66.21600000000001,
            65.815,
            55.448,
            72.16,
            65.9,
            71.34,
            68.673,
            65.712
           ],
           "yaxis": "y"
          },
          {
           "hovertemplate": "<b>%{hovertext}</b><br><br>continent=Oceania<br>year=1972<br>gdpPercap=%{x}<br>lifeExp=%{y}<br>pop=%{marker.size}<extra></extra>",
           "hovertext": [
            "Australia",
            "New Zealand"
           ],
           "ids": [
            "Australia",
            "New Zealand"
           ],
           "legendgroup": "Oceania",
           "marker": {
            "color": "#FFA15A",
            "size": [
             13177000,
             2929100
            ],
            "sizemode": "area",
            "sizeref": 435928.2961983471,
            "symbol": "circle"
           },
           "mode": "markers",
           "name": "Oceania",
           "orientation": "v",
           "showlegend": true,
           "type": "scatter",
           "x": [
            16788.62948,
            16046.03728
           ],
           "xaxis": "x",
           "y": [
            71.93,
            71.89
           ],
           "yaxis": "y"
          }
         ],
         "name": "1972"
        },
        {
         "data": [
          {
           "hovertemplate": "<b>%{hovertext}</b><br><br>continent=Asia<br>year=1977<br>gdpPercap=%{x}<br>lifeExp=%{y}<br>pop=%{marker.size}<extra></extra>",
           "hovertext": [
            "Afghanistan",
            "Bahrain",
            "Bangladesh",
            "Cambodia",
            "China",
            "Hong Kong, China",
            "India",
            "Indonesia",
            "Iran",
            "Iraq",
            "Israel",
            "Japan",
            "Jordan",
            "Korea, Dem. Rep.",
            "Korea, Rep.",
            "Kuwait",
            "Lebanon",
            "Malaysia",
            "Mongolia",
            "Myanmar",
            "Nepal",
            "Oman",
            "Pakistan",
            "Philippines",
            "Saudi Arabia",
            "Singapore",
            "Sri Lanka",
            "Syria",
            "Taiwan",
            "Thailand",
            "Vietnam",
            "West Bank and Gaza",
            "Yemen, Rep."
           ],
           "ids": [
            "Afghanistan",
            "Bahrain",
            "Bangladesh",
            "Cambodia",
            "China",
            "Hong Kong, China",
            "India",
            "Indonesia",
            "Iran",
            "Iraq",
            "Israel",
            "Japan",
            "Jordan",
            "Korea, Dem. Rep.",
            "Korea, Rep.",
            "Kuwait",
            "Lebanon",
            "Malaysia",
            "Mongolia",
            "Myanmar",
            "Nepal",
            "Oman",
            "Pakistan",
            "Philippines",
            "Saudi Arabia",
            "Singapore",
            "Sri Lanka",
            "Syria",
            "Taiwan",
            "Thailand",
            "Vietnam",
            "West Bank and Gaza",
            "Yemen, Rep."
           ],
           "legendgroup": "Asia",
           "marker": {
            "color": "#636efa",
            "size": [
             14880372,
             297410,
             80428306,
             6978607,
             943455000,
             4583700,
             634000000,
             136725000,
             35480679,
             11882916,
             3495918,
             113872473,
             1937652,
             16325320,
             36436000,
             1140357,
             3115787,
             12845381,
             1528000,
             31528087,
             13933198,
             1004533,
             78152686,
             46850962,
             8128505,
             2325300,
             14116836,
             7932503,
             16785196,
             44148285,
             50533506,
             1261091,
             8403990
            ],
            "sizemode": "area",
            "sizeref": 435928.2961983471,
            "symbol": "circle"
           },
           "mode": "markers",
           "name": "Asia",
           "orientation": "v",
           "showlegend": true,
           "type": "scatter",
           "x": [
            786.11336,
            19340.10196,
            659.8772322000002,
            524.9721831999999,
            741.2374699,
            11186.14125,
            813.3373230000002,
            1382.702056,
            11888.59508,
            14688.23507,
            13306.61921,
            16610.37701,
            2852.351568,
            4106.301249,
            4657.22102,
            59265.47714,
            8659.696836,
            3827.921571,
            1647.511665,
            371,
            694.1124398,
            11848.34392,
            1175.921193,
            2373.204287,
            34167.7626,
            11210.08948,
            1348.775651,
            3195.484582,
            5596.519826,
            1961.2246350000007,
            713.5371196000001,
            3682.831494,
            1829.765177
           ],
           "xaxis": "x",
           "y": [
            38.438,
            65.593,
            46.923,
            31.22,
            63.96736,
            73.6,
            54.208,
            52.702,
            57.702,
            60.413,
            73.06,
            75.38,
            61.13399999999999,
            67.15899999999999,
            64.766,
            69.343,
            66.09899999999999,
            65.256,
            55.49100000000001,
            56.059,
            46.74800000000001,
            57.367,
            54.043,
            60.06,
            58.69,
            70.795,
            65.949,
            61.195,
            70.59,
            62.494,
            55.764,
            60.765,
            44.175
           ],
           "yaxis": "y"
          },
          {
           "hovertemplate": "<b>%{hovertext}</b><br><br>continent=Europe<br>year=1977<br>gdpPercap=%{x}<br>lifeExp=%{y}<br>pop=%{marker.size}<extra></extra>",
           "hovertext": [
            "Albania",
            "Austria",
            "Belgium",
            "Bosnia and Herzegovina",
            "Bulgaria",
            "Croatia",
            "Czech Republic",
            "Denmark",
            "Finland",
            "France",
            "Germany",
            "Greece",
            "Hungary",
            "Iceland",
            "Ireland",
            "Italy",
            "Montenegro",
            "Netherlands",
            "Norway",
            "Poland",
            "Portugal",
            "Romania",
            "Serbia",
            "Slovak Republic",
            "Slovenia",
            "Spain",
            "Sweden",
            "Switzerland",
            "Turkey",
            "United Kingdom"
           ],
           "ids": [
            "Albania",
            "Austria",
            "Belgium",
            "Bosnia and Herzegovina",
            "Bulgaria",
            "Croatia",
            "Czech Republic",
            "Denmark",
            "Finland",
            "France",
            "Germany",
            "Greece",
            "Hungary",
            "Iceland",
            "Ireland",
            "Italy",
            "Montenegro",
            "Netherlands",
            "Norway",
            "Poland",
            "Portugal",
            "Romania",
            "Serbia",
            "Slovak Republic",
            "Slovenia",
            "Spain",
            "Sweden",
            "Switzerland",
            "Turkey",
            "United Kingdom"
           ],
           "legendgroup": "Europe",
           "marker": {
            "color": "#EF553B",
            "size": [
             2509048,
             7568430,
             9821800,
             4086000,
             8797022,
             4318673,
             10161915,
             5088419,
             4738902,
             53165019,
             78160773,
             9308479,
             10637171,
             221823,
             3271900,
             56059245,
             560073,
             13852989,
             4043205,
             34621254,
             9662600,
             21658597,
             8686367,
             4827803,
             1746919,
             36439000,
             8251648,
             6316424,
             42404033,
             56179000
            ],
            "sizemode": "area",
            "sizeref": 435928.2961983471,
            "symbol": "circle"
           },
           "mode": "markers",
           "name": "Europe",
           "orientation": "v",
           "showlegend": true,
           "type": "scatter",
           "x": [
            3533.003910000001,
            19749.4223,
            19117.97448,
            3528.481305,
            7612.240438,
            11305.38517,
            14800.16062,
            20422.9015,
            15605.42283,
            18292.63514,
            20512.92123,
            14195.52428,
            11674.83737,
            19654.96247,
            11150.98113,
            14255.98475,
            9595.929905,
            21209.0592,
            23311.34939,
            9508.141454,
            10172.48572,
            9356.39724,
            12980.66956,
            10922.66404,
            15277.030169999998,
            13236.92117,
            18855.72521,
            26982.29052,
            4269.122326,
            17428.74846
           ],
           "xaxis": "x",
           "y": [
            68.93,
            72.17,
            72.8,
            69.86,
            70.81,
            70.64,
            70.71,
            74.69,
            72.52,
            73.83,
            72.5,
            73.68,
            69.95,
            76.11,
            72.03,
            73.48,
            73.066,
            75.24,
            75.37,
            70.67,
            70.41,
            69.46,
            70.3,
            70.45,
            70.97,
            74.39,
            75.44,
            75.39,
            59.507,
            72.76
           ],
           "yaxis": "y"
          },
          {
           "hovertemplate": "<b>%{hovertext}</b><br><br>continent=Africa<br>year=1977<br>gdpPercap=%{x}<br>lifeExp=%{y}<br>pop=%{marker.size}<extra></extra>",
           "hovertext": [
            "Algeria",
            "Angola",
            "Benin",
            "Botswana",
            "Burkina Faso",
            "Burundi",
            "Cameroon",
            "Central African Republic",
            "Chad",
            "Comoros",
            "Congo, Dem. Rep.",
            "Congo, Rep.",
            "Cote d'Ivoire",
            "Djibouti",
            "Egypt",
            "Equatorial Guinea",
            "Eritrea",
            "Ethiopia",
            "Gabon",
            "Gambia",
            "Ghana",
            "Guinea",
            "Guinea-Bissau",
            "Kenya",
            "Lesotho",
            "Liberia",
            "Libya",
            "Madagascar",
            "Malawi",
            "Mali",
            "Mauritania",
            "Mauritius",
            "Morocco",
            "Mozambique",
            "Namibia",
            "Niger",
            "Nigeria",
            "Reunion",
            "Rwanda",
            "Sao Tome and Principe",
            "Senegal",
            "Sierra Leone",
            "Somalia",
            "South Africa",
            "Sudan",
            "Swaziland",
            "Tanzania",
            "Togo",
            "Tunisia",
            "Uganda",
            "Zambia",
            "Zimbabwe"
           ],
           "ids": [
            "Algeria",
            "Angola",
            "Benin",
            "Botswana",
            "Burkina Faso",
            "Burundi",
            "Cameroon",
            "Central African Republic",
            "Chad",
            "Comoros",
            "Congo, Dem. Rep.",
            "Congo, Rep.",
            "Cote d'Ivoire",
            "Djibouti",
            "Egypt",
            "Equatorial Guinea",
            "Eritrea",
            "Ethiopia",
            "Gabon",
            "Gambia",
            "Ghana",
            "Guinea",
            "Guinea-Bissau",
            "Kenya",
            "Lesotho",
            "Liberia",
            "Libya",
            "Madagascar",
            "Malawi",
            "Mali",
            "Mauritania",
            "Mauritius",
            "Morocco",
            "Mozambique",
            "Namibia",
            "Niger",
            "Nigeria",
            "Reunion",
            "Rwanda",
            "Sao Tome and Principe",
            "Senegal",
            "Sierra Leone",
            "Somalia",
            "South Africa",
            "Sudan",
            "Swaziland",
            "Tanzania",
            "Togo",
            "Tunisia",
            "Uganda",
            "Zambia",
            "Zimbabwe"
           ],
           "legendgroup": "Africa",
           "marker": {
            "color": "#00cc96",
            "size": [
             17152804,
             6162675,
             3168267,
             781472,
             5889574,
             3834415,
             7959865,
             2167533,
             4388260,
             304739,
             26480870,
             1536769,
             7459574,
             228694,
             38783863,
             192675,
             2512642,
             34617799,
             706367,
             608274,
             10538093,
             4227026,
             745228,
             14500404,
             1251524,
             1703617,
             2721783,
             8007166,
             5637246,
             6491649,
             1456688,
             913025,
             18396941,
             11127868,
             977026,
             5682086,
             62209173,
             492095,
             4657072,
             86796,
             5260855,
             3140897,
             4353666,
             27129932,
             17104986,
             551425,
             17129565,
             2308582,
             6005061,
             11457758,
             5216550,
             6642107
            ],
            "sizemode": "area",
            "sizeref": 435928.2961983471,
            "symbol": "circle"
           },
           "mode": "markers",
           "name": "Africa",
           "orientation": "v",
           "showlegend": true,
           "type": "scatter",
           "x": [
            4910.416756000001,
            3008.647355,
            1029.161251,
            3214.857818,
            743.3870368,
            556.1032651,
            1783.432873,
            1109.374338,
            1133.98495,
            1172.603047,
            795.757282,
            3259.178978,
            2517.736547,
            3081.761022,
            2785.493582,
            958.5668124,
            505.7538077,
            556.8083834,
            21745.57328,
            884.7552507000001,
            993.2239571,
            874.6858642999998,
            764.7259627999998,
            1267.613204,
            745.3695408,
            640.3224382999998,
            21951.21176,
            1544.228586,
            663.2236766,
            686.3952693,
            1497.492223,
            3710.982963,
            2370.619976,
            502.3197334,
            3876.485958,
            808.8970727999998,
            1981.951806,
            4319.804067,
            670.0806011,
            1737.561657,
            1561.769116,
            1348.285159,
            1450.992513,
            8028.651439,
            2202.988423,
            3781.410618,
            962.4922932,
            1532.776998,
            3120.876811,
            843.7331372000001,
            1588.688299,
            685.5876821
           ],
           "xaxis": "x",
           "y": [
            58.014,
            39.483,
            49.19,
            59.319,
            46.137,
            45.91,
            49.355,
            46.775,
            47.383,
            50.93899999999999,
            47.804,
            55.625,
            52.374,
            46.519,
            53.319,
            42.024,
            44.535,
            44.51,
            52.79,
            41.842,
            51.756,
            40.762,
            37.465,
            56.155,
            52.208,
            43.764,
            57.442,
            46.881,
            43.767,
            41.714,
            50.852,
            64.93,
            55.73,
            42.495,
            56.437,
            41.291,
            44.514,
            67.064,
            45,
            58.55,
            48.879,
            36.788,
            41.974,
            55.527,
            47.8,
            52.537,
            49.919,
            52.887,
            59.837,
            50.35,
            51.386,
            57.674
           ],
           "yaxis": "y"
          },
          {
           "hovertemplate": "<b>%{hovertext}</b><br><br>continent=Americas<br>year=1977<br>gdpPercap=%{x}<br>lifeExp=%{y}<br>pop=%{marker.size}<extra></extra>",
           "hovertext": [
            "Argentina",
            "Bolivia",
            "Brazil",
            "Canada",
            "Chile",
            "Colombia",
            "Costa Rica",
            "Cuba",
            "Dominican Republic",
            "Ecuador",
            "El Salvador",
            "Guatemala",
            "Haiti",
            "Honduras",
            "Jamaica",
            "Mexico",
            "Nicaragua",
            "Panama",
            "Paraguay",
            "Peru",
            "Puerto Rico",
            "Trinidad and Tobago",
            "United States",
            "Uruguay",
            "Venezuela"
           ],
           "ids": [
            "Argentina",
            "Bolivia",
            "Brazil",
            "Canada",
            "Chile",
            "Colombia",
            "Costa Rica",
            "Cuba",
            "Dominican Republic",
            "Ecuador",
            "El Salvador",
            "Guatemala",
            "Haiti",
            "Honduras",
            "Jamaica",
            "Mexico",
            "Nicaragua",
            "Panama",
            "Paraguay",
            "Peru",
            "Puerto Rico",
            "Trinidad and Tobago",
            "United States",
            "Uruguay",
            "Venezuela"
           ],
           "legendgroup": "Americas",
           "marker": {
            "color": "#ab63fa",
            "size": [
             26983828,
             5079716,
             114313951,
             23796400,
             10599793,
             25094412,
             2108457,
             9537988,
             5302800,
             7278866,
             4282586,
             5703430,
             4908554,
             3055235,
             2156814,
             63759976,
             2554598,
             1839782,
             2984494,
             15990099,
             3080828,
             1039009,
             220239000,
             2873520,
             13503563
            ],
            "sizemode": "area",
            "sizeref": 435928.2961983471,
            "symbol": "circle"
           },
           "mode": "markers",
           "name": "Americas",
           "orientation": "v",
           "showlegend": true,
           "type": "scatter",
           "x": [
            10079.02674,
            3548.097832,
            6660.118654,
            22090.88306,
            4756.763836,
            3815.80787,
            5926.876967,
            6380.494965999998,
            2681.9889,
            6679.62326,
            5138.922374,
            4879.992748,
            1874.298931,
            3203.208066,
            6650.195573,
            7674.929108,
            5486.371089,
            5351.912144,
            3248.373311,
            6281.290854999998,
            9770.524921,
            7899.554209000001,
            24072.63213,
            6504.339663000002,
            13143.95095
           ],
           "xaxis": "x",
           "y": [
            68.48100000000001,
            50.023,
            61.489,
            74.21,
            67.05199999999999,
            63.837,
            70.75,
            72.649,
            61.788,
            61.31,
            56.69600000000001,
            56.029,
            49.923,
            57.402,
            70.11,
            65.032,
            57.47,
            68.681,
            66.35300000000001,
            58.447,
            73.44,
            68.3,
            73.38,
            69.48100000000001,
            67.456
           ],
           "yaxis": "y"
          },
          {
           "hovertemplate": "<b>%{hovertext}</b><br><br>continent=Oceania<br>year=1977<br>gdpPercap=%{x}<br>lifeExp=%{y}<br>pop=%{marker.size}<extra></extra>",
           "hovertext": [
            "Australia",
            "New Zealand"
           ],
           "ids": [
            "Australia",
            "New Zealand"
           ],
           "legendgroup": "Oceania",
           "marker": {
            "color": "#FFA15A",
            "size": [
             14074100,
             3164900
            ],
            "sizemode": "area",
            "sizeref": 435928.2961983471,
            "symbol": "circle"
           },
           "mode": "markers",
           "name": "Oceania",
           "orientation": "v",
           "showlegend": true,
           "type": "scatter",
           "x": [
            18334.19751,
            16233.7177
           ],
           "xaxis": "x",
           "y": [
            73.49,
            72.22
           ],
           "yaxis": "y"
          }
         ],
         "name": "1977"
        },
        {
         "data": [
          {
           "hovertemplate": "<b>%{hovertext}</b><br><br>continent=Asia<br>year=1982<br>gdpPercap=%{x}<br>lifeExp=%{y}<br>pop=%{marker.size}<extra></extra>",
           "hovertext": [
            "Afghanistan",
            "Bahrain",
            "Bangladesh",
            "Cambodia",
            "China",
            "Hong Kong, China",
            "India",
            "Indonesia",
            "Iran",
            "Iraq",
            "Israel",
            "Japan",
            "Jordan",
            "Korea, Dem. Rep.",
            "Korea, Rep.",
            "Kuwait",
            "Lebanon",
            "Malaysia",
            "Mongolia",
            "Myanmar",
            "Nepal",
            "Oman",
            "Pakistan",
            "Philippines",
            "Saudi Arabia",
            "Singapore",
            "Sri Lanka",
            "Syria",
            "Taiwan",
            "Thailand",
            "Vietnam",
            "West Bank and Gaza",
            "Yemen, Rep."
           ],
           "ids": [
            "Afghanistan",
            "Bahrain",
            "Bangladesh",
            "Cambodia",
            "China",
            "Hong Kong, China",
            "India",
            "Indonesia",
            "Iran",
            "Iraq",
            "Israel",
            "Japan",
            "Jordan",
            "Korea, Dem. Rep.",
            "Korea, Rep.",
            "Kuwait",
            "Lebanon",
            "Malaysia",
            "Mongolia",
            "Myanmar",
            "Nepal",
            "Oman",
            "Pakistan",
            "Philippines",
            "Saudi Arabia",
            "Singapore",
            "Sri Lanka",
            "Syria",
            "Taiwan",
            "Thailand",
            "Vietnam",
            "West Bank and Gaza",
            "Yemen, Rep."
           ],
           "legendgroup": "Asia",
           "marker": {
            "color": "#636efa",
            "size": [
             12881816,
             377967,
             93074406,
             7272485,
             1000281000,
             5264500,
             708000000,
             153343000,
             43072751,
             14173318,
             3858421,
             118454974,
             2347031,
             17647518,
             39326000,
             1497494,
             3086876,
             14441916,
             1756032,
             34680442,
             15796314,
             1301048,
             91462088,
             53456774,
             11254672,
             2651869,
             15410151,
             9410494,
             18501390,
             48827160,
             56142181,
             1425876,
             9657618
            ],
            "sizemode": "area",
            "sizeref": 435928.2961983471,
            "symbol": "circle"
           },
           "mode": "markers",
           "name": "Asia",
           "orientation": "v",
           "showlegend": true,
           "type": "scatter",
           "x": [
            978.0114388,
            19211.14731,
            676.9818656,
            624.4754784,
            962.4213805,
            14560.53051,
            855.7235377000002,
            1516.872988,
            7608.334602,
            14517.90711,
            15367.0292,
            19384.10571,
            4161.415959,
            4106.525293,
            5622.942464,
            31354.03573,
            7640.519520999998,
            4920.355951,
            2000.603139,
            424,
            718.3730947,
            12954.79101,
            1443.429832,
            2603.273765,
            33693.17525,
            15169.16112,
            1648.079789,
            3761.837715,
            7426.3547739999985,
            2393.219781,
            707.2357863,
            4336.032082,
            1977.55701
           ],
           "xaxis": "x",
           "y": [
            39.854,
            69.05199999999999,
            50.00899999999999,
            50.957,
            65.525,
            75.45,
            56.596,
            56.159,
            59.62,
            62.038,
            74.45,
            77.11,
            63.739,
            69.1,
            67.123,
            71.309,
            66.983,
            68,
            57.489,
            58.056,
            49.594,
            62.728,
            56.158,
            62.082,
            63.012,
            71.76,
            68.757,
            64.59,
            72.16,
            64.597,
            58.816,
            64.406,
            49.113
           ],
           "yaxis": "y"
          },
          {
           "hovertemplate": "<b>%{hovertext}</b><br><br>continent=Europe<br>year=1982<br>gdpPercap=%{x}<br>lifeExp=%{y}<br>pop=%{marker.size}<extra></extra>",
           "hovertext": [
            "Albania",
            "Austria",
            "Belgium",
            "Bosnia and Herzegovina",
            "Bulgaria",
            "Croatia",
            "Czech Republic",
            "Denmark",
            "Finland",
            "France",
            "Germany",
            "Greece",
            "Hungary",
            "Iceland",
            "Ireland",
            "Italy",
            "Montenegro",
            "Netherlands",
            "Norway",
            "Poland",
            "Portugal",
            "Romania",
            "Serbia",
            "Slovak Republic",
            "Slovenia",
            "Spain",
            "Sweden",
            "Switzerland",
            "Turkey",
            "United Kingdom"
           ],
           "ids": [
            "Albania",
            "Austria",
            "Belgium",
            "Bosnia and Herzegovina",
            "Bulgaria",
            "Croatia",
            "Czech Republic",
            "Denmark",
            "Finland",
            "France",
            "Germany",
            "Greece",
            "Hungary",
            "Iceland",
            "Ireland",
            "Italy",
            "Montenegro",
            "Netherlands",
            "Norway",
            "Poland",
            "Portugal",
            "Romania",
            "Serbia",
            "Slovak Republic",
            "Slovenia",
            "Spain",
            "Sweden",
            "Switzerland",
            "Turkey",
            "United Kingdom"
           ],
           "legendgroup": "Europe",
           "marker": {
            "color": "#EF553B",
            "size": [
             2780097,
             7574613,
             9856303,
             4172693,
             8892098,
             4413368,
             10303704,
             5117810,
             4826933,
             54433565,
             78335266,
             9786480,
             10705535,
             233997,
             3480000,
             56535636,
             562548,
             14310401,
             4114787,
             36227381,
             9859650,
             22356726,
             9032824,
             5048043,
             1861252,
             37983310,
             8325260,
             6468126,
             47328791,
             56339704
            ],
            "sizemode": "area",
            "sizeref": 435928.2961983471,
            "symbol": "circle"
           },
           "mode": "markers",
           "name": "Europe",
           "orientation": "v",
           "showlegend": true,
           "type": "scatter",
           "x": [
            3630.880722,
            21597.08362,
            20979.84589,
            4126.613157,
            8224.191647,
            13221.82184,
            15377.22855,
            21688.04048,
            18533.15761,
            20293.89746,
            22031.53274,
            15268.42089,
            12545.99066,
            23269.6075,
            12618.32141,
            16537.4835,
            11222.58762,
            21399.46046,
            26298.63531,
            8451.531004,
            11753.84291,
            9605.314053,
            15181.0927,
            11348.54585,
            17866.72175,
            13926.16997,
            20667.38125,
            28397.71512,
            4241.356344,
            18232.42452
           ],
           "xaxis": "x",
           "y": [
            70.42,
            73.18,
            73.93,
            70.69,
            71.08,
            70.46,
            70.96,
            74.63,
            74.55,
            74.89,
            73.8,
            75.24,
            69.39,
            76.99,
            73.1,
            74.98,
            74.101,
            76.05,
            75.97,
            71.32,
            72.77,
            69.66,
            70.16199999999999,
            70.8,
            71.063,
            76.3,
            76.42,
            76.21,
            61.036,
            74.04
           ],
           "yaxis": "y"
          },
          {
           "hovertemplate": "<b>%{hovertext}</b><br><br>continent=Africa<br>year=1982<br>gdpPercap=%{x}<br>lifeExp=%{y}<br>pop=%{marker.size}<extra></extra>",
           "hovertext": [
            "Algeria",
            "Angola",
            "Benin",
            "Botswana",
            "Burkina Faso",
            "Burundi",
            "Cameroon",
            "Central African Republic",
            "Chad",
            "Comoros",
            "Congo, Dem. Rep.",
            "Congo, Rep.",
            "Cote d'Ivoire",
            "Djibouti",
            "Egypt",
            "Equatorial Guinea",
            "Eritrea",
            "Ethiopia",
            "Gabon",
            "Gambia",
            "Ghana",
            "Guinea",
            "Guinea-Bissau",
            "Kenya",
            "Lesotho",
            "Liberia",
            "Libya",
            "Madagascar",
            "Malawi",
            "Mali",
            "Mauritania",
            "Mauritius",
            "Morocco",
            "Mozambique",
            "Namibia",
            "Niger",
            "Nigeria",
            "Reunion",
            "Rwanda",
            "Sao Tome and Principe",
            "Senegal",
            "Sierra Leone",
            "Somalia",
            "South Africa",
            "Sudan",
            "Swaziland",
            "Tanzania",
            "Togo",
            "Tunisia",
            "Uganda",
            "Zambia",
            "Zimbabwe"
           ],
           "ids": [
            "Algeria",
            "Angola",
            "Benin",
            "Botswana",
            "Burkina Faso",
            "Burundi",
            "Cameroon",
            "Central African Republic",
            "Chad",
            "Comoros",
            "Congo, Dem. Rep.",
            "Congo, Rep.",
            "Cote d'Ivoire",
            "Djibouti",
            "Egypt",
            "Equatorial Guinea",
            "Eritrea",
            "Ethiopia",
            "Gabon",
            "Gambia",
            "Ghana",
            "Guinea",
            "Guinea-Bissau",
            "Kenya",
            "Lesotho",
            "Liberia",
            "Libya",
            "Madagascar",
            "Malawi",
            "Mali",
            "Mauritania",
            "Mauritius",
            "Morocco",
            "Mozambique",
            "Namibia",
            "Niger",
            "Nigeria",
            "Reunion",
            "Rwanda",
            "Sao Tome and Principe",
            "Senegal",
            "Sierra Leone",
            "Somalia",
            "South Africa",
            "Sudan",
            "Swaziland",
            "Tanzania",
            "Togo",
            "Tunisia",
            "Uganda",
            "Zambia",
            "Zimbabwe"
           ],
           "legendgroup": "Africa",
           "marker": {
            "color": "#00cc96",
            "size": [
             20033753,
             7016384,
             3641603,
             970347,
             6634596,
             4580410,
             9250831,
             2476971,
             4875118,
             348643,
             30646495,
             1774735,
             9025951,
             305991,
             45681811,
             285483,
             2637297,
             38111756,
             753874,
             715523,
             11400338,
             4710497,
             825987,
             17661452,
             1411807,
             1956875,
             3344074,
             9171477,
             6502825,
             6998256,
             1622136,
             992040,
             20198730,
             12587223,
             1099010,
             6437188,
             73039376,
             517810,
             5507565,
             98593,
             6147783,
             3464522,
             5828892,
             31140029,
             20367053,
             649901,
             19844382,
             2644765,
             6734098,
             12939400,
             6100407,
             7636524
            ],
            "sizemode": "area",
            "sizeref": 435928.2961983471,
            "symbol": "circle"
           },
           "mode": "markers",
           "name": "Africa",
           "orientation": "v",
           "showlegend": true,
           "type": "scatter",
           "x": [
            5745.160213,
            2756.953672,
            1277.897616,
            4551.14215,
            807.1985855,
            559.6032309999998,
            2367.983282,
            956.7529907,
            797.9081006,
            1267.100083,
            673.7478181,
            4879.507522,
            2602.710169,
            2879.468067,
            3503.729636,
            927.8253427,
            524.8758493,
            577.8607471,
            15113.36194,
            835.8096107999999,
            876.032569,
            857.2503577,
            838.1239671,
            1348.225791,
            797.2631074,
            572.1995694,
            17364.275380000006,
            1302.878658,
            632.8039209,
            618.0140640999998,
            1481.150189,
            3688.037739,
            2702.620356,
            462.2114149,
            4191.100511,
            909.7221354,
            1576.97375,
            5267.219353,
            881.5706467,
            1890.218117,
            1518.479984,
            1465.010784,
            1176.807031,
            8568.266228,
            1895.544073,
            3895.384018,
            874.2426069,
            1344.577953,
            3560.2331740000004,
            682.2662267999998,
            1408.678565,
            788.8550411
           ],
           "xaxis": "x",
           "y": [
            61.368,
            39.942,
            50.904,
            61.484,
            48.122,
            47.471,
            52.96100000000001,
            48.295,
            49.517,
            52.933,
            47.784,
            56.695,
            53.983,
            48.812,
            56.006,
            43.662,
            43.89,
            44.916,
            56.56399999999999,
            45.58,
            53.744,
            42.89100000000001,
            39.327,
            58.76600000000001,
            55.078,
            44.852,
            62.155,
            48.969,
            45.642,
            43.916,
            53.599,
            66.711,
            59.65,
            42.795,
            58.968,
            42.598,
            45.826,
            69.885,
            46.218,
            60.351000000000006,
            52.379,
            38.445,
            42.955,
            58.161,
            50.338,
            55.56100000000001,
            50.608,
            55.471,
            64.048,
            49.849,
            51.82100000000001,
            60.363
           ],
           "yaxis": "y"
          },
          {
           "hovertemplate": "<b>%{hovertext}</b><br><br>continent=Americas<br>year=1982<br>gdpPercap=%{x}<br>lifeExp=%{y}<br>pop=%{marker.size}<extra></extra>",
           "hovertext": [
            "Argentina",
            "Bolivia",
            "Brazil",
            "Canada",
            "Chile",
            "Colombia",
            "Costa Rica",
            "Cuba",
            "Dominican Republic",
            "Ecuador",
            "El Salvador",
            "Guatemala",
            "Haiti",
            "Honduras",
            "Jamaica",
            "Mexico",
            "Nicaragua",
            "Panama",
            "Paraguay",
            "Peru",
            "Puerto Rico",
            "Trinidad and Tobago",
            "United States",
            "Uruguay",
            "Venezuela"
           ],
           "ids": [
            "Argentina",
            "Bolivia",
            "Brazil",
            "Canada",
            "Chile",
            "Colombia",
            "Costa Rica",
            "Cuba",
            "Dominican Republic",
            "Ecuador",
            "El Salvador",
            "Guatemala",
            "Haiti",
            "Honduras",
            "Jamaica",
            "Mexico",
            "Nicaragua",
            "Panama",
            "Paraguay",
            "Peru",
            "Puerto Rico",
            "Trinidad and Tobago",
            "United States",
            "Uruguay",
            "Venezuela"
           ],
           "legendgroup": "Americas",
           "marker": {
            "color": "#ab63fa",
            "size": [
             29341374,
             5642224,
             128962939,
             25201900,
             11487112,
             27764644,
             2424367,
             9789224,
             5968349,
             8365850,
             4474873,
             6395630,
             5198399,
             3669448,
             2298309,
             71640904,
             2979423,
             2036305,
             3366439,
             18125129,
             3279001,
             1116479,
             232187835,
             2953997,
             15620766
            ],
            "sizemode": "area",
            "sizeref": 435928.2961983471,
            "symbol": "circle"
           },
           "mode": "markers",
           "name": "Americas",
           "orientation": "v",
           "showlegend": true,
           "type": "scatter",
           "x": [
            8997.897412,
            3156.510452,
            7030.835878,
            22898.79214,
            5095.6657380000015,
            4397.575659,
            5262.734751,
            7316.918106999998,
            2861.092386,
            7213.791267,
            4098.344175,
            4820.49479,
            2011.159549,
            3121.7607940000007,
            6068.05135,
            9611.147541,
            3470.3381560000007,
            7009.601598,
            4258.503604,
            6434.501797,
            10330.98915,
            9119.528607,
            25009.55914,
            6920.223051000001,
            11152.41011
           ],
           "xaxis": "x",
           "y": [
            69.942,
            53.859,
            63.33600000000001,
            75.76,
            70.565,
            66.653,
            73.45,
            73.717,
            63.727,
            64.342,
            56.604,
            58.137,
            51.46100000000001,
            60.909,
            71.21,
            67.405,
            59.298,
            70.472,
            66.874,
            61.40600000000001,
            73.75,
            68.832,
            74.65,
            70.805,
            68.557
           ],
           "yaxis": "y"
          },
          {
           "hovertemplate": "<b>%{hovertext}</b><br><br>continent=Oceania<br>year=1982<br>gdpPercap=%{x}<br>lifeExp=%{y}<br>pop=%{marker.size}<extra></extra>",
           "hovertext": [
            "Australia",
            "New Zealand"
           ],
           "ids": [
            "Australia",
            "New Zealand"
           ],
           "legendgroup": "Oceania",
           "marker": {
            "color": "#FFA15A",
            "size": [
             15184200,
             3210650
            ],
            "sizemode": "area",
            "sizeref": 435928.2961983471,
            "symbol": "circle"
           },
           "mode": "markers",
           "name": "Oceania",
           "orientation": "v",
           "showlegend": true,
           "type": "scatter",
           "x": [
            19477.00928,
            17632.4104
           ],
           "xaxis": "x",
           "y": [
            74.74,
            73.84
           ],
           "yaxis": "y"
          }
         ],
         "name": "1982"
        },
        {
         "data": [
          {
           "hovertemplate": "<b>%{hovertext}</b><br><br>continent=Asia<br>year=1987<br>gdpPercap=%{x}<br>lifeExp=%{y}<br>pop=%{marker.size}<extra></extra>",
           "hovertext": [
            "Afghanistan",
            "Bahrain",
            "Bangladesh",
            "Cambodia",
            "China",
            "Hong Kong, China",
            "India",
            "Indonesia",
            "Iran",
            "Iraq",
            "Israel",
            "Japan",
            "Jordan",
            "Korea, Dem. Rep.",
            "Korea, Rep.",
            "Kuwait",
            "Lebanon",
            "Malaysia",
            "Mongolia",
            "Myanmar",
            "Nepal",
            "Oman",
            "Pakistan",
            "Philippines",
            "Saudi Arabia",
            "Singapore",
            "Sri Lanka",
            "Syria",
            "Taiwan",
            "Thailand",
            "Vietnam",
            "West Bank and Gaza",
            "Yemen, Rep."
           ],
           "ids": [
            "Afghanistan",
            "Bahrain",
            "Bangladesh",
            "Cambodia",
            "China",
            "Hong Kong, China",
            "India",
            "Indonesia",
            "Iran",
            "Iraq",
            "Israel",
            "Japan",
            "Jordan",
            "Korea, Dem. Rep.",
            "Korea, Rep.",
            "Kuwait",
            "Lebanon",
            "Malaysia",
            "Mongolia",
            "Myanmar",
            "Nepal",
            "Oman",
            "Pakistan",
            "Philippines",
            "Saudi Arabia",
            "Singapore",
            "Sri Lanka",
            "Syria",
            "Taiwan",
            "Thailand",
            "Vietnam",
            "West Bank and Gaza",
            "Yemen, Rep."
           ],
           "legendgroup": "Asia",
           "marker": {
            "color": "#636efa",
            "size": [
             13867957,
             454612,
             103764241,
             8371791,
             1084035000,
             5584510,
             788000000,
             169276000,
             51889696,
             16543189,
             4203148,
             122091325,
             2820042,
             19067554,
             41622000,
             1891487,
             3089353,
             16331785,
             2015133,
             38028578,
             17917180,
             1593882,
             105186881,
             60017788,
             14619745,
             2794552,
             16495304,
             11242847,
             19757799,
             52910342,
             62826491,
             1691210,
             11219340
            ],
            "sizemode": "area",
            "sizeref": 435928.2961983471,
            "symbol": "circle"
           },
           "mode": "markers",
           "name": "Asia",
           "orientation": "v",
           "showlegend": true,
           "type": "scatter",
           "x": [
            852.3959447999998,
            18524.02406,
            751.9794035,
            683.8955732000002,
            1378.904018,
            20038.47269,
            976.5126756,
            1748.356961,
            6642.881371,
            11643.57268,
            17122.47986,
            22375.94189,
            4448.679912,
            4106.492315,
            8533.088805,
            28118.42998,
            5377.091329,
            5249.802653,
            2338.008304,
            385,
            775.6324501,
            18115.22313,
            1704.686583,
            2189.634995,
            21198.26136,
            18861.53081,
            1876.766827,
            3116.774285,
            11054.56175,
            2982.653773,
            820.7994449,
            5107.197384,
            1971.741538
           ],
           "xaxis": "x",
           "y": [
            40.822,
            70.75,
            52.819,
            53.914,
            67.274,
            76.2,
            58.553,
            60.137,
            63.04,
            65.044,
            75.6,
            78.67,
            65.869,
            70.64699999999998,
            69.81,
            74.17399999999998,
            67.926,
            69.5,
            60.222,
            58.339,
            52.537,
            67.734,
            58.245,
            64.15100000000001,
            66.295,
            73.56,
            69.01100000000001,
            66.97399999999999,
            73.4,
            66.084,
            62.82,
            67.046,
            52.922
           ],
           "yaxis": "y"
          },
          {
           "hovertemplate": "<b>%{hovertext}</b><br><br>continent=Europe<br>year=1987<br>gdpPercap=%{x}<br>lifeExp=%{y}<br>pop=%{marker.size}<extra></extra>",
           "hovertext": [
            "Albania",
            "Austria",
            "Belgium",
            "Bosnia and Herzegovina",
            "Bulgaria",
            "Croatia",
            "Czech Republic",
            "Denmark",
            "Finland",
            "France",
            "Germany",
            "Greece",
            "Hungary",
            "Iceland",
            "Ireland",
            "Italy",
            "Montenegro",
            "Netherlands",
            "Norway",
            "Poland",
            "Portugal",
            "Romania",
            "Serbia",
            "Slovak Republic",
            "Slovenia",
            "Spain",
            "Sweden",
            "Switzerland",
            "Turkey",
            "United Kingdom"
           ],
           "ids": [
            "Albania",
            "Austria",
            "Belgium",
            "Bosnia and Herzegovina",
            "Bulgaria",
            "Croatia",
            "Czech Republic",
            "Denmark",
            "Finland",
            "France",
            "Germany",
            "Greece",
            "Hungary",
            "Iceland",
            "Ireland",
            "Italy",
            "Montenegro",
            "Netherlands",
            "Norway",
            "Poland",
            "Portugal",
            "Romania",
            "Serbia",
            "Slovak Republic",
            "Slovenia",
            "Spain",
            "Sweden",
            "Switzerland",
            "Turkey",
            "United Kingdom"
           ],
           "legendgroup": "Europe",
           "marker": {
            "color": "#EF553B",
            "size": [
             3075321,
             7578903,
             9870200,
             4338977,
             8971958,
             4484310,
             10311597,
             5127024,
             4931729,
             55630100,
             77718298,
             9974490,
             10612740,
             244676,
             3539900,
             56729703,
             569473,
             14665278,
             4186147,
             37740710,
             9915289,
             22686371,
             9230783,
             5199318,
             1945870,
             38880702,
             8421403,
             6649942,
             52881328,
             56981620
            ],
            "sizemode": "area",
            "sizeref": 435928.2961983471,
            "symbol": "circle"
           },
           "mode": "markers",
           "name": "Europe",
           "orientation": "v",
           "showlegend": true,
           "type": "scatter",
           "x": [
            3738.932735,
            23687.82607,
            22525.56308,
            4314.114757,
            8239.854824,
            13822.58394,
            16310.4434,
            25116.17581,
            21141.01223,
            22066.44214,
            24639.18566,
            16120.52839,
            12986.47998,
            26923.20628,
            13872.86652,
            19207.23482,
            11732.51017,
            23651.32361,
            31540.9748,
            9082.351172,
            13039.30876,
            9696.273295,
            15870.87851,
            12037.26758,
            18678.53492,
            15764.98313,
            23586.92927,
            30281.70459,
            5089.043686,
            21664.78767
           ],
           "xaxis": "x",
           "y": [
            72,
            74.94,
            75.35,
            71.14,
            71.34,
            71.52,
            71.58,
            74.8,
            74.83,
            76.34,
            74.847,
            76.67,
            69.58,
            77.23,
            74.36,
            76.42,
            74.865,
            76.83,
            75.89,
            70.98,
            74.06,
            69.53,
            71.218,
            71.08,
            72.25,
            76.9,
            77.19,
            77.41,
            63.108,
            75.007
           ],
           "yaxis": "y"
          },
          {
           "hovertemplate": "<b>%{hovertext}</b><br><br>continent=Africa<br>year=1987<br>gdpPercap=%{x}<br>lifeExp=%{y}<br>pop=%{marker.size}<extra></extra>",
           "hovertext": [
            "Algeria",
            "Angola",
            "Benin",
            "Botswana",
            "Burkina Faso",
            "Burundi",
            "Cameroon",
            "Central African Republic",
            "Chad",
            "Comoros",
            "Congo, Dem. Rep.",
            "Congo, Rep.",
            "Cote d'Ivoire",
            "Djibouti",
            "Egypt",
            "Equatorial Guinea",
            "Eritrea",
            "Ethiopia",
            "Gabon",
            "Gambia",
            "Ghana",
            "Guinea",
            "Guinea-Bissau",
            "Kenya",
            "Lesotho",
            "Liberia",
            "Libya",
            "Madagascar",
            "Malawi",
            "Mali",
            "Mauritania",
            "Mauritius",
            "Morocco",
            "Mozambique",
            "Namibia",
            "Niger",
            "Nigeria",
            "Reunion",
            "Rwanda",
            "Sao Tome and Principe",
            "Senegal",
            "Sierra Leone",
            "Somalia",
            "South Africa",
            "Sudan",
            "Swaziland",
            "Tanzania",
            "Togo",
            "Tunisia",
            "Uganda",
            "Zambia",
            "Zimbabwe"
           ],
           "ids": [
            "Algeria",
            "Angola",
            "Benin",
            "Botswana",
            "Burkina Faso",
            "Burundi",
            "Cameroon",
            "Central African Republic",
            "Chad",
            "Comoros",
            "Congo, Dem. Rep.",
            "Congo, Rep.",
            "Cote d'Ivoire",
            "Djibouti",
            "Egypt",
            "Equatorial Guinea",
            "Eritrea",
            "Ethiopia",
            "Gabon",
            "Gambia",
            "Ghana",
            "Guinea",
            "Guinea-Bissau",
            "Kenya",
            "Lesotho",
            "Liberia",
            "Libya",
            "Madagascar",
            "Malawi",
            "Mali",
            "Mauritania",
            "Mauritius",
            "Morocco",
            "Mozambique",
            "Namibia",
            "Niger",
            "Nigeria",
            "Reunion",
            "Rwanda",
            "Sao Tome and Principe",
            "Senegal",
            "Sierra Leone",
            "Somalia",
            "South Africa",
            "Sudan",
            "Swaziland",
            "Tanzania",
            "Togo",
            "Tunisia",
            "Uganda",
            "Zambia",
            "Zimbabwe"
           ],
           "legendgroup": "Africa",
           "marker": {
            "color": "#00cc96",
            "size": [
             23254956,
             7874230,
             4243788,
             1151184,
             7586551,
             5126023,
             10780667,
             2840009,
             5498955,
             395114,
             35481645,
             2064095,
             10761098,
             311025,
             52799062,
             341244,
             2915959,
             42999530,
             880397,
             848406,
             14168101,
             5650262,
             927524,
             21198082,
             1599200,
             2269414,
             3799845,
             10568642,
             7824747,
             7634008,
             1841240,
             1042663,
             22987397,
             12891952,
             1278184,
             7332638,
             81551520,
             562035,
             6349365,
             110812,
             7171347,
             3868905,
             6921858,
             35933379,
             24725960,
             779348,
             23040630,
             3154264,
             7724976,
             15283050,
             7272406,
             9216418
            ],
            "sizemode": "area",
            "sizeref": 435928.2961983471,
            "symbol": "circle"
           },
           "mode": "markers",
           "name": "Africa",
           "orientation": "v",
           "showlegend": true,
           "type": "scatter",
           "x": [
            5681.358539,
            2430.208311,
            1225.85601,
            6205.88385,
            912.0631417,
            621.8188188999999,
            2602.664206,
            844.8763504000002,
            952.386129,
            1315.980812,
            672.774812,
            4201.194936999998,
            2156.9560690000008,
            2880.102568,
            3885.46071,
            966.8968149,
            521.1341333,
            573.7413142000001,
            11864.40844,
            611.6588611000002,
            847.0061135,
            805.5724717999999,
            736.4153921,
            1361.936856,
            773.9932140999998,
            506.1138573,
            11770.5898,
            1155.441948,
            635.5173633999998,
            684.1715576,
            1421.603576,
            4783.586903,
            2755.046991,
            389.8761846,
            3693.731337,
            668.3000228,
            1385.029563,
            5303.377488,
            847.991217,
            1516.525457,
            1441.72072,
            1294.4477880000004,
            1093.244963,
            7825.823398,
            1507.819159,
            3984.839812,
            831.8220794,
            1202.201361,
            3810.419296,
            617.7244065,
            1213.315116,
            706.1573059
           ],
           "xaxis": "x",
           "y": [
            65.79899999999999,
            39.906,
            52.337,
            63.622,
            49.557,
            48.21100000000001,
            54.985,
            50.485,
            51.051,
            54.926,
            47.412,
            57.47,
            54.655,
            50.04,
            59.797,
            45.664,
            46.453,
            46.684,
            60.19,
            49.265,
            55.729,
            45.552,
            41.245,
            59.339,
            57.18,
            46.027,
            66.234,
            49.35,
            47.457,
            46.364,
            56.145,
            68.74,
            62.677,
            42.861,
            60.835,
            44.555,
            46.886,
            71.913,
            44.02,
            61.728,
            55.769,
            40.006,
            44.50100000000001,
            60.834,
            51.744,
            57.678,
            51.535,
            56.941,
            66.89399999999999,
            51.50899999999999,
            50.82100000000001,
            62.351000000000006
           ],
           "yaxis": "y"
          },
          {
           "hovertemplate": "<b>%{hovertext}</b><br><br>continent=Americas<br>year=1987<br>gdpPercap=%{x}<br>lifeExp=%{y}<br>pop=%{marker.size}<extra></extra>",
           "hovertext": [
            "Argentina",
            "Bolivia",
            "Brazil",
            "Canada",
            "Chile",
            "Colombia",
            "Costa Rica",
            "Cuba",
            "Dominican Republic",
            "Ecuador",
            "El Salvador",
            "Guatemala",
            "Haiti",
            "Honduras",
            "Jamaica",
            "Mexico",
            "Nicaragua",
            "Panama",
            "Paraguay",
            "Peru",
            "Puerto Rico",
            "Trinidad and Tobago",
            "United States",
            "Uruguay",
            "Venezuela"
           ],
           "ids": [
            "Argentina",
            "Bolivia",
            "Brazil",
            "Canada",
            "Chile",
            "Colombia",
            "Costa Rica",
            "Cuba",
            "Dominican Republic",
            "Ecuador",
            "El Salvador",
            "Guatemala",
            "Haiti",
            "Honduras",
            "Jamaica",
            "Mexico",
            "Nicaragua",
            "Panama",
            "Paraguay",
            "Peru",
            "Puerto Rico",
            "Trinidad and Tobago",
            "United States",
            "Uruguay",
            "Venezuela"
           ],
           "legendgroup": "Americas",
           "marker": {
            "color": "#ab63fa",
            "size": [
             31620918,
             6156369,
             142938076,
             26549700,
             12463354,
             30964245,
             2799811,
             10239839,
             6655297,
             9545158,
             4842194,
             7326406,
             5756203,
             4372203,
             2326606,
             80122492,
             3344353,
             2253639,
             3886512,
             20195924,
             3444468,
             1191336,
             242803533,
             3045153,
             17910182
            ],
            "sizemode": "area",
            "sizeref": 435928.2961983471,
            "symbol": "circle"
           },
           "mode": "markers",
           "name": "Americas",
           "orientation": "v",
           "showlegend": true,
           "type": "scatter",
           "x": [
            9139.671389,
            2753.69149,
            7807.095818000002,
            26626.51503,
            5547.063754,
            4903.2191,
            5629.915318,
            7532.924762999999,
            2899.842175,
            6481.776993,
            4140.442097,
            4246.485974,
            1823.015995,
            3023.096699,
            6351.237495,
            8688.156003,
            2955.984375,
            7034.779161,
            3998.875695,
            6360.943444,
            12281.34191,
            7388.597823,
            29884.350410000006,
            7452.398969,
            9883.584648
           ],
           "xaxis": "x",
           "y": [
            70.774,
            57.25100000000001,
            65.205,
            76.86,
            72.492,
            67.768,
            74.752,
            74.17399999999998,
            66.046,
            67.23100000000001,
            63.154,
            60.782,
            53.636,
            64.492,
            71.77,
            69.498,
            62.008,
            71.523,
            67.378,
            64.134,
            74.63,
            69.582,
            75.02,
            71.918,
            70.19
           ],
           "yaxis": "y"
          },
          {
           "hovertemplate": "<b>%{hovertext}</b><br><br>continent=Oceania<br>year=1987<br>gdpPercap=%{x}<br>lifeExp=%{y}<br>pop=%{marker.size}<extra></extra>",
           "hovertext": [
            "Australia",
            "New Zealand"
           ],
           "ids": [
            "Australia",
            "New Zealand"
           ],
           "legendgroup": "Oceania",
           "marker": {
            "color": "#FFA15A",
            "size": [
             16257249,
             3317166
            ],
            "sizemode": "area",
            "sizeref": 435928.2961983471,
            "symbol": "circle"
           },
           "mode": "markers",
           "name": "Oceania",
           "orientation": "v",
           "showlegend": true,
           "type": "scatter",
           "x": [
            21888.88903,
            19007.19129
           ],
           "xaxis": "x",
           "y": [
            76.32,
            74.32
           ],
           "yaxis": "y"
          }
         ],
         "name": "1987"
        },
        {
         "data": [
          {
           "hovertemplate": "<b>%{hovertext}</b><br><br>continent=Asia<br>year=1992<br>gdpPercap=%{x}<br>lifeExp=%{y}<br>pop=%{marker.size}<extra></extra>",
           "hovertext": [
            "Afghanistan",
            "Bahrain",
            "Bangladesh",
            "Cambodia",
            "China",
            "Hong Kong, China",
            "India",
            "Indonesia",
            "Iran",
            "Iraq",
            "Israel",
            "Japan",
            "Jordan",
            "Korea, Dem. Rep.",
            "Korea, Rep.",
            "Kuwait",
            "Lebanon",
            "Malaysia",
            "Mongolia",
            "Myanmar",
            "Nepal",
            "Oman",
            "Pakistan",
            "Philippines",
            "Saudi Arabia",
            "Singapore",
            "Sri Lanka",
            "Syria",
            "Taiwan",
            "Thailand",
            "Vietnam",
            "West Bank and Gaza",
            "Yemen, Rep."
           ],
           "ids": [
            "Afghanistan",
            "Bahrain",
            "Bangladesh",
            "Cambodia",
            "China",
            "Hong Kong, China",
            "India",
            "Indonesia",
            "Iran",
            "Iraq",
            "Israel",
            "Japan",
            "Jordan",
            "Korea, Dem. Rep.",
            "Korea, Rep.",
            "Kuwait",
            "Lebanon",
            "Malaysia",
            "Mongolia",
            "Myanmar",
            "Nepal",
            "Oman",
            "Pakistan",
            "Philippines",
            "Saudi Arabia",
            "Singapore",
            "Sri Lanka",
            "Syria",
            "Taiwan",
            "Thailand",
            "Vietnam",
            "West Bank and Gaza",
            "Yemen, Rep."
           ],
           "legendgroup": "Asia",
           "marker": {
            "color": "#636efa",
            "size": [
             16317921,
             529491,
             113704579,
             10150094,
             1164970000,
             5829696,
             872000000,
             184816000,
             60397973,
             17861905,
             4936550,
             124329269,
             3867409,
             20711375,
             43805450,
             1418095,
             3219994,
             18319502,
             2312802,
             40546538,
             20326209,
             1915208,
             120065004,
             67185766,
             16945857,
             3235865,
             17587060,
             13219062,
             20686918,
             56667095,
             69940728,
             2104779,
             13367997
            ],
            "sizemode": "area",
            "sizeref": 435928.2961983471,
            "symbol": "circle"
           },
           "mode": "markers",
           "name": "Asia",
           "orientation": "v",
           "showlegend": true,
           "type": "scatter",
           "x": [
            649.3413952000002,
            19035.57917,
            837.8101642999999,
            682.3031755,
            1655.784158,
            24757.60301,
            1164.406809,
            2383.140898,
            7235.653187999998,
            3745.640687,
            18051.52254,
            26824.89511,
            3431.593647,
            3726.063507,
            12104.27872,
            34932.91959,
            6890.806854,
            7277.912802,
            1785.402016,
            347,
            897.7403604,
            18616.70691,
            1971.829464,
            2279.324017000001,
            24841.61777,
            24769.8912,
            2153.739222,
            3340.542768,
            15215.6579,
            4616.896545000001,
            989.0231487,
            6017.654756,
            1879.496673
           ],
           "xaxis": "x",
           "y": [
            41.674,
            72.601,
            56.018,
            55.803,
            68.69,
            77.601,
            60.223,
            62.681,
            65.742,
            59.46100000000001,
            76.93,
            79.36,
            68.015,
            69.97800000000001,
            72.244,
            75.19,
            69.292,
            70.693,
            61.271,
            59.32,
            55.727,
            71.197,
            60.838,
            66.458,
            68.768,
            75.788,
            70.37899999999998,
            69.249,
            74.26,
            67.298,
            67.66199999999999,
            69.718,
            55.599
           ],
           "yaxis": "y"
          },
          {
           "hovertemplate": "<b>%{hovertext}</b><br><br>continent=Europe<br>year=1992<br>gdpPercap=%{x}<br>lifeExp=%{y}<br>pop=%{marker.size}<extra></extra>",
           "hovertext": [
            "Albania",
            "Austria",
            "Belgium",
            "Bosnia and Herzegovina",
            "Bulgaria",
            "Croatia",
            "Czech Republic",
            "Denmark",
            "Finland",
            "France",
            "Germany",
            "Greece",
            "Hungary",
            "Iceland",
            "Ireland",
            "Italy",
            "Montenegro",
            "Netherlands",
            "Norway",
            "Poland",
            "Portugal",
            "Romania",
            "Serbia",
            "Slovak Republic",
            "Slovenia",
            "Spain",
            "Sweden",
            "Switzerland",
            "Turkey",
            "United Kingdom"
           ],
           "ids": [
            "Albania",
            "Austria",
            "Belgium",
            "Bosnia and Herzegovina",
            "Bulgaria",
            "Croatia",
            "Czech Republic",
            "Denmark",
            "Finland",
            "France",
            "Germany",
            "Greece",
            "Hungary",
            "Iceland",
            "Ireland",
            "Italy",
            "Montenegro",
            "Netherlands",
            "Norway",
            "Poland",
            "Portugal",
            "Romania",
            "Serbia",
            "Slovak Republic",
            "Slovenia",
            "Spain",
            "Sweden",
            "Switzerland",
            "Turkey",
            "United Kingdom"
           ],
           "legendgroup": "Europe",
           "marker": {
            "color": "#EF553B",
            "size": [
             3326498,
             7914969,
             10045622,
             4256013,
             8658506,
             4494013,
             10315702,
             5171393,
             5041039,
             57374179,
             80597764,
             10325429,
             10348684,
             259012,
             3557761,
             56840847,
             621621,
             15174244,
             4286357,
             38370697,
             9927680,
             22797027,
             9826397,
             5302888,
             1999210,
             39549438,
             8718867,
             6995447,
             58179144,
             57866349
            ],
            "sizemode": "area",
            "sizeref": 435928.2961983471,
            "symbol": "circle"
           },
           "mode": "markers",
           "name": "Europe",
           "orientation": "v",
           "showlegend": true,
           "type": "scatter",
           "x": [
            2497.437901,
            27042.01868,
            25575.57069,
            2546.781445,
            6302.623438000001,
            8447.794873,
            14297.02122,
            26406.73985,
            20647.16499,
            24703.79615,
            26505.30317,
            17541.49634,
            10535.62855,
            25144.39201,
            17558.81555,
            22013.64486,
            7003.339037000002,
            26790.94961,
            33965.66115,
            7738.881247,
            16207.266630000002,
            6598.409903,
            9325.068238,
            9498.467723,
            14214.71681,
            18603.06452,
            23880.01683,
            31871.5303,
            5678.348271,
            22705.09254
           ],
           "xaxis": "x",
           "y": [
            71.581,
            76.04,
            76.46,
            72.178,
            71.19,
            72.527,
            72.4,
            75.33,
            75.7,
            77.46,
            76.07,
            77.03,
            69.17,
            78.77,
            75.467,
            77.44,
            75.435,
            77.42,
            77.32,
            70.99,
            74.86,
            69.36,
            71.65899999999998,
            71.38,
            73.64,
            77.57,
            78.16,
            78.03,
            66.146,
            76.42
           ],
           "yaxis": "y"
          },
          {
           "hovertemplate": "<b>%{hovertext}</b><br><br>continent=Africa<br>year=1992<br>gdpPercap=%{x}<br>lifeExp=%{y}<br>pop=%{marker.size}<extra></extra>",
           "hovertext": [
            "Algeria",
            "Angola",
            "Benin",
            "Botswana",
            "Burkina Faso",
            "Burundi",
            "Cameroon",
            "Central African Republic",
            "Chad",
            "Comoros",
            "Congo, Dem. Rep.",
            "Congo, Rep.",
            "Cote d'Ivoire",
            "Djibouti",
            "Egypt",
            "Equatorial Guinea",
            "Eritrea",
            "Ethiopia",
            "Gabon",
            "Gambia",
            "Ghana",
            "Guinea",
            "Guinea-Bissau",
            "Kenya",
            "Lesotho",
            "Liberia",
            "Libya",
            "Madagascar",
            "Malawi",
            "Mali",
            "Mauritania",
            "Mauritius",
            "Morocco",
            "Mozambique",
            "Namibia",
            "Niger",
            "Nigeria",
            "Reunion",
            "Rwanda",
            "Sao Tome and Principe",
            "Senegal",
            "Sierra Leone",
            "Somalia",
            "South Africa",
            "Sudan",
            "Swaziland",
            "Tanzania",
            "Togo",
            "Tunisia",
            "Uganda",
            "Zambia",
            "Zimbabwe"
           ],
           "ids": [
            "Algeria",
            "Angola",
            "Benin",
            "Botswana",
            "Burkina Faso",
            "Burundi",
            "Cameroon",
            "Central African Republic",
            "Chad",
            "Comoros",
            "Congo, Dem. Rep.",
            "Congo, Rep.",
            "Cote d'Ivoire",
            "Djibouti",
            "Egypt",
            "Equatorial Guinea",
            "Eritrea",
            "Ethiopia",
            "Gabon",
            "Gambia",
            "Ghana",
            "Guinea",
            "Guinea-Bissau",
            "Kenya",
            "Lesotho",
            "Liberia",
            "Libya",
            "Madagascar",
            "Malawi",
            "Mali",
            "Mauritania",
            "Mauritius",
            "Morocco",
            "Mozambique",
            "Namibia",
            "Niger",
            "Nigeria",
            "Reunion",
            "Rwanda",
            "Sao Tome and Principe",
            "Senegal",
            "Sierra Leone",
            "Somalia",
            "South Africa",
            "Sudan",
            "Swaziland",
            "Tanzania",
            "Togo",
            "Tunisia",
            "Uganda",
            "Zambia",
            "Zimbabwe"
           ],
           "legendgroup": "Africa",
           "marker": {
            "color": "#00cc96",
            "size": [
             26298373,
             8735988,
             4981671,
             1342614,
             8878303,
             5809236,
             12467171,
             3265124,
             6429417,
             454429,
             41672143,
             2409073,
             12772596,
             384156,
             59402198,
             387838,
             3668440,
             52088559,
             985739,
             1025384,
             16278738,
             6990574,
             1050938,
             25020539,
             1803195,
             1912974,
             4364501,
             12210395,
             10014249,
             8416215,
             2119465,
             1096202,
             25798239,
             13160731,
             1554253,
             8392818,
             93364244,
             622191,
             7290203,
             125911,
             8307920,
             4260884,
             6099799,
             39964159,
             28227588,
             962344,
             26605473,
             3747553,
             8523077,
             18252190,
             8381163,
             10704340
            ],
            "sizemode": "area",
            "sizeref": 435928.2961983471,
            "symbol": "circle"
           },
           "mode": "markers",
           "name": "Africa",
           "orientation": "v",
           "showlegend": true,
           "type": "scatter",
           "x": [
            5023.216647,
            2627.845685,
            1191.207681,
            7954.111645,
            931.7527731,
            631.6998778,
            1793.1632780000002,
            747.9055252,
            1058.0643,
            1246.90737,
            457.7191807,
            4016.239529,
            1648.073791,
            2377.156192000001,
            3794.755195,
            1132.055034,
            582.8585102000002,
            421.3534653,
            13522.15752,
            665.6244126,
            925.060154,
            794.3484384,
            745.5398706,
            1341.9217210000004,
            977.4862725,
            636.6229191000001,
            9640.138501,
            1040.67619,
            563.2000145,
            739.014375,
            1361.369784,
            6058.253846000001,
            2948.047252,
            410.8968239,
            3804.537999,
            581.182725,
            1619.848217,
            6101.255823,
            737.0685949,
            1428.777814,
            1367.899369,
            1068.696278,
            926.9602964,
            7225.069257999998,
            1492.197043,
            3553.0224,
            825.682454,
            1034.298904,
            4332.720164,
            644.1707968999998,
            1210.884633,
            693.4207856
           ],
           "xaxis": "x",
           "y": [
            67.744,
            40.647,
            53.919,
            62.745,
            50.26,
            44.736,
            54.31399999999999,
            49.396,
            51.724,
            57.93899999999999,
            45.548,
            56.433,
            52.044,
            51.604,
            63.674,
            47.545,
            49.99100000000001,
            48.091,
            61.36600000000001,
            52.644,
            57.50100000000001,
            48.576,
            43.26600000000001,
            59.285,
            59.685,
            40.802,
            68.755,
            52.214,
            49.42,
            48.38800000000001,
            58.333,
            69.745,
            65.393,
            44.284,
            61.999,
            47.39100000000001,
            47.472,
            73.615,
            23.599,
            62.742,
            58.19600000000001,
            38.333,
            39.658,
            61.88800000000001,
            53.556,
            58.474,
            50.44,
            58.06100000000001,
            70.001,
            48.825,
            46.1,
            60.377
           ],
           "yaxis": "y"
          },
          {
           "hovertemplate": "<b>%{hovertext}</b><br><br>continent=Americas<br>year=1992<br>gdpPercap=%{x}<br>lifeExp=%{y}<br>pop=%{marker.size}<extra></extra>",
           "hovertext": [
            "Argentina",
            "Bolivia",
            "Brazil",
            "Canada",
            "Chile",
            "Colombia",
            "Costa Rica",
            "Cuba",
            "Dominican Republic",
            "Ecuador",
            "El Salvador",
            "Guatemala",
            "Haiti",
            "Honduras",
            "Jamaica",
            "Mexico",
            "Nicaragua",
            "Panama",
            "Paraguay",
            "Peru",
            "Puerto Rico",
            "Trinidad and Tobago",
            "United States",
            "Uruguay",
            "Venezuela"
           ],
           "ids": [
            "Argentina",
            "Bolivia",
            "Brazil",
            "Canada",
            "Chile",
            "Colombia",
            "Costa Rica",
            "Cuba",
            "Dominican Republic",
            "Ecuador",
            "El Salvador",
            "Guatemala",
            "Haiti",
            "Honduras",
            "Jamaica",
            "Mexico",
            "Nicaragua",
            "Panama",
            "Paraguay",
            "Peru",
            "Puerto Rico",
            "Trinidad and Tobago",
            "United States",
            "Uruguay",
            "Venezuela"
           ],
           "legendgroup": "Americas",
           "marker": {
            "color": "#ab63fa",
            "size": [
             33958947,
             6893451,
             155975974,
             28523502,
             13572994,
             34202721,
             3173216,
             10723260,
             7351181,
             10748394,
             5274649,
             8486949,
             6326682,
             5077347,
             2378618,
             88111030,
             4017939,
             2484997,
             4483945,
             22430449,
             3585176,
             1183669,
             256894189,
             3149262,
             20265563
            ],
            "sizemode": "area",
            "sizeref": 435928.2961983471,
            "symbol": "circle"
           },
           "mode": "markers",
           "name": "Americas",
           "orientation": "v",
           "showlegend": true,
           "type": "scatter",
           "x": [
            9308.41871,
            2961.699694,
            6950.283020999998,
            26342.88426,
            7596.125964,
            5444.648617,
            6160.416317,
            5592.843963,
            3044.214214,
            7103.702595000002,
            4444.2317,
            4439.45084,
            1456.309517,
            3081.694603,
            7404.923685,
            9472.384295,
            2170.151724,
            6618.74305,
            4196.411078,
            4446.380924,
            14641.58711,
            7370.990932,
            32003.93224,
            8137.004775,
            10733.92631
           ],
           "xaxis": "x",
           "y": [
            71.868,
            59.957,
            67.057,
            77.95,
            74.126,
            68.421,
            75.71300000000002,
            74.414,
            68.457,
            69.613,
            66.798,
            63.37300000000001,
            55.089,
            66.399,
            71.766,
            71.455,
            65.843,
            72.462,
            68.225,
            66.458,
            73.911,
            69.862,
            76.09,
            72.752,
            71.15
           ],
           "yaxis": "y"
          },
          {
           "hovertemplate": "<b>%{hovertext}</b><br><br>continent=Oceania<br>year=1992<br>gdpPercap=%{x}<br>lifeExp=%{y}<br>pop=%{marker.size}<extra></extra>",
           "hovertext": [
            "Australia",
            "New Zealand"
           ],
           "ids": [
            "Australia",
            "New Zealand"
           ],
           "legendgroup": "Oceania",
           "marker": {
            "color": "#FFA15A",
            "size": [
             17481977,
             3437674
            ],
            "sizemode": "area",
            "sizeref": 435928.2961983471,
            "symbol": "circle"
           },
           "mode": "markers",
           "name": "Oceania",
           "orientation": "v",
           "showlegend": true,
           "type": "scatter",
           "x": [
            23424.76683,
            18363.32494
           ],
           "xaxis": "x",
           "y": [
            77.56,
            76.33
           ],
           "yaxis": "y"
          }
         ],
         "name": "1992"
        },
        {
         "data": [
          {
           "hovertemplate": "<b>%{hovertext}</b><br><br>continent=Asia<br>year=1997<br>gdpPercap=%{x}<br>lifeExp=%{y}<br>pop=%{marker.size}<extra></extra>",
           "hovertext": [
            "Afghanistan",
            "Bahrain",
            "Bangladesh",
            "Cambodia",
            "China",
            "Hong Kong, China",
            "India",
            "Indonesia",
            "Iran",
            "Iraq",
            "Israel",
            "Japan",
            "Jordan",
            "Korea, Dem. Rep.",
            "Korea, Rep.",
            "Kuwait",
            "Lebanon",
            "Malaysia",
            "Mongolia",
            "Myanmar",
            "Nepal",
            "Oman",
            "Pakistan",
            "Philippines",
            "Saudi Arabia",
            "Singapore",
            "Sri Lanka",
            "Syria",
            "Taiwan",
            "Thailand",
            "Vietnam",
            "West Bank and Gaza",
            "Yemen, Rep."
           ],
           "ids": [
            "Afghanistan",
            "Bahrain",
            "Bangladesh",
            "Cambodia",
            "China",
            "Hong Kong, China",
            "India",
            "Indonesia",
            "Iran",
            "Iraq",
            "Israel",
            "Japan",
            "Jordan",
            "Korea, Dem. Rep.",
            "Korea, Rep.",
            "Kuwait",
            "Lebanon",
            "Malaysia",
            "Mongolia",
            "Myanmar",
            "Nepal",
            "Oman",
            "Pakistan",
            "Philippines",
            "Saudi Arabia",
            "Singapore",
            "Sri Lanka",
            "Syria",
            "Taiwan",
            "Thailand",
            "Vietnam",
            "West Bank and Gaza",
            "Yemen, Rep."
           ],
           "legendgroup": "Asia",
           "marker": {
            "color": "#636efa",
            "size": [
             22227415,
             598561,
             123315288,
             11782962,
             1230075000,
             6495918,
             959000000,
             199278000,
             63327987,
             20775703,
             5531387,
             125956499,
             4526235,
             21585105,
             46173816,
             1765345,
             3430388,
             20476091,
             2494803,
             43247867,
             23001113,
             2283635,
             135564834,
             75012988,
             21229759,
             3802309,
             18698655,
             15081016,
             21628605,
             60216677,
             76048996,
             2826046,
             15826497
            ],
            "sizemode": "area",
            "sizeref": 435928.2961983471,
            "symbol": "circle"
           },
           "mode": "markers",
           "name": "Asia",
           "orientation": "v",
           "showlegend": true,
           "type": "scatter",
           "x": [
            635.341351,
            20292.01679,
            972.7700352,
            734.28517,
            2289.234136,
            28377.63219,
            1458.817442,
            3119.335603,
            8263.590301,
            3076.239795,
            20896.60924,
            28816.58499,
            3645.379572,
            1690.756814,
            15993.52796,
            40300.61996,
            8754.96385,
            10132.90964,
            1902.2521,
            415,
            1010.892138,
            19702.05581,
            2049.3505210000008,
            2536.534925,
            20586.69019,
            33519.4766,
            2664.477257,
            4014.238972,
            20206.82098,
            5852.625497,
            1385.896769,
            7110.667619,
            2117.484526
           ],
           "xaxis": "x",
           "y": [
            41.76300000000001,
            73.925,
            59.412,
            56.534,
            70.426,
            80,
            61.765,
            66.041,
            68.042,
            58.81100000000001,
            78.26899999999998,
            80.69,
            69.77199999999999,
            67.727,
            74.64699999999998,
            76.156,
            70.265,
            71.938,
            63.625,
            60.328,
            59.426,
            72.499,
            61.81800000000001,
            68.564,
            70.533,
            77.158,
            70.457,
            71.527,
            75.25,
            67.521,
            70.672,
            71.096,
            58.02
           ],
           "yaxis": "y"
          },
          {
           "hovertemplate": "<b>%{hovertext}</b><br><br>continent=Europe<br>year=1997<br>gdpPercap=%{x}<br>lifeExp=%{y}<br>pop=%{marker.size}<extra></extra>",
           "hovertext": [
            "Albania",
            "Austria",
            "Belgium",
            "Bosnia and Herzegovina",
            "Bulgaria",
            "Croatia",
            "Czech Republic",
            "Denmark",
            "Finland",
            "France",
            "Germany",
            "Greece",
            "Hungary",
            "Iceland",
            "Ireland",
            "Italy",
            "Montenegro",
            "Netherlands",
            "Norway",
            "Poland",
            "Portugal",
            "Romania",
            "Serbia",
            "Slovak Republic",
            "Slovenia",
            "Spain",
            "Sweden",
            "Switzerland",
            "Turkey",
            "United Kingdom"
           ],
           "ids": [
            "Albania",
            "Austria",
            "Belgium",
            "Bosnia and Herzegovina",
            "Bulgaria",
            "Croatia",
            "Czech Republic",
            "Denmark",
            "Finland",
            "France",
            "Germany",
            "Greece",
            "Hungary",
            "Iceland",
            "Ireland",
            "Italy",
            "Montenegro",
            "Netherlands",
            "Norway",
            "Poland",
            "Portugal",
            "Romania",
            "Serbia",
            "Slovak Republic",
            "Slovenia",
            "Spain",
            "Sweden",
            "Switzerland",
            "Turkey",
            "United Kingdom"
           ],
           "legendgroup": "Europe",
           "marker": {
            "color": "#EF553B",
            "size": [
             3428038,
             8069876,
             10199787,
             3607000,
             8066057,
             4444595,
             10300707,
             5283663,
             5134406,
             58623428,
             82011073,
             10502372,
             10244684,
             271192,
             3667233,
             57479469,
             692651,
             15604464,
             4405672,
             38654957,
             10156415,
             22562458,
             10336594,
             5383010,
             2011612,
             39855442,
             8897619,
             7193761,
             63047647,
             58808266
            ],
            "sizemode": "area",
            "sizeref": 435928.2961983471,
            "symbol": "circle"
           },
           "mode": "markers",
           "name": "Europe",
           "orientation": "v",
           "showlegend": true,
           "type": "scatter",
           "x": [
            3193.054604,
            29095.920660000003,
            27561.19663,
            4766.355904,
            5970.38876,
            9875.604515,
            16048.51424,
            29804.34567,
            23723.9502,
            25889.78487,
            27788.88416,
            18747.69814,
            11712.7768,
            28061.099660000003,
            24521.94713,
            24675.02446,
            6465.613349,
            30246.13063,
            41283.16433,
            10159.58368,
            17641.03156,
            7346.547556999999,
            7914.320304000002,
            12126.23065,
            17161.10735,
            20445.29896,
            25266.59499,
            32135.323010000004,
            6601.429915,
            26074.53136
           ],
           "xaxis": "x",
           "y": [
            72.95,
            77.51,
            77.53,
            73.244,
            70.32,
            73.68,
            74.01,
            76.11,
            77.13,
            78.64,
            77.34,
            77.869,
            71.04,
            78.95,
            76.122,
            78.82,
            75.445,
            78.03,
            78.32,
            72.75,
            75.97,
            69.72,
            72.232,
            72.71,
            75.13,
            78.77,
            79.39,
            79.37,
            68.835,
            77.218
           ],
           "yaxis": "y"
          },
          {
           "hovertemplate": "<b>%{hovertext}</b><br><br>continent=Africa<br>year=1997<br>gdpPercap=%{x}<br>lifeExp=%{y}<br>pop=%{marker.size}<extra></extra>",
           "hovertext": [
            "Algeria",
            "Angola",
            "Benin",
            "Botswana",
            "Burkina Faso",
            "Burundi",
            "Cameroon",
            "Central African Republic",
            "Chad",
            "Comoros",
            "Congo, Dem. Rep.",
            "Congo, Rep.",
            "Cote d'Ivoire",
            "Djibouti",
            "Egypt",
            "Equatorial Guinea",
            "Eritrea",
            "Ethiopia",
            "Gabon",
            "Gambia",
            "Ghana",
            "Guinea",
            "Guinea-Bissau",
            "Kenya",
            "Lesotho",
            "Liberia",
            "Libya",
            "Madagascar",
            "Malawi",
            "Mali",
            "Mauritania",
            "Mauritius",
            "Morocco",
            "Mozambique",
            "Namibia",
            "Niger",
            "Nigeria",
            "Reunion",
            "Rwanda",
            "Sao Tome and Principe",
            "Senegal",
            "Sierra Leone",
            "Somalia",
            "South Africa",
            "Sudan",
            "Swaziland",
            "Tanzania",
            "Togo",
            "Tunisia",
            "Uganda",
            "Zambia",
            "Zimbabwe"
           ],
           "ids": [
            "Algeria",
            "Angola",
            "Benin",
            "Botswana",
            "Burkina Faso",
            "Burundi",
            "Cameroon",
            "Central African Republic",
            "Chad",
            "Comoros",
            "Congo, Dem. Rep.",
            "Congo, Rep.",
            "Cote d'Ivoire",
            "Djibouti",
            "Egypt",
            "Equatorial Guinea",
            "Eritrea",
            "Ethiopia",
            "Gabon",
            "Gambia",
            "Ghana",
            "Guinea",
            "Guinea-Bissau",
            "Kenya",
            "Lesotho",
            "Liberia",
            "Libya",
            "Madagascar",
            "Malawi",
            "Mali",
            "Mauritania",
            "Mauritius",
            "Morocco",
            "Mozambique",
            "Namibia",
            "Niger",
            "Nigeria",
            "Reunion",
            "Rwanda",
            "Sao Tome and Principe",
            "Senegal",
            "Sierra Leone",
            "Somalia",
            "South Africa",
            "Sudan",
            "Swaziland",
            "Tanzania",
            "Togo",
            "Tunisia",
            "Uganda",
            "Zambia",
            "Zimbabwe"
           ],
           "legendgroup": "Africa",
           "marker": {
            "color": "#00cc96",
            "size": [
             29072015,
             9875024,
             6066080,
             1536536,
             10352843,
             6121610,
             14195809,
             3696513,
             7562011,
             527982,
             47798986,
             2800947,
             14625967,
             417908,
             66134291,
             439971,
             4058319,
             59861301,
             1126189,
             1235767,
             18418288,
             8048834,
             1193708,
             28263827,
             1982823,
             2200725,
             4759670,
             14165114,
             10419991,
             9384984,
             2444741,
             1149818,
             28529501,
             16603334,
             1774766,
             9666252,
             106207839,
             684810,
             7212583,
             145608,
             9535314,
             4578212,
             6633514,
             42835005,
             32160729,
             1054486,
             30686889,
             4320890,
             9231669,
             21210254,
             9417789,
             11404948
            ],
            "sizemode": "area",
            "sizeref": 435928.2961983471,
            "symbol": "circle"
           },
           "mode": "markers",
           "name": "Africa",
           "orientation": "v",
           "showlegend": true,
           "type": "scatter",
           "x": [
            4797.295051,
            2277.140884,
            1232.975292,
            8647.142313,
            946.2949618,
            463.1151478,
            1694.337469,
            740.5063317,
            1004.961353,
            1173.618235,
            312.188423,
            3484.164376,
            1786.265407,
            1895.016984,
            4173.181797,
            2814.480755,
            913.47079,
            515.8894013,
            14722.841880000002,
            653.7301704,
            1005.245812,
            869.4497667999998,
            796.6644681,
            1360.4850210000004,
            1186.147994,
            609.1739508,
            9467.446056,
            986.2958956,
            692.2758102999999,
            790.2579846,
            1483.136136,
            7425.705295000002,
            2982.101858,
            472.34607710000006,
            3899.52426,
            580.3052092,
            1624.941275,
            6071.941411,
            589.9445051,
            1339.076036,
            1392.368347,
            574.6481576,
            930.5964284,
            7479.188244,
            1632.2107640000004,
            3876.76846,
            789.1862231,
            982.2869243,
            4876.798614,
            816.559081,
            1071.353818,
            792.4499602999998
           ],
           "xaxis": "x",
           "y": [
            69.152,
            40.963,
            54.777,
            52.556,
            50.324,
            45.326,
            52.199,
            46.066,
            51.573,
            60.66,
            42.587,
            52.962,
            47.99100000000001,
            53.157,
            67.217,
            48.245,
            53.378,
            49.402,
            60.46100000000001,
            55.861,
            58.556,
            51.455,
            44.87300000000001,
            54.407,
            55.558,
            42.221,
            71.555,
            54.978,
            47.495,
            49.903,
            60.43,
            70.736,
            67.66,
            46.344,
            58.909,
            51.313,
            47.464,
            74.77199999999998,
            36.087,
            63.306,
            60.187,
            39.897,
            43.795,
            60.236,
            55.37300000000001,
            54.289,
            48.466,
            58.39,
            71.973,
            44.578,
            40.238,
            46.809
           ],
           "yaxis": "y"
          },
          {
           "hovertemplate": "<b>%{hovertext}</b><br><br>continent=Americas<br>year=1997<br>gdpPercap=%{x}<br>lifeExp=%{y}<br>pop=%{marker.size}<extra></extra>",
           "hovertext": [
            "Argentina",
            "Bolivia",
            "Brazil",
            "Canada",
            "Chile",
            "Colombia",
            "Costa Rica",
            "Cuba",
            "Dominican Republic",
            "Ecuador",
            "El Salvador",
            "Guatemala",
            "Haiti",
            "Honduras",
            "Jamaica",
            "Mexico",
            "Nicaragua",
            "Panama",
            "Paraguay",
            "Peru",
            "Puerto Rico",
            "Trinidad and Tobago",
            "United States",
            "Uruguay",
            "Venezuela"
           ],
           "ids": [
            "Argentina",
            "Bolivia",
            "Brazil",
            "Canada",
            "Chile",
            "Colombia",
            "Costa Rica",
            "Cuba",
            "Dominican Republic",
            "Ecuador",
            "El Salvador",
            "Guatemala",
            "Haiti",
            "Honduras",
            "Jamaica",
            "Mexico",
            "Nicaragua",
            "Panama",
            "Paraguay",
            "Peru",
            "Puerto Rico",
            "Trinidad and Tobago",
            "United States",
            "Uruguay",
            "Venezuela"
           ],
           "legendgroup": "Americas",
           "marker": {
            "color": "#ab63fa",
            "size": [
             36203463,
             7693188,
             168546719,
             30305843,
             14599929,
             37657830,
             3518107,
             10983007,
             7992357,
             11911819,
             5783439,
             9803875,
             6913545,
             5867957,
             2531311,
             95895146,
             4609572,
             2734531,
             5154123,
             24748122,
             3759430,
             1138101,
             272911760,
             3262838,
             22374398
            ],
            "sizemode": "area",
            "sizeref": 435928.2961983471,
            "symbol": "circle"
           },
           "mode": "markers",
           "name": "Americas",
           "orientation": "v",
           "showlegend": true,
           "type": "scatter",
           "x": [
            10967.28195,
            3326.143191,
            7957.980823999998,
            28954.92589,
            10118.05318,
            6117.361746000001,
            6677.045314,
            5431.990415,
            3614.101285,
            7429.4558769999985,
            5154.825496,
            4684.313807,
            1341.726931,
            3160.454906,
            7121.924704000001,
            9767.29753,
            2253.023004,
            7113.692252,
            4247.400261,
            5838.347657,
            16999.4333,
            8792.573126000001,
            35767.43303,
            9230.240708,
            10165.49518
           ],
           "xaxis": "x",
           "y": [
            73.275,
            62.05,
            69.388,
            78.61,
            75.816,
            70.313,
            77.26,
            76.15100000000002,
            69.957,
            72.312,
            69.535,
            66.322,
            56.67100000000001,
            67.65899999999999,
            72.262,
            73.67,
            68.426,
            73.738,
            69.4,
            68.38600000000001,
            74.917,
            69.465,
            76.81,
            74.223,
            72.146
           ],
           "yaxis": "y"
          },
          {
           "hovertemplate": "<b>%{hovertext}</b><br><br>continent=Oceania<br>year=1997<br>gdpPercap=%{x}<br>lifeExp=%{y}<br>pop=%{marker.size}<extra></extra>",
           "hovertext": [
            "Australia",
            "New Zealand"
           ],
           "ids": [
            "Australia",
            "New Zealand"
           ],
           "legendgroup": "Oceania",
           "marker": {
            "color": "#FFA15A",
            "size": [
             18565243,
             3676187
            ],
            "sizemode": "area",
            "sizeref": 435928.2961983471,
            "symbol": "circle"
           },
           "mode": "markers",
           "name": "Oceania",
           "orientation": "v",
           "showlegend": true,
           "type": "scatter",
           "x": [
            26997.93657,
            21050.41377
           ],
           "xaxis": "x",
           "y": [
            78.83,
            77.55
           ],
           "yaxis": "y"
          }
         ],
         "name": "1997"
        },
        {
         "data": [
          {
           "hovertemplate": "<b>%{hovertext}</b><br><br>continent=Asia<br>year=2002<br>gdpPercap=%{x}<br>lifeExp=%{y}<br>pop=%{marker.size}<extra></extra>",
           "hovertext": [
            "Afghanistan",
            "Bahrain",
            "Bangladesh",
            "Cambodia",
            "China",
            "Hong Kong, China",
            "India",
            "Indonesia",
            "Iran",
            "Iraq",
            "Israel",
            "Japan",
            "Jordan",
            "Korea, Dem. Rep.",
            "Korea, Rep.",
            "Kuwait",
            "Lebanon",
            "Malaysia",
            "Mongolia",
            "Myanmar",
            "Nepal",
            "Oman",
            "Pakistan",
            "Philippines",
            "Saudi Arabia",
            "Singapore",
            "Sri Lanka",
            "Syria",
            "Taiwan",
            "Thailand",
            "Vietnam",
            "West Bank and Gaza",
            "Yemen, Rep."
           ],
           "ids": [
            "Afghanistan",
            "Bahrain",
            "Bangladesh",
            "Cambodia",
            "China",
            "Hong Kong, China",
            "India",
            "Indonesia",
            "Iran",
            "Iraq",
            "Israel",
            "Japan",
            "Jordan",
            "Korea, Dem. Rep.",
            "Korea, Rep.",
            "Kuwait",
            "Lebanon",
            "Malaysia",
            "Mongolia",
            "Myanmar",
            "Nepal",
            "Oman",
            "Pakistan",
            "Philippines",
            "Saudi Arabia",
            "Singapore",
            "Sri Lanka",
            "Syria",
            "Taiwan",
            "Thailand",
            "Vietnam",
            "West Bank and Gaza",
            "Yemen, Rep."
           ],
           "legendgroup": "Asia",
           "marker": {
            "color": "#636efa",
            "size": [
             25268405,
             656397,
             135656790,
             12926707,
             1280400000,
             6762476,
             1034172547,
             211060000,
             66907826,
             24001816,
             6029529,
             127065841,
             5307470,
             22215365,
             47969150,
             2111561,
             3677780,
             22662365,
             2674234,
             45598081,
             25873917,
             2713462,
             153403524,
             82995088,
             24501530,
             4197776,
             19576783,
             17155814,
             22454239,
             62806748,
             80908147,
             3389578,
             18701257
            ],
            "sizemode": "area",
            "sizeref": 435928.2961983471,
            "symbol": "circle"
           },
           "mode": "markers",
           "name": "Asia",
           "orientation": "v",
           "showlegend": true,
           "type": "scatter",
           "x": [
            726.7340548,
            23403.55927,
            1136.3904300000004,
            896.2260152999999,
            3119.280896,
            30209.015160000006,
            1746.769454,
            2873.91287,
            9240.761975,
            4390.717312,
            21905.59514,
            28604.5919,
            3844.917194,
            1646.758151,
            19233.98818,
            35110.10566,
            9313.93883,
            10206.97794,
            2140.739323,
            611,
            1057.206311,
            19774.83687,
            2092.712441,
            2650.921068,
            19014.54118,
            36023.1054,
            3015.378833,
            4090.925331,
            23235.42329,
            5913.187529,
            1764.456677,
            4515.487575,
            2234.820827
           ],
           "xaxis": "x",
           "y": [
            42.129,
            74.795,
            62.01300000000001,
            56.752,
            72.028,
            81.495,
            62.879,
            68.58800000000001,
            69.45100000000001,
            57.04600000000001,
            79.696,
            82,
            71.263,
            66.66199999999999,
            77.045,
            76.904,
            71.028,
            73.044,
            65.033,
            59.908,
            61.34,
            74.193,
            63.61,
            70.303,
            71.626,
            78.77,
            70.815,
            73.053,
            76.99,
            68.564,
            73.017,
            72.37,
            60.308
           ],
           "yaxis": "y"
          },
          {
           "hovertemplate": "<b>%{hovertext}</b><br><br>continent=Europe<br>year=2002<br>gdpPercap=%{x}<br>lifeExp=%{y}<br>pop=%{marker.size}<extra></extra>",
           "hovertext": [
            "Albania",
            "Austria",
            "Belgium",
            "Bosnia and Herzegovina",
            "Bulgaria",
            "Croatia",
            "Czech Republic",
            "Denmark",
            "Finland",
            "France",
            "Germany",
            "Greece",
            "Hungary",
            "Iceland",
            "Ireland",
            "Italy",
            "Montenegro",
            "Netherlands",
            "Norway",
            "Poland",
            "Portugal",
            "Romania",
            "Serbia",
            "Slovak Republic",
            "Slovenia",
            "Spain",
            "Sweden",
            "Switzerland",
            "Turkey",
            "United Kingdom"
           ],
           "ids": [
            "Albania",
            "Austria",
            "Belgium",
            "Bosnia and Herzegovina",
            "Bulgaria",
            "Croatia",
            "Czech Republic",
            "Denmark",
            "Finland",
            "France",
            "Germany",
            "Greece",
            "Hungary",
            "Iceland",
            "Ireland",
            "Italy",
            "Montenegro",
            "Netherlands",
            "Norway",
            "Poland",
            "Portugal",
            "Romania",
            "Serbia",
            "Slovak Republic",
            "Slovenia",
            "Spain",
            "Sweden",
            "Switzerland",
            "Turkey",
            "United Kingdom"
           ],
           "legendgroup": "Europe",
           "marker": {
            "color": "#EF553B",
            "size": [
             3508512,
             8148312,
             10311970,
             4165416,
             7661799,
             4481020,
             10256295,
             5374693,
             5193039,
             59925035,
             82350671,
             10603863,
             10083313,
             288030,
             3879155,
             57926999,
             720230,
             16122830,
             4535591,
             38625976,
             10433867,
             22404337,
             10111559,
             5410052,
             2011497,
             40152517,
             8954175,
             7361757,
             67308928,
             59912431
            ],
            "sizemode": "area",
            "sizeref": 435928.2961983471,
            "symbol": "circle"
           },
           "mode": "markers",
           "name": "Europe",
           "orientation": "v",
           "showlegend": true,
           "type": "scatter",
           "x": [
            4604.211737,
            32417.60769,
            30485.88375,
            6018.975239,
            7696.777725,
            11628.38895,
            17596.210219999994,
            32166.50006,
            28204.59057,
            28926.03234,
            30035.80198,
            22514.2548,
            14843.93556,
            31163.20196,
            34077.04939,
            27968.09817,
            6557.194282,
            33724.75778,
            44683.97525,
            12002.23908,
            19970.90787,
            7885.360081,
            7236.075251,
            13638.778369999998,
            20660.01936,
            24835.47166,
            29341.630930000007,
            34480.95771,
            6508.085718,
            29478.99919
           ],
           "xaxis": "x",
           "y": [
            75.65100000000002,
            78.98,
            78.32,
            74.09,
            72.14,
            74.876,
            75.51,
            77.18,
            78.37,
            79.59,
            78.67,
            78.256,
            72.59,
            80.5,
            77.783,
            80.24,
            73.98100000000002,
            78.53,
            79.05,
            74.67,
            77.29,
            71.322,
            73.21300000000002,
            73.8,
            76.66,
            79.78,
            80.04,
            80.62,
            70.845,
            78.471
           ],
           "yaxis": "y"
          },
          {
           "hovertemplate": "<b>%{hovertext}</b><br><br>continent=Africa<br>year=2002<br>gdpPercap=%{x}<br>lifeExp=%{y}<br>pop=%{marker.size}<extra></extra>",
           "hovertext": [
            "Algeria",
            "Angola",
            "Benin",
            "Botswana",
            "Burkina Faso",
            "Burundi",
            "Cameroon",
            "Central African Republic",
            "Chad",
            "Comoros",
            "Congo, Dem. Rep.",
            "Congo, Rep.",
            "Cote d'Ivoire",
            "Djibouti",
            "Egypt",
            "Equatorial Guinea",
            "Eritrea",
            "Ethiopia",
            "Gabon",
            "Gambia",
            "Ghana",
            "Guinea",
            "Guinea-Bissau",
            "Kenya",
            "Lesotho",
            "Liberia",
            "Libya",
            "Madagascar",
            "Malawi",
            "Mali",
            "Mauritania",
            "Mauritius",
            "Morocco",
            "Mozambique",
            "Namibia",
            "Niger",
            "Nigeria",
            "Reunion",
            "Rwanda",
            "Sao Tome and Principe",
            "Senegal",
            "Sierra Leone",
            "Somalia",
            "South Africa",
            "Sudan",
            "Swaziland",
            "Tanzania",
            "Togo",
            "Tunisia",
            "Uganda",
            "Zambia",
            "Zimbabwe"
           ],
           "ids": [
            "Algeria",
            "Angola",
            "Benin",
            "Botswana",
            "Burkina Faso",
            "Burundi",
            "Cameroon",
            "Central African Republic",
            "Chad",
            "Comoros",
            "Congo, Dem. Rep.",
            "Congo, Rep.",
            "Cote d'Ivoire",
            "Djibouti",
            "Egypt",
            "Equatorial Guinea",
            "Eritrea",
            "Ethiopia",
            "Gabon",
            "Gambia",
            "Ghana",
            "Guinea",
            "Guinea-Bissau",
            "Kenya",
            "Lesotho",
            "Liberia",
            "Libya",
            "Madagascar",
            "Malawi",
            "Mali",
            "Mauritania",
            "Mauritius",
            "Morocco",
            "Mozambique",
            "Namibia",
            "Niger",
            "Nigeria",
            "Reunion",
            "Rwanda",
            "Sao Tome and Principe",
            "Senegal",
            "Sierra Leone",
            "Somalia",
            "South Africa",
            "Sudan",
            "Swaziland",
            "Tanzania",
            "Togo",
            "Tunisia",
            "Uganda",
            "Zambia",
            "Zimbabwe"
           ],
           "legendgroup": "Africa",
           "marker": {
            "color": "#00cc96",
            "size": [
             31287142,
             10866106,
             7026113,
             1630347,
             12251209,
             7021078,
             15929988,
             4048013,
             8835739,
             614382,
             55379852,
             3328795,
             16252726,
             447416,
             73312559,
             495627,
             4414865,
             67946797,
             1299304,
             1457766,
             20550751,
             8807818,
             1332459,
             31386842,
             2046772,
             2814651,
             5368585,
             16473477,
             11824495,
             10580176,
             2828858,
             1200206,
             31167783,
             18473780,
             1972153,
             11140655,
             119901274,
             743981,
             7852401,
             170372,
             10870037,
             5359092,
             7753310,
             44433622,
             37090298,
             1130269,
             34593779,
             4977378,
             9770575,
             24739869,
             10595811,
             11926563
            ],
            "sizemode": "area",
            "sizeref": 435928.2961983471,
            "symbol": "circle"
           },
           "mode": "markers",
           "name": "Africa",
           "orientation": "v",
           "showlegend": true,
           "type": "scatter",
           "x": [
            5288.040382,
            2773.287312,
            1372.877931,
            11003.60508,
            1037.645221,
            446.4035126,
            1934.011449,
            738.6906068,
            1156.18186,
            1075.811558,
            241.1658765,
            3484.06197,
            1648.800823,
            1908.260867,
            4754.604414,
            7703.4959,
            765.3500015,
            530.0535319,
            12521.71392,
            660.5855997,
            1111.9845779999996,
            945.5835837,
            575.7047176,
            1287.514732,
            1275.184575,
            531.4823679,
            9534.677467,
            894.6370822,
            665.4231186000002,
            951.4097518,
            1579.019543,
            9021.815894,
            3258.495584,
            633.6179466,
            4072.324751,
            601.0745012,
            1615.286395,
            6316.1652,
            785.6537647999999,
            1353.09239,
            1519.635262,
            699.4897129999998,
            882.0818218000002,
            7710.946444,
            1993.398314,
            4128.116943,
            899.0742111,
            886.2205765000001,
            5722.895654999998,
            927.7210018,
            1071.6139380000004,
            672.0386227000001
           ],
           "xaxis": "x",
           "y": [
            70.994,
            41.003,
            54.40600000000001,
            46.63399999999999,
            50.65,
            47.36,
            49.856,
            43.308,
            50.525,
            62.974,
            44.966,
            52.97,
            46.832,
            53.37300000000001,
            69.806,
            49.348,
            55.24,
            50.725,
            56.761,
            58.041,
            58.453,
            53.676,
            45.504,
            50.992,
            44.593,
            43.753,
            72.737,
            57.286,
            45.00899999999999,
            51.81800000000001,
            62.247,
            71.954,
            69.615,
            44.026,
            51.479,
            54.496,
            46.608,
            75.744,
            43.413,
            64.337,
            61.6,
            41.012,
            45.93600000000001,
            53.365,
            56.369,
            43.869,
            49.651,
            57.56100000000001,
            73.042,
            47.813,
            39.19300000000001,
            39.989
           ],
           "yaxis": "y"
          },
          {
           "hovertemplate": "<b>%{hovertext}</b><br><br>continent=Americas<br>year=2002<br>gdpPercap=%{x}<br>lifeExp=%{y}<br>pop=%{marker.size}<extra></extra>",
           "hovertext": [
            "Argentina",
            "Bolivia",
            "Brazil",
            "Canada",
            "Chile",
            "Colombia",
            "Costa Rica",
            "Cuba",
            "Dominican Republic",
            "Ecuador",
            "El Salvador",
            "Guatemala",
            "Haiti",
            "Honduras",
            "Jamaica",
            "Mexico",
            "Nicaragua",
            "Panama",
            "Paraguay",
            "Peru",
            "Puerto Rico",
            "Trinidad and Tobago",
            "United States",
            "Uruguay",
            "Venezuela"
           ],
           "ids": [
            "Argentina",
            "Bolivia",
            "Brazil",
            "Canada",
            "Chile",
            "Colombia",
            "Costa Rica",
            "Cuba",
            "Dominican Republic",
            "Ecuador",
            "El Salvador",
            "Guatemala",
            "Haiti",
            "Honduras",
            "Jamaica",
            "Mexico",
            "Nicaragua",
            "Panama",
            "Paraguay",
            "Peru",
            "Puerto Rico",
            "Trinidad and Tobago",
            "United States",
            "Uruguay",
            "Venezuela"
           ],
           "legendgroup": "Americas",
           "marker": {
            "color": "#ab63fa",
            "size": [
             38331121,
             8445134,
             179914212,
             31902268,
             15497046,
             41008227,
             3834934,
             11226999,
             8650322,
             12921234,
             6353681,
             11178650,
             7607651,
             6677328,
             2664659,
             102479927,
             5146848,
             2990875,
             5884491,
             26769436,
             3859606,
             1101832,
             287675526,
             3363085,
             24287670
            ],
            "sizemode": "area",
            "sizeref": 435928.2961983471,
            "symbol": "circle"
           },
           "mode": "markers",
           "name": "Americas",
           "orientation": "v",
           "showlegend": true,
           "type": "scatter",
           "x": [
            8797.640716,
            3413.26269,
            8131.212843000001,
            33328.96507,
            10778.78385,
            5755.259962,
            7723.447195000002,
            6340.646683,
            4563.808154,
            5773.044512,
            5351.568665999999,
            4858.347495,
            1270.364932,
            3099.72866,
            6994.774861,
            10742.44053,
            2474.548819,
            7356.0319340000015,
            3783.674243,
            5909.020073,
            18855.60618,
            11460.60023,
            39097.09955,
            7727.002004000001,
            8605.047831
           ],
           "xaxis": "x",
           "y": [
            74.34,
            63.883,
            71.006,
            79.77,
            77.86,
            71.682,
            78.123,
            77.158,
            70.847,
            74.173,
            70.734,
            68.97800000000001,
            58.137,
            68.565,
            72.047,
            74.902,
            70.836,
            74.712,
            70.755,
            69.906,
            77.778,
            68.976,
            77.31,
            75.307,
            72.766
           ],
           "yaxis": "y"
          },
          {
           "hovertemplate": "<b>%{hovertext}</b><br><br>continent=Oceania<br>year=2002<br>gdpPercap=%{x}<br>lifeExp=%{y}<br>pop=%{marker.size}<extra></extra>",
           "hovertext": [
            "Australia",
            "New Zealand"
           ],
           "ids": [
            "Australia",
            "New Zealand"
           ],
           "legendgroup": "Oceania",
           "marker": {
            "color": "#FFA15A",
            "size": [
             19546792,
             3908037
            ],
            "sizemode": "area",
            "sizeref": 435928.2961983471,
            "symbol": "circle"
           },
           "mode": "markers",
           "name": "Oceania",
           "orientation": "v",
           "showlegend": true,
           "type": "scatter",
           "x": [
            30687.75473,
            23189.80135
           ],
           "xaxis": "x",
           "y": [
            80.37,
            79.11
           ],
           "yaxis": "y"
          }
         ],
         "name": "2002"
        },
        {
         "data": [
          {
           "hovertemplate": "<b>%{hovertext}</b><br><br>continent=Asia<br>year=2007<br>gdpPercap=%{x}<br>lifeExp=%{y}<br>pop=%{marker.size}<extra></extra>",
           "hovertext": [
            "Afghanistan",
            "Bahrain",
            "Bangladesh",
            "Cambodia",
            "China",
            "Hong Kong, China",
            "India",
            "Indonesia",
            "Iran",
            "Iraq",
            "Israel",
            "Japan",
            "Jordan",
            "Korea, Dem. Rep.",
            "Korea, Rep.",
            "Kuwait",
            "Lebanon",
            "Malaysia",
            "Mongolia",
            "Myanmar",
            "Nepal",
            "Oman",
            "Pakistan",
            "Philippines",
            "Saudi Arabia",
            "Singapore",
            "Sri Lanka",
            "Syria",
            "Taiwan",
            "Thailand",
            "Vietnam",
            "West Bank and Gaza",
            "Yemen, Rep."
           ],
           "ids": [
            "Afghanistan",
            "Bahrain",
            "Bangladesh",
            "Cambodia",
            "China",
            "Hong Kong, China",
            "India",
            "Indonesia",
            "Iran",
            "Iraq",
            "Israel",
            "Japan",
            "Jordan",
            "Korea, Dem. Rep.",
            "Korea, Rep.",
            "Kuwait",
            "Lebanon",
            "Malaysia",
            "Mongolia",
            "Myanmar",
            "Nepal",
            "Oman",
            "Pakistan",
            "Philippines",
            "Saudi Arabia",
            "Singapore",
            "Sri Lanka",
            "Syria",
            "Taiwan",
            "Thailand",
            "Vietnam",
            "West Bank and Gaza",
            "Yemen, Rep."
           ],
           "legendgroup": "Asia",
           "marker": {
            "color": "#636efa",
            "size": [
             31889923,
             708573,
             150448339,
             14131858,
             1318683096,
             6980412,
             1110396331,
             223547000,
             69453570,
             27499638,
             6426679,
             127467972,
             6053193,
             23301725,
             49044790,
             2505559,
             3921278,
             24821286,
             2874127,
             47761980,
             28901790,
             3204897,
             169270617,
             91077287,
             27601038,
             4553009,
             20378239,
             19314747,
             23174294,
             65068149,
             85262356,
             4018332,
             22211743
            ],
            "sizemode": "area",
            "sizeref": 435928.2961983471,
            "symbol": "circle"
           },
           "mode": "markers",
           "name": "Asia",
           "orientation": "v",
           "showlegend": true,
           "type": "scatter",
           "x": [
            974.5803384,
            29796.04834,
            1391.253792,
            1713.778686,
            4959.114854,
            39724.97867,
            2452.210407,
            3540.651564,
            11605.71449,
            4471.061906,
            25523.2771,
            31656.06806,
            4519.461171,
            1593.06548,
            23348.139730000006,
            47306.98978,
            10461.05868,
            12451.6558,
            3095.7722710000007,
            944,
            1091.359778,
            22316.19287,
            2605.94758,
            3190.481016,
            21654.83194,
            47143.17964,
            3970.095407,
            4184.548089,
            28718.27684,
            7458.396326999998,
            2441.576404,
            3025.349798,
            2280.769906
           ],
           "xaxis": "x",
           "y": [
            43.828,
            75.635,
            64.062,
            59.723,
            72.961,
            82.208,
            64.69800000000001,
            70.65,
            70.964,
            59.545,
            80.745,
            82.603,
            72.535,
            67.297,
            78.623,
            77.58800000000002,
            71.993,
            74.241,
            66.803,
            62.069,
            63.785,
            75.64,
            65.483,
            71.688,
            72.777,
            79.972,
            72.396,
            74.143,
            78.4,
            70.616,
            74.249,
            73.422,
            62.698
           ],
           "yaxis": "y"
          },
          {
           "hovertemplate": "<b>%{hovertext}</b><br><br>continent=Europe<br>year=2007<br>gdpPercap=%{x}<br>lifeExp=%{y}<br>pop=%{marker.size}<extra></extra>",
           "hovertext": [
            "Albania",
            "Austria",
            "Belgium",
            "Bosnia and Herzegovina",
            "Bulgaria",
            "Croatia",
            "Czech Republic",
            "Denmark",
            "Finland",
            "France",
            "Germany",
            "Greece",
            "Hungary",
            "Iceland",
            "Ireland",
            "Italy",
            "Montenegro",
            "Netherlands",
            "Norway",
            "Poland",
            "Portugal",
            "Romania",
            "Serbia",
            "Slovak Republic",
            "Slovenia",
            "Spain",
            "Sweden",
            "Switzerland",
            "Turkey",
            "United Kingdom"
           ],
           "ids": [
            "Albania",
            "Austria",
            "Belgium",
            "Bosnia and Herzegovina",
            "Bulgaria",
            "Croatia",
            "Czech Republic",
            "Denmark",
            "Finland",
            "France",
            "Germany",
            "Greece",
            "Hungary",
            "Iceland",
            "Ireland",
            "Italy",
            "Montenegro",
            "Netherlands",
            "Norway",
            "Poland",
            "Portugal",
            "Romania",
            "Serbia",
            "Slovak Republic",
            "Slovenia",
            "Spain",
            "Sweden",
            "Switzerland",
            "Turkey",
            "United Kingdom"
           ],
           "legendgroup": "Europe",
           "marker": {
            "color": "#EF553B",
            "size": [
             3600523,
             8199783,
             10392226,
             4552198,
             7322858,
             4493312,
             10228744,
             5468120,
             5238460,
             61083916,
             82400996,
             10706290,
             9956108,
             301931,
             4109086,
             58147733,
             684736,
             16570613,
             4627926,
             38518241,
             10642836,
             22276056,
             10150265,
             5447502,
             2009245,
             40448191,
             9031088,
             7554661,
             71158647,
             60776238
            ],
            "sizemode": "area",
            "sizeref": 435928.2961983471,
            "symbol": "circle"
           },
           "mode": "markers",
           "name": "Europe",
           "orientation": "v",
           "showlegend": true,
           "type": "scatter",
           "x": [
            5937.029525999998,
            36126.4927,
            33692.60508,
            7446.298803,
            10680.79282,
            14619.222719999998,
            22833.30851,
            35278.41874,
            33207.0844,
            30470.0167,
            32170.37442,
            27538.41188,
            18008.94444,
            36180.78919,
            40675.99635,
            28569.7197,
            9253.896111,
            36797.93332,
            49357.19017,
            15389.924680000002,
            20509.64777,
            10808.47561,
            9786.534714,
            18678.31435,
            25768.25759,
            28821.0637,
            33859.74835,
            37506.41907,
            8458.276384,
            33203.26128
           ],
           "xaxis": "x",
           "y": [
            76.423,
            79.829,
            79.441,
            74.852,
            73.005,
            75.748,
            76.486,
            78.332,
            79.313,
            80.657,
            79.406,
            79.483,
            73.33800000000002,
            81.757,
            78.885,
            80.546,
            74.543,
            79.762,
            80.196,
            75.563,
            78.098,
            72.476,
            74.002,
            74.663,
            77.926,
            80.941,
            80.884,
            81.70100000000002,
            71.777,
            79.425
           ],
           "yaxis": "y"
          },
          {
           "hovertemplate": "<b>%{hovertext}</b><br><br>continent=Africa<br>year=2007<br>gdpPercap=%{x}<br>lifeExp=%{y}<br>pop=%{marker.size}<extra></extra>",
           "hovertext": [
            "Algeria",
            "Angola",
            "Benin",
            "Botswana",
            "Burkina Faso",
            "Burundi",
            "Cameroon",
            "Central African Republic",
            "Chad",
            "Comoros",
            "Congo, Dem. Rep.",
            "Congo, Rep.",
            "Cote d'Ivoire",
            "Djibouti",
            "Egypt",
            "Equatorial Guinea",
            "Eritrea",
            "Ethiopia",
            "Gabon",
            "Gambia",
            "Ghana",
            "Guinea",
            "Guinea-Bissau",
            "Kenya",
            "Lesotho",
            "Liberia",
            "Libya",
            "Madagascar",
            "Malawi",
            "Mali",
            "Mauritania",
            "Mauritius",
            "Morocco",
            "Mozambique",
            "Namibia",
            "Niger",
            "Nigeria",
            "Reunion",
            "Rwanda",
            "Sao Tome and Principe",
            "Senegal",
            "Sierra Leone",
            "Somalia",
            "South Africa",
            "Sudan",
            "Swaziland",
            "Tanzania",
            "Togo",
            "Tunisia",
            "Uganda",
            "Zambia",
            "Zimbabwe"
           ],
           "ids": [
            "Algeria",
            "Angola",
            "Benin",
            "Botswana",
            "Burkina Faso",
            "Burundi",
            "Cameroon",
            "Central African Republic",
            "Chad",
            "Comoros",
            "Congo, Dem. Rep.",
            "Congo, Rep.",
            "Cote d'Ivoire",
            "Djibouti",
            "Egypt",
            "Equatorial Guinea",
            "Eritrea",
            "Ethiopia",
            "Gabon",
            "Gambia",
            "Ghana",
            "Guinea",
            "Guinea-Bissau",
            "Kenya",
            "Lesotho",
            "Liberia",
            "Libya",
            "Madagascar",
            "Malawi",
            "Mali",
            "Mauritania",
            "Mauritius",
            "Morocco",
            "Mozambique",
            "Namibia",
            "Niger",
            "Nigeria",
            "Reunion",
            "Rwanda",
            "Sao Tome and Principe",
            "Senegal",
            "Sierra Leone",
            "Somalia",
            "South Africa",
            "Sudan",
            "Swaziland",
            "Tanzania",
            "Togo",
            "Tunisia",
            "Uganda",
            "Zambia",
            "Zimbabwe"
           ],
           "legendgroup": "Africa",
           "marker": {
            "color": "#00cc96",
            "size": [
             33333216,
             12420476,
             8078314,
             1639131,
             14326203,
             8390505,
             17696293,
             4369038,
             10238807,
             710960,
             64606759,
             3800610,
             18013409,
             496374,
             80264543,
             551201,
             4906585,
             76511887,
             1454867,
             1688359,
             22873338,
             9947814,
             1472041,
             35610177,
             2012649,
             3193942,
             6036914,
             19167654,
             13327079,
             12031795,
             3270065,
             1250882,
             33757175,
             19951656,
             2055080,
             12894865,
             135031164,
             798094,
             8860588,
             199579,
             12267493,
             6144562,
             9118773,
             43997828,
             42292929,
             1133066,
             38139640,
             5701579,
             10276158,
             29170398,
             11746035,
             12311143
            ],
            "sizemode": "area",
            "sizeref": 435928.2961983471,
            "symbol": "circle"
           },
           "mode": "markers",
           "name": "Africa",
           "orientation": "v",
           "showlegend": true,
           "type": "scatter",
           "x": [
            6223.367465,
            4797.231267,
            1441.284873,
            12569.85177,
            1217.032994,
            430.0706916,
            2042.09524,
            706.016537,
            1704.063724,
            986.1478792,
            277.5518587,
            3632.557798,
            1544.750112,
            2082.4815670000007,
            5581.180998,
            12154.08975,
            641.3695236000002,
            690.8055759,
            13206.48452,
            752.7497265,
            1327.60891,
            942.6542111,
            579.2317429999998,
            1463.249282,
            1569.331442,
            414.5073415,
            12057.49928,
            1044.770126,
            759.3499101,
            1042.581557,
            1803.151496,
            10956.99112,
            3820.17523,
            823.6856205,
            4811.060429,
            619.6768923999998,
            2013.977305,
            7670.122558,
            863.0884639000002,
            1598.435089,
            1712.472136,
            862.5407561000002,
            926.1410683,
            9269.657808,
            2602.394995,
            4513.480643,
            1107.482182,
            882.9699437999999,
            7092.923025,
            1056.380121,
            1271.211593,
            469.70929810000007
           ],
           "xaxis": "x",
           "y": [
            72.301,
            42.731,
            56.728,
            50.728,
            52.295,
            49.58,
            50.43,
            44.74100000000001,
            50.651,
            65.152,
            46.462,
            55.322,
            48.328,
            54.791,
            71.33800000000002,
            51.57899999999999,
            58.04,
            52.947,
            56.735,
            59.448,
            60.022,
            56.007,
            46.38800000000001,
            54.11,
            42.592,
            45.678,
            73.952,
            59.44300000000001,
            48.303,
            54.467,
            64.164,
            72.801,
            71.164,
            42.082,
            52.90600000000001,
            56.867,
            46.859,
            76.442,
            46.242,
            65.528,
            63.062,
            42.56800000000001,
            48.159,
            49.339,
            58.556,
            39.613,
            52.517,
            58.42,
            73.923,
            51.542,
            42.38399999999999,
            43.487
           ],
           "yaxis": "y"
          },
          {
           "hovertemplate": "<b>%{hovertext}</b><br><br>continent=Americas<br>year=2007<br>gdpPercap=%{x}<br>lifeExp=%{y}<br>pop=%{marker.size}<extra></extra>",
           "hovertext": [
            "Argentina",
            "Bolivia",
            "Brazil",
            "Canada",
            "Chile",
            "Colombia",
            "Costa Rica",
            "Cuba",
            "Dominican Republic",
            "Ecuador",
            "El Salvador",
            "Guatemala",
            "Haiti",
            "Honduras",
            "Jamaica",
            "Mexico",
            "Nicaragua",
            "Panama",
            "Paraguay",
            "Peru",
            "Puerto Rico",
            "Trinidad and Tobago",
            "United States",
            "Uruguay",
            "Venezuela"
           ],
           "ids": [
            "Argentina",
            "Bolivia",
            "Brazil",
            "Canada",
            "Chile",
            "Colombia",
            "Costa Rica",
            "Cuba",
            "Dominican Republic",
            "Ecuador",
            "El Salvador",
            "Guatemala",
            "Haiti",
            "Honduras",
            "Jamaica",
            "Mexico",
            "Nicaragua",
            "Panama",
            "Paraguay",
            "Peru",
            "Puerto Rico",
            "Trinidad and Tobago",
            "United States",
            "Uruguay",
            "Venezuela"
           ],
           "legendgroup": "Americas",
           "marker": {
            "color": "#ab63fa",
            "size": [
             40301927,
             9119152,
             190010647,
             33390141,
             16284741,
             44227550,
             4133884,
             11416987,
             9319622,
             13755680,
             6939688,
             12572928,
             8502814,
             7483763,
             2780132,
             108700891,
             5675356,
             3242173,
             6667147,
             28674757,
             3942491,
             1056608,
             301139947,
             3447496,
             26084662
            ],
            "sizemode": "area",
            "sizeref": 435928.2961983471,
            "symbol": "circle"
           },
           "mode": "markers",
           "name": "Americas",
           "orientation": "v",
           "showlegend": true,
           "type": "scatter",
           "x": [
            12779.37964,
            3822.137084,
            9065.800825,
            36319.23501,
            13171.63885,
            7006.580419,
            9645.06142,
            8948.102923,
            6025.3747520000015,
            6873.262326000001,
            5728.353514,
            5186.050003,
            1201.637154,
            3548.3308460000007,
            7320.8802620000015,
            11977.57496,
            2749.320965,
            9809.185636,
            4172.838464,
            7408.905561,
            19328.70901,
            18008.50924,
            42951.65309,
            10611.46299,
            11415.80569
           ],
           "xaxis": "x",
           "y": [
            75.32,
            65.554,
            72.39,
            80.653,
            78.553,
            72.889,
            78.782,
            78.273,
            72.235,
            74.994,
            71.878,
            70.259,
            60.916,
            70.19800000000001,
            72.567,
            76.195,
            72.899,
            75.53699999999998,
            71.752,
            71.421,
            78.74600000000002,
            69.819,
            78.242,
            76.384,
            73.747
           ],
           "yaxis": "y"
          },
          {
           "hovertemplate": "<b>%{hovertext}</b><br><br>continent=Oceania<br>year=2007<br>gdpPercap=%{x}<br>lifeExp=%{y}<br>pop=%{marker.size}<extra></extra>",
           "hovertext": [
            "Australia",
            "New Zealand"
           ],
           "ids": [
            "Australia",
            "New Zealand"
           ],
           "legendgroup": "Oceania",
           "marker": {
            "color": "#FFA15A",
            "size": [
             20434176,
             4115771
            ],
            "sizemode": "area",
            "sizeref": 435928.2961983471,
            "symbol": "circle"
           },
           "mode": "markers",
           "name": "Oceania",
           "orientation": "v",
           "showlegend": true,
           "type": "scatter",
           "x": [
            34435.367439999995,
            25185.00911
           ],
           "xaxis": "x",
           "y": [
            81.235,
            80.204
           ],
           "yaxis": "y"
          }
         ],
         "name": "2007"
        }
       ],
       "layout": {
        "legend": {
         "itemsizing": "constant",
         "title": {
          "text": "continent"
         },
         "tracegroupgap": 0
        },
        "margin": {
         "t": 60
        },
        "sliders": [
         {
          "active": 0,
          "currentvalue": {
           "prefix": "year="
          },
          "len": 0.9,
          "pad": {
           "b": 10,
           "t": 60
          },
          "steps": [
           {
            "args": [
             [
              "1952"
             ],
             {
              "frame": {
               "duration": 0,
               "redraw": false
              },
              "fromcurrent": true,
              "mode": "immediate",
              "transition": {
               "duration": 0,
               "easing": "linear"
              }
             }
            ],
            "label": "1952",
            "method": "animate"
           },
           {
            "args": [
             [
              "1957"
             ],
             {
              "frame": {
               "duration": 0,
               "redraw": false
              },
              "fromcurrent": true,
              "mode": "immediate",
              "transition": {
               "duration": 0,
               "easing": "linear"
              }
             }
            ],
            "label": "1957",
            "method": "animate"
           },
           {
            "args": [
             [
              "1962"
             ],
             {
              "frame": {
               "duration": 0,
               "redraw": false
              },
              "fromcurrent": true,
              "mode": "immediate",
              "transition": {
               "duration": 0,
               "easing": "linear"
              }
             }
            ],
            "label": "1962",
            "method": "animate"
           },
           {
            "args": [
             [
              "1967"
             ],
             {
              "frame": {
               "duration": 0,
               "redraw": false
              },
              "fromcurrent": true,
              "mode": "immediate",
              "transition": {
               "duration": 0,
               "easing": "linear"
              }
             }
            ],
            "label": "1967",
            "method": "animate"
           },
           {
            "args": [
             [
              "1972"
             ],
             {
              "frame": {
               "duration": 0,
               "redraw": false
              },
              "fromcurrent": true,
              "mode": "immediate",
              "transition": {
               "duration": 0,
               "easing": "linear"
              }
             }
            ],
            "label": "1972",
            "method": "animate"
           },
           {
            "args": [
             [
              "1977"
             ],
             {
              "frame": {
               "duration": 0,
               "redraw": false
              },
              "fromcurrent": true,
              "mode": "immediate",
              "transition": {
               "duration": 0,
               "easing": "linear"
              }
             }
            ],
            "label": "1977",
            "method": "animate"
           },
           {
            "args": [
             [
              "1982"
             ],
             {
              "frame": {
               "duration": 0,
               "redraw": false
              },
              "fromcurrent": true,
              "mode": "immediate",
              "transition": {
               "duration": 0,
               "easing": "linear"
              }
             }
            ],
            "label": "1982",
            "method": "animate"
           },
           {
            "args": [
             [
              "1987"
             ],
             {
              "frame": {
               "duration": 0,
               "redraw": false
              },
              "fromcurrent": true,
              "mode": "immediate",
              "transition": {
               "duration": 0,
               "easing": "linear"
              }
             }
            ],
            "label": "1987",
            "method": "animate"
           },
           {
            "args": [
             [
              "1992"
             ],
             {
              "frame": {
               "duration": 0,
               "redraw": false
              },
              "fromcurrent": true,
              "mode": "immediate",
              "transition": {
               "duration": 0,
               "easing": "linear"
              }
             }
            ],
            "label": "1992",
            "method": "animate"
           },
           {
            "args": [
             [
              "1997"
             ],
             {
              "frame": {
               "duration": 0,
               "redraw": false
              },
              "fromcurrent": true,
              "mode": "immediate",
              "transition": {
               "duration": 0,
               "easing": "linear"
              }
             }
            ],
            "label": "1997",
            "method": "animate"
           },
           {
            "args": [
             [
              "2002"
             ],
             {
              "frame": {
               "duration": 0,
               "redraw": false
              },
              "fromcurrent": true,
              "mode": "immediate",
              "transition": {
               "duration": 0,
               "easing": "linear"
              }
             }
            ],
            "label": "2002",
            "method": "animate"
           },
           {
            "args": [
             [
              "2007"
             ],
             {
              "frame": {
               "duration": 0,
               "redraw": false
              },
              "fromcurrent": true,
              "mode": "immediate",
              "transition": {
               "duration": 0,
               "easing": "linear"
              }
             }
            ],
            "label": "2007",
            "method": "animate"
           }
          ],
          "x": 0.1,
          "xanchor": "left",
          "y": 0,
          "yanchor": "top"
         }
        ],
        "template": {
         "data": {
          "bar": [
           {
            "error_x": {
             "color": "#2a3f5f"
            },
            "error_y": {
             "color": "#2a3f5f"
            },
            "marker": {
             "line": {
              "color": "#E5ECF6",
              "width": 0.5
             },
             "pattern": {
              "fillmode": "overlay",
              "size": 10,
              "solidity": 0.2
             }
            },
            "type": "bar"
           }
          ],
          "barpolar": [
           {
            "marker": {
             "line": {
              "color": "#E5ECF6",
              "width": 0.5
             },
             "pattern": {
              "fillmode": "overlay",
              "size": 10,
              "solidity": 0.2
             }
            },
            "type": "barpolar"
           }
          ],
          "carpet": [
           {
            "aaxis": {
             "endlinecolor": "#2a3f5f",
             "gridcolor": "white",
             "linecolor": "white",
             "minorgridcolor": "white",
             "startlinecolor": "#2a3f5f"
            },
            "baxis": {
             "endlinecolor": "#2a3f5f",
             "gridcolor": "white",
             "linecolor": "white",
             "minorgridcolor": "white",
             "startlinecolor": "#2a3f5f"
            },
            "type": "carpet"
           }
          ],
          "choropleth": [
           {
            "colorbar": {
             "outlinewidth": 0,
             "ticks": ""
            },
            "type": "choropleth"
           }
          ],
          "contour": [
           {
            "colorbar": {
             "outlinewidth": 0,
             "ticks": ""
            },
            "colorscale": [
             [
              0,
              "#0d0887"
             ],
             [
              0.1111111111111111,
              "#46039f"
             ],
             [
              0.2222222222222222,
              "#7201a8"
             ],
             [
              0.3333333333333333,
              "#9c179e"
             ],
             [
              0.4444444444444444,
              "#bd3786"
             ],
             [
              0.5555555555555556,
              "#d8576b"
             ],
             [
              0.6666666666666666,
              "#ed7953"
             ],
             [
              0.7777777777777778,
              "#fb9f3a"
             ],
             [
              0.8888888888888888,
              "#fdca26"
             ],
             [
              1,
              "#f0f921"
             ]
            ],
            "type": "contour"
           }
          ],
          "contourcarpet": [
           {
            "colorbar": {
             "outlinewidth": 0,
             "ticks": ""
            },
            "type": "contourcarpet"
           }
          ],
          "heatmap": [
           {
            "colorbar": {
             "outlinewidth": 0,
             "ticks": ""
            },
            "colorscale": [
             [
              0,
              "#0d0887"
             ],
             [
              0.1111111111111111,
              "#46039f"
             ],
             [
              0.2222222222222222,
              "#7201a8"
             ],
             [
              0.3333333333333333,
              "#9c179e"
             ],
             [
              0.4444444444444444,
              "#bd3786"
             ],
             [
              0.5555555555555556,
              "#d8576b"
             ],
             [
              0.6666666666666666,
              "#ed7953"
             ],
             [
              0.7777777777777778,
              "#fb9f3a"
             ],
             [
              0.8888888888888888,
              "#fdca26"
             ],
             [
              1,
              "#f0f921"
             ]
            ],
            "type": "heatmap"
           }
          ],
          "heatmapgl": [
           {
            "colorbar": {
             "outlinewidth": 0,
             "ticks": ""
            },
            "colorscale": [
             [
              0,
              "#0d0887"
             ],
             [
              0.1111111111111111,
              "#46039f"
             ],
             [
              0.2222222222222222,
              "#7201a8"
             ],
             [
              0.3333333333333333,
              "#9c179e"
             ],
             [
              0.4444444444444444,
              "#bd3786"
             ],
             [
              0.5555555555555556,
              "#d8576b"
             ],
             [
              0.6666666666666666,
              "#ed7953"
             ],
             [
              0.7777777777777778,
              "#fb9f3a"
             ],
             [
              0.8888888888888888,
              "#fdca26"
             ],
             [
              1,
              "#f0f921"
             ]
            ],
            "type": "heatmapgl"
           }
          ],
          "histogram": [
           {
            "marker": {
             "pattern": {
              "fillmode": "overlay",
              "size": 10,
              "solidity": 0.2
             }
            },
            "type": "histogram"
           }
          ],
          "histogram2d": [
           {
            "colorbar": {
             "outlinewidth": 0,
             "ticks": ""
            },
            "colorscale": [
             [
              0,
              "#0d0887"
             ],
             [
              0.1111111111111111,
              "#46039f"
             ],
             [
              0.2222222222222222,
              "#7201a8"
             ],
             [
              0.3333333333333333,
              "#9c179e"
             ],
             [
              0.4444444444444444,
              "#bd3786"
             ],
             [
              0.5555555555555556,
              "#d8576b"
             ],
             [
              0.6666666666666666,
              "#ed7953"
             ],
             [
              0.7777777777777778,
              "#fb9f3a"
             ],
             [
              0.8888888888888888,
              "#fdca26"
             ],
             [
              1,
              "#f0f921"
             ]
            ],
            "type": "histogram2d"
           }
          ],
          "histogram2dcontour": [
           {
            "colorbar": {
             "outlinewidth": 0,
             "ticks": ""
            },
            "colorscale": [
             [
              0,
              "#0d0887"
             ],
             [
              0.1111111111111111,
              "#46039f"
             ],
             [
              0.2222222222222222,
              "#7201a8"
             ],
             [
              0.3333333333333333,
              "#9c179e"
             ],
             [
              0.4444444444444444,
              "#bd3786"
             ],
             [
              0.5555555555555556,
              "#d8576b"
             ],
             [
              0.6666666666666666,
              "#ed7953"
             ],
             [
              0.7777777777777778,
              "#fb9f3a"
             ],
             [
              0.8888888888888888,
              "#fdca26"
             ],
             [
              1,
              "#f0f921"
             ]
            ],
            "type": "histogram2dcontour"
           }
          ],
          "mesh3d": [
           {
            "colorbar": {
             "outlinewidth": 0,
             "ticks": ""
            },
            "type": "mesh3d"
           }
          ],
          "parcoords": [
           {
            "line": {
             "colorbar": {
              "outlinewidth": 0,
              "ticks": ""
             }
            },
            "type": "parcoords"
           }
          ],
          "pie": [
           {
            "automargin": true,
            "type": "pie"
           }
          ],
          "scatter": [
           {
            "fillpattern": {
             "fillmode": "overlay",
             "size": 10,
             "solidity": 0.2
            },
            "type": "scatter"
           }
          ],
          "scatter3d": [
           {
            "line": {
             "colorbar": {
              "outlinewidth": 0,
              "ticks": ""
             }
            },
            "marker": {
             "colorbar": {
              "outlinewidth": 0,
              "ticks": ""
             }
            },
            "type": "scatter3d"
           }
          ],
          "scattercarpet": [
           {
            "marker": {
             "colorbar": {
              "outlinewidth": 0,
              "ticks": ""
             }
            },
            "type": "scattercarpet"
           }
          ],
          "scattergeo": [
           {
            "marker": {
             "colorbar": {
              "outlinewidth": 0,
              "ticks": ""
             }
            },
            "type": "scattergeo"
           }
          ],
          "scattergl": [
           {
            "marker": {
             "colorbar": {
              "outlinewidth": 0,
              "ticks": ""
             }
            },
            "type": "scattergl"
           }
          ],
          "scattermapbox": [
           {
            "marker": {
             "colorbar": {
              "outlinewidth": 0,
              "ticks": ""
             }
            },
            "type": "scattermapbox"
           }
          ],
          "scatterpolar": [
           {
            "marker": {
             "colorbar": {
              "outlinewidth": 0,
              "ticks": ""
             }
            },
            "type": "scatterpolar"
           }
          ],
          "scatterpolargl": [
           {
            "marker": {
             "colorbar": {
              "outlinewidth": 0,
              "ticks": ""
             }
            },
            "type": "scatterpolargl"
           }
          ],
          "scatterternary": [
           {
            "marker": {
             "colorbar": {
              "outlinewidth": 0,
              "ticks": ""
             }
            },
            "type": "scatterternary"
           }
          ],
          "surface": [
           {
            "colorbar": {
             "outlinewidth": 0,
             "ticks": ""
            },
            "colorscale": [
             [
              0,
              "#0d0887"
             ],
             [
              0.1111111111111111,
              "#46039f"
             ],
             [
              0.2222222222222222,
              "#7201a8"
             ],
             [
              0.3333333333333333,
              "#9c179e"
             ],
             [
              0.4444444444444444,
              "#bd3786"
             ],
             [
              0.5555555555555556,
              "#d8576b"
             ],
             [
              0.6666666666666666,
              "#ed7953"
             ],
             [
              0.7777777777777778,
              "#fb9f3a"
             ],
             [
              0.8888888888888888,
              "#fdca26"
             ],
             [
              1,
              "#f0f921"
             ]
            ],
            "type": "surface"
           }
          ],
          "table": [
           {
            "cells": {
             "fill": {
              "color": "#EBF0F8"
             },
             "line": {
              "color": "white"
             }
            },
            "header": {
             "fill": {
              "color": "#C8D4E3"
             },
             "line": {
              "color": "white"
             }
            },
            "type": "table"
           }
          ]
         },
         "layout": {
          "annotationdefaults": {
           "arrowcolor": "#2a3f5f",
           "arrowhead": 0,
           "arrowwidth": 1
          },
          "autotypenumbers": "strict",
          "coloraxis": {
           "colorbar": {
            "outlinewidth": 0,
            "ticks": ""
           }
          },
          "colorscale": {
           "diverging": [
            [
             0,
             "#8e0152"
            ],
            [
             0.1,
             "#c51b7d"
            ],
            [
             0.2,
             "#de77ae"
            ],
            [
             0.3,
             "#f1b6da"
            ],
            [
             0.4,
             "#fde0ef"
            ],
            [
             0.5,
             "#f7f7f7"
            ],
            [
             0.6,
             "#e6f5d0"
            ],
            [
             0.7,
             "#b8e186"
            ],
            [
             0.8,
             "#7fbc41"
            ],
            [
             0.9,
             "#4d9221"
            ],
            [
             1,
             "#276419"
            ]
           ],
           "sequential": [
            [
             0,
             "#0d0887"
            ],
            [
             0.1111111111111111,
             "#46039f"
            ],
            [
             0.2222222222222222,
             "#7201a8"
            ],
            [
             0.3333333333333333,
             "#9c179e"
            ],
            [
             0.4444444444444444,
             "#bd3786"
            ],
            [
             0.5555555555555556,
             "#d8576b"
            ],
            [
             0.6666666666666666,
             "#ed7953"
            ],
            [
             0.7777777777777778,
             "#fb9f3a"
            ],
            [
             0.8888888888888888,
             "#fdca26"
            ],
            [
             1,
             "#f0f921"
            ]
           ],
           "sequentialminus": [
            [
             0,
             "#0d0887"
            ],
            [
             0.1111111111111111,
             "#46039f"
            ],
            [
             0.2222222222222222,
             "#7201a8"
            ],
            [
             0.3333333333333333,
             "#9c179e"
            ],
            [
             0.4444444444444444,
             "#bd3786"
            ],
            [
             0.5555555555555556,
             "#d8576b"
            ],
            [
             0.6666666666666666,
             "#ed7953"
            ],
            [
             0.7777777777777778,
             "#fb9f3a"
            ],
            [
             0.8888888888888888,
             "#fdca26"
            ],
            [
             1,
             "#f0f921"
            ]
           ]
          },
          "colorway": [
           "#636efa",
           "#EF553B",
           "#00cc96",
           "#ab63fa",
           "#FFA15A",
           "#19d3f3",
           "#FF6692",
           "#B6E880",
           "#FF97FF",
           "#FECB52"
          ],
          "font": {
           "color": "#2a3f5f"
          },
          "geo": {
           "bgcolor": "white",
           "lakecolor": "white",
           "landcolor": "#E5ECF6",
           "showlakes": true,
           "showland": true,
           "subunitcolor": "white"
          },
          "hoverlabel": {
           "align": "left"
          },
          "hovermode": "closest",
          "mapbox": {
           "style": "light"
          },
          "paper_bgcolor": "white",
          "plot_bgcolor": "#E5ECF6",
          "polar": {
           "angularaxis": {
            "gridcolor": "white",
            "linecolor": "white",
            "ticks": ""
           },
           "bgcolor": "#E5ECF6",
           "radialaxis": {
            "gridcolor": "white",
            "linecolor": "white",
            "ticks": ""
           }
          },
          "scene": {
           "xaxis": {
            "backgroundcolor": "#E5ECF6",
            "gridcolor": "white",
            "gridwidth": 2,
            "linecolor": "white",
            "showbackground": true,
            "ticks": "",
            "zerolinecolor": "white"
           },
           "yaxis": {
            "backgroundcolor": "#E5ECF6",
            "gridcolor": "white",
            "gridwidth": 2,
            "linecolor": "white",
            "showbackground": true,
            "ticks": "",
            "zerolinecolor": "white"
           },
           "zaxis": {
            "backgroundcolor": "#E5ECF6",
            "gridcolor": "white",
            "gridwidth": 2,
            "linecolor": "white",
            "showbackground": true,
            "ticks": "",
            "zerolinecolor": "white"
           }
          },
          "shapedefaults": {
           "line": {
            "color": "#2a3f5f"
           }
          },
          "ternary": {
           "aaxis": {
            "gridcolor": "white",
            "linecolor": "white",
            "ticks": ""
           },
           "baxis": {
            "gridcolor": "white",
            "linecolor": "white",
            "ticks": ""
           },
           "bgcolor": "#E5ECF6",
           "caxis": {
            "gridcolor": "white",
            "linecolor": "white",
            "ticks": ""
           }
          },
          "title": {
           "x": 0.05
          },
          "xaxis": {
           "automargin": true,
           "gridcolor": "white",
           "linecolor": "white",
           "ticks": "",
           "title": {
            "standoff": 15
           },
           "zerolinecolor": "white",
           "zerolinewidth": 2
          },
          "yaxis": {
           "automargin": true,
           "gridcolor": "white",
           "linecolor": "white",
           "ticks": "",
           "title": {
            "standoff": 15
           },
           "zerolinecolor": "white",
           "zerolinewidth": 2
          }
         }
        },
        "updatemenus": [
         {
          "buttons": [
           {
            "args": [
             null,
             {
              "frame": {
               "duration": 500,
               "redraw": false
              },
              "fromcurrent": true,
              "mode": "immediate",
              "transition": {
               "duration": 500,
               "easing": "linear"
              }
             }
            ],
            "label": "&#9654;",
            "method": "animate"
           },
           {
            "args": [
             [
              null
             ],
             {
              "frame": {
               "duration": 0,
               "redraw": false
              },
              "fromcurrent": true,
              "mode": "immediate",
              "transition": {
               "duration": 0,
               "easing": "linear"
              }
             }
            ],
            "label": "&#9724;",
            "method": "animate"
           }
          ],
          "direction": "left",
          "pad": {
           "r": 10,
           "t": 70
          },
          "showactive": false,
          "type": "buttons",
          "x": 0.1,
          "xanchor": "right",
          "y": 0,
          "yanchor": "top"
         }
        ],
        "xaxis": {
         "anchor": "y",
         "domain": [
          0,
          1
         ],
         "range": [
          2,
          5
         ],
         "title": {
          "text": "gdpPercap"
         },
         "type": "log"
        },
        "yaxis": {
         "anchor": "x",
         "domain": [
          0,
          1
         ],
         "range": [
          25,
          90
         ],
         "title": {
          "text": "lifeExp"
         }
        }
       }
      }
     },
     "metadata": {},
     "output_type": "display_data"
    }
   ],
   "source": [
    "import plotly.express as px\n",
    "df = px.data.gapminder()\n",
    "px.scatter(df, x=\"gdpPercap\", y=\"lifeExp\", animation_frame=\"year\", animation_group=\"country\",\n",
    "           size=\"pop\", color=\"continent\", hover_name=\"country\",\n",
    "           log_x=True, size_max=55, range_x=[100,100000], range_y=[25,90])"
   ]
  },
  {
   "cell_type": "markdown",
   "metadata": {},
   "source": [
    "# Plot Types:"
   ]
  },
  {
   "cell_type": "markdown",
   "metadata": {},
   "source": [
    "# 1. Bar Chart "
   ]
  },
  {
   "cell_type": "code",
   "execution_count": 11,
   "metadata": {},
   "outputs": [
    {
     "data": {
      "image/png": "[encoded data removed]",
      "text/plain": [
       "<Figure size 640x480 with 1 Axes>"
      ]
     },
     "metadata": {},
     "output_type": "display_data"
    }
   ],
   "source": [
    "# import pandas and matplotlib libraries\n",
    "import pandas as pd\n",
    "import matplotlib.pyplot as plt\n",
    "\n",
    "# create a dictionary with sample data\n",
    "data = {'Products': ['Product A', 'Product B', 'Product C'],\n",
    "    'Sales': [100, 150, 80]}\n",
    "\n",
    "# create a pandas dataframe from the dictionary\n",
    "df = pd.DataFrame(data)\n",
    "\n",
    "# plot the data frame as a bar chart\n",
    "df.plot(x='Products', y='Sales', kind='bar', legend=False)\n",
    "\n",
    "# set the y-axis label\n",
    "plt.ylabel('Sales')\n",
    "\n",
    "# set the title of the plot\n",
    "plt.title('Sales of different products')\n",
    "\n",
    "# save the plot to a file\n",
    "plt.savefig('./outputs/bar_chart.png', dpi=300, bbox_inches='tight')\n",
    "\n",
    "# display the plot\n",
    "plt.show()"
   ]
  },
  {
   "cell_type": "markdown",
   "metadata": {},
   "source": [
    "# 2. Pie Chart"
   ]
  },
  {
   "cell_type": "code",
   "execution_count": 12,
   "metadata": {},
   "outputs": [
    {
     "data": {
      "image/png": "[encoded data removed]",
      "text/plain": [
       "<Figure size 640x480 with 1 Axes>"
      ]
     },
     "metadata": {},
     "output_type": "display_data"
    }
   ],
   "source": [
    "# import pandas and matplotlib.pyplot libraries\n",
    "import pandas as pd\n",
    "import matplotlib.pyplot as plt\n",
    "\n",
    "# create a dictionary with sample data\n",
    "data = {'Products': ['Product A', 'Product B', 'Product C'],\n",
    "        'Sales': [100, 150, 80]}\n",
    "\n",
    "# create a pandas dataframe from the dictionary\n",
    "df = pd.DataFrame(data)\n",
    "\n",
    "# plot the dataframe as a pie chart\n",
    "df.set_index('Products')['Sales'].plot(kind='pie', autopct='%1.1f%%', startangle=90)\n",
    "\n",
    "# set the title of the plot\n",
    "plt.title('Sales distribution of different products')\n",
    "\n",
    "# save the plot to a file\n",
    "plt.savefig('./outputs/pie_chart.png', dpi=300, bbox_inches='tight')\n",
    "\n",
    "# display the plot\n",
    "plt.ylabel('')  # This is to remove the 'Sales' ylabel which is unnecessary in a pie chart\n",
    "plt.show()"
   ]
  },
  {
   "cell_type": "markdown",
   "metadata": {},
   "source": [
    "# 3. Histogram"
   ]
  },
  {
   "cell_type": "code",
   "execution_count": 13,
   "metadata": {},
   "outputs": [
    {
     "data": {
      "image/png": "[encoded data removed]",
      "text/plain": [
       "<Figure size 640x480 with 1 Axes>"
      ]
     },
     "metadata": {},
     "output_type": "display_data"
    }
   ],
   "source": [
    "# import pandas and matplotlib.pyplot libraries\n",
    "import pandas as pd\n",
    "import matplotlib.pyplot as plt\n",
    "\n",
    "# create a dictionary with sample data\n",
    "data = {'Sales': [30,50,120,150,200,300,100, 150, 80, 120, 140, 130, \n",
    "                  50,50,30,20,10,50,35,45,55,50,55,65,56,58,58,54,55,50,5,\n",
    "                  110, 145, 105, 90, 115, 125, 135, 85, 95]}\n",
    "\n",
    "# create a pandas dataframe from the dictionary\n",
    "df = pd.DataFrame(data)\n",
    "\n",
    "# plot the dataframe as a histogram\n",
    "df['Sales'].plot(kind='hist', bins=5, edgecolor='black')\n",
    "\n",
    "# set the x-axis and y-axis labels\n",
    "plt.xlabel('Sales Value')\n",
    "plt.ylabel('Number of Transactions')\n",
    "\n",
    "# set the title of the plot\n",
    "plt.title('Distribution of Sales Transactions')\n",
    "\n",
    "# save the plot to a file\n",
    "plt.savefig('./outputs/histogram.png', dpi=300, bbox_inches='tight')\n",
    "\n",
    "# display the plot\n",
    "plt.show()"
   ]
  },
  {
   "cell_type": "markdown",
   "metadata": {},
   "source": [
    "# 4. Scatter Plot"
   ]
  },
  {
   "cell_type": "code",
   "execution_count": 15,
   "metadata": {},
   "outputs": [
    {
     "data": {
      "image/png": "[encoded data removed]",
      "text/plain": [
       "<Figure size 640x480 with 1 Axes>"
      ]
     },
     "metadata": {},
     "output_type": "display_data"
    }
   ],
   "source": [
    "# import pandas and matplotlib.pyplot libraries\n",
    "import pandas as pd\n",
    "import matplotlib.pyplot as plt\n",
    "\n",
    "# create a dictionary with sample data\n",
    "data = {\n",
    "    'Sales': [100, 150, 80, 120, 140, 130, 110, 145, 105, 90],\n",
    "    'Profit': [50, 70, 40, 60, 75, 65, 55, 72, 52, 45]\n",
    "}\n",
    "\n",
    "# create a pandas dataframe from the dictionary\n",
    "df = pd.DataFrame(data)\n",
    "\n",
    "# plot the dataframe as a scatter plot\n",
    "df.plot(x='Sales', y='Profit', kind='scatter')\n",
    "\n",
    "# set the x-axis and y-axis labels\n",
    "plt.xlabel('Sales Value')\n",
    "plt.ylabel('Profit Value')\n",
    "\n",
    "# set the title of the plot\n",
    "plt.title('Relationship between Sales and Profit')\n",
    "\n",
    "# save the plot to a file\n",
    "plt.savefig('./outputs/scatter_plot.png', dpi=300, bbox_inches='tight')\n",
    "\n",
    "# display the plot\n",
    "plt.show()"
   ]
  },
  {
   "cell_type": "markdown",
   "metadata": {},
   "source": [
    "# 5. line chart"
   ]
  },
  {
   "cell_type": "code",
   "execution_count": 17,
   "metadata": {},
   "outputs": [
    {
     "data": {
      "image/png": "[encoded data removed]",
      "text/plain": [
       "<Figure size 640x480 with 1 Axes>"
      ]
     },
     "metadata": {},
     "output_type": "display_data"
    }
   ],
   "source": [
    "# import pandas and matplotlib.pyplot libraries\n",
    "import pandas as pd\n",
    "import matplotlib.pyplot as plt\n",
    "\n",
    "# create a dictionary with sample data\n",
    "data = {\n",
    "    'Month': ['Jan', 'Feb', 'Mar', 'Apr', 'May', 'Jun', 'Jul', 'Aug', 'Sep', 'Oct', 'Nov', 'Dec'],\n",
    "    'Monthly Sales': [100, 110, 105, 115, 120, 125, 130, 135, 140, 145, 150, 155]\n",
    "}\n",
    "\n",
    "# create a pandas dataframe from the dictionary\n",
    "df = pd.DataFrame(data)\n",
    "\n",
    "# plot the dataframe as a line chart\n",
    "df.plot(x='Month', y='Monthly Sales', kind='line', marker='o')\n",
    "\n",
    "# set the x-axis and y-axis labels\n",
    "plt.xlabel('Month')\n",
    "plt.ylabel('Sales Value')\n",
    "\n",
    "# set the title of the plot\n",
    "plt.title('Monthly Sales Trend over a Year')\n",
    "\n",
    "# save the plot to a file\n",
    "plt.savefig('./outputs/line_chart.png', dpi=300, bbox_inches='tight')\n",
    "\n",
    "# display the plot\n",
    "plt.show()"
   ]
  },
  {
   "cell_type": "markdown",
   "metadata": {},
   "source": [
    "# 6. Heatmap"
   ]
  },
  {
   "cell_type": "code",
   "execution_count": 19,
   "metadata": {},
   "outputs": [
    {
     "data": {
      "image/png": "[encoded data removed]",
      "text/plain": [
       "<Figure size 800x600 with 2 Axes>"
      ]
     },
     "metadata": {},
     "output_type": "display_data"
    }
   ],
   "source": [
    "# import required libraries\n",
    "import pandas as pd\n",
    "import matplotlib.pyplot as plt\n",
    "import seaborn as sns\n",
    "\n",
    "# Sample correlation matrix\n",
    "data = {\n",
    "    'Product A': [1, 0.6, 0.8, 0.3],\n",
    "    'Product B': [0.6, 1, 0.5, 0.7],\n",
    "    'Product C': [0.8, 0.5, 1, 0.4],\n",
    "    'Product D': [0.3, 0.7, 0.4, 1]\n",
    "}\n",
    "\n",
    "# Create a pandas dataframe from the dictionary\n",
    "df = pd.DataFrame(data)\n",
    "\n",
    "# Plotting the heatmap\n",
    "plt.figure(figsize=(8, 6))\n",
    "sns.heatmap(df, annot=True, cmap='viridis', vmin=0, vmax=1)\n",
    "\n",
    "# Set the title of the plot\n",
    "plt.title('Product Correlation Heatmap')\n",
    "\n",
    "# Save the plot to a file\n",
    "plt.savefig('./outputs/heatmap.png', dpi=300, bbox_inches='tight')\n",
    "\n",
    "# Display the plot\n",
    "plt.show()"
   ]
  },
  {
   "cell_type": "markdown",
   "metadata": {},
   "source": [
    "# 7. Box Plot"
   ]
  },
  {
   "cell_type": "code",
   "execution_count": 21,
   "metadata": {},
   "outputs": [
    {
     "data": {
      "image/png": "[encoded data removed]",
      "text/plain": [
       "<Figure size 640x480 with 1 Axes>"
      ]
     },
     "metadata": {},
     "output_type": "display_data"
    }
   ],
   "source": [
    "# import required libraries\n",
    "import pandas as pd\n",
    "import matplotlib.pyplot as plt\n",
    "\n",
    "# Sample data\n",
    "data = {\n",
    "    'Product A': [95, 85, 90, 100, 105, 110],\n",
    "    'Product B': [100, 105, 95, 90, 115, 120],\n",
    "    'Product C': [105, 110, 115, 120, 125, 130]\n",
    "}\n",
    "\n",
    "# Create a pandas dataframe from the dictionary\n",
    "df = pd.DataFrame(data)\n",
    "\n",
    "# Plotting the boxplot\n",
    "df.boxplot(grid=False, vert=True, fontsize=10)\n",
    "\n",
    "# Set the title of the plot\n",
    "plt.title('Sales Distribution by Product')\n",
    "\n",
    "# Set the y-axis label\n",
    "plt.ylabel('Sales Value')\n",
    "\n",
    "# Save the plot to a file\n",
    "plt.savefig('./outputs/boxplot.png', dpi=300, bbox_inches='tight')\n",
    "\n",
    "# Display the plot\n",
    "plt.show()"
   ]
  },
  {
   "cell_type": "code",
   "execution_count": 23,
   "metadata": {},
   "outputs": [
    {
     "data": {
      "image/png": "[encoded data removed]",
      "text/plain": [
       "<Figure size 1000x600 with 1 Axes>"
      ]
     },
     "metadata": {},
     "output_type": "display_data"
    }
   ],
   "source": [
    "# we can do the same thing with seaborn library as follows\n",
    "\n",
    "# import required libraries\n",
    "import pandas as pd\n",
    "import matplotlib.pyplot as plt\n",
    "import seaborn as sns\n",
    "\n",
    "# Sample data\n",
    "data = {\n",
    "    'Product A': [95, 85, 90, 100, 105, 110],\n",
    "    'Product B': [100, 105, 95, 90, 115, 120],\n",
    "    'Product C': [105, 110, 115, 120, 125, 130]\n",
    "}\n",
    "\n",
    "# Create a pandas dataframe from the dictionary\n",
    "df = pd.DataFrame(data)\n",
    "\n",
    "# Plotting the boxplot using seaborn\n",
    "plt.figure(figsize=(10, 6))\n",
    "sns.boxplot(data=df)\n",
    "\n",
    "# Set the title of the plot\n",
    "plt.title('Sales Distribution by Product')\n",
    "\n",
    "# Set the y-axis label\n",
    "plt.ylabel('Sales Value')\n",
    "\n",
    "# Save the plot to a file\n",
    "plt.savefig('./outputs/sns_boxplot.png', dpi=300, bbox_inches='tight')\n",
    "\n",
    "# Display the plot\n",
    "plt.show()"
   ]
  },
  {
   "cell_type": "markdown",
   "metadata": {},
   "source": [
    "# 8. Area Chart"
   ]
  },
  {
   "cell_type": "code",
   "execution_count": 25,
   "metadata": {},
   "outputs": [
    {
     "data": {
      "image/png": "[encoded data removed]",
      "text/plain": [
       "<Figure size 1000x600 with 1 Axes>"
      ]
     },
     "metadata": {},
     "output_type": "display_data"
    }
   ],
   "source": [
    "# import required libraries\n",
    "import pandas as pd\n",
    "import matplotlib.pyplot as plt\n",
    "import seaborn as sns\n",
    "\n",
    "# Sample data\n",
    "data = {\n",
    "    'Month': ['Jan', 'Feb', 'Mar', 'Apr', 'May'],\n",
    "    'Sales': [100, 150, 180, 220, 270]  # Accumulated sales for demonstration\n",
    "}\n",
    "\n",
    "# Create a pandas dataframe from the dictionary\n",
    "df = pd.DataFrame(data)\n",
    "\n",
    "# Plotting the area chart\n",
    "plt.figure(figsize=(10, 6))\n",
    "sns.set_style(\"whitegrid\")\n",
    "plt.fill_between(df['Month'], df['Sales'], color=\"skyblue\", alpha=0.4)\n",
    "plt.plot(df['Month'], df['Sales'], color=\"Slateblue\", alpha=0.6)\n",
    "\n",
    "# Set the title, x-axis and y-axis labels\n",
    "plt.title('Monthly Accumulated Sales')\n",
    "plt.xlabel('Month')\n",
    "plt.ylabel('Accumulated Sales Value')\n",
    "\n",
    "# Save the plot to a file\n",
    "plt.savefig('./outputs/area_chart.png', dpi=300, bbox_inches='tight')\n",
    "\n",
    "# Display the plot\n",
    "plt.show()"
   ]
  },
  {
   "cell_type": "markdown",
   "metadata": {},
   "source": [
    "# 9. Spider Chart"
   ]
  },
  {
   "cell_type": "code",
   "execution_count": 27,
   "metadata": {},
   "outputs": [
    {
     "data": {
      "image/png": "[encoded data removed]",
      "text/plain": [
       "<Figure size 800x600 with 1 Axes>"
      ]
     },
     "metadata": {},
     "output_type": "display_data"
    }
   ],
   "source": [
    "# import required libraries\n",
    "import pandas as pd\n",
    "import matplotlib.pyplot as plt\n",
    "import numpy as np\n",
    "\n",
    "# Sample data\n",
    "data = {\n",
    "    'Metrics': ['Metric A', 'Metric B', 'Metric C', 'Metric D', 'Metric E'],\n",
    "    'Product 1': [3, 4, 5, 4, 2],\n",
    "    'Product 2': [4, 5, 4, 3, 3]\n",
    "}\n",
    "\n",
    "# Create a pandas dataframe from the dictionary\n",
    "df = pd.DataFrame(data)\n",
    "\n",
    "# Number of variables\n",
    "categories = list(df['Metrics'])\n",
    "N = len(categories)\n",
    "\n",
    "# Set the angle for each metric's axis\n",
    "angles = [n / float(N) * 2 * np.pi for n in range(N)]\n",
    "angles += angles[:1]\n",
    "\n",
    "# Initialize the spider plot\n",
    "plt.figure(figsize=(8, 6))\n",
    "ax = plt.subplot(111, polar=True)\n",
    "\n",
    "# Plotting for Product 1\n",
    "values = df['Product 1'].tolist()\n",
    "values += values[:1]  # Repeat the first value to close the circular graph\n",
    "ax.plot(angles, values, linewidth=2, linestyle='solid', label='Product 1')\n",
    "ax.fill(angles, values, 'b', alpha=0.1)\n",
    "\n",
    "# Plotting for Product 2\n",
    "values = df['Product 2'].tolist()\n",
    "values += values[:1]  # Repeat the first value to close the circular graph\n",
    "ax.plot(angles, values, linewidth=2, linestyle='solid', label='Product 2')\n",
    "ax.fill(angles, values, 'r', alpha=0.1)\n",
    "\n",
    "# Add the axis labels\n",
    "plt.xticks(angles[:-1], categories, color='grey', size=12)\n",
    "ax.set_rlabel_position(30)\n",
    "plt.yticks([1,2,3,4,5], [\"1\",\"2\",\"3\",\"4\",\"5\"], color=\"grey\", size=8)\n",
    "plt.ylim(0, 5)\n",
    "\n",
    "# Add title and legend\n",
    "plt.title('Comparison between Product 1 and Product 2 on various metrics')\n",
    "ax.legend(loc='upper right', bbox_to_anchor=(0.1, 0.1))\n",
    "\n",
    "# Save the plot to a file\n",
    "plt.savefig('./outputs/radar_chart.png', dpi=300, bbox_inches='tight')\n",
    "\n",
    "# Display the plot\n",
    "plt.show()"
   ]
  },
  {
   "cell_type": "markdown",
   "metadata": {},
   "source": [
    "# 10. Tree Map"
   ]
  },
  {
   "cell_type": "code",
   "execution_count": 29,
   "metadata": {},
   "outputs": [],
   "source": [
    "# pip install squarify"
   ]
  },
  {
   "cell_type": "code",
   "execution_count": 31,
   "metadata": {},
   "outputs": [
    {
     "data": {
      "image/png": "[encoded data removed]",
      "text/plain": [
       "<Figure size 1200x800 with 1 Axes>"
      ]
     },
     "metadata": {},
     "output_type": "display_data"
    }
   ],
   "source": [
    "# Import required libraries\n",
    "import pandas as pd\n",
    "import matplotlib.pyplot as plt\n",
    "import squarify # install if you do not have it\n",
    "\n",
    "# Sample data\n",
    "data = {\n",
    "    'File Type': ['Documents', 'Videos', 'Images', 'Audio', 'Other'],\n",
    "    'Storage Used (GB)': [50, 150, 80, 60, 10]\n",
    "}\n",
    "\n",
    "# Create a pandas dataframe from the dictionary\n",
    "df = pd.DataFrame(data)\n",
    "\n",
    "# Plotting the treemap\n",
    "plt.figure(figsize=(12, 8))\n",
    "colors = ['red', 'green', 'blue', 'yellow', 'grey']\n",
    "squarify.plot(sizes=df['Storage Used (GB)'], label=df['File Type'], color=colors, alpha=0.6)\n",
    "\n",
    "# Add title\n",
    "plt.title('Storage Used by File Type')\n",
    "plt.axis('off')  # Turn off the axis\n",
    "\n",
    "# Save the plot to a file\n",
    "plt.savefig('./outputs/treemap.png', dpi=300, bbox_inches='tight')\n",
    "\n",
    "# Display the plot\n",
    "plt.show()"
   ]
  },
  {
   "cell_type": "markdown",
   "metadata": {},
   "source": [
    "# 11. Geographical Maps"
   ]
  },
  {
   "cell_type": "code",
   "execution_count": 33,
   "metadata": {},
   "outputs": [],
   "source": [
    "# pip install -U kaleido"
   ]
  },
  {
   "cell_type": "code",
   "execution_count": 34,
   "metadata": {},
   "outputs": [
    {
     "data": {
      "application/vnd.plotly.v1+json": {
       "config": {
        "plotlyServerURL": "https://plot.ly"
       },
       "data": [
        {
         "lat": [
          40.7128,
          51.5074,
          -33.8688,
          35.6895,
          -22.9068
         ],
         "lon": [
          -74.006,
          -0.1278,
          151.2093,
          139.6917,
          -43.1729
         ],
         "marker": {
          "autocolorscale": false,
          "line": {
           "color": "rgba(102, 102, 102)",
           "width": 1
          },
          "opacity": 0.8,
          "reversescale": true,
          "size": 10,
          "symbol": "circle"
         },
         "mode": "markers",
         "text": [
          "New York",
          "London",
          "Sydney",
          "Tokyo",
          "Rio de Janeiro"
         ],
         "type": "scattergeo"
        }
       ],
       "layout": {
        "geo": {
         "scope": "world",
         "showland": true
        },
        "template": {
         "data": {
          "bar": [
           {
            "error_x": {
             "color": "#2a3f5f"
            },
            "error_y": {
             "color": "#2a3f5f"
            },
            "marker": {
             "line": {
              "color": "#E5ECF6",
              "width": 0.5
             },
             "pattern": {
              "fillmode": "overlay",
              "size": 10,
              "solidity": 0.2
             }
            },
            "type": "bar"
           }
          ],
          "barpolar": [
           {
            "marker": {
             "line": {
              "color": "#E5ECF6",
              "width": 0.5
             },
             "pattern": {
              "fillmode": "overlay",
              "size": 10,
              "solidity": 0.2
             }
            },
            "type": "barpolar"
           }
          ],
          "carpet": [
           {
            "aaxis": {
             "endlinecolor": "#2a3f5f",
             "gridcolor": "white",
             "linecolor": "white",
             "minorgridcolor": "white",
             "startlinecolor": "#2a3f5f"
            },
            "baxis": {
             "endlinecolor": "#2a3f5f",
             "gridcolor": "white",
             "linecolor": "white",
             "minorgridcolor": "white",
             "startlinecolor": "#2a3f5f"
            },
            "type": "carpet"
           }
          ],
          "choropleth": [
           {
            "colorbar": {
             "outlinewidth": 0,
             "ticks": ""
            },
            "type": "choropleth"
           }
          ],
          "contour": [
           {
            "colorbar": {
             "outlinewidth": 0,
             "ticks": ""
            },
            "colorscale": [
             [
              0,
              "#0d0887"
             ],
             [
              0.1111111111111111,
              "#46039f"
             ],
             [
              0.2222222222222222,
              "#7201a8"
             ],
             [
              0.3333333333333333,
              "#9c179e"
             ],
             [
              0.4444444444444444,
              "#bd3786"
             ],
             [
              0.5555555555555556,
              "#d8576b"
             ],
             [
              0.6666666666666666,
              "#ed7953"
             ],
             [
              0.7777777777777778,
              "#fb9f3a"
             ],
             [
              0.8888888888888888,
              "#fdca26"
             ],
             [
              1,
              "#f0f921"
             ]
            ],
            "type": "contour"
           }
          ],
          "contourcarpet": [
           {
            "colorbar": {
             "outlinewidth": 0,
             "ticks": ""
            },
            "type": "contourcarpet"
           }
          ],
          "heatmap": [
           {
            "colorbar": {
             "outlinewidth": 0,
             "ticks": ""
            },
            "colorscale": [
             [
              0,
              "#0d0887"
             ],
             [
              0.1111111111111111,
              "#46039f"
             ],
             [
              0.2222222222222222,
              "#7201a8"
             ],
             [
              0.3333333333333333,
              "#9c179e"
             ],
             [
              0.4444444444444444,
              "#bd3786"
             ],
             [
              0.5555555555555556,
              "#d8576b"
             ],
             [
              0.6666666666666666,
              "#ed7953"
             ],
             [
              0.7777777777777778,
              "#fb9f3a"
             ],
             [
              0.8888888888888888,
              "#fdca26"
             ],
             [
              1,
              "#f0f921"
             ]
            ],
            "type": "heatmap"
           }
          ],
          "heatmapgl": [
           {
            "colorbar": {
             "outlinewidth": 0,
             "ticks": ""
            },
            "colorscale": [
             [
              0,
              "#0d0887"
             ],
             [
              0.1111111111111111,
              "#46039f"
             ],
             [
              0.2222222222222222,
              "#7201a8"
             ],
             [
              0.3333333333333333,
              "#9c179e"
             ],
             [
              0.4444444444444444,
              "#bd3786"
             ],
             [
              0.5555555555555556,
              "#d8576b"
             ],
             [
              0.6666666666666666,
              "#ed7953"
             ],
             [
              0.7777777777777778,
              "#fb9f3a"
             ],
             [
              0.8888888888888888,
              "#fdca26"
             ],
             [
              1,
              "#f0f921"
             ]
            ],
            "type": "heatmapgl"
           }
          ],
          "histogram": [
           {
            "marker": {
             "pattern": {
              "fillmode": "overlay",
              "size": 10,
              "solidity": 0.2
             }
            },
            "type": "histogram"
           }
          ],
          "histogram2d": [
           {
            "colorbar": {
             "outlinewidth": 0,
             "ticks": ""
            },
            "colorscale": [
             [
              0,
              "#0d0887"
             ],
             [
              0.1111111111111111,
              "#46039f"
             ],
             [
              0.2222222222222222,
              "#7201a8"
             ],
             [
              0.3333333333333333,
              "#9c179e"
             ],
             [
              0.4444444444444444,
              "#bd3786"
             ],
             [
              0.5555555555555556,
              "#d8576b"
             ],
             [
              0.6666666666666666,
              "#ed7953"
             ],
             [
              0.7777777777777778,
              "#fb9f3a"
             ],
             [
              0.8888888888888888,
              "#fdca26"
             ],
             [
              1,
              "#f0f921"
             ]
            ],
            "type": "histogram2d"
           }
          ],
          "histogram2dcontour": [
           {
            "colorbar": {
             "outlinewidth": 0,
             "ticks": ""
            },
            "colorscale": [
             [
              0,
              "#0d0887"
             ],
             [
              0.1111111111111111,
              "#46039f"
             ],
             [
              0.2222222222222222,
              "#7201a8"
             ],
             [
              0.3333333333333333,
              "#9c179e"
             ],
             [
              0.4444444444444444,
              "#bd3786"
             ],
             [
              0.5555555555555556,
              "#d8576b"
             ],
             [
              0.6666666666666666,
              "#ed7953"
             ],
             [
              0.7777777777777778,
              "#fb9f3a"
             ],
             [
              0.8888888888888888,
              "#fdca26"
             ],
             [
              1,
              "#f0f921"
             ]
            ],
            "type": "histogram2dcontour"
           }
          ],
          "mesh3d": [
           {
            "colorbar": {
             "outlinewidth": 0,
             "ticks": ""
            },
            "type": "mesh3d"
           }
          ],
          "parcoords": [
           {
            "line": {
             "colorbar": {
              "outlinewidth": 0,
              "ticks": ""
             }
            },
            "type": "parcoords"
           }
          ],
          "pie": [
           {
            "automargin": true,
            "type": "pie"
           }
          ],
          "scatter": [
           {
            "fillpattern": {
             "fillmode": "overlay",
             "size": 10,
             "solidity": 0.2
            },
            "type": "scatter"
           }
          ],
          "scatter3d": [
           {
            "line": {
             "colorbar": {
              "outlinewidth": 0,
              "ticks": ""
             }
            },
            "marker": {
             "colorbar": {
              "outlinewidth": 0,
              "ticks": ""
             }
            },
            "type": "scatter3d"
           }
          ],
          "scattercarpet": [
           {
            "marker": {
             "colorbar": {
              "outlinewidth": 0,
              "ticks": ""
             }
            },
            "type": "scattercarpet"
           }
          ],
          "scattergeo": [
           {
            "marker": {
             "colorbar": {
              "outlinewidth": 0,
              "ticks": ""
             }
            },
            "type": "scattergeo"
           }
          ],
          "scattergl": [
           {
            "marker": {
             "colorbar": {
              "outlinewidth": 0,
              "ticks": ""
             }
            },
            "type": "scattergl"
           }
          ],
          "scattermapbox": [
           {
            "marker": {
             "colorbar": {
              "outlinewidth": 0,
              "ticks": ""
             }
            },
            "type": "scattermapbox"
           }
          ],
          "scatterpolar": [
           {
            "marker": {
             "colorbar": {
              "outlinewidth": 0,
              "ticks": ""
             }
            },
            "type": "scatterpolar"
           }
          ],
          "scatterpolargl": [
           {
            "marker": {
             "colorbar": {
              "outlinewidth": 0,
              "ticks": ""
             }
            },
            "type": "scatterpolargl"
           }
          ],
          "scatterternary": [
           {
            "marker": {
             "colorbar": {
              "outlinewidth": 0,
              "ticks": ""
             }
            },
            "type": "scatterternary"
           }
          ],
          "surface": [
           {
            "colorbar": {
             "outlinewidth": 0,
             "ticks": ""
            },
            "colorscale": [
             [
              0,
              "#0d0887"
             ],
             [
              0.1111111111111111,
              "#46039f"
             ],
             [
              0.2222222222222222,
              "#7201a8"
             ],
             [
              0.3333333333333333,
              "#9c179e"
             ],
             [
              0.4444444444444444,
              "#bd3786"
             ],
             [
              0.5555555555555556,
              "#d8576b"
             ],
             [
              0.6666666666666666,
              "#ed7953"
             ],
             [
              0.7777777777777778,
              "#fb9f3a"
             ],
             [
              0.8888888888888888,
              "#fdca26"
             ],
             [
              1,
              "#f0f921"
             ]
            ],
            "type": "surface"
           }
          ],
          "table": [
           {
            "cells": {
             "fill": {
              "color": "#EBF0F8"
             },
             "line": {
              "color": "white"
             }
            },
            "header": {
             "fill": {
              "color": "#C8D4E3"
             },
             "line": {
              "color": "white"
             }
            },
            "type": "table"
           }
          ]
         },
         "layout": {
          "annotationdefaults": {
           "arrowcolor": "#2a3f5f",
           "arrowhead": 0,
           "arrowwidth": 1
          },
          "autotypenumbers": "strict",
          "coloraxis": {
           "colorbar": {
            "outlinewidth": 0,
            "ticks": ""
           }
          },
          "colorscale": {
           "diverging": [
            [
             0,
             "#8e0152"
            ],
            [
             0.1,
             "#c51b7d"
            ],
            [
             0.2,
             "#de77ae"
            ],
            [
             0.3,
             "#f1b6da"
            ],
            [
             0.4,
             "#fde0ef"
            ],
            [
             0.5,
             "#f7f7f7"
            ],
            [
             0.6,
             "#e6f5d0"
            ],
            [
             0.7,
             "#b8e186"
            ],
            [
             0.8,
             "#7fbc41"
            ],
            [
             0.9,
             "#4d9221"
            ],
            [
             1,
             "#276419"
            ]
           ],
           "sequential": [
            [
             0,
             "#0d0887"
            ],
            [
             0.1111111111111111,
             "#46039f"
            ],
            [
             0.2222222222222222,
             "#7201a8"
            ],
            [
             0.3333333333333333,
             "#9c179e"
            ],
            [
             0.4444444444444444,
             "#bd3786"
            ],
            [
             0.5555555555555556,
             "#d8576b"
            ],
            [
             0.6666666666666666,
             "#ed7953"
            ],
            [
             0.7777777777777778,
             "#fb9f3a"
            ],
            [
             0.8888888888888888,
             "#fdca26"
            ],
            [
             1,
             "#f0f921"
            ]
           ],
           "sequentialminus": [
            [
             0,
             "#0d0887"
            ],
            [
             0.1111111111111111,
             "#46039f"
            ],
            [
             0.2222222222222222,
             "#7201a8"
            ],
            [
             0.3333333333333333,
             "#9c179e"
            ],
            [
             0.4444444444444444,
             "#bd3786"
            ],
            [
             0.5555555555555556,
             "#d8576b"
            ],
            [
             0.6666666666666666,
             "#ed7953"
            ],
            [
             0.7777777777777778,
             "#fb9f3a"
            ],
            [
             0.8888888888888888,
             "#fdca26"
            ],
            [
             1,
             "#f0f921"
            ]
           ]
          },
          "colorway": [
           "#636efa",
           "#EF553B",
           "#00cc96",
           "#ab63fa",
           "#FFA15A",
           "#19d3f3",
           "#FF6692",
           "#B6E880",
           "#FF97FF",
           "#FECB52"
          ],
          "font": {
           "color": "#2a3f5f"
          },
          "geo": {
           "bgcolor": "white",
           "lakecolor": "white",
           "landcolor": "#E5ECF6",
           "showlakes": true,
           "showland": true,
           "subunitcolor": "white"
          },
          "hoverlabel": {
           "align": "left"
          },
          "hovermode": "closest",
          "mapbox": {
           "style": "light"
          },
          "paper_bgcolor": "white",
          "plot_bgcolor": "#E5ECF6",
          "polar": {
           "angularaxis": {
            "gridcolor": "white",
            "linecolor": "white",
            "ticks": ""
           },
           "bgcolor": "#E5ECF6",
           "radialaxis": {
            "gridcolor": "white",
            "linecolor": "white",
            "ticks": ""
           }
          },
          "scene": {
           "xaxis": {
            "backgroundcolor": "#E5ECF6",
            "gridcolor": "white",
            "gridwidth": 2,
            "linecolor": "white",
            "showbackground": true,
            "ticks": "",
            "zerolinecolor": "white"
           },
           "yaxis": {
            "backgroundcolor": "#E5ECF6",
            "gridcolor": "white",
            "gridwidth": 2,
            "linecolor": "white",
            "showbackground": true,
            "ticks": "",
            "zerolinecolor": "white"
           },
           "zaxis": {
            "backgroundcolor": "#E5ECF6",
            "gridcolor": "white",
            "gridwidth": 2,
            "linecolor": "white",
            "showbackground": true,
            "ticks": "",
            "zerolinecolor": "white"
           }
          },
          "shapedefaults": {
           "line": {
            "color": "#2a3f5f"
           }
          },
          "ternary": {
           "aaxis": {
            "gridcolor": "white",
            "linecolor": "white",
            "ticks": ""
           },
           "baxis": {
            "gridcolor": "white",
            "linecolor": "white",
            "ticks": ""
           },
           "bgcolor": "#E5ECF6",
           "caxis": {
            "gridcolor": "white",
            "linecolor": "white",
            "ticks": ""
           }
          },
          "title": {
           "x": 0.05
          },
          "xaxis": {
           "automargin": true,
           "gridcolor": "white",
           "linecolor": "white",
           "ticks": "",
           "title": {
            "standoff": 15
           },
           "zerolinecolor": "white",
           "zerolinewidth": 2
          },
          "yaxis": {
           "automargin": true,
           "gridcolor": "white",
           "linecolor": "white",
           "ticks": "",
           "title": {
            "standoff": 15
           },
           "zerolinecolor": "white",
           "zerolinewidth": 2
          }
         }
        },
        "title": {
         "text": "Cities on World Map using Plotly"
        }
       }
      }
     },
     "metadata": {},
     "output_type": "display_data"
    },
    {
     "ename": "ValueError",
     "evalue": "\nImage export using the \"kaleido\" engine requires the kaleido package,\nwhich can be installed using pip:\n    $ pip install -U kaleido\n",
     "output_type": "error",
     "traceback": [
      "\u001b[1;31m---------------------------------------------------------------------------\u001b[0m",
      "\u001b[1;31mValueError\u001b[0m                                Traceback (most recent call last)",
      "Cell \u001b[1;32mIn[34], line 53\u001b[0m\n\u001b[0;32m     50\u001b[0m fig\u001b[38;5;241m.\u001b[39mwrite_html(\u001b[38;5;124m\"\u001b[39m\u001b[38;5;124m./outputs/world_map_plotly.html\u001b[39m\u001b[38;5;124m\"\u001b[39m)\n\u001b[0;32m     52\u001b[0m \u001b[38;5;66;03m# save as png with 300 dpi\u001b[39;00m\n\u001b[1;32m---> 53\u001b[0m \u001b[43mfig\u001b[49m\u001b[38;5;241;43m.\u001b[39;49m\u001b[43mwrite_image\u001b[49m\u001b[43m(\u001b[49m\u001b[38;5;124;43m\"\u001b[39;49m\u001b[38;5;124;43m./outputs/world_map_plotly.png\u001b[39;49m\u001b[38;5;124;43m\"\u001b[39;49m\u001b[43m,\u001b[49m\u001b[43m \u001b[49m\u001b[43mscale\u001b[49m\u001b[38;5;241;43m=\u001b[39;49m\u001b[38;5;241;43m3\u001b[39;49m\u001b[43m)\u001b[49m\n",
      "File \u001b[1;32mc:\\Users\\khan\\miniconda3\\envs\\python_eda\\Lib\\site-packages\\plotly\\basedatatypes.py:3841\u001b[0m, in \u001b[0;36mBaseFigure.write_image\u001b[1;34m(self, *args, **kwargs)\u001b[0m\n\u001b[0;32m   3781\u001b[0m \u001b[38;5;250m\u001b[39m\u001b[38;5;124;03m\"\"\"\u001b[39;00m\n\u001b[0;32m   3782\u001b[0m \u001b[38;5;124;03mConvert a figure to a static image and write it to a file or writeable\u001b[39;00m\n\u001b[0;32m   3783\u001b[0m \u001b[38;5;124;03mobject\u001b[39;00m\n\u001b[1;32m   (...)\u001b[0m\n\u001b[0;32m   3837\u001b[0m \u001b[38;5;124;03mNone\u001b[39;00m\n\u001b[0;32m   3838\u001b[0m \u001b[38;5;124;03m\"\"\"\u001b[39;00m\n\u001b[0;32m   3839\u001b[0m \u001b[38;5;28;01mimport\u001b[39;00m \u001b[38;5;21;01mplotly\u001b[39;00m\u001b[38;5;21;01m.\u001b[39;00m\u001b[38;5;21;01mio\u001b[39;00m \u001b[38;5;28;01mas\u001b[39;00m \u001b[38;5;21;01mpio\u001b[39;00m\n\u001b[1;32m-> 3841\u001b[0m \u001b[38;5;28;01mreturn\u001b[39;00m \u001b[43mpio\u001b[49m\u001b[38;5;241;43m.\u001b[39;49m\u001b[43mwrite_image\u001b[49m\u001b[43m(\u001b[49m\u001b[38;5;28;43mself\u001b[39;49m\u001b[43m,\u001b[49m\u001b[43m \u001b[49m\u001b[38;5;241;43m*\u001b[39;49m\u001b[43margs\u001b[49m\u001b[43m,\u001b[49m\u001b[43m \u001b[49m\u001b[38;5;241;43m*\u001b[39;49m\u001b[38;5;241;43m*\u001b[39;49m\u001b[43mkwargs\u001b[49m\u001b[43m)\u001b[49m\n",
      "File \u001b[1;32mc:\\Users\\khan\\miniconda3\\envs\\python_eda\\Lib\\site-packages\\plotly\\io\\_kaleido.py:266\u001b[0m, in \u001b[0;36mwrite_image\u001b[1;34m(fig, file, format, scale, width, height, validate, engine)\u001b[0m\n\u001b[0;32m    250\u001b[0m             \u001b[38;5;28;01mraise\u001b[39;00m \u001b[38;5;167;01mValueError\u001b[39;00m(\n\u001b[0;32m    251\u001b[0m \u001b[38;5;250m                \u001b[39m\u001b[38;5;124;03m\"\"\"\u001b[39;00m\n\u001b[0;32m    252\u001b[0m \u001b[38;5;124;03mCannot infer image type from output path '{file}'.\u001b[39;00m\n\u001b[1;32m   (...)\u001b[0m\n\u001b[0;32m    260\u001b[0m                 )\n\u001b[0;32m    261\u001b[0m             )\n\u001b[0;32m    263\u001b[0m     \u001b[38;5;66;03m# Request image\u001b[39;00m\n\u001b[0;32m    264\u001b[0m     \u001b[38;5;66;03m# -------------\u001b[39;00m\n\u001b[0;32m    265\u001b[0m     \u001b[38;5;66;03m# Do this first so we don't create a file if image conversion fails\u001b[39;00m\n\u001b[1;32m--> 266\u001b[0m     img_data \u001b[38;5;241m=\u001b[39m \u001b[43mto_image\u001b[49m\u001b[43m(\u001b[49m\n\u001b[0;32m    267\u001b[0m \u001b[43m        \u001b[49m\u001b[43mfig\u001b[49m\u001b[43m,\u001b[49m\n\u001b[0;32m    268\u001b[0m \u001b[43m        \u001b[49m\u001b[38;5;28;43mformat\u001b[39;49m\u001b[38;5;241;43m=\u001b[39;49m\u001b[38;5;28;43mformat\u001b[39;49m\u001b[43m,\u001b[49m\n\u001b[0;32m    269\u001b[0m \u001b[43m        \u001b[49m\u001b[43mscale\u001b[49m\u001b[38;5;241;43m=\u001b[39;49m\u001b[43mscale\u001b[49m\u001b[43m,\u001b[49m\n\u001b[0;32m    270\u001b[0m \u001b[43m        \u001b[49m\u001b[43mwidth\u001b[49m\u001b[38;5;241;43m=\u001b[39;49m\u001b[43mwidth\u001b[49m\u001b[43m,\u001b[49m\n\u001b[0;32m    271\u001b[0m \u001b[43m        \u001b[49m\u001b[43mheight\u001b[49m\u001b[38;5;241;43m=\u001b[39;49m\u001b[43mheight\u001b[49m\u001b[43m,\u001b[49m\n\u001b[0;32m    272\u001b[0m \u001b[43m        \u001b[49m\u001b[43mvalidate\u001b[49m\u001b[38;5;241;43m=\u001b[39;49m\u001b[43mvalidate\u001b[49m\u001b[43m,\u001b[49m\n\u001b[0;32m    273\u001b[0m \u001b[43m        \u001b[49m\u001b[43mengine\u001b[49m\u001b[38;5;241;43m=\u001b[39;49m\u001b[43mengine\u001b[49m\u001b[43m,\u001b[49m\n\u001b[0;32m    274\u001b[0m \u001b[43m    \u001b[49m\u001b[43m)\u001b[49m\n\u001b[0;32m    276\u001b[0m     \u001b[38;5;66;03m# Open file\u001b[39;00m\n\u001b[0;32m    277\u001b[0m     \u001b[38;5;66;03m# ---------\u001b[39;00m\n\u001b[0;32m    278\u001b[0m     \u001b[38;5;28;01mif\u001b[39;00m path \u001b[38;5;129;01mis\u001b[39;00m \u001b[38;5;28;01mNone\u001b[39;00m:\n\u001b[0;32m    279\u001b[0m         \u001b[38;5;66;03m# We previously failed to make sense of `file` as a pathlib object.\u001b[39;00m\n\u001b[0;32m    280\u001b[0m         \u001b[38;5;66;03m# Attempt to write to `file` as an open file descriptor.\u001b[39;00m\n",
      "File \u001b[1;32mc:\\Users\\khan\\miniconda3\\envs\\python_eda\\Lib\\site-packages\\plotly\\io\\_kaleido.py:132\u001b[0m, in \u001b[0;36mto_image\u001b[1;34m(fig, format, width, height, scale, validate, engine)\u001b[0m\n\u001b[0;32m    130\u001b[0m     \u001b[38;5;66;03m# Raise informative error message if Kaleido is not installed\u001b[39;00m\n\u001b[0;32m    131\u001b[0m     \u001b[38;5;28;01mif\u001b[39;00m scope \u001b[38;5;129;01mis\u001b[39;00m \u001b[38;5;28;01mNone\u001b[39;00m:\n\u001b[1;32m--> 132\u001b[0m         \u001b[38;5;28;01mraise\u001b[39;00m \u001b[38;5;167;01mValueError\u001b[39;00m(\n\u001b[0;32m    133\u001b[0m \u001b[38;5;250m            \u001b[39m\u001b[38;5;124;03m\"\"\"\u001b[39;00m\n\u001b[0;32m    134\u001b[0m \u001b[38;5;124;03mImage export using the \"kaleido\" engine requires the kaleido package,\u001b[39;00m\n\u001b[0;32m    135\u001b[0m \u001b[38;5;124;03mwhich can be installed using pip:\u001b[39;00m\n\u001b[0;32m    136\u001b[0m \u001b[38;5;124;03m    $ pip install -U kaleido\u001b[39;00m\n\u001b[0;32m    137\u001b[0m \u001b[38;5;124;03m\"\"\"\u001b[39;00m\n\u001b[0;32m    138\u001b[0m         )\n\u001b[0;32m    140\u001b[0m     \u001b[38;5;66;03m# Validate figure\u001b[39;00m\n\u001b[0;32m    141\u001b[0m     \u001b[38;5;66;03m# ---------------\u001b[39;00m\n\u001b[0;32m    142\u001b[0m     fig_dict \u001b[38;5;241m=\u001b[39m validate_coerce_fig_to_dict(fig, validate)\n",
      "\u001b[1;31mValueError\u001b[0m: \nImage export using the \"kaleido\" engine requires the kaleido package,\nwhich can be installed using pip:\n    $ pip install -U kaleido\n"
     ]
    }
   ],
   "source": [
    "# Import required libraries\n",
    "import plotly.graph_objects as go\n",
    "\n",
    "# Data for cities and their coordinates\n",
    "cities = {\n",
    "    'New York': [40.7128, -74.0060],\n",
    "    'London': [51.5074, -0.1278],\n",
    "    'Sydney': [-33.8688, 151.2093],\n",
    "    'Tokyo': [35.6895, 139.6917],\n",
    "    'Rio de Janeiro': [-22.9068, -43.1729]\n",
    "}\n",
    "\n",
    "# Extracting latitudes, longitudes, and city names for plotting\n",
    "lats = [coords[0] for coords in cities.values()]\n",
    "longs = [coords[1] for coords in cities.values()]\n",
    "names = list(cities.keys())\n",
    "\n",
    "# Creating the Scattergeo plot\n",
    "fig = go.Figure(data=go.Scattergeo(\n",
    "    lon = longs,\n",
    "    lat = lats,\n",
    "    text = names,\n",
    "    mode = 'markers',\n",
    "    marker = dict(\n",
    "        size = 10,\n",
    "        opacity = 0.8,\n",
    "        reversescale = True,\n",
    "        autocolorscale = False,\n",
    "        symbol = 'circle',\n",
    "        line = dict(\n",
    "            width=1,\n",
    "            color='rgba(102, 102, 102)'\n",
    "        ),\n",
    "    )\n",
    "))\n",
    "\n",
    "# Setting the layout for the map\n",
    "fig.update_layout(\n",
    "    title = 'Cities on World Map using Plotly',\n",
    "    geo = dict(\n",
    "        scope='world',\n",
    "        showland = True,\n",
    "    )\n",
    ")\n",
    "\n",
    "# Display the map\n",
    "fig.show()\n",
    "\n",
    "# Save the map to an HTML file\n",
    "fig.write_html(\"./outputs/world_map_plotly.html\")\n",
    "\n",
    "# save as png with 300 dpi\n",
    "fig.write_image(\"./outputs/world_map_plotly.png\", scale=3)"
   ]
  },
  {
   "cell_type": "markdown",
   "metadata": {},
   "source": [
    "# 12. Time series"
   ]
  },
  {
   "cell_type": "code",
   "execution_count": 35,
   "metadata": {},
   "outputs": [
    {
     "data": {
      "application/vnd.plotly.v1+json": {
       "config": {
        "plotlyServerURL": "https://plot.ly"
       },
       "data": [
        {
         "mode": "lines+markers",
         "type": "scatter",
         "x": [
          "2022-01-01T00:00:00",
          "2022-01-02T00:00:00",
          "2022-01-03T00:00:00",
          "2022-01-04T00:00:00",
          "2022-01-05T00:00:00"
         ],
         "y": [
          10,
          15,
          7,
          12,
          10
         ]
        }
       ],
       "layout": {
        "template": {
         "data": {
          "bar": [
           {
            "error_x": {
             "color": "#2a3f5f"
            },
            "error_y": {
             "color": "#2a3f5f"
            },
            "marker": {
             "line": {
              "color": "#E5ECF6",
              "width": 0.5
             },
             "pattern": {
              "fillmode": "overlay",
              "size": 10,
              "solidity": 0.2
             }
            },
            "type": "bar"
           }
          ],
          "barpolar": [
           {
            "marker": {
             "line": {
              "color": "#E5ECF6",
              "width": 0.5
             },
             "pattern": {
              "fillmode": "overlay",
              "size": 10,
              "solidity": 0.2
             }
            },
            "type": "barpolar"
           }
          ],
          "carpet": [
           {
            "aaxis": {
             "endlinecolor": "#2a3f5f",
             "gridcolor": "white",
             "linecolor": "white",
             "minorgridcolor": "white",
             "startlinecolor": "#2a3f5f"
            },
            "baxis": {
             "endlinecolor": "#2a3f5f",
             "gridcolor": "white",
             "linecolor": "white",
             "minorgridcolor": "white",
             "startlinecolor": "#2a3f5f"
            },
            "type": "carpet"
           }
          ],
          "choropleth": [
           {
            "colorbar": {
             "outlinewidth": 0,
             "ticks": ""
            },
            "type": "choropleth"
           }
          ],
          "contour": [
           {
            "colorbar": {
             "outlinewidth": 0,
             "ticks": ""
            },
            "colorscale": [
             [
              0,
              "#0d0887"
             ],
             [
              0.1111111111111111,
              "#46039f"
             ],
             [
              0.2222222222222222,
              "#7201a8"
             ],
             [
              0.3333333333333333,
              "#9c179e"
             ],
             [
              0.4444444444444444,
              "#bd3786"
             ],
             [
              0.5555555555555556,
              "#d8576b"
             ],
             [
              0.6666666666666666,
              "#ed7953"
             ],
             [
              0.7777777777777778,
              "#fb9f3a"
             ],
             [
              0.8888888888888888,
              "#fdca26"
             ],
             [
              1,
              "#f0f921"
             ]
            ],
            "type": "contour"
           }
          ],
          "contourcarpet": [
           {
            "colorbar": {
             "outlinewidth": 0,
             "ticks": ""
            },
            "type": "contourcarpet"
           }
          ],
          "heatmap": [
           {
            "colorbar": {
             "outlinewidth": 0,
             "ticks": ""
            },
            "colorscale": [
             [
              0,
              "#0d0887"
             ],
             [
              0.1111111111111111,
              "#46039f"
             ],
             [
              0.2222222222222222,
              "#7201a8"
             ],
             [
              0.3333333333333333,
              "#9c179e"
             ],
             [
              0.4444444444444444,
              "#bd3786"
             ],
             [
              0.5555555555555556,
              "#d8576b"
             ],
             [
              0.6666666666666666,
              "#ed7953"
             ],
             [
              0.7777777777777778,
              "#fb9f3a"
             ],
             [
              0.8888888888888888,
              "#fdca26"
             ],
             [
              1,
              "#f0f921"
             ]
            ],
            "type": "heatmap"
           }
          ],
          "heatmapgl": [
           {
            "colorbar": {
             "outlinewidth": 0,
             "ticks": ""
            },
            "colorscale": [
             [
              0,
              "#0d0887"
             ],
             [
              0.1111111111111111,
              "#46039f"
             ],
             [
              0.2222222222222222,
              "#7201a8"
             ],
             [
              0.3333333333333333,
              "#9c179e"
             ],
             [
              0.4444444444444444,
              "#bd3786"
             ],
             [
              0.5555555555555556,
              "#d8576b"
             ],
             [
              0.6666666666666666,
              "#ed7953"
             ],
             [
              0.7777777777777778,
              "#fb9f3a"
             ],
             [
              0.8888888888888888,
              "#fdca26"
             ],
             [
              1,
              "#f0f921"
             ]
            ],
            "type": "heatmapgl"
           }
          ],
          "histogram": [
           {
            "marker": {
             "pattern": {
              "fillmode": "overlay",
              "size": 10,
              "solidity": 0.2
             }
            },
            "type": "histogram"
           }
          ],
          "histogram2d": [
           {
            "colorbar": {
             "outlinewidth": 0,
             "ticks": ""
            },
            "colorscale": [
             [
              0,
              "#0d0887"
             ],
             [
              0.1111111111111111,
              "#46039f"
             ],
             [
              0.2222222222222222,
              "#7201a8"
             ],
             [
              0.3333333333333333,
              "#9c179e"
             ],
             [
              0.4444444444444444,
              "#bd3786"
             ],
             [
              0.5555555555555556,
              "#d8576b"
             ],
             [
              0.6666666666666666,
              "#ed7953"
             ],
             [
              0.7777777777777778,
              "#fb9f3a"
             ],
             [
              0.8888888888888888,
              "#fdca26"
             ],
             [
              1,
              "#f0f921"
             ]
            ],
            "type": "histogram2d"
           }
          ],
          "histogram2dcontour": [
           {
            "colorbar": {
             "outlinewidth": 0,
             "ticks": ""
            },
            "colorscale": [
             [
              0,
              "#0d0887"
             ],
             [
              0.1111111111111111,
              "#46039f"
             ],
             [
              0.2222222222222222,
              "#7201a8"
             ],
             [
              0.3333333333333333,
              "#9c179e"
             ],
             [
              0.4444444444444444,
              "#bd3786"
             ],
             [
              0.5555555555555556,
              "#d8576b"
             ],
             [
              0.6666666666666666,
              "#ed7953"
             ],
             [
              0.7777777777777778,
              "#fb9f3a"
             ],
             [
              0.8888888888888888,
              "#fdca26"
             ],
             [
              1,
              "#f0f921"
             ]
            ],
            "type": "histogram2dcontour"
           }
          ],
          "mesh3d": [
           {
            "colorbar": {
             "outlinewidth": 0,
             "ticks": ""
            },
            "type": "mesh3d"
           }
          ],
          "parcoords": [
           {
            "line": {
             "colorbar": {
              "outlinewidth": 0,
              "ticks": ""
             }
            },
            "type": "parcoords"
           }
          ],
          "pie": [
           {
            "automargin": true,
            "type": "pie"
           }
          ],
          "scatter": [
           {
            "fillpattern": {
             "fillmode": "overlay",
             "size": 10,
             "solidity": 0.2
            },
            "type": "scatter"
           }
          ],
          "scatter3d": [
           {
            "line": {
             "colorbar": {
              "outlinewidth": 0,
              "ticks": ""
             }
            },
            "marker": {
             "colorbar": {
              "outlinewidth": 0,
              "ticks": ""
             }
            },
            "type": "scatter3d"
           }
          ],
          "scattercarpet": [
           {
            "marker": {
             "colorbar": {
              "outlinewidth": 0,
              "ticks": ""
             }
            },
            "type": "scattercarpet"
           }
          ],
          "scattergeo": [
           {
            "marker": {
             "colorbar": {
              "outlinewidth": 0,
              "ticks": ""
             }
            },
            "type": "scattergeo"
           }
          ],
          "scattergl": [
           {
            "marker": {
             "colorbar": {
              "outlinewidth": 0,
              "ticks": ""
             }
            },
            "type": "scattergl"
           }
          ],
          "scattermapbox": [
           {
            "marker": {
             "colorbar": {
              "outlinewidth": 0,
              "ticks": ""
             }
            },
            "type": "scattermapbox"
           }
          ],
          "scatterpolar": [
           {
            "marker": {
             "colorbar": {
              "outlinewidth": 0,
              "ticks": ""
             }
            },
            "type": "scatterpolar"
           }
          ],
          "scatterpolargl": [
           {
            "marker": {
             "colorbar": {
              "outlinewidth": 0,
              "ticks": ""
             }
            },
            "type": "scatterpolargl"
           }
          ],
          "scatterternary": [
           {
            "marker": {
             "colorbar": {
              "outlinewidth": 0,
              "ticks": ""
             }
            },
            "type": "scatterternary"
           }
          ],
          "surface": [
           {
            "colorbar": {
             "outlinewidth": 0,
             "ticks": ""
            },
            "colorscale": [
             [
              0,
              "#0d0887"
             ],
             [
              0.1111111111111111,
              "#46039f"
             ],
             [
              0.2222222222222222,
              "#7201a8"
             ],
             [
              0.3333333333333333,
              "#9c179e"
             ],
             [
              0.4444444444444444,
              "#bd3786"
             ],
             [
              0.5555555555555556,
              "#d8576b"
             ],
             [
              0.6666666666666666,
              "#ed7953"
             ],
             [
              0.7777777777777778,
              "#fb9f3a"
             ],
             [
              0.8888888888888888,
              "#fdca26"
             ],
             [
              1,
              "#f0f921"
             ]
            ],
            "type": "surface"
           }
          ],
          "table": [
           {
            "cells": {
             "fill": {
              "color": "#EBF0F8"
             },
             "line": {
              "color": "white"
             }
            },
            "header": {
             "fill": {
              "color": "#C8D4E3"
             },
             "line": {
              "color": "white"
             }
            },
            "type": "table"
           }
          ]
         },
         "layout": {
          "annotationdefaults": {
           "arrowcolor": "#2a3f5f",
           "arrowhead": 0,
           "arrowwidth": 1
          },
          "autotypenumbers": "strict",
          "coloraxis": {
           "colorbar": {
            "outlinewidth": 0,
            "ticks": ""
           }
          },
          "colorscale": {
           "diverging": [
            [
             0,
             "#8e0152"
            ],
            [
             0.1,
             "#c51b7d"
            ],
            [
             0.2,
             "#de77ae"
            ],
            [
             0.3,
             "#f1b6da"
            ],
            [
             0.4,
             "#fde0ef"
            ],
            [
             0.5,
             "#f7f7f7"
            ],
            [
             0.6,
             "#e6f5d0"
            ],
            [
             0.7,
             "#b8e186"
            ],
            [
             0.8,
             "#7fbc41"
            ],
            [
             0.9,
             "#4d9221"
            ],
            [
             1,
             "#276419"
            ]
           ],
           "sequential": [
            [
             0,
             "#0d0887"
            ],
            [
             0.1111111111111111,
             "#46039f"
            ],
            [
             0.2222222222222222,
             "#7201a8"
            ],
            [
             0.3333333333333333,
             "#9c179e"
            ],
            [
             0.4444444444444444,
             "#bd3786"
            ],
            [
             0.5555555555555556,
             "#d8576b"
            ],
            [
             0.6666666666666666,
             "#ed7953"
            ],
            [
             0.7777777777777778,
             "#fb9f3a"
            ],
            [
             0.8888888888888888,
             "#fdca26"
            ],
            [
             1,
             "#f0f921"
            ]
           ],
           "sequentialminus": [
            [
             0,
             "#0d0887"
            ],
            [
             0.1111111111111111,
             "#46039f"
            ],
            [
             0.2222222222222222,
             "#7201a8"
            ],
            [
             0.3333333333333333,
             "#9c179e"
            ],
            [
             0.4444444444444444,
             "#bd3786"
            ],
            [
             0.5555555555555556,
             "#d8576b"
            ],
            [
             0.6666666666666666,
             "#ed7953"
            ],
            [
             0.7777777777777778,
             "#fb9f3a"
            ],
            [
             0.8888888888888888,
             "#fdca26"
            ],
            [
             1,
             "#f0f921"
            ]
           ]
          },
          "colorway": [
           "#636efa",
           "#EF553B",
           "#00cc96",
           "#ab63fa",
           "#FFA15A",
           "#19d3f3",
           "#FF6692",
           "#B6E880",
           "#FF97FF",
           "#FECB52"
          ],
          "font": {
           "color": "#2a3f5f"
          },
          "geo": {
           "bgcolor": "white",
           "lakecolor": "white",
           "landcolor": "#E5ECF6",
           "showlakes": true,
           "showland": true,
           "subunitcolor": "white"
          },
          "hoverlabel": {
           "align": "left"
          },
          "hovermode": "closest",
          "mapbox": {
           "style": "light"
          },
          "paper_bgcolor": "white",
          "plot_bgcolor": "#E5ECF6",
          "polar": {
           "angularaxis": {
            "gridcolor": "white",
            "linecolor": "white",
            "ticks": ""
           },
           "bgcolor": "#E5ECF6",
           "radialaxis": {
            "gridcolor": "white",
            "linecolor": "white",
            "ticks": ""
           }
          },
          "scene": {
           "xaxis": {
            "backgroundcolor": "#E5ECF6",
            "gridcolor": "white",
            "gridwidth": 2,
            "linecolor": "white",
            "showbackground": true,
            "ticks": "",
            "zerolinecolor": "white"
           },
           "yaxis": {
            "backgroundcolor": "#E5ECF6",
            "gridcolor": "white",
            "gridwidth": 2,
            "linecolor": "white",
            "showbackground": true,
            "ticks": "",
            "zerolinecolor": "white"
           },
           "zaxis": {
            "backgroundcolor": "#E5ECF6",
            "gridcolor": "white",
            "gridwidth": 2,
            "linecolor": "white",
            "showbackground": true,
            "ticks": "",
            "zerolinecolor": "white"
           }
          },
          "shapedefaults": {
           "line": {
            "color": "#2a3f5f"
           }
          },
          "ternary": {
           "aaxis": {
            "gridcolor": "white",
            "linecolor": "white",
            "ticks": ""
           },
           "baxis": {
            "gridcolor": "white",
            "linecolor": "white",
            "ticks": ""
           },
           "bgcolor": "#E5ECF6",
           "caxis": {
            "gridcolor": "white",
            "linecolor": "white",
            "ticks": ""
           }
          },
          "title": {
           "x": 0.05
          },
          "xaxis": {
           "automargin": true,
           "gridcolor": "white",
           "linecolor": "white",
           "ticks": "",
           "title": {
            "standoff": 15
           },
           "zerolinecolor": "white",
           "zerolinewidth": 2
          },
          "yaxis": {
           "automargin": true,
           "gridcolor": "white",
           "linecolor": "white",
           "ticks": "",
           "title": {
            "standoff": 15
           },
           "zerolinecolor": "white",
           "zerolinewidth": 2
          }
         }
        },
        "title": {
         "text": "Time Series Plot using Plotly"
        },
        "xaxis": {
         "showgrid": false,
         "showline": true,
         "showticklabels": true,
         "title": {
          "text": "Date"
         }
        },
        "yaxis": {
         "showgrid": true,
         "showline": false,
         "showticklabels": true,
         "title": {
          "text": "Value"
         },
         "zeroline": false
        }
       }
      }
     },
     "metadata": {},
     "output_type": "display_data"
    },
    {
     "ename": "ValueError",
     "evalue": "\nImage export using the \"kaleido\" engine requires the kaleido package,\nwhich can be installed using pip:\n    $ pip install -U kaleido\n",
     "output_type": "error",
     "traceback": [
      "\u001b[1;31m---------------------------------------------------------------------------\u001b[0m",
      "\u001b[1;31mValueError\u001b[0m                                Traceback (most recent call last)",
      "Cell \u001b[1;32mIn[35], line 36\u001b[0m\n\u001b[0;32m     33\u001b[0m fig\u001b[38;5;241m.\u001b[39mwrite_html(\u001b[38;5;124m\"\u001b[39m\u001b[38;5;124m./outputs/time_series_plotly.html\u001b[39m\u001b[38;5;124m\"\u001b[39m)\n\u001b[0;32m     35\u001b[0m \u001b[38;5;66;03m# save as png\u001b[39;00m\n\u001b[1;32m---> 36\u001b[0m \u001b[43mfig\u001b[49m\u001b[38;5;241;43m.\u001b[39;49m\u001b[43mwrite_image\u001b[49m\u001b[43m(\u001b[49m\u001b[38;5;124;43m\"\u001b[39;49m\u001b[38;5;124;43m./outputs/time_series_plotly.png\u001b[39;49m\u001b[38;5;124;43m\"\u001b[39;49m\u001b[43m)\u001b[49m\n",
      "File \u001b[1;32mc:\\Users\\khan\\miniconda3\\envs\\python_eda\\Lib\\site-packages\\plotly\\basedatatypes.py:3841\u001b[0m, in \u001b[0;36mBaseFigure.write_image\u001b[1;34m(self, *args, **kwargs)\u001b[0m\n\u001b[0;32m   3781\u001b[0m \u001b[38;5;250m\u001b[39m\u001b[38;5;124;03m\"\"\"\u001b[39;00m\n\u001b[0;32m   3782\u001b[0m \u001b[38;5;124;03mConvert a figure to a static image and write it to a file or writeable\u001b[39;00m\n\u001b[0;32m   3783\u001b[0m \u001b[38;5;124;03mobject\u001b[39;00m\n\u001b[1;32m   (...)\u001b[0m\n\u001b[0;32m   3837\u001b[0m \u001b[38;5;124;03mNone\u001b[39;00m\n\u001b[0;32m   3838\u001b[0m \u001b[38;5;124;03m\"\"\"\u001b[39;00m\n\u001b[0;32m   3839\u001b[0m \u001b[38;5;28;01mimport\u001b[39;00m \u001b[38;5;21;01mplotly\u001b[39;00m\u001b[38;5;21;01m.\u001b[39;00m\u001b[38;5;21;01mio\u001b[39;00m \u001b[38;5;28;01mas\u001b[39;00m \u001b[38;5;21;01mpio\u001b[39;00m\n\u001b[1;32m-> 3841\u001b[0m \u001b[38;5;28;01mreturn\u001b[39;00m \u001b[43mpio\u001b[49m\u001b[38;5;241;43m.\u001b[39;49m\u001b[43mwrite_image\u001b[49m\u001b[43m(\u001b[49m\u001b[38;5;28;43mself\u001b[39;49m\u001b[43m,\u001b[49m\u001b[43m \u001b[49m\u001b[38;5;241;43m*\u001b[39;49m\u001b[43margs\u001b[49m\u001b[43m,\u001b[49m\u001b[43m \u001b[49m\u001b[38;5;241;43m*\u001b[39;49m\u001b[38;5;241;43m*\u001b[39;49m\u001b[43mkwargs\u001b[49m\u001b[43m)\u001b[49m\n",
      "File \u001b[1;32mc:\\Users\\khan\\miniconda3\\envs\\python_eda\\Lib\\site-packages\\plotly\\io\\_kaleido.py:266\u001b[0m, in \u001b[0;36mwrite_image\u001b[1;34m(fig, file, format, scale, width, height, validate, engine)\u001b[0m\n\u001b[0;32m    250\u001b[0m             \u001b[38;5;28;01mraise\u001b[39;00m \u001b[38;5;167;01mValueError\u001b[39;00m(\n\u001b[0;32m    251\u001b[0m \u001b[38;5;250m                \u001b[39m\u001b[38;5;124;03m\"\"\"\u001b[39;00m\n\u001b[0;32m    252\u001b[0m \u001b[38;5;124;03mCannot infer image type from output path '{file}'.\u001b[39;00m\n\u001b[1;32m   (...)\u001b[0m\n\u001b[0;32m    260\u001b[0m                 )\n\u001b[0;32m    261\u001b[0m             )\n\u001b[0;32m    263\u001b[0m     \u001b[38;5;66;03m# Request image\u001b[39;00m\n\u001b[0;32m    264\u001b[0m     \u001b[38;5;66;03m# -------------\u001b[39;00m\n\u001b[0;32m    265\u001b[0m     \u001b[38;5;66;03m# Do this first so we don't create a file if image conversion fails\u001b[39;00m\n\u001b[1;32m--> 266\u001b[0m     img_data \u001b[38;5;241m=\u001b[39m \u001b[43mto_image\u001b[49m\u001b[43m(\u001b[49m\n\u001b[0;32m    267\u001b[0m \u001b[43m        \u001b[49m\u001b[43mfig\u001b[49m\u001b[43m,\u001b[49m\n\u001b[0;32m    268\u001b[0m \u001b[43m        \u001b[49m\u001b[38;5;28;43mformat\u001b[39;49m\u001b[38;5;241;43m=\u001b[39;49m\u001b[38;5;28;43mformat\u001b[39;49m\u001b[43m,\u001b[49m\n\u001b[0;32m    269\u001b[0m \u001b[43m        \u001b[49m\u001b[43mscale\u001b[49m\u001b[38;5;241;43m=\u001b[39;49m\u001b[43mscale\u001b[49m\u001b[43m,\u001b[49m\n\u001b[0;32m    270\u001b[0m \u001b[43m        \u001b[49m\u001b[43mwidth\u001b[49m\u001b[38;5;241;43m=\u001b[39;49m\u001b[43mwidth\u001b[49m\u001b[43m,\u001b[49m\n\u001b[0;32m    271\u001b[0m \u001b[43m        \u001b[49m\u001b[43mheight\u001b[49m\u001b[38;5;241;43m=\u001b[39;49m\u001b[43mheight\u001b[49m\u001b[43m,\u001b[49m\n\u001b[0;32m    272\u001b[0m \u001b[43m        \u001b[49m\u001b[43mvalidate\u001b[49m\u001b[38;5;241;43m=\u001b[39;49m\u001b[43mvalidate\u001b[49m\u001b[43m,\u001b[49m\n\u001b[0;32m    273\u001b[0m \u001b[43m        \u001b[49m\u001b[43mengine\u001b[49m\u001b[38;5;241;43m=\u001b[39;49m\u001b[43mengine\u001b[49m\u001b[43m,\u001b[49m\n\u001b[0;32m    274\u001b[0m \u001b[43m    \u001b[49m\u001b[43m)\u001b[49m\n\u001b[0;32m    276\u001b[0m     \u001b[38;5;66;03m# Open file\u001b[39;00m\n\u001b[0;32m    277\u001b[0m     \u001b[38;5;66;03m# ---------\u001b[39;00m\n\u001b[0;32m    278\u001b[0m     \u001b[38;5;28;01mif\u001b[39;00m path \u001b[38;5;129;01mis\u001b[39;00m \u001b[38;5;28;01mNone\u001b[39;00m:\n\u001b[0;32m    279\u001b[0m         \u001b[38;5;66;03m# We previously failed to make sense of `file` as a pathlib object.\u001b[39;00m\n\u001b[0;32m    280\u001b[0m         \u001b[38;5;66;03m# Attempt to write to `file` as an open file descriptor.\u001b[39;00m\n",
      "File \u001b[1;32mc:\\Users\\khan\\miniconda3\\envs\\python_eda\\Lib\\site-packages\\plotly\\io\\_kaleido.py:132\u001b[0m, in \u001b[0;36mto_image\u001b[1;34m(fig, format, width, height, scale, validate, engine)\u001b[0m\n\u001b[0;32m    130\u001b[0m     \u001b[38;5;66;03m# Raise informative error message if Kaleido is not installed\u001b[39;00m\n\u001b[0;32m    131\u001b[0m     \u001b[38;5;28;01mif\u001b[39;00m scope \u001b[38;5;129;01mis\u001b[39;00m \u001b[38;5;28;01mNone\u001b[39;00m:\n\u001b[1;32m--> 132\u001b[0m         \u001b[38;5;28;01mraise\u001b[39;00m \u001b[38;5;167;01mValueError\u001b[39;00m(\n\u001b[0;32m    133\u001b[0m \u001b[38;5;250m            \u001b[39m\u001b[38;5;124;03m\"\"\"\u001b[39;00m\n\u001b[0;32m    134\u001b[0m \u001b[38;5;124;03mImage export using the \"kaleido\" engine requires the kaleido package,\u001b[39;00m\n\u001b[0;32m    135\u001b[0m \u001b[38;5;124;03mwhich can be installed using pip:\u001b[39;00m\n\u001b[0;32m    136\u001b[0m \u001b[38;5;124;03m    $ pip install -U kaleido\u001b[39;00m\n\u001b[0;32m    137\u001b[0m \u001b[38;5;124;03m\"\"\"\u001b[39;00m\n\u001b[0;32m    138\u001b[0m         )\n\u001b[0;32m    140\u001b[0m     \u001b[38;5;66;03m# Validate figure\u001b[39;00m\n\u001b[0;32m    141\u001b[0m     \u001b[38;5;66;03m# ---------------\u001b[39;00m\n\u001b[0;32m    142\u001b[0m     fig_dict \u001b[38;5;241m=\u001b[39m validate_coerce_fig_to_dict(fig, validate)\n",
      "\u001b[1;31mValueError\u001b[0m: \nImage export using the \"kaleido\" engine requires the kaleido package,\nwhich can be installed using pip:\n    $ pip install -U kaleido\n"
     ]
    }
   ],
   "source": [
    "# Import required libraries\n",
    "import plotly.graph_objects as go\n",
    "import pandas as pd\n",
    "\n",
    "# Sample time series data\n",
    "data = {\n",
    "    'Date': ['2022-01-01', '2022-01-02', '2022-01-03', '2022-01-04', '2022-01-05'],\n",
    "    'Value': [10, 15, 7, 12, 10]\n",
    "}\n",
    "\n",
    "# Create a pandas dataframe from the dictionary\n",
    "df = pd.DataFrame(data)\n",
    "\n",
    "# Convert the 'Date' column to a datetime object for better handling\n",
    "df['Date'] = pd.to_datetime(df['Date'])\n",
    "\n",
    "# Creating the time series plot\n",
    "fig = go.Figure(data=go.Scatter(x=df['Date'], y=df['Value'], mode='lines+markers'))\n",
    "\n",
    "# Setting the layout for the plot\n",
    "fig.update_layout(\n",
    "    title='Time Series Plot using Plotly',\n",
    "    xaxis_title='Date',\n",
    "    yaxis_title='Value',\n",
    "    xaxis=dict(showline=True, showgrid=False, showticklabels=True),\n",
    "    yaxis=dict(zeroline=False, showgrid=True, showline=False, showticklabels=True),\n",
    ")\n",
    "\n",
    "# Display the plot\n",
    "fig.show()\n",
    "\n",
    "# Save the plot to an HTML file\n",
    "fig.write_html(\"./outputs/time_series_plotly.html\")\n",
    "\n",
    "# save as png\n",
    "fig.write_image(\"./outputs/time_series_plotly.png\")"
   ]
  },
  {
   "cell_type": "markdown",
   "metadata": {},
   "source": [
    "# 13. Bubble Chart"
   ]
  },
  {
   "cell_type": "code",
   "execution_count": 36,
   "metadata": {},
   "outputs": [
    {
     "data": {
      "application/vnd.plotly.v1+json": {
       "config": {
        "plotlyServerURL": "https://plot.ly"
       },
       "data": [
        {
         "marker": {
          "color": [
           15,
           25,
           35,
           45,
           55
          ],
          "colorbar": {
           "title": {
            "text": "Colorbar"
           }
          },
          "colorscale": [
           [
            0,
            "#440154"
           ],
           [
            0.1111111111111111,
            "#482878"
           ],
           [
            0.2222222222222222,
            "#3e4989"
           ],
           [
            0.3333333333333333,
            "#31688e"
           ],
           [
            0.4444444444444444,
            "#26828e"
           ],
           [
            0.5555555555555556,
            "#1f9e89"
           ],
           [
            0.6666666666666666,
            "#35b779"
           ],
           [
            0.7777777777777778,
            "#6ece58"
           ],
           [
            0.8888888888888888,
            "#b5de2b"
           ],
           [
            1,
            "#fde725"
           ]
          ],
          "opacity": 0.6,
          "size": [
           30,
           60,
           90,
           120,
           150
          ],
          "sizemode": "diameter"
         },
         "mode": "markers",
         "text": [
          "A",
          "B",
          "C",
          "D",
          "E"
         ],
         "type": "scatter",
         "x": [
          10,
          20,
          30,
          40,
          50
         ],
         "y": [
          15,
          25,
          35,
          45,
          55
         ]
        }
       ],
       "layout": {
        "showlegend": false,
        "template": {
         "data": {
          "bar": [
           {
            "error_x": {
             "color": "#2a3f5f"
            },
            "error_y": {
             "color": "#2a3f5f"
            },
            "marker": {
             "line": {
              "color": "#E5ECF6",
              "width": 0.5
             },
             "pattern": {
              "fillmode": "overlay",
              "size": 10,
              "solidity": 0.2
             }
            },
            "type": "bar"
           }
          ],
          "barpolar": [
           {
            "marker": {
             "line": {
              "color": "#E5ECF6",
              "width": 0.5
             },
             "pattern": {
              "fillmode": "overlay",
              "size": 10,
              "solidity": 0.2
             }
            },
            "type": "barpolar"
           }
          ],
          "carpet": [
           {
            "aaxis": {
             "endlinecolor": "#2a3f5f",
             "gridcolor": "white",
             "linecolor": "white",
             "minorgridcolor": "white",
             "startlinecolor": "#2a3f5f"
            },
            "baxis": {
             "endlinecolor": "#2a3f5f",
             "gridcolor": "white",
             "linecolor": "white",
             "minorgridcolor": "white",
             "startlinecolor": "#2a3f5f"
            },
            "type": "carpet"
           }
          ],
          "choropleth": [
           {
            "colorbar": {
             "outlinewidth": 0,
             "ticks": ""
            },
            "type": "choropleth"
           }
          ],
          "contour": [
           {
            "colorbar": {
             "outlinewidth": 0,
             "ticks": ""
            },
            "colorscale": [
             [
              0,
              "#0d0887"
             ],
             [
              0.1111111111111111,
              "#46039f"
             ],
             [
              0.2222222222222222,
              "#7201a8"
             ],
             [
              0.3333333333333333,
              "#9c179e"
             ],
             [
              0.4444444444444444,
              "#bd3786"
             ],
             [
              0.5555555555555556,
              "#d8576b"
             ],
             [
              0.6666666666666666,
              "#ed7953"
             ],
             [
              0.7777777777777778,
              "#fb9f3a"
             ],
             [
              0.8888888888888888,
              "#fdca26"
             ],
             [
              1,
              "#f0f921"
             ]
            ],
            "type": "contour"
           }
          ],
          "contourcarpet": [
           {
            "colorbar": {
             "outlinewidth": 0,
             "ticks": ""
            },
            "type": "contourcarpet"
           }
          ],
          "heatmap": [
           {
            "colorbar": {
             "outlinewidth": 0,
             "ticks": ""
            },
            "colorscale": [
             [
              0,
              "#0d0887"
             ],
             [
              0.1111111111111111,
              "#46039f"
             ],
             [
              0.2222222222222222,
              "#7201a8"
             ],
             [
              0.3333333333333333,
              "#9c179e"
             ],
             [
              0.4444444444444444,
              "#bd3786"
             ],
             [
              0.5555555555555556,
              "#d8576b"
             ],
             [
              0.6666666666666666,
              "#ed7953"
             ],
             [
              0.7777777777777778,
              "#fb9f3a"
             ],
             [
              0.8888888888888888,
              "#fdca26"
             ],
             [
              1,
              "#f0f921"
             ]
            ],
            "type": "heatmap"
           }
          ],
          "heatmapgl": [
           {
            "colorbar": {
             "outlinewidth": 0,
             "ticks": ""
            },
            "colorscale": [
             [
              0,
              "#0d0887"
             ],
             [
              0.1111111111111111,
              "#46039f"
             ],
             [
              0.2222222222222222,
              "#7201a8"
             ],
             [
              0.3333333333333333,
              "#9c179e"
             ],
             [
              0.4444444444444444,
              "#bd3786"
             ],
             [
              0.5555555555555556,
              "#d8576b"
             ],
             [
              0.6666666666666666,
              "#ed7953"
             ],
             [
              0.7777777777777778,
              "#fb9f3a"
             ],
             [
              0.8888888888888888,
              "#fdca26"
             ],
             [
              1,
              "#f0f921"
             ]
            ],
            "type": "heatmapgl"
           }
          ],
          "histogram": [
           {
            "marker": {
             "pattern": {
              "fillmode": "overlay",
              "size": 10,
              "solidity": 0.2
             }
            },
            "type": "histogram"
           }
          ],
          "histogram2d": [
           {
            "colorbar": {
             "outlinewidth": 0,
             "ticks": ""
            },
            "colorscale": [
             [
              0,
              "#0d0887"
             ],
             [
              0.1111111111111111,
              "#46039f"
             ],
             [
              0.2222222222222222,
              "#7201a8"
             ],
             [
              0.3333333333333333,
              "#9c179e"
             ],
             [
              0.4444444444444444,
              "#bd3786"
             ],
             [
              0.5555555555555556,
              "#d8576b"
             ],
             [
              0.6666666666666666,
              "#ed7953"
             ],
             [
              0.7777777777777778,
              "#fb9f3a"
             ],
             [
              0.8888888888888888,
              "#fdca26"
             ],
             [
              1,
              "#f0f921"
             ]
            ],
            "type": "histogram2d"
           }
          ],
          "histogram2dcontour": [
           {
            "colorbar": {
             "outlinewidth": 0,
             "ticks": ""
            },
            "colorscale": [
             [
              0,
              "#0d0887"
             ],
             [
              0.1111111111111111,
              "#46039f"
             ],
             [
              0.2222222222222222,
              "#7201a8"
             ],
             [
              0.3333333333333333,
              "#9c179e"
             ],
             [
              0.4444444444444444,
              "#bd3786"
             ],
             [
              0.5555555555555556,
              "#d8576b"
             ],
             [
              0.6666666666666666,
              "#ed7953"
             ],
             [
              0.7777777777777778,
              "#fb9f3a"
             ],
             [
              0.8888888888888888,
              "#fdca26"
             ],
             [
              1,
              "#f0f921"
             ]
            ],
            "type": "histogram2dcontour"
           }
          ],
          "mesh3d": [
           {
            "colorbar": {
             "outlinewidth": 0,
             "ticks": ""
            },
            "type": "mesh3d"
           }
          ],
          "parcoords": [
           {
            "line": {
             "colorbar": {
              "outlinewidth": 0,
              "ticks": ""
             }
            },
            "type": "parcoords"
           }
          ],
          "pie": [
           {
            "automargin": true,
            "type": "pie"
           }
          ],
          "scatter": [
           {
            "fillpattern": {
             "fillmode": "overlay",
             "size": 10,
             "solidity": 0.2
            },
            "type": "scatter"
           }
          ],
          "scatter3d": [
           {
            "line": {
             "colorbar": {
              "outlinewidth": 0,
              "ticks": ""
             }
            },
            "marker": {
             "colorbar": {
              "outlinewidth": 0,
              "ticks": ""
             }
            },
            "type": "scatter3d"
           }
          ],
          "scattercarpet": [
           {
            "marker": {
             "colorbar": {
              "outlinewidth": 0,
              "ticks": ""
             }
            },
            "type": "scattercarpet"
           }
          ],
          "scattergeo": [
           {
            "marker": {
             "colorbar": {
              "outlinewidth": 0,
              "ticks": ""
             }
            },
            "type": "scattergeo"
           }
          ],
          "scattergl": [
           {
            "marker": {
             "colorbar": {
              "outlinewidth": 0,
              "ticks": ""
             }
            },
            "type": "scattergl"
           }
          ],
          "scattermapbox": [
           {
            "marker": {
             "colorbar": {
              "outlinewidth": 0,
              "ticks": ""
             }
            },
            "type": "scattermapbox"
           }
          ],
          "scatterpolar": [
           {
            "marker": {
             "colorbar": {
              "outlinewidth": 0,
              "ticks": ""
             }
            },
            "type": "scatterpolar"
           }
          ],
          "scatterpolargl": [
           {
            "marker": {
             "colorbar": {
              "outlinewidth": 0,
              "ticks": ""
             }
            },
            "type": "scatterpolargl"
           }
          ],
          "scatterternary": [
           {
            "marker": {
             "colorbar": {
              "outlinewidth": 0,
              "ticks": ""
             }
            },
            "type": "scatterternary"
           }
          ],
          "surface": [
           {
            "colorbar": {
             "outlinewidth": 0,
             "ticks": ""
            },
            "colorscale": [
             [
              0,
              "#0d0887"
             ],
             [
              0.1111111111111111,
              "#46039f"
             ],
             [
              0.2222222222222222,
              "#7201a8"
             ],
             [
              0.3333333333333333,
              "#9c179e"
             ],
             [
              0.4444444444444444,
              "#bd3786"
             ],
             [
              0.5555555555555556,
              "#d8576b"
             ],
             [
              0.6666666666666666,
              "#ed7953"
             ],
             [
              0.7777777777777778,
              "#fb9f3a"
             ],
             [
              0.8888888888888888,
              "#fdca26"
             ],
             [
              1,
              "#f0f921"
             ]
            ],
            "type": "surface"
           }
          ],
          "table": [
           {
            "cells": {
             "fill": {
              "color": "#EBF0F8"
             },
             "line": {
              "color": "white"
             }
            },
            "header": {
             "fill": {
              "color": "#C8D4E3"
             },
             "line": {
              "color": "white"
             }
            },
            "type": "table"
           }
          ]
         },
         "layout": {
          "annotationdefaults": {
           "arrowcolor": "#2a3f5f",
           "arrowhead": 0,
           "arrowwidth": 1
          },
          "autotypenumbers": "strict",
          "coloraxis": {
           "colorbar": {
            "outlinewidth": 0,
            "ticks": ""
           }
          },
          "colorscale": {
           "diverging": [
            [
             0,
             "#8e0152"
            ],
            [
             0.1,
             "#c51b7d"
            ],
            [
             0.2,
             "#de77ae"
            ],
            [
             0.3,
             "#f1b6da"
            ],
            [
             0.4,
             "#fde0ef"
            ],
            [
             0.5,
             "#f7f7f7"
            ],
            [
             0.6,
             "#e6f5d0"
            ],
            [
             0.7,
             "#b8e186"
            ],
            [
             0.8,
             "#7fbc41"
            ],
            [
             0.9,
             "#4d9221"
            ],
            [
             1,
             "#276419"
            ]
           ],
           "sequential": [
            [
             0,
             "#0d0887"
            ],
            [
             0.1111111111111111,
             "#46039f"
            ],
            [
             0.2222222222222222,
             "#7201a8"
            ],
            [
             0.3333333333333333,
             "#9c179e"
            ],
            [
             0.4444444444444444,
             "#bd3786"
            ],
            [
             0.5555555555555556,
             "#d8576b"
            ],
            [
             0.6666666666666666,
             "#ed7953"
            ],
            [
             0.7777777777777778,
             "#fb9f3a"
            ],
            [
             0.8888888888888888,
             "#fdca26"
            ],
            [
             1,
             "#f0f921"
            ]
           ],
           "sequentialminus": [
            [
             0,
             "#0d0887"
            ],
            [
             0.1111111111111111,
             "#46039f"
            ],
            [
             0.2222222222222222,
             "#7201a8"
            ],
            [
             0.3333333333333333,
             "#9c179e"
            ],
            [
             0.4444444444444444,
             "#bd3786"
            ],
            [
             0.5555555555555556,
             "#d8576b"
            ],
            [
             0.6666666666666666,
             "#ed7953"
            ],
            [
             0.7777777777777778,
             "#fb9f3a"
            ],
            [
             0.8888888888888888,
             "#fdca26"
            ],
            [
             1,
             "#f0f921"
            ]
           ]
          },
          "colorway": [
           "#636efa",
           "#EF553B",
           "#00cc96",
           "#ab63fa",
           "#FFA15A",
           "#19d3f3",
           "#FF6692",
           "#B6E880",
           "#FF97FF",
           "#FECB52"
          ],
          "font": {
           "color": "#2a3f5f"
          },
          "geo": {
           "bgcolor": "white",
           "lakecolor": "white",
           "landcolor": "#E5ECF6",
           "showlakes": true,
           "showland": true,
           "subunitcolor": "white"
          },
          "hoverlabel": {
           "align": "left"
          },
          "hovermode": "closest",
          "mapbox": {
           "style": "light"
          },
          "paper_bgcolor": "white",
          "plot_bgcolor": "#E5ECF6",
          "polar": {
           "angularaxis": {
            "gridcolor": "white",
            "linecolor": "white",
            "ticks": ""
           },
           "bgcolor": "#E5ECF6",
           "radialaxis": {
            "gridcolor": "white",
            "linecolor": "white",
            "ticks": ""
           }
          },
          "scene": {
           "xaxis": {
            "backgroundcolor": "#E5ECF6",
            "gridcolor": "white",
            "gridwidth": 2,
            "linecolor": "white",
            "showbackground": true,
            "ticks": "",
            "zerolinecolor": "white"
           },
           "yaxis": {
            "backgroundcolor": "#E5ECF6",
            "gridcolor": "white",
            "gridwidth": 2,
            "linecolor": "white",
            "showbackground": true,
            "ticks": "",
            "zerolinecolor": "white"
           },
           "zaxis": {
            "backgroundcolor": "#E5ECF6",
            "gridcolor": "white",
            "gridwidth": 2,
            "linecolor": "white",
            "showbackground": true,
            "ticks": "",
            "zerolinecolor": "white"
           }
          },
          "shapedefaults": {
           "line": {
            "color": "#2a3f5f"
           }
          },
          "ternary": {
           "aaxis": {
            "gridcolor": "white",
            "linecolor": "white",
            "ticks": ""
           },
           "baxis": {
            "gridcolor": "white",
            "linecolor": "white",
            "ticks": ""
           },
           "bgcolor": "#E5ECF6",
           "caxis": {
            "gridcolor": "white",
            "linecolor": "white",
            "ticks": ""
           }
          },
          "title": {
           "x": 0.05
          },
          "xaxis": {
           "automargin": true,
           "gridcolor": "white",
           "linecolor": "white",
           "ticks": "",
           "title": {
            "standoff": 15
           },
           "zerolinecolor": "white",
           "zerolinewidth": 2
          },
          "yaxis": {
           "automargin": true,
           "gridcolor": "white",
           "linecolor": "white",
           "ticks": "",
           "title": {
            "standoff": 15
           },
           "zerolinecolor": "white",
           "zerolinewidth": 2
          }
         }
        },
        "title": {
         "text": "Bubble Chart using Plotly"
        },
        "xaxis": {
         "title": {
          "text": "X Values"
         }
        },
        "yaxis": {
         "title": {
          "text": "Y Values"
         }
        }
       }
      }
     },
     "metadata": {},
     "output_type": "display_data"
    },
    {
     "ename": "ValueError",
     "evalue": "\nImage export using the \"kaleido\" engine requires the kaleido package,\nwhich can be installed using pip:\n    $ pip install -U kaleido\n",
     "output_type": "error",
     "traceback": [
      "\u001b[1;31m---------------------------------------------------------------------------\u001b[0m",
      "\u001b[1;31mValueError\u001b[0m                                Traceback (most recent call last)",
      "Cell \u001b[1;32mIn[36], line 43\u001b[0m\n\u001b[0;32m     40\u001b[0m fig\u001b[38;5;241m.\u001b[39mwrite_html(\u001b[38;5;124m\"\u001b[39m\u001b[38;5;124m./outputs/bubble_chart_plotly.html\u001b[39m\u001b[38;5;124m\"\u001b[39m)\n\u001b[0;32m     42\u001b[0m \u001b[38;5;66;03m# save png file with 300 dpi\u001b[39;00m\n\u001b[1;32m---> 43\u001b[0m \u001b[43mfig\u001b[49m\u001b[38;5;241;43m.\u001b[39;49m\u001b[43mwrite_image\u001b[49m\u001b[43m(\u001b[49m\u001b[38;5;124;43m\"\u001b[39;49m\u001b[38;5;124;43m./outputs/bubble_chart_plotly.png\u001b[39;49m\u001b[38;5;124;43m\"\u001b[39;49m\u001b[43m,\u001b[49m\u001b[43m \u001b[49m\u001b[43mscale\u001b[49m\u001b[38;5;241;43m=\u001b[39;49m\u001b[38;5;241;43m3\u001b[39;49m\u001b[43m)\u001b[49m\n",
      "File \u001b[1;32mc:\\Users\\khan\\miniconda3\\envs\\python_eda\\Lib\\site-packages\\plotly\\basedatatypes.py:3841\u001b[0m, in \u001b[0;36mBaseFigure.write_image\u001b[1;34m(self, *args, **kwargs)\u001b[0m\n\u001b[0;32m   3781\u001b[0m \u001b[38;5;250m\u001b[39m\u001b[38;5;124;03m\"\"\"\u001b[39;00m\n\u001b[0;32m   3782\u001b[0m \u001b[38;5;124;03mConvert a figure to a static image and write it to a file or writeable\u001b[39;00m\n\u001b[0;32m   3783\u001b[0m \u001b[38;5;124;03mobject\u001b[39;00m\n\u001b[1;32m   (...)\u001b[0m\n\u001b[0;32m   3837\u001b[0m \u001b[38;5;124;03mNone\u001b[39;00m\n\u001b[0;32m   3838\u001b[0m \u001b[38;5;124;03m\"\"\"\u001b[39;00m\n\u001b[0;32m   3839\u001b[0m \u001b[38;5;28;01mimport\u001b[39;00m \u001b[38;5;21;01mplotly\u001b[39;00m\u001b[38;5;21;01m.\u001b[39;00m\u001b[38;5;21;01mio\u001b[39;00m \u001b[38;5;28;01mas\u001b[39;00m \u001b[38;5;21;01mpio\u001b[39;00m\n\u001b[1;32m-> 3841\u001b[0m \u001b[38;5;28;01mreturn\u001b[39;00m \u001b[43mpio\u001b[49m\u001b[38;5;241;43m.\u001b[39;49m\u001b[43mwrite_image\u001b[49m\u001b[43m(\u001b[49m\u001b[38;5;28;43mself\u001b[39;49m\u001b[43m,\u001b[49m\u001b[43m \u001b[49m\u001b[38;5;241;43m*\u001b[39;49m\u001b[43margs\u001b[49m\u001b[43m,\u001b[49m\u001b[43m \u001b[49m\u001b[38;5;241;43m*\u001b[39;49m\u001b[38;5;241;43m*\u001b[39;49m\u001b[43mkwargs\u001b[49m\u001b[43m)\u001b[49m\n",
      "File \u001b[1;32mc:\\Users\\khan\\miniconda3\\envs\\python_eda\\Lib\\site-packages\\plotly\\io\\_kaleido.py:266\u001b[0m, in \u001b[0;36mwrite_image\u001b[1;34m(fig, file, format, scale, width, height, validate, engine)\u001b[0m\n\u001b[0;32m    250\u001b[0m             \u001b[38;5;28;01mraise\u001b[39;00m \u001b[38;5;167;01mValueError\u001b[39;00m(\n\u001b[0;32m    251\u001b[0m \u001b[38;5;250m                \u001b[39m\u001b[38;5;124;03m\"\"\"\u001b[39;00m\n\u001b[0;32m    252\u001b[0m \u001b[38;5;124;03mCannot infer image type from output path '{file}'.\u001b[39;00m\n\u001b[1;32m   (...)\u001b[0m\n\u001b[0;32m    260\u001b[0m                 )\n\u001b[0;32m    261\u001b[0m             )\n\u001b[0;32m    263\u001b[0m     \u001b[38;5;66;03m# Request image\u001b[39;00m\n\u001b[0;32m    264\u001b[0m     \u001b[38;5;66;03m# -------------\u001b[39;00m\n\u001b[0;32m    265\u001b[0m     \u001b[38;5;66;03m# Do this first so we don't create a file if image conversion fails\u001b[39;00m\n\u001b[1;32m--> 266\u001b[0m     img_data \u001b[38;5;241m=\u001b[39m \u001b[43mto_image\u001b[49m\u001b[43m(\u001b[49m\n\u001b[0;32m    267\u001b[0m \u001b[43m        \u001b[49m\u001b[43mfig\u001b[49m\u001b[43m,\u001b[49m\n\u001b[0;32m    268\u001b[0m \u001b[43m        \u001b[49m\u001b[38;5;28;43mformat\u001b[39;49m\u001b[38;5;241;43m=\u001b[39;49m\u001b[38;5;28;43mformat\u001b[39;49m\u001b[43m,\u001b[49m\n\u001b[0;32m    269\u001b[0m \u001b[43m        \u001b[49m\u001b[43mscale\u001b[49m\u001b[38;5;241;43m=\u001b[39;49m\u001b[43mscale\u001b[49m\u001b[43m,\u001b[49m\n\u001b[0;32m    270\u001b[0m \u001b[43m        \u001b[49m\u001b[43mwidth\u001b[49m\u001b[38;5;241;43m=\u001b[39;49m\u001b[43mwidth\u001b[49m\u001b[43m,\u001b[49m\n\u001b[0;32m    271\u001b[0m \u001b[43m        \u001b[49m\u001b[43mheight\u001b[49m\u001b[38;5;241;43m=\u001b[39;49m\u001b[43mheight\u001b[49m\u001b[43m,\u001b[49m\n\u001b[0;32m    272\u001b[0m \u001b[43m        \u001b[49m\u001b[43mvalidate\u001b[49m\u001b[38;5;241;43m=\u001b[39;49m\u001b[43mvalidate\u001b[49m\u001b[43m,\u001b[49m\n\u001b[0;32m    273\u001b[0m \u001b[43m        \u001b[49m\u001b[43mengine\u001b[49m\u001b[38;5;241;43m=\u001b[39;49m\u001b[43mengine\u001b[49m\u001b[43m,\u001b[49m\n\u001b[0;32m    274\u001b[0m \u001b[43m    \u001b[49m\u001b[43m)\u001b[49m\n\u001b[0;32m    276\u001b[0m     \u001b[38;5;66;03m# Open file\u001b[39;00m\n\u001b[0;32m    277\u001b[0m     \u001b[38;5;66;03m# ---------\u001b[39;00m\n\u001b[0;32m    278\u001b[0m     \u001b[38;5;28;01mif\u001b[39;00m path \u001b[38;5;129;01mis\u001b[39;00m \u001b[38;5;28;01mNone\u001b[39;00m:\n\u001b[0;32m    279\u001b[0m         \u001b[38;5;66;03m# We previously failed to make sense of `file` as a pathlib object.\u001b[39;00m\n\u001b[0;32m    280\u001b[0m         \u001b[38;5;66;03m# Attempt to write to `file` as an open file descriptor.\u001b[39;00m\n",
      "File \u001b[1;32mc:\\Users\\khan\\miniconda3\\envs\\python_eda\\Lib\\site-packages\\plotly\\io\\_kaleido.py:132\u001b[0m, in \u001b[0;36mto_image\u001b[1;34m(fig, format, width, height, scale, validate, engine)\u001b[0m\n\u001b[0;32m    130\u001b[0m     \u001b[38;5;66;03m# Raise informative error message if Kaleido is not installed\u001b[39;00m\n\u001b[0;32m    131\u001b[0m     \u001b[38;5;28;01mif\u001b[39;00m scope \u001b[38;5;129;01mis\u001b[39;00m \u001b[38;5;28;01mNone\u001b[39;00m:\n\u001b[1;32m--> 132\u001b[0m         \u001b[38;5;28;01mraise\u001b[39;00m \u001b[38;5;167;01mValueError\u001b[39;00m(\n\u001b[0;32m    133\u001b[0m \u001b[38;5;250m            \u001b[39m\u001b[38;5;124;03m\"\"\"\u001b[39;00m\n\u001b[0;32m    134\u001b[0m \u001b[38;5;124;03mImage export using the \"kaleido\" engine requires the kaleido package,\u001b[39;00m\n\u001b[0;32m    135\u001b[0m \u001b[38;5;124;03mwhich can be installed using pip:\u001b[39;00m\n\u001b[0;32m    136\u001b[0m \u001b[38;5;124;03m    $ pip install -U kaleido\u001b[39;00m\n\u001b[0;32m    137\u001b[0m \u001b[38;5;124;03m\"\"\"\u001b[39;00m\n\u001b[0;32m    138\u001b[0m         )\n\u001b[0;32m    140\u001b[0m     \u001b[38;5;66;03m# Validate figure\u001b[39;00m\n\u001b[0;32m    141\u001b[0m     \u001b[38;5;66;03m# ---------------\u001b[39;00m\n\u001b[0;32m    142\u001b[0m     fig_dict \u001b[38;5;241m=\u001b[39m validate_coerce_fig_to_dict(fig, validate)\n",
      "\u001b[1;31mValueError\u001b[0m: \nImage export using the \"kaleido\" engine requires the kaleido package,\nwhich can be installed using pip:\n    $ pip install -U kaleido\n"
     ]
    }
   ],
   "source": [
    "# Import required libraries\n",
    "import plotly.graph_objects as go\n",
    "\n",
    "# Sample data\n",
    "data = {\n",
    "    'X': [10, 20, 30, 40, 50],\n",
    "    'Y': [15, 25, 35, 45, 55],\n",
    "    'Size': [30, 60, 90, 120, 150],  # Determines the size of bubbles\n",
    "    'Labels': ['A', 'B', 'C', 'D', 'E']\n",
    "}\n",
    "\n",
    "# Creating the bubble chart\n",
    "fig = go.Figure(data=go.Scatter(\n",
    "    x=data['X'],\n",
    "    y=data['Y'],\n",
    "    mode='markers',\n",
    "    text=data['Labels'],\n",
    "    marker=dict(\n",
    "        size=data['Size'],\n",
    "        sizemode='diameter',  # 'diameter' ensures that the size values correspond to the diameter of the bubbles\n",
    "        opacity=0.6,\n",
    "        color=data['Y'],  # Coloring the bubbles based on Y values\n",
    "        colorscale='Viridis',\n",
    "        colorbar=dict(title='Colorbar')\n",
    "    )\n",
    "))\n",
    "\n",
    "# Setting the layout for the plot\n",
    "fig.update_layout(\n",
    "    title='Bubble Chart using Plotly',\n",
    "    xaxis_title='X Values',\n",
    "    yaxis_title='Y Values',\n",
    "    showlegend=False\n",
    ")\n",
    "\n",
    "# Display the plot\n",
    "fig.show()\n",
    "\n",
    "# Save the plot to an HTML file\n",
    "fig.write_html(\"./outputs/bubble_chart_plotly.html\")\n",
    "\n",
    "# save png file with 300 dpi\n",
    "fig.write_image(\"./outputs/bubble_chart_plotly.png\", scale=3)"
   ]
  },
  {
   "cell_type": "markdown",
   "metadata": {},
   "source": [
    "# 14. Violin Plot\n",
    "\n",
    "A violin plot is similar to a box plot but also includes a rotated kernel density plot on each side. It provides a visualization of the distribution of the data, its probability density, and its cumulative distribution.\n",
    "\n",
    "Here's how to create a violin plot using Plotly:"
   ]
  },
  {
   "cell_type": "code",
   "execution_count": 37,
   "metadata": {},
   "outputs": [
    {
     "data": {
      "application/vnd.plotly.v1+json": {
       "config": {
        "plotlyServerURL": "https://plot.ly"
       },
       "data": [
        {
         "alignmentgroup": "True",
         "box": {
          "visible": true
         },
         "hovertemplate": "Category=%{x}<br>Values=%{y}<extra></extra>",
         "legendgroup": "",
         "marker": {
          "color": "#636efa"
         },
         "name": "",
         "offsetgroup": "",
         "orientation": "v",
         "points": "all",
         "scalegroup": "True",
         "showlegend": false,
         "type": "violin",
         "x": [
          "A",
          "B",
          "C",
          "A",
          "B",
          "C",
          "A",
          "B",
          "C",
          "A",
          "B",
          "C"
         ],
         "x0": " ",
         "xaxis": "x",
         "y": [
          10,
          15,
          5,
          25,
          20,
          10,
          30,
          25,
          5,
          20,
          15,
          10
         ],
         "y0": " ",
         "yaxis": "y"
        }
       ],
       "layout": {
        "legend": {
         "tracegroupgap": 0
        },
        "margin": {
         "t": 60
        },
        "template": {
         "data": {
          "bar": [
           {
            "error_x": {
             "color": "#2a3f5f"
            },
            "error_y": {
             "color": "#2a3f5f"
            },
            "marker": {
             "line": {
              "color": "#E5ECF6",
              "width": 0.5
             },
             "pattern": {
              "fillmode": "overlay",
              "size": 10,
              "solidity": 0.2
             }
            },
            "type": "bar"
           }
          ],
          "barpolar": [
           {
            "marker": {
             "line": {
              "color": "#E5ECF6",
              "width": 0.5
             },
             "pattern": {
              "fillmode": "overlay",
              "size": 10,
              "solidity": 0.2
             }
            },
            "type": "barpolar"
           }
          ],
          "carpet": [
           {
            "aaxis": {
             "endlinecolor": "#2a3f5f",
             "gridcolor": "white",
             "linecolor": "white",
             "minorgridcolor": "white",
             "startlinecolor": "#2a3f5f"
            },
            "baxis": {
             "endlinecolor": "#2a3f5f",
             "gridcolor": "white",
             "linecolor": "white",
             "minorgridcolor": "white",
             "startlinecolor": "#2a3f5f"
            },
            "type": "carpet"
           }
          ],
          "choropleth": [
           {
            "colorbar": {
             "outlinewidth": 0,
             "ticks": ""
            },
            "type": "choropleth"
           }
          ],
          "contour": [
           {
            "colorbar": {
             "outlinewidth": 0,
             "ticks": ""
            },
            "colorscale": [
             [
              0,
              "#0d0887"
             ],
             [
              0.1111111111111111,
              "#46039f"
             ],
             [
              0.2222222222222222,
              "#7201a8"
             ],
             [
              0.3333333333333333,
              "#9c179e"
             ],
             [
              0.4444444444444444,
              "#bd3786"
             ],
             [
              0.5555555555555556,
              "#d8576b"
             ],
             [
              0.6666666666666666,
              "#ed7953"
             ],
             [
              0.7777777777777778,
              "#fb9f3a"
             ],
             [
              0.8888888888888888,
              "#fdca26"
             ],
             [
              1,
              "#f0f921"
             ]
            ],
            "type": "contour"
           }
          ],
          "contourcarpet": [
           {
            "colorbar": {
             "outlinewidth": 0,
             "ticks": ""
            },
            "type": "contourcarpet"
           }
          ],
          "heatmap": [
           {
            "colorbar": {
             "outlinewidth": 0,
             "ticks": ""
            },
            "colorscale": [
             [
              0,
              "#0d0887"
             ],
             [
              0.1111111111111111,
              "#46039f"
             ],
             [
              0.2222222222222222,
              "#7201a8"
             ],
             [
              0.3333333333333333,
              "#9c179e"
             ],
             [
              0.4444444444444444,
              "#bd3786"
             ],
             [
              0.5555555555555556,
              "#d8576b"
             ],
             [
              0.6666666666666666,
              "#ed7953"
             ],
             [
              0.7777777777777778,
              "#fb9f3a"
             ],
             [
              0.8888888888888888,
              "#fdca26"
             ],
             [
              1,
              "#f0f921"
             ]
            ],
            "type": "heatmap"
           }
          ],
          "heatmapgl": [
           {
            "colorbar": {
             "outlinewidth": 0,
             "ticks": ""
            },
            "colorscale": [
             [
              0,
              "#0d0887"
             ],
             [
              0.1111111111111111,
              "#46039f"
             ],
             [
              0.2222222222222222,
              "#7201a8"
             ],
             [
              0.3333333333333333,
              "#9c179e"
             ],
             [
              0.4444444444444444,
              "#bd3786"
             ],
             [
              0.5555555555555556,
              "#d8576b"
             ],
             [
              0.6666666666666666,
              "#ed7953"
             ],
             [
              0.7777777777777778,
              "#fb9f3a"
             ],
             [
              0.8888888888888888,
              "#fdca26"
             ],
             [
              1,
              "#f0f921"
             ]
            ],
            "type": "heatmapgl"
           }
          ],
          "histogram": [
           {
            "marker": {
             "pattern": {
              "fillmode": "overlay",
              "size": 10,
              "solidity": 0.2
             }
            },
            "type": "histogram"
           }
          ],
          "histogram2d": [
           {
            "colorbar": {
             "outlinewidth": 0,
             "ticks": ""
            },
            "colorscale": [
             [
              0,
              "#0d0887"
             ],
             [
              0.1111111111111111,
              "#46039f"
             ],
             [
              0.2222222222222222,
              "#7201a8"
             ],
             [
              0.3333333333333333,
              "#9c179e"
             ],
             [
              0.4444444444444444,
              "#bd3786"
             ],
             [
              0.5555555555555556,
              "#d8576b"
             ],
             [
              0.6666666666666666,
              "#ed7953"
             ],
             [
              0.7777777777777778,
              "#fb9f3a"
             ],
             [
              0.8888888888888888,
              "#fdca26"
             ],
             [
              1,
              "#f0f921"
             ]
            ],
            "type": "histogram2d"
           }
          ],
          "histogram2dcontour": [
           {
            "colorbar": {
             "outlinewidth": 0,
             "ticks": ""
            },
            "colorscale": [
             [
              0,
              "#0d0887"
             ],
             [
              0.1111111111111111,
              "#46039f"
             ],
             [
              0.2222222222222222,
              "#7201a8"
             ],
             [
              0.3333333333333333,
              "#9c179e"
             ],
             [
              0.4444444444444444,
              "#bd3786"
             ],
             [
              0.5555555555555556,
              "#d8576b"
             ],
             [
              0.6666666666666666,
              "#ed7953"
             ],
             [
              0.7777777777777778,
              "#fb9f3a"
             ],
             [
              0.8888888888888888,
              "#fdca26"
             ],
             [
              1,
              "#f0f921"
             ]
            ],
            "type": "histogram2dcontour"
           }
          ],
          "mesh3d": [
           {
            "colorbar": {
             "outlinewidth": 0,
             "ticks": ""
            },
            "type": "mesh3d"
           }
          ],
          "parcoords": [
           {
            "line": {
             "colorbar": {
              "outlinewidth": 0,
              "ticks": ""
             }
            },
            "type": "parcoords"
           }
          ],
          "pie": [
           {
            "automargin": true,
            "type": "pie"
           }
          ],
          "scatter": [
           {
            "fillpattern": {
             "fillmode": "overlay",
             "size": 10,
             "solidity": 0.2
            },
            "type": "scatter"
           }
          ],
          "scatter3d": [
           {
            "line": {
             "colorbar": {
              "outlinewidth": 0,
              "ticks": ""
             }
            },
            "marker": {
             "colorbar": {
              "outlinewidth": 0,
              "ticks": ""
             }
            },
            "type": "scatter3d"
           }
          ],
          "scattercarpet": [
           {
            "marker": {
             "colorbar": {
              "outlinewidth": 0,
              "ticks": ""
             }
            },
            "type": "scattercarpet"
           }
          ],
          "scattergeo": [
           {
            "marker": {
             "colorbar": {
              "outlinewidth": 0,
              "ticks": ""
             }
            },
            "type": "scattergeo"
           }
          ],
          "scattergl": [
           {
            "marker": {
             "colorbar": {
              "outlinewidth": 0,
              "ticks": ""
             }
            },
            "type": "scattergl"
           }
          ],
          "scattermapbox": [
           {
            "marker": {
             "colorbar": {
              "outlinewidth": 0,
              "ticks": ""
             }
            },
            "type": "scattermapbox"
           }
          ],
          "scatterpolar": [
           {
            "marker": {
             "colorbar": {
              "outlinewidth": 0,
              "ticks": ""
             }
            },
            "type": "scatterpolar"
           }
          ],
          "scatterpolargl": [
           {
            "marker": {
             "colorbar": {
              "outlinewidth": 0,
              "ticks": ""
             }
            },
            "type": "scatterpolargl"
           }
          ],
          "scatterternary": [
           {
            "marker": {
             "colorbar": {
              "outlinewidth": 0,
              "ticks": ""
             }
            },
            "type": "scatterternary"
           }
          ],
          "surface": [
           {
            "colorbar": {
             "outlinewidth": 0,
             "ticks": ""
            },
            "colorscale": [
             [
              0,
              "#0d0887"
             ],
             [
              0.1111111111111111,
              "#46039f"
             ],
             [
              0.2222222222222222,
              "#7201a8"
             ],
             [
              0.3333333333333333,
              "#9c179e"
             ],
             [
              0.4444444444444444,
              "#bd3786"
             ],
             [
              0.5555555555555556,
              "#d8576b"
             ],
             [
              0.6666666666666666,
              "#ed7953"
             ],
             [
              0.7777777777777778,
              "#fb9f3a"
             ],
             [
              0.8888888888888888,
              "#fdca26"
             ],
             [
              1,
              "#f0f921"
             ]
            ],
            "type": "surface"
           }
          ],
          "table": [
           {
            "cells": {
             "fill": {
              "color": "#EBF0F8"
             },
             "line": {
              "color": "white"
             }
            },
            "header": {
             "fill": {
              "color": "#C8D4E3"
             },
             "line": {
              "color": "white"
             }
            },
            "type": "table"
           }
          ]
         },
         "layout": {
          "annotationdefaults": {
           "arrowcolor": "#2a3f5f",
           "arrowhead": 0,
           "arrowwidth": 1
          },
          "autotypenumbers": "strict",
          "coloraxis": {
           "colorbar": {
            "outlinewidth": 0,
            "ticks": ""
           }
          },
          "colorscale": {
           "diverging": [
            [
             0,
             "#8e0152"
            ],
            [
             0.1,
             "#c51b7d"
            ],
            [
             0.2,
             "#de77ae"
            ],
            [
             0.3,
             "#f1b6da"
            ],
            [
             0.4,
             "#fde0ef"
            ],
            [
             0.5,
             "#f7f7f7"
            ],
            [
             0.6,
             "#e6f5d0"
            ],
            [
             0.7,
             "#b8e186"
            ],
            [
             0.8,
             "#7fbc41"
            ],
            [
             0.9,
             "#4d9221"
            ],
            [
             1,
             "#276419"
            ]
           ],
           "sequential": [
            [
             0,
             "#0d0887"
            ],
            [
             0.1111111111111111,
             "#46039f"
            ],
            [
             0.2222222222222222,
             "#7201a8"
            ],
            [
             0.3333333333333333,
             "#9c179e"
            ],
            [
             0.4444444444444444,
             "#bd3786"
            ],
            [
             0.5555555555555556,
             "#d8576b"
            ],
            [
             0.6666666666666666,
             "#ed7953"
            ],
            [
             0.7777777777777778,
             "#fb9f3a"
            ],
            [
             0.8888888888888888,
             "#fdca26"
            ],
            [
             1,
             "#f0f921"
            ]
           ],
           "sequentialminus": [
            [
             0,
             "#0d0887"
            ],
            [
             0.1111111111111111,
             "#46039f"
            ],
            [
             0.2222222222222222,
             "#7201a8"
            ],
            [
             0.3333333333333333,
             "#9c179e"
            ],
            [
             0.4444444444444444,
             "#bd3786"
            ],
            [
             0.5555555555555556,
             "#d8576b"
            ],
            [
             0.6666666666666666,
             "#ed7953"
            ],
            [
             0.7777777777777778,
             "#fb9f3a"
            ],
            [
             0.8888888888888888,
             "#fdca26"
            ],
            [
             1,
             "#f0f921"
            ]
           ]
          },
          "colorway": [
           "#636efa",
           "#EF553B",
           "#00cc96",
           "#ab63fa",
           "#FFA15A",
           "#19d3f3",
           "#FF6692",
           "#B6E880",
           "#FF97FF",
           "#FECB52"
          ],
          "font": {
           "color": "#2a3f5f"
          },
          "geo": {
           "bgcolor": "white",
           "lakecolor": "white",
           "landcolor": "#E5ECF6",
           "showlakes": true,
           "showland": true,
           "subunitcolor": "white"
          },
          "hoverlabel": {
           "align": "left"
          },
          "hovermode": "closest",
          "mapbox": {
           "style": "light"
          },
          "paper_bgcolor": "white",
          "plot_bgcolor": "#E5ECF6",
          "polar": {
           "angularaxis": {
            "gridcolor": "white",
            "linecolor": "white",
            "ticks": ""
           },
           "bgcolor": "#E5ECF6",
           "radialaxis": {
            "gridcolor": "white",
            "linecolor": "white",
            "ticks": ""
           }
          },
          "scene": {
           "xaxis": {
            "backgroundcolor": "#E5ECF6",
            "gridcolor": "white",
            "gridwidth": 2,
            "linecolor": "white",
            "showbackground": true,
            "ticks": "",
            "zerolinecolor": "white"
           },
           "yaxis": {
            "backgroundcolor": "#E5ECF6",
            "gridcolor": "white",
            "gridwidth": 2,
            "linecolor": "white",
            "showbackground": true,
            "ticks": "",
            "zerolinecolor": "white"
           },
           "zaxis": {
            "backgroundcolor": "#E5ECF6",
            "gridcolor": "white",
            "gridwidth": 2,
            "linecolor": "white",
            "showbackground": true,
            "ticks": "",
            "zerolinecolor": "white"
           }
          },
          "shapedefaults": {
           "line": {
            "color": "#2a3f5f"
           }
          },
          "ternary": {
           "aaxis": {
            "gridcolor": "white",
            "linecolor": "white",
            "ticks": ""
           },
           "baxis": {
            "gridcolor": "white",
            "linecolor": "white",
            "ticks": ""
           },
           "bgcolor": "#E5ECF6",
           "caxis": {
            "gridcolor": "white",
            "linecolor": "white",
            "ticks": ""
           }
          },
          "title": {
           "x": 0.05
          },
          "xaxis": {
           "automargin": true,
           "gridcolor": "white",
           "linecolor": "white",
           "ticks": "",
           "title": {
            "standoff": 15
           },
           "zerolinecolor": "white",
           "zerolinewidth": 2
          },
          "yaxis": {
           "automargin": true,
           "gridcolor": "white",
           "linecolor": "white",
           "ticks": "",
           "title": {
            "standoff": 15
           },
           "zerolinecolor": "white",
           "zerolinewidth": 2
          }
         }
        },
        "title": {
         "text": "Violin Plot using Plotly"
        },
        "violinmode": "group",
        "xaxis": {
         "anchor": "y",
         "domain": [
          0,
          1
         ],
         "title": {
          "text": "Category"
         }
        },
        "yaxis": {
         "anchor": "x",
         "domain": [
          0,
          1
         ],
         "title": {
          "text": "Values"
         }
        }
       }
      }
     },
     "metadata": {},
     "output_type": "display_data"
    },
    {
     "ename": "ValueError",
     "evalue": "\nImage export using the \"kaleido\" engine requires the kaleido package,\nwhich can be installed using pip:\n    $ pip install -U kaleido\n",
     "output_type": "error",
     "traceback": [
      "\u001b[1;31m---------------------------------------------------------------------------\u001b[0m",
      "\u001b[1;31mValueError\u001b[0m                                Traceback (most recent call last)",
      "Cell \u001b[1;32mIn[37], line 27\u001b[0m\n\u001b[0;32m     24\u001b[0m fig\u001b[38;5;241m.\u001b[39mwrite_html(\u001b[38;5;124m\"\u001b[39m\u001b[38;5;124m./outputs/violin_plot_plotly.html\u001b[39m\u001b[38;5;124m\"\u001b[39m)\n\u001b[0;32m     26\u001b[0m \u001b[38;5;66;03m#save png file with 300 dpi\u001b[39;00m\n\u001b[1;32m---> 27\u001b[0m \u001b[43mfig\u001b[49m\u001b[38;5;241;43m.\u001b[39;49m\u001b[43mwrite_image\u001b[49m\u001b[43m(\u001b[49m\u001b[38;5;124;43m\"\u001b[39;49m\u001b[38;5;124;43m./outputs/violin_plot_plotly.png\u001b[39;49m\u001b[38;5;124;43m\"\u001b[39;49m\u001b[43m,\u001b[49m\u001b[43m \u001b[49m\u001b[43mscale\u001b[49m\u001b[38;5;241;43m=\u001b[39;49m\u001b[38;5;241;43m3\u001b[39;49m\u001b[43m)\u001b[49m\n",
      "File \u001b[1;32mc:\\Users\\khan\\miniconda3\\envs\\python_eda\\Lib\\site-packages\\plotly\\basedatatypes.py:3841\u001b[0m, in \u001b[0;36mBaseFigure.write_image\u001b[1;34m(self, *args, **kwargs)\u001b[0m\n\u001b[0;32m   3781\u001b[0m \u001b[38;5;250m\u001b[39m\u001b[38;5;124;03m\"\"\"\u001b[39;00m\n\u001b[0;32m   3782\u001b[0m \u001b[38;5;124;03mConvert a figure to a static image and write it to a file or writeable\u001b[39;00m\n\u001b[0;32m   3783\u001b[0m \u001b[38;5;124;03mobject\u001b[39;00m\n\u001b[1;32m   (...)\u001b[0m\n\u001b[0;32m   3837\u001b[0m \u001b[38;5;124;03mNone\u001b[39;00m\n\u001b[0;32m   3838\u001b[0m \u001b[38;5;124;03m\"\"\"\u001b[39;00m\n\u001b[0;32m   3839\u001b[0m \u001b[38;5;28;01mimport\u001b[39;00m \u001b[38;5;21;01mplotly\u001b[39;00m\u001b[38;5;21;01m.\u001b[39;00m\u001b[38;5;21;01mio\u001b[39;00m \u001b[38;5;28;01mas\u001b[39;00m \u001b[38;5;21;01mpio\u001b[39;00m\n\u001b[1;32m-> 3841\u001b[0m \u001b[38;5;28;01mreturn\u001b[39;00m \u001b[43mpio\u001b[49m\u001b[38;5;241;43m.\u001b[39;49m\u001b[43mwrite_image\u001b[49m\u001b[43m(\u001b[49m\u001b[38;5;28;43mself\u001b[39;49m\u001b[43m,\u001b[49m\u001b[43m \u001b[49m\u001b[38;5;241;43m*\u001b[39;49m\u001b[43margs\u001b[49m\u001b[43m,\u001b[49m\u001b[43m \u001b[49m\u001b[38;5;241;43m*\u001b[39;49m\u001b[38;5;241;43m*\u001b[39;49m\u001b[43mkwargs\u001b[49m\u001b[43m)\u001b[49m\n",
      "File \u001b[1;32mc:\\Users\\khan\\miniconda3\\envs\\python_eda\\Lib\\site-packages\\plotly\\io\\_kaleido.py:266\u001b[0m, in \u001b[0;36mwrite_image\u001b[1;34m(fig, file, format, scale, width, height, validate, engine)\u001b[0m\n\u001b[0;32m    250\u001b[0m             \u001b[38;5;28;01mraise\u001b[39;00m \u001b[38;5;167;01mValueError\u001b[39;00m(\n\u001b[0;32m    251\u001b[0m \u001b[38;5;250m                \u001b[39m\u001b[38;5;124;03m\"\"\"\u001b[39;00m\n\u001b[0;32m    252\u001b[0m \u001b[38;5;124;03mCannot infer image type from output path '{file}'.\u001b[39;00m\n\u001b[1;32m   (...)\u001b[0m\n\u001b[0;32m    260\u001b[0m                 )\n\u001b[0;32m    261\u001b[0m             )\n\u001b[0;32m    263\u001b[0m     \u001b[38;5;66;03m# Request image\u001b[39;00m\n\u001b[0;32m    264\u001b[0m     \u001b[38;5;66;03m# -------------\u001b[39;00m\n\u001b[0;32m    265\u001b[0m     \u001b[38;5;66;03m# Do this first so we don't create a file if image conversion fails\u001b[39;00m\n\u001b[1;32m--> 266\u001b[0m     img_data \u001b[38;5;241m=\u001b[39m \u001b[43mto_image\u001b[49m\u001b[43m(\u001b[49m\n\u001b[0;32m    267\u001b[0m \u001b[43m        \u001b[49m\u001b[43mfig\u001b[49m\u001b[43m,\u001b[49m\n\u001b[0;32m    268\u001b[0m \u001b[43m        \u001b[49m\u001b[38;5;28;43mformat\u001b[39;49m\u001b[38;5;241;43m=\u001b[39;49m\u001b[38;5;28;43mformat\u001b[39;49m\u001b[43m,\u001b[49m\n\u001b[0;32m    269\u001b[0m \u001b[43m        \u001b[49m\u001b[43mscale\u001b[49m\u001b[38;5;241;43m=\u001b[39;49m\u001b[43mscale\u001b[49m\u001b[43m,\u001b[49m\n\u001b[0;32m    270\u001b[0m \u001b[43m        \u001b[49m\u001b[43mwidth\u001b[49m\u001b[38;5;241;43m=\u001b[39;49m\u001b[43mwidth\u001b[49m\u001b[43m,\u001b[49m\n\u001b[0;32m    271\u001b[0m \u001b[43m        \u001b[49m\u001b[43mheight\u001b[49m\u001b[38;5;241;43m=\u001b[39;49m\u001b[43mheight\u001b[49m\u001b[43m,\u001b[49m\n\u001b[0;32m    272\u001b[0m \u001b[43m        \u001b[49m\u001b[43mvalidate\u001b[49m\u001b[38;5;241;43m=\u001b[39;49m\u001b[43mvalidate\u001b[49m\u001b[43m,\u001b[49m\n\u001b[0;32m    273\u001b[0m \u001b[43m        \u001b[49m\u001b[43mengine\u001b[49m\u001b[38;5;241;43m=\u001b[39;49m\u001b[43mengine\u001b[49m\u001b[43m,\u001b[49m\n\u001b[0;32m    274\u001b[0m \u001b[43m    \u001b[49m\u001b[43m)\u001b[49m\n\u001b[0;32m    276\u001b[0m     \u001b[38;5;66;03m# Open file\u001b[39;00m\n\u001b[0;32m    277\u001b[0m     \u001b[38;5;66;03m# ---------\u001b[39;00m\n\u001b[0;32m    278\u001b[0m     \u001b[38;5;28;01mif\u001b[39;00m path \u001b[38;5;129;01mis\u001b[39;00m \u001b[38;5;28;01mNone\u001b[39;00m:\n\u001b[0;32m    279\u001b[0m         \u001b[38;5;66;03m# We previously failed to make sense of `file` as a pathlib object.\u001b[39;00m\n\u001b[0;32m    280\u001b[0m         \u001b[38;5;66;03m# Attempt to write to `file` as an open file descriptor.\u001b[39;00m\n",
      "File \u001b[1;32mc:\\Users\\khan\\miniconda3\\envs\\python_eda\\Lib\\site-packages\\plotly\\io\\_kaleido.py:132\u001b[0m, in \u001b[0;36mto_image\u001b[1;34m(fig, format, width, height, scale, validate, engine)\u001b[0m\n\u001b[0;32m    130\u001b[0m     \u001b[38;5;66;03m# Raise informative error message if Kaleido is not installed\u001b[39;00m\n\u001b[0;32m    131\u001b[0m     \u001b[38;5;28;01mif\u001b[39;00m scope \u001b[38;5;129;01mis\u001b[39;00m \u001b[38;5;28;01mNone\u001b[39;00m:\n\u001b[1;32m--> 132\u001b[0m         \u001b[38;5;28;01mraise\u001b[39;00m \u001b[38;5;167;01mValueError\u001b[39;00m(\n\u001b[0;32m    133\u001b[0m \u001b[38;5;250m            \u001b[39m\u001b[38;5;124;03m\"\"\"\u001b[39;00m\n\u001b[0;32m    134\u001b[0m \u001b[38;5;124;03mImage export using the \"kaleido\" engine requires the kaleido package,\u001b[39;00m\n\u001b[0;32m    135\u001b[0m \u001b[38;5;124;03mwhich can be installed using pip:\u001b[39;00m\n\u001b[0;32m    136\u001b[0m \u001b[38;5;124;03m    $ pip install -U kaleido\u001b[39;00m\n\u001b[0;32m    137\u001b[0m \u001b[38;5;124;03m\"\"\"\u001b[39;00m\n\u001b[0;32m    138\u001b[0m         )\n\u001b[0;32m    140\u001b[0m     \u001b[38;5;66;03m# Validate figure\u001b[39;00m\n\u001b[0;32m    141\u001b[0m     \u001b[38;5;66;03m# ---------------\u001b[39;00m\n\u001b[0;32m    142\u001b[0m     fig_dict \u001b[38;5;241m=\u001b[39m validate_coerce_fig_to_dict(fig, validate)\n",
      "\u001b[1;31mValueError\u001b[0m: \nImage export using the \"kaleido\" engine requires the kaleido package,\nwhich can be installed using pip:\n    $ pip install -U kaleido\n"
     ]
    }
   ],
   "source": [
    "# Import required libraries\n",
    "import plotly.express as px\n",
    "\n",
    "# Sample data\n",
    "data = {\n",
    "    'Category': ['A', 'B', 'C', 'A', 'B', 'C', 'A', 'B', 'C', 'A', 'B', 'C'],\n",
    "    'Values': [10, 15, 5, 25, 20, 10, 30, 25, 5, 20, 15, 10]\n",
    "}\n",
    "\n",
    "# Creating the violin plot using plotly express\n",
    "fig = px.violin(data, y=\"Values\", x=\"Category\", box=True, points=\"all\")\n",
    "\n",
    "# Setting the layout for the plot\n",
    "fig.update_layout(\n",
    "    title='Violin Plot using Plotly',\n",
    "    yaxis_title='Values',\n",
    "    xaxis_title='Category'\n",
    ")\n",
    "\n",
    "# Display the plot\n",
    "fig.show()\n",
    "\n",
    "# Save the plot to an HTML file\n",
    "fig.write_html(\"./outputs/violin_plot_plotly.html\")\n",
    "\n",
    "#save png file with 300 dpi\n",
    "fig.write_image(\"./outputs/violin_plot_plotly.png\", scale=3)"
   ]
  },
  {
   "cell_type": "code",
   "execution_count": null,
   "metadata": {},
   "outputs": [],
   "source": []
  }
 ],
 "metadata": {
  "kernelspec": {
   "display_name": "python_eda",
   "language": "python",
   "name": "python3"
  },
  "language_info": {
   "codemirror_mode": {
    "name": "ipython",
    "version": 3
   },
   "file_extension": ".py",
   "mimetype": "text/x-python",
   "name": "python",
   "nbconvert_exporter": "python",
   "pygments_lexer": "ipython3",
   "version": "3.12.2"
  }
 },
 "nbformat": 4,
 "nbformat_minor": 2
}
