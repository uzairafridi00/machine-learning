{
 "cells": [
  {
   "cell_type": "code",
   "execution_count": null,
   "id": "ae927adf",
   "metadata": {},
   "outputs": [],
   "source": [
    "import os\n",
    "os.environ[\"OPENAI_API_KEY\"] = \"sk-proj-\""
   ]
  },
  {
   "cell_type": "code",
   "execution_count": 5,
   "id": "c636ddb5",
   "metadata": {},
   "outputs": [],
   "source": [
    "# !pip install langchain chromadb openai tiktoken pypdf langchain_openai langchain-community"
   ]
  },
  {
   "cell_type": "code",
   "execution_count": 1,
   "id": "56b1a19b",
   "metadata": {},
   "outputs": [],
   "source": [
    "from langchain_openai import OpenAIEmbeddings\n",
    "from langchain.vectorstores import Chroma"
   ]
  },
  {
   "cell_type": "code",
   "execution_count": 2,
   "id": "39d0bfea",
   "metadata": {},
   "outputs": [],
   "source": [
    "from langchain.schema import Document\n",
    "\n",
    "doc1 = Document(\n",
    "        page_content=\"Babar Azam is one of the most consistent batsmen in PSL history. Known for his elegant stroke play and leadership, he has captained Karachi Kings and Peshawar Zalmi in different seasons.\",\n",
    "        metadata={\"team\": \"Peshawar Zalmi\"}\n",
    "    )\n",
    "doc2 = Document(\n",
    "        page_content=\"Shaheen Afridi is one of the most fearsome fast bowlers in PSL, leading Lahore Qalandars to back-to-back titles. His ability to swing the ball at pace makes him a threat in powerplays.\",\n",
    "        metadata={\"team\": \"Lahore Qalandars\"}\n",
    "    )\n",
    "doc3 = Document(\n",
    "        page_content=\"Mohammad Rizwan has emerged as one of PSL's most reliable batsmen and leaders. As captain of Multan Sultans, his wicketkeeping and consistent performances have been instrumental in their success.\",\n",
    "        metadata={\"team\": \"Multan Sultans\"}\n",
    "    )\n",
    "doc4 = Document(\n",
    "        page_content=\"Shadab Khan is a dynamic all-rounder who captains Islamabad United. His leg-spin bowling and aggressive batting make him one of PSL's most valuable players.\",\n",
    "        metadata={\"team\": \"Islamabad United\"}\n",
    "    )\n",
    "doc5 = Document(\n",
    "        page_content=\"Fakhar Zaman is known for his explosive batting at the top of the order. Playing for Lahore Qalandars, his ability to play match-winning innings makes him a crowd favorite.\",\n",
    "        metadata={\"team\": \"Lahore Qalandars\"}\n",
    "    )\n",
    "doc6 = Document(\n",
    "        page_content=\"Imad Wasim is a crafty left-arm spinner and handy lower-order batsman. Having played for Karachi Kings and Islamabad United, his economical bowling is crucial in middle overs.\",\n",
    "        metadata={\"team\": \"Karachi Kings\"}\n",
    "    )"
   ]
  },
  {
   "cell_type": "code",
   "execution_count": 3,
   "id": "1dfdf2a8",
   "metadata": {},
   "outputs": [],
   "source": [
    "docs = [doc1, doc2, doc3, doc4, doc5, doc6]"
   ]
  },
  {
   "cell_type": "code",
   "execution_count": 4,
   "id": "d8d4c6f2",
   "metadata": {},
   "outputs": [
    {
     "name": "stderr",
     "output_type": "stream",
     "text": [
      "C:\\Users\\Admin\\AppData\\Local\\Temp\\ipykernel_21956\\2433594720.py:1: LangChainDeprecationWarning: The class `Chroma` was deprecated in LangChain 0.2.9 and will be removed in 1.0. An updated version of the class exists in the :class:`~langchain-chroma package and should be used instead. To use it run `pip install -U :class:`~langchain-chroma` and import as `from :class:`~langchain_chroma import Chroma``.\n",
      "  vector_store = Chroma(\n"
     ]
    }
   ],
   "source": [
    "vector_store = Chroma(\n",
    "    embedding_function=OpenAIEmbeddings(),\n",
    "    persist_directory=\"chroma_persist\",\n",
    "    collection_name=\"psl_players\",\n",
    ")"
   ]
  },
  {
   "cell_type": "code",
   "execution_count": null,
   "id": "642faf78",
   "metadata": {},
   "outputs": [],
   "source": [
    "# add documents to the vector store\n",
    "vector_store.add_documents(docs)"
   ]
  },
  {
   "cell_type": "code",
   "execution_count": null,
   "id": "a640d82f",
   "metadata": {},
   "outputs": [],
   "source": [
    "# view documents\n",
    "vector_store.get(include=['embedding', 'documents','metadatas'])"
   ]
  },
  {
   "cell_type": "code",
   "execution_count": null,
   "id": "b278c074",
   "metadata": {},
   "outputs": [],
   "source": [
    "# search documents\n",
    "vector_store.similarity_search(\n",
    "    query='Who among these are a bowler?',\n",
    "    k=2\n",
    ")"
   ]
  },
  {
   "cell_type": "code",
   "execution_count": null,
   "id": "2598b069",
   "metadata": {},
   "outputs": [],
   "source": [
    "# search with similarity score\n",
    "vector_store.similarity_search_with_score(\n",
    "    query='Who among these are a bowler?',\n",
    "    k=2\n",
    ")"
   ]
  },
  {
   "cell_type": "code",
   "execution_count": null,
   "id": "7155e0ae",
   "metadata": {},
   "outputs": [],
   "source": [
    "# meta-data filtering\n",
    "vector_store.similarity_search_with_score(\n",
    "    query=\"\",\n",
    "    filter={\"team\": \"Peshawar Zalmi\"}\n",
    ")"
   ]
  },
  {
   "cell_type": "code",
   "execution_count": null,
   "id": "59d9ea4f",
   "metadata": {},
   "outputs": [],
   "source": [
    "# update documents\n",
    "updated_doc1 = Document(\n",
    "    page_content=\"Updated content for Babar Azam. He is now the captain of the national team and has led them to several victories.\",\n",
    "    metadata={\"team\": \"Peshawar Zalmi\"}\n",
    ")\n",
    "\n",
    "vector_store.update_document(document_id='09a39dc6-3ba6-4ea7-927e-fdda591da5e4', document=updated_doc1)"
   ]
  },
  {
   "cell_type": "code",
   "execution_count": null,
   "id": "89256803",
   "metadata": {},
   "outputs": [],
   "source": [
    "# view documents\n",
    "vector_store.get(include=['embeddings','documents', 'metadatas'])"
   ]
  },
  {
   "cell_type": "code",
   "execution_count": null,
   "id": "35f88a1a",
   "metadata": {},
   "outputs": [],
   "source": [
    "# delete document\n",
    "vector_store.delete(ids=['09a39dc6-3ba6-4ea7-927e-fdda591da5e4'])"
   ]
  },
  {
   "cell_type": "code",
   "execution_count": null,
   "id": "32ecdf0e",
   "metadata": {},
   "outputs": [],
   "source": [
    "# view documents\n",
    "vector_store.get(include=['embeddings','documents', 'metadatas'])"
   ]
  }
 ],
 "metadata": {
  "kernelspec": {
   "display_name": "venv",
   "language": "python",
   "name": "python3"
  },
  "language_info": {
   "codemirror_mode": {
    "name": "ipython",
    "version": 3
   },
   "file_extension": ".py",
   "mimetype": "text/x-python",
   "name": "python",
   "nbconvert_exporter": "python",
   "pygments_lexer": "ipython3",
   "version": "3.12.7"
  }
 },
 "nbformat": 4,
 "nbformat_minor": 5
}
