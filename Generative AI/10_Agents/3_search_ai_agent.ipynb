{
 "cells": [
  {
   "cell_type": "code",
   "execution_count": 1,
   "id": "cd2edfa2",
   "metadata": {},
   "outputs": [],
   "source": [
    "import os\n",
    "os.environ[\"OPENAI_API_KEY\"] = \"\""
   ]
  },
  {
   "cell_type": "code",
   "execution_count": 2,
   "id": "1ea540f0",
   "metadata": {},
   "outputs": [],
   "source": [
    "from langchain_openai import ChatOpenAI\n",
    "from langchain_core.tools import tool\n",
    "import requests"
   ]
  },
  {
   "cell_type": "code",
   "execution_count": 5,
   "id": "09ea4eff",
   "metadata": {},
   "outputs": [],
   "source": [
    "from langchain_community.tools import DuckDuckGoSearchRun\n",
    "\n",
    "search_tool = DuckDuckGoSearchRun()\n",
    "\n",
    "results = search_tool.invoke(\"top news in Pakistan today\")"
   ]
  },
  {
   "cell_type": "code",
   "execution_count": 6,
   "id": "9f74d6bf",
   "metadata": {},
   "outputs": [
    {
     "data": {
      "text/plain": [
       "'Stay on top of Pakistan latest developments on the ground with Al Jazeera\\'s fact-based news, exclusive video footage, photos and updated maps. Live Updates: India launches strikes Pakistan retaliates. Law Minister Azam Nazeer Tarar says the armed forces have once again \"demonstrated unwavering resolve, unparalleled professionalism and ... Pakistan News: Read Today Pakistan News, Breaking Pakistan Headlines, and Latest Pakistan News from entertainment, sports, jobs, and politics at The Daily Guardian. Pakistan\\'s army chief General Asim Munir is the most powerful man in the country, but his popular support has surged after the worst conflict in decades with arch-rival India, shattering criticism ... Top News in Pakistan: Read Latest Breaking News on Pakistan Politics, Business, World, Sports, Lifestyle, CPEC, Articles, from pakobserver.'"
      ]
     },
     "execution_count": 6,
     "metadata": {},
     "output_type": "execute_result"
    }
   ],
   "source": [
    "results"
   ]
  },
  {
   "cell_type": "code",
   "execution_count": null,
   "id": "a6916dd7",
   "metadata": {},
   "outputs": [],
   "source": [
    "# Step 1: load the LLM\n",
    "llm = ChatOpenAI()"
   ]
  },
  {
   "cell_type": "code",
   "execution_count": null,
   "id": "ce648ac3",
   "metadata": {},
   "outputs": [],
   "source": [
    "# invoke the llm\n",
    "llm.invoke(\"hi\")"
   ]
  },
  {
   "cell_type": "code",
   "execution_count": 8,
   "id": "9df05828",
   "metadata": {},
   "outputs": [],
   "source": [
    "# weather tool\n",
    "@tool\n",
    "def get_weather_data(city: str) -> str:\n",
    "    \"\"\"\n",
    "    Get the weather data for a given city.\n",
    "    \"\"\"\n",
    "    url = f\"https://api.weatherstack.com/current?access_key=4d1d8ae207a8c845a52df8a67bf3623e&query={city}\"\n",
    "\n",
    "    response = requests.get(url)\n",
    "\n",
    "    return response.json()"
   ]
  },
  {
   "cell_type": "code",
   "execution_count": 9,
   "id": "15f5c262",
   "metadata": {},
   "outputs": [],
   "source": [
    "from langchain.agents import create_react_agent, AgentExecutor\n",
    "from langchain import hub"
   ]
  },
  {
   "cell_type": "code",
   "execution_count": 10,
   "id": "a3b35d0c",
   "metadata": {},
   "outputs": [
    {
     "name": "stderr",
     "output_type": "stream",
     "text": [
      "d:\\machine-learning\\Generative AI\\venv\\Lib\\site-packages\\langsmith\\client.py:272: LangSmithMissingAPIKeyWarning: API key must be provided when using hosted LangSmith API\n",
      "  warnings.warn(\n"
     ]
    }
   ],
   "source": [
    "# Step 2: Pull the ReAct prompt from langchain hub\n",
    "prompt = hub.pull(\"hwchase17/react\") # pull the standard ReAct prompt"
   ]
  },
  {
   "cell_type": "code",
   "execution_count": 13,
   "id": "9a212eca",
   "metadata": {},
   "outputs": [],
   "source": [
    "# step 3: create the ReAct agent manually with pulled prompt\n",
    "agent = create_react_agent(\n",
    "    llm=llm,\n",
    "    tools=[search_tool, get_weather_data],\n",
    "    prompt=prompt,\n",
    ")"
   ]
  },
  {
   "cell_type": "code",
   "execution_count": null,
   "id": "01236da3",
   "metadata": {},
   "outputs": [],
   "source": [
    "# step 4: Wrap it with AgentExecutor\n",
    "agent_executor = AgentExecutor(\n",
    "    agent=agent,\n",
    "    tools=[search_tool, get_weather_data],\n",
    "    verbose=True,\n",
    "    iterative=True,\n",
    ")"
   ]
  },
  {
   "cell_type": "code",
   "execution_count": null,
   "id": "e5fb3dd7",
   "metadata": {},
   "outputs": [],
   "source": [
    "# Step 5: Invoke\n",
    "response = agent_executor.invoke({\"input\": \"Find the capital of KPK, then find it's current weather condition\"})\n",
    "print(response)"
   ]
  },
  {
   "cell_type": "code",
   "execution_count": null,
   "id": "28232466",
   "metadata": {},
   "outputs": [],
   "source": [
    "response['output']"
   ]
  }
 ],
 "metadata": {
  "kernelspec": {
   "display_name": "venv",
   "language": "python",
   "name": "python3"
  },
  "language_info": {
   "codemirror_mode": {
    "name": "ipython",
    "version": 3
   },
   "file_extension": ".py",
   "mimetype": "text/x-python",
   "name": "python",
   "nbconvert_exporter": "python",
   "pygments_lexer": "ipython3",
   "version": "3.12.7"
  }
 },
 "nbformat": 4,
 "nbformat_minor": 5
}
