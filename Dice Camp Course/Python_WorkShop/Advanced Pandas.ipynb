{
 "cells": [
  {
   "cell_type": "markdown",
   "metadata": {},
   "source": [
    "## Advanced Pandas"
   ]
  },
  {
   "cell_type": "code",
   "execution_count": 53,
   "metadata": {},
   "outputs": [],
   "source": [
    "import pandas as pd\n",
    "import numpy as np"
   ]
  },
  {
   "cell_type": "code",
   "execution_count": 54,
   "metadata": {},
   "outputs": [],
   "source": [
    "pd.set_option('display.max_rows', None)  # Show all rows\n",
    "pd.set_option('display.max_columns', None)  # Show all columns\n",
    "pd.set_option('display.width', None)  # Disable line wrapping\n",
    "pd.set_option('display.max_colwidth', None)  # Show full column width\n",
    "pd.set_option('display.float_format', '{:.6f}'.format)  # To display floats without scientific notation"
   ]
  },
  {
   "cell_type": "markdown",
   "metadata": {},
   "source": [
    "- Read CSV file"
   ]
  },
  {
   "cell_type": "code",
   "execution_count": 55,
   "metadata": {},
   "outputs": [
    {
     "data": {
      "text/html": [
       "<div>\n",
       "<style scoped>\n",
       "    .dataframe tbody tr th:only-of-type {\n",
       "        vertical-align: middle;\n",
       "    }\n",
       "\n",
       "    .dataframe tbody tr th {\n",
       "        vertical-align: top;\n",
       "    }\n",
       "\n",
       "    .dataframe thead th {\n",
       "        text-align: right;\n",
       "    }\n",
       "</style>\n",
       "<table border=\"1\" class=\"dataframe\">\n",
       "  <thead>\n",
       "    <tr style=\"text-align: right;\">\n",
       "      <th></th>\n",
       "      <th>SNo</th>\n",
       "      <th>Date</th>\n",
       "      <th>StartupName</th>\n",
       "      <th>IndustryVertical</th>\n",
       "      <th>SubVertical</th>\n",
       "      <th>CityLocation</th>\n",
       "      <th>InvestorsName</th>\n",
       "      <th>InvestmentType</th>\n",
       "      <th>AmountInUSD</th>\n",
       "      <th>Remarks</th>\n",
       "    </tr>\n",
       "  </thead>\n",
       "  <tbody>\n",
       "    <tr>\n",
       "      <th>0</th>\n",
       "      <td>0</td>\n",
       "      <td>01/08/2017</td>\n",
       "      <td>TouchKin</td>\n",
       "      <td>Technology</td>\n",
       "      <td>Predictive Care Platform</td>\n",
       "      <td>Bangalore</td>\n",
       "      <td>Kae Capital</td>\n",
       "      <td>Private Equity</td>\n",
       "      <td>1300000.000000</td>\n",
       "      <td>NaN</td>\n",
       "    </tr>\n",
       "    <tr>\n",
       "      <th>1</th>\n",
       "      <td>1</td>\n",
       "      <td>02/08/2017</td>\n",
       "      <td>Ethinos</td>\n",
       "      <td>Technology</td>\n",
       "      <td>Digital Marketing Agency</td>\n",
       "      <td>Mumbai</td>\n",
       "      <td>Triton Investment Advisors</td>\n",
       "      <td>Private Equity</td>\n",
       "      <td>NaN</td>\n",
       "      <td>NaN</td>\n",
       "    </tr>\n",
       "    <tr>\n",
       "      <th>2</th>\n",
       "      <td>2</td>\n",
       "      <td>02/08/2017</td>\n",
       "      <td>Leverage Edu</td>\n",
       "      <td>Consumer Internet</td>\n",
       "      <td>Online platform for Higher Education Services</td>\n",
       "      <td>New Delhi</td>\n",
       "      <td>Kashyap Deorah, Anand Sankeshwar, Deepak Jain, Sadashiva NT, Arjun Mehta, Satish Kaul, Anindya Ghose</td>\n",
       "      <td>Seed Funding</td>\n",
       "      <td>NaN</td>\n",
       "      <td>NaN</td>\n",
       "    </tr>\n",
       "    <tr>\n",
       "      <th>3</th>\n",
       "      <td>3</td>\n",
       "      <td>02/08/2017</td>\n",
       "      <td>Zepo</td>\n",
       "      <td>Consumer Internet</td>\n",
       "      <td>DIY Ecommerce platform</td>\n",
       "      <td>Mumbai</td>\n",
       "      <td>Kunal Shah, LetsVenture, Anupam Mittal, Hetal Sonpal</td>\n",
       "      <td>Seed Funding</td>\n",
       "      <td>500000.000000</td>\n",
       "      <td>NaN</td>\n",
       "    </tr>\n",
       "    <tr>\n",
       "      <th>4</th>\n",
       "      <td>4</td>\n",
       "      <td>02/08/2017</td>\n",
       "      <td>Click2Clinic</td>\n",
       "      <td>Consumer Internet</td>\n",
       "      <td>healthcare service aggregator</td>\n",
       "      <td>Hyderabad</td>\n",
       "      <td>Narottam Thudi, Shireesh Palle</td>\n",
       "      <td>Seed Funding</td>\n",
       "      <td>850000.000000</td>\n",
       "      <td>NaN</td>\n",
       "    </tr>\n",
       "  </tbody>\n",
       "</table>\n",
       "</div>"
      ],
      "text/plain": [
       "   SNo        Date   StartupName   IndustryVertical  \\\n",
       "0    0  01/08/2017      TouchKin         Technology   \n",
       "1    1  02/08/2017       Ethinos         Technology   \n",
       "2    2  02/08/2017  Leverage Edu  Consumer Internet   \n",
       "3    3  02/08/2017          Zepo  Consumer Internet   \n",
       "4    4  02/08/2017  Click2Clinic  Consumer Internet   \n",
       "\n",
       "                                     SubVertical CityLocation  \\\n",
       "0                       Predictive Care Platform    Bangalore   \n",
       "1                       Digital Marketing Agency       Mumbai   \n",
       "2  Online platform for Higher Education Services    New Delhi   \n",
       "3                         DIY Ecommerce platform       Mumbai   \n",
       "4                  healthcare service aggregator    Hyderabad   \n",
       "\n",
       "                                                                                          InvestorsName  \\\n",
       "0                                                                                           Kae Capital   \n",
       "1                                                                            Triton Investment Advisors   \n",
       "2  Kashyap Deorah, Anand Sankeshwar, Deepak Jain, Sadashiva NT, Arjun Mehta, Satish Kaul, Anindya Ghose   \n",
       "3                                                  Kunal Shah, LetsVenture, Anupam Mittal, Hetal Sonpal   \n",
       "4                                                                        Narottam Thudi, Shireesh Palle   \n",
       "\n",
       "   InvestmentType    AmountInUSD Remarks  \n",
       "0  Private Equity 1300000.000000     NaN  \n",
       "1  Private Equity            NaN     NaN  \n",
       "2    Seed Funding            NaN     NaN  \n",
       "3    Seed Funding  500000.000000     NaN  \n",
       "4    Seed Funding  850000.000000     NaN  "
      ]
     },
     "execution_count": 55,
     "metadata": {},
     "output_type": "execute_result"
    }
   ],
   "source": [
    "data = pd.read_csv('startup_funding.csv', thousands=',')\n",
    "data.head()"
   ]
  },
  {
   "cell_type": "code",
   "execution_count": 56,
   "metadata": {},
   "outputs": [
    {
     "data": {
      "text/plain": [
       "(2372, 10)"
      ]
     },
     "execution_count": 56,
     "metadata": {},
     "output_type": "execute_result"
    }
   ],
   "source": [
    "data.shape"
   ]
  },
  {
   "cell_type": "code",
   "execution_count": 57,
   "metadata": {},
   "outputs": [
    {
     "data": {
      "text/html": [
       "<div>\n",
       "<style scoped>\n",
       "    .dataframe tbody tr th:only-of-type {\n",
       "        vertical-align: middle;\n",
       "    }\n",
       "\n",
       "    .dataframe tbody tr th {\n",
       "        vertical-align: top;\n",
       "    }\n",
       "\n",
       "    .dataframe thead th {\n",
       "        text-align: right;\n",
       "    }\n",
       "</style>\n",
       "<table border=\"1\" class=\"dataframe\">\n",
       "  <thead>\n",
       "    <tr style=\"text-align: right;\">\n",
       "      <th></th>\n",
       "      <th>SNo</th>\n",
       "      <th>AmountInUSD</th>\n",
       "    </tr>\n",
       "  </thead>\n",
       "  <tbody>\n",
       "    <tr>\n",
       "      <th>count</th>\n",
       "      <td>2372.000000</td>\n",
       "      <td>1525.000000</td>\n",
       "    </tr>\n",
       "    <tr>\n",
       "      <th>mean</th>\n",
       "      <td>1185.500000</td>\n",
       "      <td>12031073.099016</td>\n",
       "    </tr>\n",
       "    <tr>\n",
       "      <th>std</th>\n",
       "      <td>684.881742</td>\n",
       "      <td>64031175.128736</td>\n",
       "    </tr>\n",
       "    <tr>\n",
       "      <th>min</th>\n",
       "      <td>0.000000</td>\n",
       "      <td>16000.000000</td>\n",
       "    </tr>\n",
       "    <tr>\n",
       "      <th>25%</th>\n",
       "      <td>592.750000</td>\n",
       "      <td>370000.000000</td>\n",
       "    </tr>\n",
       "    <tr>\n",
       "      <th>50%</th>\n",
       "      <td>1185.500000</td>\n",
       "      <td>1070000.000000</td>\n",
       "    </tr>\n",
       "    <tr>\n",
       "      <th>75%</th>\n",
       "      <td>1778.250000</td>\n",
       "      <td>6000000.000000</td>\n",
       "    </tr>\n",
       "    <tr>\n",
       "      <th>max</th>\n",
       "      <td>2371.000000</td>\n",
       "      <td>1400000000.000000</td>\n",
       "    </tr>\n",
       "  </tbody>\n",
       "</table>\n",
       "</div>"
      ],
      "text/plain": [
       "              SNo       AmountInUSD\n",
       "count 2372.000000       1525.000000\n",
       "mean  1185.500000   12031073.099016\n",
       "std    684.881742   64031175.128736\n",
       "min      0.000000      16000.000000\n",
       "25%    592.750000     370000.000000\n",
       "50%   1185.500000    1070000.000000\n",
       "75%   1778.250000    6000000.000000\n",
       "max   2371.000000 1400000000.000000"
      ]
     },
     "execution_count": 57,
     "metadata": {},
     "output_type": "execute_result"
    }
   ],
   "source": [
    "data.describe()"
   ]
  },
  {
   "cell_type": "markdown",
   "metadata": {},
   "source": [
    "## Making a Copy of Data\n",
    "\n",
    "It is important to make a copy of data first, as in future if we corrupt the df by accident then we must have a copy to read data."
   ]
  },
  {
   "cell_type": "code",
   "execution_count": 58,
   "metadata": {},
   "outputs": [],
   "source": [
    "# this copy() method made a seperate copy\n",
    "df = data.copy()"
   ]
  },
  {
   "cell_type": "code",
   "execution_count": 59,
   "metadata": {},
   "outputs": [],
   "source": [
    "# it point out the data\n",
    "# they both are same - its just like a pointer\n",
    "df1 = data"
   ]
  },
  {
   "cell_type": "markdown",
   "metadata": {},
   "source": [
    "## Basic Data Explortion"
   ]
  },
  {
   "cell_type": "markdown",
   "metadata": {},
   "source": [
    "#### Getting Shape of Data"
   ]
  },
  {
   "cell_type": "code",
   "execution_count": 60,
   "metadata": {},
   "outputs": [
    {
     "data": {
      "text/plain": [
       "(2372, 10)"
      ]
     },
     "execution_count": 60,
     "metadata": {},
     "output_type": "execute_result"
    }
   ],
   "source": [
    "df.shape"
   ]
  },
  {
   "cell_type": "markdown",
   "metadata": {},
   "source": [
    "#### Getting a list of all columns in dataframe"
   ]
  },
  {
   "cell_type": "code",
   "execution_count": 61,
   "metadata": {},
   "outputs": [
    {
     "data": {
      "text/plain": [
       "Index(['SNo', 'Date', 'StartupName', 'IndustryVertical', 'SubVertical',\n",
       "       'CityLocation', 'InvestorsName', 'InvestmentType', 'AmountInUSD',\n",
       "       'Remarks'],\n",
       "      dtype='object')"
      ]
     },
     "execution_count": 61,
     "metadata": {},
     "output_type": "execute_result"
    }
   ],
   "source": [
    "df.columns"
   ]
  },
  {
   "cell_type": "markdown",
   "metadata": {},
   "source": [
    "#### Checking data types of all columns"
   ]
  },
  {
   "cell_type": "code",
   "execution_count": 62,
   "metadata": {},
   "outputs": [
    {
     "data": {
      "text/plain": [
       "SNo                   int64\n",
       "Date                 object\n",
       "StartupName          object\n",
       "IndustryVertical     object\n",
       "SubVertical          object\n",
       "CityLocation         object\n",
       "InvestorsName        object\n",
       "InvestmentType       object\n",
       "AmountInUSD         float64\n",
       "Remarks              object\n",
       "dtype: object"
      ]
     },
     "execution_count": 62,
     "metadata": {},
     "output_type": "execute_result"
    }
   ],
   "source": [
    "df.dtypes"
   ]
  },
  {
   "cell_type": "markdown",
   "metadata": {},
   "source": [
    "#### Getting Top/Bottom 5 Values"
   ]
  },
  {
   "cell_type": "code",
   "execution_count": 63,
   "metadata": {},
   "outputs": [
    {
     "data": {
      "text/html": [
       "<div>\n",
       "<style scoped>\n",
       "    .dataframe tbody tr th:only-of-type {\n",
       "        vertical-align: middle;\n",
       "    }\n",
       "\n",
       "    .dataframe tbody tr th {\n",
       "        vertical-align: top;\n",
       "    }\n",
       "\n",
       "    .dataframe thead th {\n",
       "        text-align: right;\n",
       "    }\n",
       "</style>\n",
       "<table border=\"1\" class=\"dataframe\">\n",
       "  <thead>\n",
       "    <tr style=\"text-align: right;\">\n",
       "      <th></th>\n",
       "      <th>SNo</th>\n",
       "      <th>Date</th>\n",
       "      <th>StartupName</th>\n",
       "      <th>IndustryVertical</th>\n",
       "      <th>SubVertical</th>\n",
       "      <th>CityLocation</th>\n",
       "      <th>InvestorsName</th>\n",
       "      <th>InvestmentType</th>\n",
       "      <th>AmountInUSD</th>\n",
       "      <th>Remarks</th>\n",
       "    </tr>\n",
       "  </thead>\n",
       "  <tbody>\n",
       "    <tr>\n",
       "      <th>0</th>\n",
       "      <td>0</td>\n",
       "      <td>01/08/2017</td>\n",
       "      <td>TouchKin</td>\n",
       "      <td>Technology</td>\n",
       "      <td>Predictive Care Platform</td>\n",
       "      <td>Bangalore</td>\n",
       "      <td>Kae Capital</td>\n",
       "      <td>Private Equity</td>\n",
       "      <td>1300000.000000</td>\n",
       "      <td>NaN</td>\n",
       "    </tr>\n",
       "    <tr>\n",
       "      <th>1</th>\n",
       "      <td>1</td>\n",
       "      <td>02/08/2017</td>\n",
       "      <td>Ethinos</td>\n",
       "      <td>Technology</td>\n",
       "      <td>Digital Marketing Agency</td>\n",
       "      <td>Mumbai</td>\n",
       "      <td>Triton Investment Advisors</td>\n",
       "      <td>Private Equity</td>\n",
       "      <td>NaN</td>\n",
       "      <td>NaN</td>\n",
       "    </tr>\n",
       "  </tbody>\n",
       "</table>\n",
       "</div>"
      ],
      "text/plain": [
       "   SNo        Date StartupName IndustryVertical               SubVertical  \\\n",
       "0    0  01/08/2017    TouchKin       Technology  Predictive Care Platform   \n",
       "1    1  02/08/2017     Ethinos       Technology  Digital Marketing Agency   \n",
       "\n",
       "  CityLocation               InvestorsName  InvestmentType    AmountInUSD  \\\n",
       "0    Bangalore                 Kae Capital  Private Equity 1300000.000000   \n",
       "1       Mumbai  Triton Investment Advisors  Private Equity            NaN   \n",
       "\n",
       "  Remarks  \n",
       "0     NaN  \n",
       "1     NaN  "
      ]
     },
     "execution_count": 63,
     "metadata": {},
     "output_type": "execute_result"
    }
   ],
   "source": [
    "df.head(2)"
   ]
  },
  {
   "cell_type": "code",
   "execution_count": 64,
   "metadata": {},
   "outputs": [
    {
     "data": {
      "text/html": [
       "<div>\n",
       "<style scoped>\n",
       "    .dataframe tbody tr th:only-of-type {\n",
       "        vertical-align: middle;\n",
       "    }\n",
       "\n",
       "    .dataframe tbody tr th {\n",
       "        vertical-align: top;\n",
       "    }\n",
       "\n",
       "    .dataframe thead th {\n",
       "        text-align: right;\n",
       "    }\n",
       "</style>\n",
       "<table border=\"1\" class=\"dataframe\">\n",
       "  <thead>\n",
       "    <tr style=\"text-align: right;\">\n",
       "      <th></th>\n",
       "      <th>SNo</th>\n",
       "      <th>Date</th>\n",
       "      <th>StartupName</th>\n",
       "      <th>IndustryVertical</th>\n",
       "      <th>SubVertical</th>\n",
       "      <th>CityLocation</th>\n",
       "      <th>InvestorsName</th>\n",
       "      <th>InvestmentType</th>\n",
       "      <th>AmountInUSD</th>\n",
       "      <th>Remarks</th>\n",
       "    </tr>\n",
       "  </thead>\n",
       "  <tbody>\n",
       "    <tr>\n",
       "      <th>2370</th>\n",
       "      <td>2370</td>\n",
       "      <td>30/01/2015</td>\n",
       "      <td>Simplotel</td>\n",
       "      <td>NaN</td>\n",
       "      <td>NaN</td>\n",
       "      <td>NaN</td>\n",
       "      <td>MakeMyTrip</td>\n",
       "      <td>Private Equity</td>\n",
       "      <td>NaN</td>\n",
       "      <td>Strategic Funding, Minority stake</td>\n",
       "    </tr>\n",
       "    <tr>\n",
       "      <th>2371</th>\n",
       "      <td>2371</td>\n",
       "      <td>31/01/2015</td>\n",
       "      <td>couponmachine.in</td>\n",
       "      <td>NaN</td>\n",
       "      <td>NaN</td>\n",
       "      <td>NaN</td>\n",
       "      <td>UK based Group of Angel Investors</td>\n",
       "      <td>Seed Funding</td>\n",
       "      <td>140000.000000</td>\n",
       "      <td>NaN</td>\n",
       "    </tr>\n",
       "  </tbody>\n",
       "</table>\n",
       "</div>"
      ],
      "text/plain": [
       "       SNo        Date       StartupName IndustryVertical SubVertical  \\\n",
       "2370  2370  30/01/2015         Simplotel              NaN         NaN   \n",
       "2371  2371  31/01/2015  couponmachine.in              NaN         NaN   \n",
       "\n",
       "     CityLocation                      InvestorsName  InvestmentType  \\\n",
       "2370          NaN                         MakeMyTrip  Private Equity   \n",
       "2371          NaN  UK based Group of Angel Investors    Seed Funding   \n",
       "\n",
       "       AmountInUSD                            Remarks  \n",
       "2370           NaN  Strategic Funding, Minority stake  \n",
       "2371 140000.000000                                NaN  "
      ]
     },
     "execution_count": 64,
     "metadata": {},
     "output_type": "execute_result"
    }
   ],
   "source": [
    "df.tail(2)"
   ]
  },
  {
   "cell_type": "markdown",
   "metadata": {},
   "source": [
    "#### Getting Summary of all columns"
   ]
  },
  {
   "cell_type": "code",
   "execution_count": 65,
   "metadata": {},
   "outputs": [
    {
     "data": {
      "text/html": [
       "<div>\n",
       "<style scoped>\n",
       "    .dataframe tbody tr th:only-of-type {\n",
       "        vertical-align: middle;\n",
       "    }\n",
       "\n",
       "    .dataframe tbody tr th {\n",
       "        vertical-align: top;\n",
       "    }\n",
       "\n",
       "    .dataframe thead th {\n",
       "        text-align: right;\n",
       "    }\n",
       "</style>\n",
       "<table border=\"1\" class=\"dataframe\">\n",
       "  <thead>\n",
       "    <tr style=\"text-align: right;\">\n",
       "      <th></th>\n",
       "      <th>SNo</th>\n",
       "      <th>AmountInUSD</th>\n",
       "    </tr>\n",
       "  </thead>\n",
       "  <tbody>\n",
       "    <tr>\n",
       "      <th>count</th>\n",
       "      <td>2372.000000</td>\n",
       "      <td>1525.000000</td>\n",
       "    </tr>\n",
       "    <tr>\n",
       "      <th>mean</th>\n",
       "      <td>1185.500000</td>\n",
       "      <td>12031073.099016</td>\n",
       "    </tr>\n",
       "    <tr>\n",
       "      <th>std</th>\n",
       "      <td>684.881742</td>\n",
       "      <td>64031175.128736</td>\n",
       "    </tr>\n",
       "    <tr>\n",
       "      <th>min</th>\n",
       "      <td>0.000000</td>\n",
       "      <td>16000.000000</td>\n",
       "    </tr>\n",
       "    <tr>\n",
       "      <th>25%</th>\n",
       "      <td>592.750000</td>\n",
       "      <td>370000.000000</td>\n",
       "    </tr>\n",
       "    <tr>\n",
       "      <th>50%</th>\n",
       "      <td>1185.500000</td>\n",
       "      <td>1070000.000000</td>\n",
       "    </tr>\n",
       "    <tr>\n",
       "      <th>75%</th>\n",
       "      <td>1778.250000</td>\n",
       "      <td>6000000.000000</td>\n",
       "    </tr>\n",
       "    <tr>\n",
       "      <th>max</th>\n",
       "      <td>2371.000000</td>\n",
       "      <td>1400000000.000000</td>\n",
       "    </tr>\n",
       "  </tbody>\n",
       "</table>\n",
       "</div>"
      ],
      "text/plain": [
       "              SNo       AmountInUSD\n",
       "count 2372.000000       1525.000000\n",
       "mean  1185.500000   12031073.099016\n",
       "std    684.881742   64031175.128736\n",
       "min      0.000000      16000.000000\n",
       "25%    592.750000     370000.000000\n",
       "50%   1185.500000    1070000.000000\n",
       "75%   1778.250000    6000000.000000\n",
       "max   2371.000000 1400000000.000000"
      ]
     },
     "execution_count": 65,
     "metadata": {},
     "output_type": "execute_result"
    }
   ],
   "source": [
    "df.describe()"
   ]
  },
  {
   "cell_type": "code",
   "execution_count": 66,
   "metadata": {},
   "outputs": [
    {
     "data": {
      "text/html": [
       "<div>\n",
       "<style scoped>\n",
       "    .dataframe tbody tr th:only-of-type {\n",
       "        vertical-align: middle;\n",
       "    }\n",
       "\n",
       "    .dataframe tbody tr th {\n",
       "        vertical-align: top;\n",
       "    }\n",
       "\n",
       "    .dataframe thead th {\n",
       "        text-align: right;\n",
       "    }\n",
       "</style>\n",
       "<table border=\"1\" class=\"dataframe\">\n",
       "  <thead>\n",
       "    <tr style=\"text-align: right;\">\n",
       "      <th></th>\n",
       "      <th>Date</th>\n",
       "      <th>StartupName</th>\n",
       "      <th>IndustryVertical</th>\n",
       "      <th>SubVertical</th>\n",
       "      <th>CityLocation</th>\n",
       "      <th>InvestorsName</th>\n",
       "      <th>InvestmentType</th>\n",
       "      <th>Remarks</th>\n",
       "    </tr>\n",
       "  </thead>\n",
       "  <tbody>\n",
       "    <tr>\n",
       "      <th>count</th>\n",
       "      <td>2372</td>\n",
       "      <td>2372</td>\n",
       "      <td>2201</td>\n",
       "      <td>1436</td>\n",
       "      <td>2193</td>\n",
       "      <td>2364</td>\n",
       "      <td>2371</td>\n",
       "      <td>419</td>\n",
       "    </tr>\n",
       "    <tr>\n",
       "      <th>unique</th>\n",
       "      <td>701</td>\n",
       "      <td>2001</td>\n",
       "      <td>743</td>\n",
       "      <td>1364</td>\n",
       "      <td>71</td>\n",
       "      <td>1885</td>\n",
       "      <td>7</td>\n",
       "      <td>69</td>\n",
       "    </tr>\n",
       "    <tr>\n",
       "      <th>top</th>\n",
       "      <td>02/02/2015</td>\n",
       "      <td>Swiggy</td>\n",
       "      <td>Consumer Internet</td>\n",
       "      <td>Online Pharmacy</td>\n",
       "      <td>Bangalore</td>\n",
       "      <td>Undisclosed Investors</td>\n",
       "      <td>Seed Funding</td>\n",
       "      <td>Series A</td>\n",
       "    </tr>\n",
       "    <tr>\n",
       "      <th>freq</th>\n",
       "      <td>11</td>\n",
       "      <td>7</td>\n",
       "      <td>772</td>\n",
       "      <td>9</td>\n",
       "      <td>627</td>\n",
       "      <td>33</td>\n",
       "      <td>1271</td>\n",
       "      <td>177</td>\n",
       "    </tr>\n",
       "  </tbody>\n",
       "</table>\n",
       "</div>"
      ],
      "text/plain": [
       "              Date StartupName   IndustryVertical      SubVertical  \\\n",
       "count         2372        2372               2201             1436   \n",
       "unique         701        2001                743             1364   \n",
       "top     02/02/2015      Swiggy  Consumer Internet  Online Pharmacy   \n",
       "freq            11           7                772                9   \n",
       "\n",
       "       CityLocation          InvestorsName InvestmentType   Remarks  \n",
       "count          2193                   2364           2371       419  \n",
       "unique           71                   1885              7        69  \n",
       "top       Bangalore  Undisclosed Investors   Seed Funding  Series A  \n",
       "freq            627                     33           1271       177  "
      ]
     },
     "execution_count": 66,
     "metadata": {},
     "output_type": "execute_result"
    }
   ],
   "source": [
    "# display the basic stats of object type\n",
    "df.describe(include='O')"
   ]
  },
  {
   "cell_type": "code",
   "execution_count": 67,
   "metadata": {},
   "outputs": [
    {
     "data": {
      "text/html": [
       "<div>\n",
       "<style scoped>\n",
       "    .dataframe tbody tr th:only-of-type {\n",
       "        vertical-align: middle;\n",
       "    }\n",
       "\n",
       "    .dataframe tbody tr th {\n",
       "        vertical-align: top;\n",
       "    }\n",
       "\n",
       "    .dataframe thead th {\n",
       "        text-align: right;\n",
       "    }\n",
       "</style>\n",
       "<table border=\"1\" class=\"dataframe\">\n",
       "  <thead>\n",
       "    <tr style=\"text-align: right;\">\n",
       "      <th></th>\n",
       "      <th>SNo</th>\n",
       "      <th>Date</th>\n",
       "      <th>StartupName</th>\n",
       "      <th>IndustryVertical</th>\n",
       "      <th>SubVertical</th>\n",
       "      <th>CityLocation</th>\n",
       "      <th>InvestorsName</th>\n",
       "      <th>InvestmentType</th>\n",
       "      <th>AmountInUSD</th>\n",
       "      <th>Remarks</th>\n",
       "    </tr>\n",
       "  </thead>\n",
       "  <tbody>\n",
       "    <tr>\n",
       "      <th>count</th>\n",
       "      <td>2372.000000</td>\n",
       "      <td>2372</td>\n",
       "      <td>2372</td>\n",
       "      <td>2201</td>\n",
       "      <td>1436</td>\n",
       "      <td>2193</td>\n",
       "      <td>2364</td>\n",
       "      <td>2371</td>\n",
       "      <td>1525.000000</td>\n",
       "      <td>419</td>\n",
       "    </tr>\n",
       "    <tr>\n",
       "      <th>unique</th>\n",
       "      <td>NaN</td>\n",
       "      <td>701</td>\n",
       "      <td>2001</td>\n",
       "      <td>743</td>\n",
       "      <td>1364</td>\n",
       "      <td>71</td>\n",
       "      <td>1885</td>\n",
       "      <td>7</td>\n",
       "      <td>NaN</td>\n",
       "      <td>69</td>\n",
       "    </tr>\n",
       "    <tr>\n",
       "      <th>top</th>\n",
       "      <td>NaN</td>\n",
       "      <td>02/02/2015</td>\n",
       "      <td>Swiggy</td>\n",
       "      <td>Consumer Internet</td>\n",
       "      <td>Online Pharmacy</td>\n",
       "      <td>Bangalore</td>\n",
       "      <td>Undisclosed Investors</td>\n",
       "      <td>Seed Funding</td>\n",
       "      <td>NaN</td>\n",
       "      <td>Series A</td>\n",
       "    </tr>\n",
       "    <tr>\n",
       "      <th>freq</th>\n",
       "      <td>NaN</td>\n",
       "      <td>11</td>\n",
       "      <td>7</td>\n",
       "      <td>772</td>\n",
       "      <td>9</td>\n",
       "      <td>627</td>\n",
       "      <td>33</td>\n",
       "      <td>1271</td>\n",
       "      <td>NaN</td>\n",
       "      <td>177</td>\n",
       "    </tr>\n",
       "    <tr>\n",
       "      <th>mean</th>\n",
       "      <td>1185.500000</td>\n",
       "      <td>NaN</td>\n",
       "      <td>NaN</td>\n",
       "      <td>NaN</td>\n",
       "      <td>NaN</td>\n",
       "      <td>NaN</td>\n",
       "      <td>NaN</td>\n",
       "      <td>NaN</td>\n",
       "      <td>12031073.099016</td>\n",
       "      <td>NaN</td>\n",
       "    </tr>\n",
       "    <tr>\n",
       "      <th>std</th>\n",
       "      <td>684.881742</td>\n",
       "      <td>NaN</td>\n",
       "      <td>NaN</td>\n",
       "      <td>NaN</td>\n",
       "      <td>NaN</td>\n",
       "      <td>NaN</td>\n",
       "      <td>NaN</td>\n",
       "      <td>NaN</td>\n",
       "      <td>64031175.128736</td>\n",
       "      <td>NaN</td>\n",
       "    </tr>\n",
       "    <tr>\n",
       "      <th>min</th>\n",
       "      <td>0.000000</td>\n",
       "      <td>NaN</td>\n",
       "      <td>NaN</td>\n",
       "      <td>NaN</td>\n",
       "      <td>NaN</td>\n",
       "      <td>NaN</td>\n",
       "      <td>NaN</td>\n",
       "      <td>NaN</td>\n",
       "      <td>16000.000000</td>\n",
       "      <td>NaN</td>\n",
       "    </tr>\n",
       "    <tr>\n",
       "      <th>25%</th>\n",
       "      <td>592.750000</td>\n",
       "      <td>NaN</td>\n",
       "      <td>NaN</td>\n",
       "      <td>NaN</td>\n",
       "      <td>NaN</td>\n",
       "      <td>NaN</td>\n",
       "      <td>NaN</td>\n",
       "      <td>NaN</td>\n",
       "      <td>370000.000000</td>\n",
       "      <td>NaN</td>\n",
       "    </tr>\n",
       "    <tr>\n",
       "      <th>50%</th>\n",
       "      <td>1185.500000</td>\n",
       "      <td>NaN</td>\n",
       "      <td>NaN</td>\n",
       "      <td>NaN</td>\n",
       "      <td>NaN</td>\n",
       "      <td>NaN</td>\n",
       "      <td>NaN</td>\n",
       "      <td>NaN</td>\n",
       "      <td>1070000.000000</td>\n",
       "      <td>NaN</td>\n",
       "    </tr>\n",
       "    <tr>\n",
       "      <th>75%</th>\n",
       "      <td>1778.250000</td>\n",
       "      <td>NaN</td>\n",
       "      <td>NaN</td>\n",
       "      <td>NaN</td>\n",
       "      <td>NaN</td>\n",
       "      <td>NaN</td>\n",
       "      <td>NaN</td>\n",
       "      <td>NaN</td>\n",
       "      <td>6000000.000000</td>\n",
       "      <td>NaN</td>\n",
       "    </tr>\n",
       "    <tr>\n",
       "      <th>max</th>\n",
       "      <td>2371.000000</td>\n",
       "      <td>NaN</td>\n",
       "      <td>NaN</td>\n",
       "      <td>NaN</td>\n",
       "      <td>NaN</td>\n",
       "      <td>NaN</td>\n",
       "      <td>NaN</td>\n",
       "      <td>NaN</td>\n",
       "      <td>1400000000.000000</td>\n",
       "      <td>NaN</td>\n",
       "    </tr>\n",
       "  </tbody>\n",
       "</table>\n",
       "</div>"
      ],
      "text/plain": [
       "               SNo        Date StartupName   IndustryVertical  \\\n",
       "count  2372.000000        2372        2372               2201   \n",
       "unique         NaN         701        2001                743   \n",
       "top            NaN  02/02/2015      Swiggy  Consumer Internet   \n",
       "freq           NaN          11           7                772   \n",
       "mean   1185.500000         NaN         NaN                NaN   \n",
       "std     684.881742         NaN         NaN                NaN   \n",
       "min       0.000000         NaN         NaN                NaN   \n",
       "25%     592.750000         NaN         NaN                NaN   \n",
       "50%    1185.500000         NaN         NaN                NaN   \n",
       "75%    1778.250000         NaN         NaN                NaN   \n",
       "max    2371.000000         NaN         NaN                NaN   \n",
       "\n",
       "            SubVertical CityLocation          InvestorsName InvestmentType  \\\n",
       "count              1436         2193                   2364           2371   \n",
       "unique             1364           71                   1885              7   \n",
       "top     Online Pharmacy    Bangalore  Undisclosed Investors   Seed Funding   \n",
       "freq                  9          627                     33           1271   \n",
       "mean                NaN          NaN                    NaN            NaN   \n",
       "std                 NaN          NaN                    NaN            NaN   \n",
       "min                 NaN          NaN                    NaN            NaN   \n",
       "25%                 NaN          NaN                    NaN            NaN   \n",
       "50%                 NaN          NaN                    NaN            NaN   \n",
       "75%                 NaN          NaN                    NaN            NaN   \n",
       "max                 NaN          NaN                    NaN            NaN   \n",
       "\n",
       "             AmountInUSD   Remarks  \n",
       "count        1525.000000       419  \n",
       "unique               NaN        69  \n",
       "top                  NaN  Series A  \n",
       "freq                 NaN       177  \n",
       "mean     12031073.099016       NaN  \n",
       "std      64031175.128736       NaN  \n",
       "min         16000.000000       NaN  \n",
       "25%        370000.000000       NaN  \n",
       "50%       1070000.000000       NaN  \n",
       "75%       6000000.000000       NaN  \n",
       "max    1400000000.000000       NaN  "
      ]
     },
     "execution_count": 67,
     "metadata": {},
     "output_type": "execute_result"
    }
   ],
   "source": [
    "# display all the column stats\n",
    "df.describe(include='all')"
   ]
  },
  {
   "cell_type": "markdown",
   "metadata": {},
   "source": [
    "#### Getting Unique values of single column"
   ]
  },
  {
   "cell_type": "code",
   "execution_count": 68,
   "metadata": {},
   "outputs": [
    {
     "data": {
      "text/plain": [
       "7"
      ]
     },
     "execution_count": 68,
     "metadata": {},
     "output_type": "execute_result"
    }
   ],
   "source": [
    "df['InvestmentType'].nunique() # returns numbers of unique values"
   ]
  },
  {
   "cell_type": "code",
   "execution_count": 69,
   "metadata": {},
   "outputs": [
    {
     "data": {
      "text/plain": [
       "array(['Private Equity', 'Seed Funding', 'Debt Funding', nan,\n",
       "       'SeedFunding', 'PrivateEquity', 'Crowd funding', 'Crowd Funding'],\n",
       "      dtype=object)"
      ]
     },
     "execution_count": 69,
     "metadata": {},
     "output_type": "execute_result"
    }
   ],
   "source": [
    "df['InvestmentType'].unique()"
   ]
  },
  {
   "cell_type": "code",
   "execution_count": 70,
   "metadata": {},
   "outputs": [
    {
     "data": {
      "text/plain": [
       "InvestmentType\n",
       "Seed Funding      1271\n",
       "Private Equity    1066\n",
       "SeedFunding         30\n",
       "Debt Funding         1\n",
       "PrivateEquity        1\n",
       "Crowd funding        1\n",
       "Crowd Funding        1\n",
       "Name: count, dtype: int64"
      ]
     },
     "execution_count": 70,
     "metadata": {},
     "output_type": "execute_result"
    }
   ],
   "source": [
    "df['InvestmentType'].value_counts()"
   ]
  },
  {
   "cell_type": "markdown",
   "metadata": {},
   "source": [
    "#### Missing Values\n",
    "\n",
    "Checking which columns have missing values"
   ]
  },
  {
   "cell_type": "code",
   "execution_count": 71,
   "metadata": {},
   "outputs": [
    {
     "data": {
      "text/plain": [
       "SNo                    0\n",
       "Date                   0\n",
       "StartupName            0\n",
       "IndustryVertical     171\n",
       "SubVertical          936\n",
       "CityLocation         179\n",
       "InvestorsName          8\n",
       "InvestmentType         1\n",
       "AmountInUSD          847\n",
       "Remarks             1953\n",
       "dtype: int64"
      ]
     },
     "execution_count": 71,
     "metadata": {},
     "output_type": "execute_result"
    }
   ],
   "source": [
    "df.isnull().sum()"
   ]
  },
  {
   "cell_type": "markdown",
   "metadata": {},
   "source": [
    "- Filling missing values"
   ]
  },
  {
   "cell_type": "code",
   "execution_count": 72,
   "metadata": {},
   "outputs": [
    {
     "data": {
      "text/html": [
       "<div>\n",
       "<style scoped>\n",
       "    .dataframe tbody tr th:only-of-type {\n",
       "        vertical-align: middle;\n",
       "    }\n",
       "\n",
       "    .dataframe tbody tr th {\n",
       "        vertical-align: top;\n",
       "    }\n",
       "\n",
       "    .dataframe thead th {\n",
       "        text-align: right;\n",
       "    }\n",
       "</style>\n",
       "<table border=\"1\" class=\"dataframe\">\n",
       "  <thead>\n",
       "    <tr style=\"text-align: right;\">\n",
       "      <th></th>\n",
       "      <th>SNo</th>\n",
       "      <th>Date</th>\n",
       "      <th>StartupName</th>\n",
       "      <th>IndustryVertical</th>\n",
       "      <th>SubVertical</th>\n",
       "      <th>CityLocation</th>\n",
       "      <th>InvestorsName</th>\n",
       "      <th>InvestmentType</th>\n",
       "      <th>AmountInUSD</th>\n",
       "      <th>Remarks</th>\n",
       "    </tr>\n",
       "  </thead>\n",
       "  <tbody>\n",
       "    <tr>\n",
       "      <th>0</th>\n",
       "      <td>0</td>\n",
       "      <td>01/08/2017</td>\n",
       "      <td>TouchKin</td>\n",
       "      <td>Technology</td>\n",
       "      <td>Predictive Care Platform</td>\n",
       "      <td>Bangalore</td>\n",
       "      <td>Kae Capital</td>\n",
       "      <td>Private Equity</td>\n",
       "      <td>1300000.000000</td>\n",
       "      <td>NaN</td>\n",
       "    </tr>\n",
       "    <tr>\n",
       "      <th>1</th>\n",
       "      <td>1</td>\n",
       "      <td>02/08/2017</td>\n",
       "      <td>Ethinos</td>\n",
       "      <td>Technology</td>\n",
       "      <td>Digital Marketing Agency</td>\n",
       "      <td>Mumbai</td>\n",
       "      <td>Triton Investment Advisors</td>\n",
       "      <td>Private Equity</td>\n",
       "      <td>NaN</td>\n",
       "      <td>NaN</td>\n",
       "    </tr>\n",
       "    <tr>\n",
       "      <th>2</th>\n",
       "      <td>2</td>\n",
       "      <td>02/08/2017</td>\n",
       "      <td>Leverage Edu</td>\n",
       "      <td>Consumer Internet</td>\n",
       "      <td>Online platform for Higher Education Services</td>\n",
       "      <td>New Delhi</td>\n",
       "      <td>Kashyap Deorah, Anand Sankeshwar, Deepak Jain, Sadashiva NT, Arjun Mehta, Satish Kaul, Anindya Ghose</td>\n",
       "      <td>Seed Funding</td>\n",
       "      <td>NaN</td>\n",
       "      <td>NaN</td>\n",
       "    </tr>\n",
       "  </tbody>\n",
       "</table>\n",
       "</div>"
      ],
      "text/plain": [
       "   SNo        Date   StartupName   IndustryVertical  \\\n",
       "0    0  01/08/2017      TouchKin         Technology   \n",
       "1    1  02/08/2017       Ethinos         Technology   \n",
       "2    2  02/08/2017  Leverage Edu  Consumer Internet   \n",
       "\n",
       "                                     SubVertical CityLocation  \\\n",
       "0                       Predictive Care Platform    Bangalore   \n",
       "1                       Digital Marketing Agency       Mumbai   \n",
       "2  Online platform for Higher Education Services    New Delhi   \n",
       "\n",
       "                                                                                          InvestorsName  \\\n",
       "0                                                                                           Kae Capital   \n",
       "1                                                                            Triton Investment Advisors   \n",
       "2  Kashyap Deorah, Anand Sankeshwar, Deepak Jain, Sadashiva NT, Arjun Mehta, Satish Kaul, Anindya Ghose   \n",
       "\n",
       "   InvestmentType    AmountInUSD Remarks  \n",
       "0  Private Equity 1300000.000000     NaN  \n",
       "1  Private Equity            NaN     NaN  \n",
       "2    Seed Funding            NaN     NaN  "
      ]
     },
     "execution_count": 72,
     "metadata": {},
     "output_type": "execute_result"
    }
   ],
   "source": [
    "df.head(3)"
   ]
  },
  {
   "cell_type": "code",
   "execution_count": 73,
   "metadata": {},
   "outputs": [],
   "source": [
    "# fill missing values\n",
    "# df.fillna(0, inplace=True)"
   ]
  },
  {
   "cell_type": "code",
   "execution_count": 74,
   "metadata": {},
   "outputs": [
    {
     "name": "stderr",
     "output_type": "stream",
     "text": [
      "C:\\Users\\khan\\AppData\\Local\\Temp\\ipykernel_18596\\2582305221.py:1: FutureWarning: A value is trying to be set on a copy of a DataFrame or Series through chained assignment using an inplace method.\n",
      "The behavior will change in pandas 3.0. This inplace method will never work because the intermediate object on which we are setting values always behaves as a copy.\n",
      "\n",
      "For example, when doing 'df[col].method(value, inplace=True)', try using 'df.method({col: value}, inplace=True)' or df[col] = df[col].method(value) instead, to perform the operation inplace on the original object.\n",
      "\n",
      "\n",
      "  df['AmountInUSD'].fillna(0, inplace=True)\n"
     ]
    }
   ],
   "source": [
    "df['AmountInUSD'].fillna(0, inplace=True)"
   ]
  },
  {
   "cell_type": "code",
   "execution_count": 75,
   "metadata": {},
   "outputs": [
    {
     "data": {
      "text/html": [
       "<div>\n",
       "<style scoped>\n",
       "    .dataframe tbody tr th:only-of-type {\n",
       "        vertical-align: middle;\n",
       "    }\n",
       "\n",
       "    .dataframe tbody tr th {\n",
       "        vertical-align: top;\n",
       "    }\n",
       "\n",
       "    .dataframe thead th {\n",
       "        text-align: right;\n",
       "    }\n",
       "</style>\n",
       "<table border=\"1\" class=\"dataframe\">\n",
       "  <thead>\n",
       "    <tr style=\"text-align: right;\">\n",
       "      <th></th>\n",
       "      <th>SNo</th>\n",
       "      <th>Date</th>\n",
       "      <th>StartupName</th>\n",
       "      <th>IndustryVertical</th>\n",
       "      <th>SubVertical</th>\n",
       "      <th>CityLocation</th>\n",
       "      <th>InvestorsName</th>\n",
       "      <th>InvestmentType</th>\n",
       "      <th>AmountInUSD</th>\n",
       "      <th>Remarks</th>\n",
       "    </tr>\n",
       "  </thead>\n",
       "  <tbody>\n",
       "    <tr>\n",
       "      <th>0</th>\n",
       "      <td>0</td>\n",
       "      <td>01/08/2017</td>\n",
       "      <td>TouchKin</td>\n",
       "      <td>Technology</td>\n",
       "      <td>Predictive Care Platform</td>\n",
       "      <td>Bangalore</td>\n",
       "      <td>Kae Capital</td>\n",
       "      <td>Private Equity</td>\n",
       "      <td>1300000.000000</td>\n",
       "      <td>NaN</td>\n",
       "    </tr>\n",
       "    <tr>\n",
       "      <th>1</th>\n",
       "      <td>1</td>\n",
       "      <td>02/08/2017</td>\n",
       "      <td>Ethinos</td>\n",
       "      <td>Technology</td>\n",
       "      <td>Digital Marketing Agency</td>\n",
       "      <td>Mumbai</td>\n",
       "      <td>Triton Investment Advisors</td>\n",
       "      <td>Private Equity</td>\n",
       "      <td>0.000000</td>\n",
       "      <td>NaN</td>\n",
       "    </tr>\n",
       "    <tr>\n",
       "      <th>2</th>\n",
       "      <td>2</td>\n",
       "      <td>02/08/2017</td>\n",
       "      <td>Leverage Edu</td>\n",
       "      <td>Consumer Internet</td>\n",
       "      <td>Online platform for Higher Education Services</td>\n",
       "      <td>New Delhi</td>\n",
       "      <td>Kashyap Deorah, Anand Sankeshwar, Deepak Jain, Sadashiva NT, Arjun Mehta, Satish Kaul, Anindya Ghose</td>\n",
       "      <td>Seed Funding</td>\n",
       "      <td>0.000000</td>\n",
       "      <td>NaN</td>\n",
       "    </tr>\n",
       "  </tbody>\n",
       "</table>\n",
       "</div>"
      ],
      "text/plain": [
       "   SNo        Date   StartupName   IndustryVertical  \\\n",
       "0    0  01/08/2017      TouchKin         Technology   \n",
       "1    1  02/08/2017       Ethinos         Technology   \n",
       "2    2  02/08/2017  Leverage Edu  Consumer Internet   \n",
       "\n",
       "                                     SubVertical CityLocation  \\\n",
       "0                       Predictive Care Platform    Bangalore   \n",
       "1                       Digital Marketing Agency       Mumbai   \n",
       "2  Online platform for Higher Education Services    New Delhi   \n",
       "\n",
       "                                                                                          InvestorsName  \\\n",
       "0                                                                                           Kae Capital   \n",
       "1                                                                            Triton Investment Advisors   \n",
       "2  Kashyap Deorah, Anand Sankeshwar, Deepak Jain, Sadashiva NT, Arjun Mehta, Satish Kaul, Anindya Ghose   \n",
       "\n",
       "   InvestmentType    AmountInUSD Remarks  \n",
       "0  Private Equity 1300000.000000     NaN  \n",
       "1  Private Equity       0.000000     NaN  \n",
       "2    Seed Funding       0.000000     NaN  "
      ]
     },
     "execution_count": 75,
     "metadata": {},
     "output_type": "execute_result"
    }
   ],
   "source": [
    "df.head(3)"
   ]
  },
  {
   "cell_type": "markdown",
   "metadata": {},
   "source": [
    "#### Treating all missing values at once"
   ]
  },
  {
   "cell_type": "code",
   "execution_count": 76,
   "metadata": {},
   "outputs": [],
   "source": [
    "# simply give Others argument and it will fill all the missing values\n",
    "df.fillna('Others', inplace=True)"
   ]
  },
  {
   "cell_type": "code",
   "execution_count": 77,
   "metadata": {},
   "outputs": [
    {
     "data": {
      "text/plain": [
       "SNo                 0\n",
       "Date                0\n",
       "StartupName         0\n",
       "IndustryVertical    0\n",
       "SubVertical         0\n",
       "CityLocation        0\n",
       "InvestorsName       0\n",
       "InvestmentType      0\n",
       "AmountInUSD         0\n",
       "Remarks             0\n",
       "dtype: int64"
      ]
     },
     "execution_count": 77,
     "metadata": {},
     "output_type": "execute_result"
    }
   ],
   "source": [
    "df.isnull().sum()"
   ]
  },
  {
   "cell_type": "markdown",
   "metadata": {},
   "source": [
    "### Duplicates\n",
    "\n",
    "`duplicated()` returned the duplicated values and `sum()` count all the duplicated values"
   ]
  },
  {
   "cell_type": "code",
   "execution_count": 78,
   "metadata": {},
   "outputs": [
    {
     "data": {
      "text/plain": [
       "371"
      ]
     },
     "execution_count": 78,
     "metadata": {},
     "output_type": "execute_result"
    }
   ],
   "source": [
    "df['StartupName'].duplicated().sum()"
   ]
  },
  {
   "cell_type": "code",
   "execution_count": 80,
   "metadata": {},
   "outputs": [
    {
     "data": {
      "text/html": [
       "<div>\n",
       "<style scoped>\n",
       "    .dataframe tbody tr th:only-of-type {\n",
       "        vertical-align: middle;\n",
       "    }\n",
       "\n",
       "    .dataframe tbody tr th {\n",
       "        vertical-align: top;\n",
       "    }\n",
       "\n",
       "    .dataframe thead th {\n",
       "        text-align: right;\n",
       "    }\n",
       "</style>\n",
       "<table border=\"1\" class=\"dataframe\">\n",
       "  <thead>\n",
       "    <tr style=\"text-align: right;\">\n",
       "      <th></th>\n",
       "      <th>SNo</th>\n",
       "      <th>Date</th>\n",
       "      <th>StartupName</th>\n",
       "      <th>IndustryVertical</th>\n",
       "      <th>SubVertical</th>\n",
       "      <th>CityLocation</th>\n",
       "      <th>InvestorsName</th>\n",
       "      <th>InvestmentType</th>\n",
       "      <th>AmountInUSD</th>\n",
       "      <th>Remarks</th>\n",
       "    </tr>\n",
       "  </thead>\n",
       "  <tbody>\n",
       "    <tr>\n",
       "      <th>76</th>\n",
       "      <td>76</td>\n",
       "      <td>14/06/2017</td>\n",
       "      <td>Ola</td>\n",
       "      <td>Consumer Internet</td>\n",
       "      <td>Cab Aggregation App</td>\n",
       "      <td>Bangalore</td>\n",
       "      <td>Tekne Capital Management LLC</td>\n",
       "      <td>Private Equity</td>\n",
       "      <td>50000000.000000</td>\n",
       "      <td>Others</td>\n",
       "    </tr>\n",
       "    <tr>\n",
       "      <th>119</th>\n",
       "      <td>119</td>\n",
       "      <td>03/05/2017</td>\n",
       "      <td>Ola</td>\n",
       "      <td>Consumer Internet</td>\n",
       "      <td>Cab Aggregation App</td>\n",
       "      <td>Bangalore</td>\n",
       "      <td>Falcon Edge Capital,  Capital Advisers</td>\n",
       "      <td>Private Equity</td>\n",
       "      <td>104500000.000000</td>\n",
       "      <td>Others</td>\n",
       "    </tr>\n",
       "    <tr>\n",
       "      <th>252</th>\n",
       "      <td>252</td>\n",
       "      <td>01/03/2017</td>\n",
       "      <td>Ola</td>\n",
       "      <td>Consumer Internet</td>\n",
       "      <td>App based cab aggregator</td>\n",
       "      <td>Bangalore</td>\n",
       "      <td>SoftBank Group Corp</td>\n",
       "      <td>Private Equity</td>\n",
       "      <td>330000000.000000</td>\n",
       "      <td>Others</td>\n",
       "    </tr>\n",
       "    <tr>\n",
       "      <th>1572</th>\n",
       "      <td>1572</td>\n",
       "      <td>18/11/2015</td>\n",
       "      <td>Ola</td>\n",
       "      <td>Car Aggregator &amp; Retail Mobile App</td>\n",
       "      <td>Others</td>\n",
       "      <td>Bangalore</td>\n",
       "      <td>Baillie Gifford, Falcon Edge Capital, Tiger Global, SoftBank Group, DST Global, Didi Kuaidi</td>\n",
       "      <td>Private Equity</td>\n",
       "      <td>500000000.000000</td>\n",
       "      <td>Series F ( More Details Here)</td>\n",
       "    </tr>\n",
       "  </tbody>\n",
       "</table>\n",
       "</div>"
      ],
      "text/plain": [
       "       SNo        Date StartupName                    IndustryVertical  \\\n",
       "76      76  14/06/2017         Ola                   Consumer Internet   \n",
       "119    119  03/05/2017         Ola                   Consumer Internet   \n",
       "252    252  01/03/2017         Ola                   Consumer Internet   \n",
       "1572  1572  18/11/2015         Ola  Car Aggregator & Retail Mobile App   \n",
       "\n",
       "                   SubVertical CityLocation  \\\n",
       "76         Cab Aggregation App    Bangalore   \n",
       "119        Cab Aggregation App    Bangalore   \n",
       "252   App based cab aggregator    Bangalore   \n",
       "1572                    Others    Bangalore   \n",
       "\n",
       "                                                                                    InvestorsName  \\\n",
       "76                                                                   Tekne Capital Management LLC   \n",
       "119                                                        Falcon Edge Capital,  Capital Advisers   \n",
       "252                                                                           SoftBank Group Corp   \n",
       "1572  Baillie Gifford, Falcon Edge Capital, Tiger Global, SoftBank Group, DST Global, Didi Kuaidi   \n",
       "\n",
       "      InvestmentType      AmountInUSD                        Remarks  \n",
       "76    Private Equity  50000000.000000                         Others  \n",
       "119   Private Equity 104500000.000000                         Others  \n",
       "252   Private Equity 330000000.000000                         Others  \n",
       "1572  Private Equity 500000000.000000  Series F ( More Details Here)  "
      ]
     },
     "execution_count": 80,
     "metadata": {},
     "output_type": "execute_result"
    }
   ],
   "source": [
    "df[df['StartupName'] == 'Ola']"
   ]
  },
  {
   "cell_type": "code",
   "execution_count": 81,
   "metadata": {},
   "outputs": [],
   "source": [
    "# display all the duplicated rows\n",
    "# df[df['StartupName'].duplicated()]"
   ]
  },
  {
   "cell_type": "markdown",
   "metadata": {},
   "source": [
    "### Checking for whole row duplicates "
   ]
  },
  {
   "cell_type": "code",
   "execution_count": 85,
   "metadata": {},
   "outputs": [
    {
     "data": {
      "text/html": [
       "<div>\n",
       "<style scoped>\n",
       "    .dataframe tbody tr th:only-of-type {\n",
       "        vertical-align: middle;\n",
       "    }\n",
       "\n",
       "    .dataframe tbody tr th {\n",
       "        vertical-align: top;\n",
       "    }\n",
       "\n",
       "    .dataframe thead th {\n",
       "        text-align: right;\n",
       "    }\n",
       "</style>\n",
       "<table border=\"1\" class=\"dataframe\">\n",
       "  <thead>\n",
       "    <tr style=\"text-align: right;\">\n",
       "      <th></th>\n",
       "      <th>SNo</th>\n",
       "      <th>Date</th>\n",
       "      <th>StartupName</th>\n",
       "      <th>IndustryVertical</th>\n",
       "      <th>SubVertical</th>\n",
       "      <th>CityLocation</th>\n",
       "      <th>InvestorsName</th>\n",
       "      <th>InvestmentType</th>\n",
       "      <th>AmountInUSD</th>\n",
       "      <th>Remarks</th>\n",
       "    </tr>\n",
       "  </thead>\n",
       "  <tbody>\n",
       "  </tbody>\n",
       "</table>\n",
       "</div>"
      ],
      "text/plain": [
       "Empty DataFrame\n",
       "Columns: [SNo, Date, StartupName, IndustryVertical, SubVertical, CityLocation, InvestorsName, InvestmentType, AmountInUSD, Remarks]\n",
       "Index: []"
      ]
     },
     "execution_count": 85,
     "metadata": {},
     "output_type": "execute_result"
    }
   ],
   "source": [
    "df[df.duplicated()]"
   ]
  },
  {
   "cell_type": "markdown",
   "metadata": {},
   "source": [
    "#### Deleting Duplicates from specific column"
   ]
  },
  {
   "cell_type": "code",
   "execution_count": 86,
   "metadata": {},
   "outputs": [
    {
     "data": {
      "text/plain": [
       "(2372, 10)"
      ]
     },
     "execution_count": 86,
     "metadata": {},
     "output_type": "execute_result"
    }
   ],
   "source": [
    "df.shape"
   ]
  },
  {
   "cell_type": "code",
   "execution_count": 87,
   "metadata": {},
   "outputs": [
    {
     "data": {
      "text/plain": [
       "(2001, 10)"
      ]
     },
     "execution_count": 87,
     "metadata": {},
     "output_type": "execute_result"
    }
   ],
   "source": [
    "df.drop_duplicates(['StartupName'], keep='first').shape # default is first"
   ]
  },
  {
   "cell_type": "code",
   "execution_count": 88,
   "metadata": {},
   "outputs": [
    {
     "data": {
      "text/plain": [
       "(2001, 10)"
      ]
     },
     "execution_count": 88,
     "metadata": {},
     "output_type": "execute_result"
    }
   ],
   "source": [
    "df.drop_duplicates(['StartupName'], keep='last').shape # keeps the last instance and delete the rest"
   ]
  },
  {
   "cell_type": "code",
   "execution_count": 89,
   "metadata": {},
   "outputs": [
    {
     "data": {
      "text/plain": [
       "(1720, 10)"
      ]
     },
     "execution_count": 89,
     "metadata": {},
     "output_type": "execute_result"
    }
   ],
   "source": [
    "df.drop_duplicates(['StartupName'], keep=False).shape # deletes all the occurences of duplicates so none is left"
   ]
  },
  {
   "cell_type": "markdown",
   "metadata": {},
   "source": [
    "### Delete whole row duplicates"
   ]
  },
  {
   "cell_type": "code",
   "execution_count": 90,
   "metadata": {},
   "outputs": [
    {
     "data": {
      "text/plain": [
       "(2372, 10)"
      ]
     },
     "execution_count": 90,
     "metadata": {},
     "output_type": "execute_result"
    }
   ],
   "source": [
    "# deletes whole row duplicates\n",
    "df.drop_duplicates().shape"
   ]
  },
  {
   "cell_type": "code",
   "execution_count": 91,
   "metadata": {},
   "outputs": [
    {
     "data": {
      "text/plain": [
       "(2372, 10)"
      ]
     },
     "execution_count": 91,
     "metadata": {},
     "output_type": "execute_result"
    }
   ],
   "source": [
    "df.shape"
   ]
  },
  {
   "cell_type": "markdown",
   "metadata": {},
   "source": [
    "- Now we will use inplace=True to save the dataframe"
   ]
  },
  {
   "cell_type": "code",
   "execution_count": 92,
   "metadata": {},
   "outputs": [
    {
     "data": {
      "text/plain": [
       "(2372, 10)"
      ]
     },
     "execution_count": 92,
     "metadata": {},
     "output_type": "execute_result"
    }
   ],
   "source": [
    "df.drop_duplicates(inplace=True)\n",
    "df.shape"
   ]
  },
  {
   "cell_type": "markdown",
   "metadata": {},
   "source": [
    "### Selecting / Dropping Columns"
   ]
  },
  {
   "cell_type": "markdown",
   "metadata": {},
   "source": [
    "- **Selecting Columns**"
   ]
  },
  {
   "cell_type": "code",
   "execution_count": 94,
   "metadata": {},
   "outputs": [],
   "source": [
    "df[['Date','CityLocation', 'AmountInUSD']]"
   ]
  },
  {
   "cell_type": "markdown",
   "metadata": {},
   "source": [
    "- **Dropping Columns**"
   ]
  },
  {
   "cell_type": "code",
   "execution_count": 101,
   "metadata": {},
   "outputs": [],
   "source": [
    "df['index'] = 999"
   ]
  },
  {
   "cell_type": "code",
   "execution_count": 102,
   "metadata": {},
   "outputs": [
    {
     "data": {
      "text/plain": [
       "Index(['SNo', 'Date', 'StartupName', 'IndustryVertical', 'SubVertical',\n",
       "       'CityLocation', 'InvestorsName', 'InvestmentType', 'AmountInUSD',\n",
       "       'Remarks', 'index'],\n",
       "      dtype='object')"
      ]
     },
     "execution_count": 102,
     "metadata": {},
     "output_type": "execute_result"
    }
   ],
   "source": [
    "df.columns"
   ]
  },
  {
   "cell_type": "code",
   "execution_count": 103,
   "metadata": {},
   "outputs": [],
   "source": [
    "df.drop('index', axis=1, inplace=True)"
   ]
  },
  {
   "cell_type": "code",
   "execution_count": 104,
   "metadata": {},
   "outputs": [
    {
     "data": {
      "text/plain": [
       "Index(['SNo', 'Date', 'StartupName', 'IndustryVertical', 'SubVertical',\n",
       "       'CityLocation', 'InvestorsName', 'InvestmentType', 'AmountInUSD',\n",
       "       'Remarks'],\n",
       "      dtype='object')"
      ]
     },
     "execution_count": 104,
     "metadata": {},
     "output_type": "execute_result"
    }
   ],
   "source": [
    "df.columns"
   ]
  },
  {
   "cell_type": "markdown",
   "metadata": {},
   "source": [
    "### String Operations on Whole Columns"
   ]
  },
  {
   "cell_type": "code",
   "execution_count": 105,
   "metadata": {},
   "outputs": [
    {
     "data": {
      "text/plain": [
       "array(['Private Equity', 'Seed Funding', 'Debt Funding', 'Others',\n",
       "       'SeedFunding', 'PrivateEquity', 'Crowd funding', 'Crowd Funding'],\n",
       "      dtype=object)"
      ]
     },
     "execution_count": 105,
     "metadata": {},
     "output_type": "execute_result"
    }
   ],
   "source": [
    "df['InvestmentType'].unique()"
   ]
  },
  {
   "cell_type": "markdown",
   "metadata": {},
   "source": [
    "- **String Replacement**"
   ]
  },
  {
   "cell_type": "code",
   "execution_count": 106,
   "metadata": {},
   "outputs": [
    {
     "data": {
      "text/plain": [
       "array(['Private Equity', 'Seed Funding', 'Debt Funding', 'Others',\n",
       "       'SeedFunding', 'Crowd funding', 'Crowd Funding'], dtype=object)"
      ]
     },
     "execution_count": 106,
     "metadata": {},
     "output_type": "execute_result"
    }
   ],
   "source": [
    "# first parameter in str.replace is one which we want to replace and\n",
    "# the second one is with which we are replacing it\n",
    "df['InvestmentType'].replace('PrivateEquity', 'Private Equity').unique()"
   ]
  },
  {
   "cell_type": "code",
   "execution_count": 107,
   "metadata": {},
   "outputs": [
    {
     "data": {
      "text/plain": [
       "array(['Private Equity', 'Seed Funding', 'Debt Funding', 'Others',\n",
       "       'SeedFunding', 'PrivateEquity', 'Crowd funding', 'Crowd Funding'],\n",
       "      dtype=object)"
      ]
     },
     "execution_count": 107,
     "metadata": {},
     "output_type": "execute_result"
    }
   ],
   "source": [
    "df['InvestmentType'].unique()"
   ]
  },
  {
   "cell_type": "code",
   "execution_count": 109,
   "metadata": {},
   "outputs": [],
   "source": [
    "df['InvestmentType'] = df['InvestmentType'].replace('PrivateEquity', 'Private Equity')"
   ]
  },
  {
   "cell_type": "code",
   "execution_count": 110,
   "metadata": {},
   "outputs": [
    {
     "data": {
      "text/plain": [
       "array(['Private Equity', 'Seed Funding', 'Debt Funding', 'Others',\n",
       "       'SeedFunding', 'Crowd funding', 'Crowd Funding'], dtype=object)"
      ]
     },
     "execution_count": 110,
     "metadata": {},
     "output_type": "execute_result"
    }
   ],
   "source": [
    "df['InvestmentType'].unique()"
   ]
  },
  {
   "cell_type": "code",
   "execution_count": 112,
   "metadata": {},
   "outputs": [],
   "source": [
    "df['InvestmentType'] = df['InvestmentType'].replace('SeedFunding', 'Seed Funding')\n",
    "df['InvestmentType'] = df['InvestmentType'].replace('Crowd funding', 'Crowd Funding')"
   ]
  },
  {
   "cell_type": "code",
   "execution_count": 113,
   "metadata": {},
   "outputs": [
    {
     "data": {
      "text/plain": [
       "array(['Private Equity', 'Seed Funding', 'Debt Funding', 'Others',\n",
       "       'Crowd Funding'], dtype=object)"
      ]
     },
     "execution_count": 113,
     "metadata": {},
     "output_type": "execute_result"
    }
   ],
   "source": [
    "df['InvestmentType'].unique()"
   ]
  },
  {
   "cell_type": "markdown",
   "metadata": {},
   "source": [
    "### Capitalization"
   ]
  },
  {
   "cell_type": "code",
   "execution_count": 116,
   "metadata": {},
   "outputs": [
    {
     "data": {
      "text/plain": [
       "array(['Bangalore', 'Mumbai', 'New Delhi', 'Hyderabad', 'Ahmedabad',\n",
       "       'Gurgaon', 'Noida', 'Pune', 'Kolkata', 'bangalore', 'Trivandrum',\n",
       "       'Chennai', 'Chandigarh', 'Jaipur', 'Vadodara', 'Surat',\n",
       "       'Missourie', 'Panaji', 'Gwalior', 'Karur', 'Udupi', 'Kochi',\n",
       "       'Indore', 'Singapore', 'Goa', 'Agra', 'Bangalore/ Bangkok',\n",
       "       'Hubli', 'Delhi', 'Kerala', 'Kozhikode', 'US', 'Coimbatore',\n",
       "       'Siliguri', 'Others', 'USA', 'Lucknow', 'Kanpur',\n",
       "       'SFO / Bangalore', 'London', 'Seattle / Bangalore', 'Pune/Seattle',\n",
       "       'Pune / Dubai', 'Bangalore / SFO', 'Varanasi', 'Bhopal',\n",
       "       'New Delhi / US', 'Mumbai / UK', 'Jodhpur', 'Hyderabad/USA',\n",
       "       'Boston', 'Bangalore / Palo Alto', 'Mumbai / NY', 'USA/India',\n",
       "       'Goa/Hyderabad', 'Noida / Singapore', 'Belgaum', 'Pune / US',\n",
       "       'Chennai/ Singapore', 'Pune / Singapore', 'Bangalore / San Mateo',\n",
       "       'New York/ India', 'US/India', 'Gurgaon / SFO', 'Bangalore / USA',\n",
       "       'New Delhi/ Houston', 'Nagpur', 'Mumbai / Global', 'India / US',\n",
       "       'Udaipur', 'New Delhi / California', 'Dallas / Hyderabad'],\n",
       "      dtype=object)"
      ]
     },
     "execution_count": 116,
     "metadata": {},
     "output_type": "execute_result"
    }
   ],
   "source": [
    "df['CityLocation'].value_counts()\n",
    "df['CityLocation'].unique()"
   ]
  },
  {
   "cell_type": "code",
   "execution_count": 119,
   "metadata": {},
   "outputs": [],
   "source": [
    "df['CityLocation'].str.upper()\n",
    "df['CityLocation'].str.lower()\n",
    "df['CityLocation'].str.title()\n",
    "df['CityLocation'] = df['CityLocation'].str.title() # save to dataframe"
   ]
  },
  {
   "cell_type": "code",
   "execution_count": 121,
   "metadata": {},
   "outputs": [
    {
     "data": {
      "text/html": [
       "<div>\n",
       "<style scoped>\n",
       "    .dataframe tbody tr th:only-of-type {\n",
       "        vertical-align: middle;\n",
       "    }\n",
       "\n",
       "    .dataframe tbody tr th {\n",
       "        vertical-align: top;\n",
       "    }\n",
       "\n",
       "    .dataframe thead th {\n",
       "        text-align: right;\n",
       "    }\n",
       "</style>\n",
       "<table border=\"1\" class=\"dataframe\">\n",
       "  <thead>\n",
       "    <tr style=\"text-align: right;\">\n",
       "      <th></th>\n",
       "      <th>SNo</th>\n",
       "      <th>Date</th>\n",
       "      <th>StartupName</th>\n",
       "      <th>IndustryVertical</th>\n",
       "      <th>SubVertical</th>\n",
       "      <th>CityLocation</th>\n",
       "      <th>InvestorsName</th>\n",
       "      <th>InvestmentType</th>\n",
       "      <th>AmountInUSD</th>\n",
       "      <th>Remarks</th>\n",
       "    </tr>\n",
       "  </thead>\n",
       "  <tbody>\n",
       "    <tr>\n",
       "      <th>0</th>\n",
       "      <td>0</td>\n",
       "      <td>01/08/2017</td>\n",
       "      <td>TouchKin</td>\n",
       "      <td>Technology</td>\n",
       "      <td>Predictive Care Platform</td>\n",
       "      <td>Bangalore</td>\n",
       "      <td>Kae Capital</td>\n",
       "      <td>Private Equity</td>\n",
       "      <td>1300000.000000</td>\n",
       "      <td>Others</td>\n",
       "    </tr>\n",
       "    <tr>\n",
       "      <th>1</th>\n",
       "      <td>1</td>\n",
       "      <td>02/08/2017</td>\n",
       "      <td>Ethinos</td>\n",
       "      <td>Technology</td>\n",
       "      <td>Digital Marketing Agency</td>\n",
       "      <td>Mumbai</td>\n",
       "      <td>Triton Investment Advisors</td>\n",
       "      <td>Private Equity</td>\n",
       "      <td>0.000000</td>\n",
       "      <td>Others</td>\n",
       "    </tr>\n",
       "  </tbody>\n",
       "</table>\n",
       "</div>"
      ],
      "text/plain": [
       "   SNo        Date StartupName IndustryVertical               SubVertical  \\\n",
       "0    0  01/08/2017    TouchKin       Technology  Predictive Care Platform   \n",
       "1    1  02/08/2017     Ethinos       Technology  Digital Marketing Agency   \n",
       "\n",
       "  CityLocation               InvestorsName  InvestmentType    AmountInUSD  \\\n",
       "0    Bangalore                 Kae Capital  Private Equity 1300000.000000   \n",
       "1       Mumbai  Triton Investment Advisors  Private Equity       0.000000   \n",
       "\n",
       "  Remarks  \n",
       "0  Others  \n",
       "1  Others  "
      ]
     },
     "execution_count": 121,
     "metadata": {},
     "output_type": "execute_result"
    }
   ],
   "source": [
    "df.head(2)"
   ]
  },
  {
   "cell_type": "markdown",
   "metadata": {},
   "source": [
    "### Checking if there is a substring in each column value"
   ]
  },
  {
   "cell_type": "code",
   "execution_count": 123,
   "metadata": {},
   "outputs": [
    {
     "data": {
      "text/plain": [
       "1"
      ]
     },
     "execution_count": 123,
     "metadata": {},
     "output_type": "execute_result"
    }
   ],
   "source": [
    "s = 'Dice'\n",
    "s.find('ice')"
   ]
  },
  {
   "cell_type": "code",
   "execution_count": 127,
   "metadata": {},
   "outputs": [
    {
     "data": {
      "text/plain": [
       "InvestorsName\n",
       "False    2361\n",
       "True       11\n",
       "Name: count, dtype: int64"
      ]
     },
     "execution_count": 127,
     "metadata": {},
     "output_type": "execute_result"
    }
   ],
   "source": [
    "df['InvestorsName'].str.contains('Khan').value_counts()"
   ]
  },
  {
   "cell_type": "code",
   "execution_count": 125,
   "metadata": {},
   "outputs": [
    {
     "data": {
      "text/html": [
       "<div>\n",
       "<style scoped>\n",
       "    .dataframe tbody tr th:only-of-type {\n",
       "        vertical-align: middle;\n",
       "    }\n",
       "\n",
       "    .dataframe tbody tr th {\n",
       "        vertical-align: top;\n",
       "    }\n",
       "\n",
       "    .dataframe thead th {\n",
       "        text-align: right;\n",
       "    }\n",
       "</style>\n",
       "<table border=\"1\" class=\"dataframe\">\n",
       "  <thead>\n",
       "    <tr style=\"text-align: right;\">\n",
       "      <th></th>\n",
       "      <th>SNo</th>\n",
       "      <th>Date</th>\n",
       "      <th>StartupName</th>\n",
       "      <th>IndustryVertical</th>\n",
       "      <th>SubVertical</th>\n",
       "      <th>CityLocation</th>\n",
       "      <th>InvestorsName</th>\n",
       "      <th>InvestmentType</th>\n",
       "      <th>AmountInUSD</th>\n",
       "      <th>Remarks</th>\n",
       "    </tr>\n",
       "  </thead>\n",
       "  <tbody>\n",
       "    <tr>\n",
       "      <th>81</th>\n",
       "      <td>81</td>\n",
       "      <td>16/06/2017</td>\n",
       "      <td>Fincash</td>\n",
       "      <td>Consumer Internet</td>\n",
       "      <td>Personal Finance platform</td>\n",
       "      <td>Mumbai</td>\n",
       "      <td>Mohammed Khan, Sameer Narayan &amp; Others</td>\n",
       "      <td>Seed Funding</td>\n",
       "      <td>100000.000000</td>\n",
       "      <td>Others</td>\n",
       "    </tr>\n",
       "    <tr>\n",
       "      <th>780</th>\n",
       "      <td>780</td>\n",
       "      <td>17/08/2016</td>\n",
       "      <td>MaalGaadi</td>\n",
       "      <td>Logistics</td>\n",
       "      <td>Online Logistics Marketplace</td>\n",
       "      <td>Indore</td>\n",
       "      <td>Swan Angel Network,Sachin Khandelwal and others</td>\n",
       "      <td>Seed Funding</td>\n",
       "      <td>375000.000000</td>\n",
       "      <td>Others</td>\n",
       "    </tr>\n",
       "    <tr>\n",
       "      <th>871</th>\n",
       "      <td>871</td>\n",
       "      <td>15/07/2016</td>\n",
       "      <td>BaggOut</td>\n",
       "      <td>eCommerce</td>\n",
       "      <td>Women’s Fashion etailer</td>\n",
       "      <td>New Delhi</td>\n",
       "      <td>Sumit Jain, Sumit Jain, Anurag Gupta, Varun Khanna, Faraz Khan</td>\n",
       "      <td>Seed Funding</td>\n",
       "      <td>0.000000</td>\n",
       "      <td>Others</td>\n",
       "    </tr>\n",
       "    <tr>\n",
       "      <th>920</th>\n",
       "      <td>920</td>\n",
       "      <td>10/06/2016</td>\n",
       "      <td>Kickstart Jobs</td>\n",
       "      <td>Technology</td>\n",
       "      <td>Entry level hiring platform</td>\n",
       "      <td>Gurgaon</td>\n",
       "      <td>Vivek Joshi, Mohit Satyanand, Amit Banati, Arun Khanna</td>\n",
       "      <td>Seed Funding</td>\n",
       "      <td>0.000000</td>\n",
       "      <td>Others</td>\n",
       "    </tr>\n",
       "    <tr>\n",
       "      <th>947</th>\n",
       "      <td>947</td>\n",
       "      <td>17/06/2016</td>\n",
       "      <td>BYG</td>\n",
       "      <td>Consumer Internet</td>\n",
       "      <td>Fitness centre Discovery &amp; Booking Mobile app</td>\n",
       "      <td>Bangalore</td>\n",
       "      <td>Sanjay Verma, Amit Khanna (LetsVenture)</td>\n",
       "      <td>Seed Funding</td>\n",
       "      <td>0.000000</td>\n",
       "      <td>Others</td>\n",
       "    </tr>\n",
       "    <tr>\n",
       "      <th>1094</th>\n",
       "      <td>1094</td>\n",
       "      <td>13/04/2016</td>\n",
       "      <td>Legalraasta</td>\n",
       "      <td>Consumer Internet</td>\n",
       "      <td>Online legal Services for Startups</td>\n",
       "      <td>New Delhi</td>\n",
       "      <td>Pravin Khandelwal, Yatin Kumar Jain</td>\n",
       "      <td>Seed Funding</td>\n",
       "      <td>1000000.000000</td>\n",
       "      <td>Others</td>\n",
       "    </tr>\n",
       "    <tr>\n",
       "      <th>1155</th>\n",
       "      <td>1155</td>\n",
       "      <td>03/3/2016</td>\n",
       "      <td>Imarticus Learning</td>\n",
       "      <td>Education</td>\n",
       "      <td>Financial Services &amp; Analytics Education Institute</td>\n",
       "      <td>Mumbai</td>\n",
       "      <td>Blinc Advisors, Amit Nanavati, Tashwinder Singh, Taranjit Jaswal, Amit Khanna</td>\n",
       "      <td>Private Equity</td>\n",
       "      <td>1000000.000000</td>\n",
       "      <td>Others</td>\n",
       "    </tr>\n",
       "    <tr>\n",
       "      <th>1581</th>\n",
       "      <td>1581</td>\n",
       "      <td>19/11/2015</td>\n",
       "      <td>PlaceofOrigin</td>\n",
       "      <td>Online Gourmet Food Marketplace</td>\n",
       "      <td>Others</td>\n",
       "      <td>Bangalore</td>\n",
       "      <td>S.D. Shibulal, Kris Gopalakrishnan, Srinath Batni, Professor Tarun Khanna,  Ganapathy Venugopal.</td>\n",
       "      <td>Seed Funding</td>\n",
       "      <td>0.000000</td>\n",
       "      <td>Others</td>\n",
       "    </tr>\n",
       "    <tr>\n",
       "      <th>1598</th>\n",
       "      <td>1598</td>\n",
       "      <td>25/11/2015</td>\n",
       "      <td>Tooler</td>\n",
       "      <td>On Demand Laundry Services App</td>\n",
       "      <td>Others</td>\n",
       "      <td>New Delhi</td>\n",
       "      <td>Raghu Khanna, Sameer Gupta</td>\n",
       "      <td>Seed Funding</td>\n",
       "      <td>110000.000000</td>\n",
       "      <td>Others</td>\n",
       "    </tr>\n",
       "    <tr>\n",
       "      <th>1793</th>\n",
       "      <td>1793</td>\n",
       "      <td>29/09/2015</td>\n",
       "      <td>LoanCircle</td>\n",
       "      <td>Consumer lending marketplace</td>\n",
       "      <td>Others</td>\n",
       "      <td>Bangalore</td>\n",
       "      <td>Zishaan Hayath, Rahul Khanna &amp; Others</td>\n",
       "      <td>Seed Funding</td>\n",
       "      <td>0.000000</td>\n",
       "      <td>Others</td>\n",
       "    </tr>\n",
       "    <tr>\n",
       "      <th>1905</th>\n",
       "      <td>1905</td>\n",
       "      <td>02/07/2015</td>\n",
       "      <td>Zenatix</td>\n",
       "      <td>Internet of Things platform</td>\n",
       "      <td>Others</td>\n",
       "      <td>Gurgaon</td>\n",
       "      <td>Rajan Anandan, Kunal Bahl, Rohit Bansal, Rahul Khanna</td>\n",
       "      <td>Seed Funding</td>\n",
       "      <td>161000.000000</td>\n",
       "      <td>Others</td>\n",
       "    </tr>\n",
       "  </tbody>\n",
       "</table>\n",
       "</div>"
      ],
      "text/plain": [
       "       SNo        Date         StartupName                 IndustryVertical  \\\n",
       "81      81  16/06/2017             Fincash                Consumer Internet   \n",
       "780    780  17/08/2016           MaalGaadi                        Logistics   \n",
       "871    871  15/07/2016             BaggOut                        eCommerce   \n",
       "920    920  10/06/2016      Kickstart Jobs                       Technology   \n",
       "947    947  17/06/2016                 BYG                Consumer Internet   \n",
       "1094  1094  13/04/2016         Legalraasta                Consumer Internet   \n",
       "1155  1155   03/3/2016  Imarticus Learning                        Education   \n",
       "1581  1581  19/11/2015       PlaceofOrigin  Online Gourmet Food Marketplace   \n",
       "1598  1598  25/11/2015              Tooler   On Demand Laundry Services App   \n",
       "1793  1793  29/09/2015          LoanCircle     Consumer lending marketplace   \n",
       "1905  1905  02/07/2015             Zenatix      Internet of Things platform   \n",
       "\n",
       "                                             SubVertical CityLocation  \\\n",
       "81                             Personal Finance platform       Mumbai   \n",
       "780                         Online Logistics Marketplace       Indore   \n",
       "871                              Women’s Fashion etailer    New Delhi   \n",
       "920                          Entry level hiring platform      Gurgaon   \n",
       "947        Fitness centre Discovery & Booking Mobile app    Bangalore   \n",
       "1094                  Online legal Services for Startups    New Delhi   \n",
       "1155  Financial Services & Analytics Education Institute       Mumbai   \n",
       "1581                                              Others    Bangalore   \n",
       "1598                                              Others    New Delhi   \n",
       "1793                                              Others    Bangalore   \n",
       "1905                                              Others      Gurgaon   \n",
       "\n",
       "                                                                                         InvestorsName  \\\n",
       "81                                                              Mohammed Khan, Sameer Narayan & Others   \n",
       "780                                                    Swan Angel Network,Sachin Khandelwal and others   \n",
       "871                                     Sumit Jain, Sumit Jain, Anurag Gupta, Varun Khanna, Faraz Khan   \n",
       "920                                             Vivek Joshi, Mohit Satyanand, Amit Banati, Arun Khanna   \n",
       "947                                                            Sanjay Verma, Amit Khanna (LetsVenture)   \n",
       "1094                                                               Pravin Khandelwal, Yatin Kumar Jain   \n",
       "1155                     Blinc Advisors, Amit Nanavati, Tashwinder Singh, Taranjit Jaswal, Amit Khanna   \n",
       "1581  S.D. Shibulal, Kris Gopalakrishnan, Srinath Batni, Professor Tarun Khanna,  Ganapathy Venugopal.   \n",
       "1598                                                                        Raghu Khanna, Sameer Gupta   \n",
       "1793                                                             Zishaan Hayath, Rahul Khanna & Others   \n",
       "1905                                             Rajan Anandan, Kunal Bahl, Rohit Bansal, Rahul Khanna   \n",
       "\n",
       "      InvestmentType    AmountInUSD Remarks  \n",
       "81      Seed Funding  100000.000000  Others  \n",
       "780     Seed Funding  375000.000000  Others  \n",
       "871     Seed Funding       0.000000  Others  \n",
       "920     Seed Funding       0.000000  Others  \n",
       "947     Seed Funding       0.000000  Others  \n",
       "1094    Seed Funding 1000000.000000  Others  \n",
       "1155  Private Equity 1000000.000000  Others  \n",
       "1581    Seed Funding       0.000000  Others  \n",
       "1598    Seed Funding  110000.000000  Others  \n",
       "1793    Seed Funding       0.000000  Others  \n",
       "1905    Seed Funding  161000.000000  Others  "
      ]
     },
     "execution_count": 125,
     "metadata": {},
     "output_type": "execute_result"
    }
   ],
   "source": [
    "df[df['InvestorsName'].str.contains('Khan')]"
   ]
  },
  {
   "cell_type": "markdown",
   "metadata": {},
   "source": [
    "### Dataframe.at vs Dataframe.loc"
   ]
  },
  {
   "cell_type": "code",
   "execution_count": 128,
   "metadata": {},
   "outputs": [
    {
     "data": {
      "text/plain": [
       "SNo                                      133\n",
       "Date                              09/05/2017\n",
       "StartupName                       Curie Labs\n",
       "IndustryVertical                  Technology\n",
       "SubVertical         Energy Analytics startup\n",
       "CityLocation                       New Delhi\n",
       "InvestorsName                Satoshi Studios\n",
       "InvestmentType                  Seed Funding\n",
       "AmountInUSD                     50000.000000\n",
       "Remarks                               Others\n",
       "Name: 133, dtype: object"
      ]
     },
     "execution_count": 128,
     "metadata": {},
     "output_type": "execute_result"
    }
   ],
   "source": [
    "df.loc[133, ]"
   ]
  },
  {
   "cell_type": "code",
   "execution_count": 129,
   "metadata": {},
   "outputs": [],
   "source": [
    "df.loc[133, 'IndustryVertical'] = 'abc'"
   ]
  },
  {
   "cell_type": "code",
   "execution_count": 131,
   "metadata": {},
   "outputs": [],
   "source": [
    "df.at[133, 'IndustryVertical'] = 'Technology'"
   ]
  },
  {
   "cell_type": "code",
   "execution_count": 132,
   "metadata": {},
   "outputs": [
    {
     "data": {
      "text/plain": [
       "SNo                                      133\n",
       "Date                              09/05/2017\n",
       "StartupName                       Curie Labs\n",
       "IndustryVertical                  Technology\n",
       "SubVertical         Energy Analytics startup\n",
       "CityLocation                       New Delhi\n",
       "InvestorsName                Satoshi Studios\n",
       "InvestmentType                  Seed Funding\n",
       "AmountInUSD                     50000.000000\n",
       "Remarks                               Others\n",
       "Name: 133, dtype: object"
      ]
     },
     "execution_count": 132,
     "metadata": {},
     "output_type": "execute_result"
    }
   ],
   "source": [
    "df.loc[133]"
   ]
  },
  {
   "cell_type": "code",
   "execution_count": 133,
   "metadata": {},
   "outputs": [],
   "source": [
    "# replace the value of startup name at row 133\n",
    "df.at[133, 'StartupName'] = 'Zubair Labs'"
   ]
  },
  {
   "cell_type": "code",
   "execution_count": 134,
   "metadata": {},
   "outputs": [
    {
     "data": {
      "text/plain": [
       "SNo                                      133\n",
       "Date                              09/05/2017\n",
       "StartupName                      Zubair Labs\n",
       "IndustryVertical                  Technology\n",
       "SubVertical         Energy Analytics startup\n",
       "CityLocation                       New Delhi\n",
       "InvestorsName                Satoshi Studios\n",
       "InvestmentType                  Seed Funding\n",
       "AmountInUSD                     50000.000000\n",
       "Remarks                               Others\n",
       "Name: 133, dtype: object"
      ]
     },
     "execution_count": 134,
     "metadata": {},
     "output_type": "execute_result"
    }
   ],
   "source": [
    "df.loc[133]"
   ]
  },
  {
   "cell_type": "code",
   "execution_count": 135,
   "metadata": {},
   "outputs": [
    {
     "name": "stdout",
     "output_type": "stream",
     "text": [
      "11.1 µs ± 3.82 µs per loop (mean ± std. dev. of 7 runs, 100,000 loops each)\n"
     ]
    }
   ],
   "source": [
    "# at is fast as compare to loc\n",
    "%timeit df.at[133, 'StartupName']"
   ]
  },
  {
   "cell_type": "code",
   "execution_count": 137,
   "metadata": {},
   "outputs": [
    {
     "name": "stdout",
     "output_type": "stream",
     "text": [
      "15.2 µs ± 1.64 µs per loop (mean ± std. dev. of 7 runs, 10,000 loops each)\n"
     ]
    }
   ],
   "source": [
    "%timeit df.loc[133, 'StartupName']"
   ]
  },
  {
   "cell_type": "markdown",
   "metadata": {},
   "source": [
    "## **Joins**"
   ]
  },
  {
   "cell_type": "code",
   "execution_count": 140,
   "metadata": {},
   "outputs": [
    {
     "name": "stdout",
     "output_type": "stream",
     "text": [
      "(10, 10)\n",
      "(10, 3)\n",
      "(7, 4)\n"
     ]
    },
    {
     "data": {
      "text/html": [
       "<div>\n",
       "<style scoped>\n",
       "    .dataframe tbody tr th:only-of-type {\n",
       "        vertical-align: middle;\n",
       "    }\n",
       "\n",
       "    .dataframe tbody tr th {\n",
       "        vertical-align: top;\n",
       "    }\n",
       "\n",
       "    .dataframe thead th {\n",
       "        text-align: right;\n",
       "    }\n",
       "</style>\n",
       "<table border=\"1\" class=\"dataframe\">\n",
       "  <thead>\n",
       "    <tr style=\"text-align: right;\">\n",
       "      <th></th>\n",
       "      <th>SNo</th>\n",
       "      <th>Date</th>\n",
       "      <th>CityLocation</th>\n",
       "    </tr>\n",
       "  </thead>\n",
       "  <tbody>\n",
       "    <tr>\n",
       "      <th>0</th>\n",
       "      <td>0</td>\n",
       "      <td>01/08/2017</td>\n",
       "      <td>Bangalore</td>\n",
       "    </tr>\n",
       "    <tr>\n",
       "      <th>1</th>\n",
       "      <td>1</td>\n",
       "      <td>02/08/2017</td>\n",
       "      <td>Mumbai</td>\n",
       "    </tr>\n",
       "    <tr>\n",
       "      <th>2</th>\n",
       "      <td>2</td>\n",
       "      <td>02/08/2017</td>\n",
       "      <td>New Delhi</td>\n",
       "    </tr>\n",
       "    <tr>\n",
       "      <th>3</th>\n",
       "      <td>3</td>\n",
       "      <td>02/08/2017</td>\n",
       "      <td>Mumbai</td>\n",
       "    </tr>\n",
       "    <tr>\n",
       "      <th>4</th>\n",
       "      <td>4</td>\n",
       "      <td>02/08/2017</td>\n",
       "      <td>Hyderabad</td>\n",
       "    </tr>\n",
       "    <tr>\n",
       "      <th>5</th>\n",
       "      <td>5</td>\n",
       "      <td>01/07/2017</td>\n",
       "      <td>Bangalore</td>\n",
       "    </tr>\n",
       "    <tr>\n",
       "      <th>6</th>\n",
       "      <td>6</td>\n",
       "      <td>03/07/2017</td>\n",
       "      <td>Ahmedabad</td>\n",
       "    </tr>\n",
       "    <tr>\n",
       "      <th>7</th>\n",
       "      <td>7</td>\n",
       "      <td>04/07/2017</td>\n",
       "      <td>Gurgaon</td>\n",
       "    </tr>\n",
       "    <tr>\n",
       "      <th>8</th>\n",
       "      <td>8</td>\n",
       "      <td>05/07/2017</td>\n",
       "      <td>Bangalore</td>\n",
       "    </tr>\n",
       "    <tr>\n",
       "      <th>9</th>\n",
       "      <td>9</td>\n",
       "      <td>05/07/2017</td>\n",
       "      <td>Noida</td>\n",
       "    </tr>\n",
       "  </tbody>\n",
       "</table>\n",
       "</div>"
      ],
      "text/plain": [
       "   SNo        Date CityLocation\n",
       "0    0  01/08/2017    Bangalore\n",
       "1    1  02/08/2017       Mumbai\n",
       "2    2  02/08/2017    New Delhi\n",
       "3    3  02/08/2017       Mumbai\n",
       "4    4  02/08/2017    Hyderabad\n",
       "5    5  01/07/2017    Bangalore\n",
       "6    6  03/07/2017    Ahmedabad\n",
       "7    7  04/07/2017      Gurgaon\n",
       "8    8  05/07/2017    Bangalore\n",
       "9    9  05/07/2017        Noida"
      ]
     },
     "execution_count": 140,
     "metadata": {},
     "output_type": "execute_result"
    }
   ],
   "source": [
    "rows1 = df[0:10]\n",
    "rows2 = df[5:12]\n",
    "print(rows1.shape)\n",
    "rows1\n",
    "table1 = rows1[['SNo', 'Date', 'CityLocation']]\n",
    "table2 = rows2[['SNo', 'StartupName', 'IndustryVertical', 'InvestmentType']]\n",
    "print(table1.shape)\n",
    "print(table2.shape)\n",
    "table1"
   ]
  },
  {
   "cell_type": "markdown",
   "metadata": {},
   "source": [
    "- table1 merge with table2 **merge(table, how='right', on='SNo')**\n",
    "- Most simply, we can explicitly specify the name of the key column using the **on** keyword.\n",
    "- **how** keyword are **'inner', 'outer', 'left' and 'right'**\n",
    "- An outer join returns a join over the union of the input columns, and fills in all missing values with NaN "
   ]
  },
  {
   "cell_type": "code",
   "execution_count": 141,
   "metadata": {},
   "outputs": [
    {
     "data": {
      "text/html": [
       "<div>\n",
       "<style scoped>\n",
       "    .dataframe tbody tr th:only-of-type {\n",
       "        vertical-align: middle;\n",
       "    }\n",
       "\n",
       "    .dataframe tbody tr th {\n",
       "        vertical-align: top;\n",
       "    }\n",
       "\n",
       "    .dataframe thead th {\n",
       "        text-align: right;\n",
       "    }\n",
       "</style>\n",
       "<table border=\"1\" class=\"dataframe\">\n",
       "  <thead>\n",
       "    <tr style=\"text-align: right;\">\n",
       "      <th></th>\n",
       "      <th>SNo</th>\n",
       "      <th>Date</th>\n",
       "      <th>CityLocation</th>\n",
       "      <th>StartupName</th>\n",
       "      <th>IndustryVertical</th>\n",
       "      <th>InvestmentType</th>\n",
       "    </tr>\n",
       "  </thead>\n",
       "  <tbody>\n",
       "    <tr>\n",
       "      <th>0</th>\n",
       "      <td>5</td>\n",
       "      <td>01/07/2017</td>\n",
       "      <td>Bangalore</td>\n",
       "      <td>Billion Loans</td>\n",
       "      <td>Consumer Internet</td>\n",
       "      <td>Seed Funding</td>\n",
       "    </tr>\n",
       "    <tr>\n",
       "      <th>1</th>\n",
       "      <td>6</td>\n",
       "      <td>03/07/2017</td>\n",
       "      <td>Ahmedabad</td>\n",
       "      <td>Ecolibriumenergy</td>\n",
       "      <td>Technology</td>\n",
       "      <td>Private Equity</td>\n",
       "    </tr>\n",
       "    <tr>\n",
       "      <th>2</th>\n",
       "      <td>7</td>\n",
       "      <td>04/07/2017</td>\n",
       "      <td>Gurgaon</td>\n",
       "      <td>Droom</td>\n",
       "      <td>eCommerce</td>\n",
       "      <td>Private Equity</td>\n",
       "    </tr>\n",
       "    <tr>\n",
       "      <th>3</th>\n",
       "      <td>8</td>\n",
       "      <td>05/07/2017</td>\n",
       "      <td>Bangalore</td>\n",
       "      <td>Jumbotail</td>\n",
       "      <td>eCommerce</td>\n",
       "      <td>Private Equity</td>\n",
       "    </tr>\n",
       "    <tr>\n",
       "      <th>4</th>\n",
       "      <td>9</td>\n",
       "      <td>05/07/2017</td>\n",
       "      <td>Noida</td>\n",
       "      <td>Moglix</td>\n",
       "      <td>eCommerce</td>\n",
       "      <td>Private Equity</td>\n",
       "    </tr>\n",
       "    <tr>\n",
       "      <th>5</th>\n",
       "      <td>10</td>\n",
       "      <td>NaN</td>\n",
       "      <td>NaN</td>\n",
       "      <td>Timesaverz</td>\n",
       "      <td>Consumer Internet</td>\n",
       "      <td>Private Equity</td>\n",
       "    </tr>\n",
       "    <tr>\n",
       "      <th>6</th>\n",
       "      <td>11</td>\n",
       "      <td>NaN</td>\n",
       "      <td>NaN</td>\n",
       "      <td>Minjar</td>\n",
       "      <td>Technology</td>\n",
       "      <td>Seed Funding</td>\n",
       "    </tr>\n",
       "  </tbody>\n",
       "</table>\n",
       "</div>"
      ],
      "text/plain": [
       "   SNo        Date CityLocation       StartupName   IndustryVertical  \\\n",
       "0    5  01/07/2017    Bangalore     Billion Loans  Consumer Internet   \n",
       "1    6  03/07/2017    Ahmedabad  Ecolibriumenergy         Technology   \n",
       "2    7  04/07/2017      Gurgaon             Droom          eCommerce   \n",
       "3    8  05/07/2017    Bangalore         Jumbotail          eCommerce   \n",
       "4    9  05/07/2017        Noida            Moglix          eCommerce   \n",
       "5   10         NaN          NaN        Timesaverz  Consumer Internet   \n",
       "6   11         NaN          NaN            Minjar         Technology   \n",
       "\n",
       "   InvestmentType  \n",
       "0    Seed Funding  \n",
       "1  Private Equity  \n",
       "2  Private Equity  \n",
       "3  Private Equity  \n",
       "4  Private Equity  \n",
       "5  Private Equity  \n",
       "6    Seed Funding  "
      ]
     },
     "execution_count": 141,
     "metadata": {},
     "output_type": "execute_result"
    }
   ],
   "source": [
    "table1.merge(table2, how='right', on='SNo')"
   ]
  },
  {
   "cell_type": "markdown",
   "metadata": {},
   "source": [
    "### **Sorting**"
   ]
  },
  {
   "cell_type": "code",
   "execution_count": null,
   "metadata": {},
   "outputs": [],
   "source": []
  }
 ],
 "metadata": {
  "kernelspec": {
   "display_name": "python_ml",
   "language": "python",
   "name": "python3"
  },
  "language_info": {
   "codemirror_mode": {
    "name": "ipython",
    "version": 3
   },
   "file_extension": ".py",
   "mimetype": "text/x-python",
   "name": "python",
   "nbconvert_exporter": "python",
   "pygments_lexer": "ipython3",
   "version": "3.12.3"
  }
 },
 "nbformat": 4,
 "nbformat_minor": 2
}
