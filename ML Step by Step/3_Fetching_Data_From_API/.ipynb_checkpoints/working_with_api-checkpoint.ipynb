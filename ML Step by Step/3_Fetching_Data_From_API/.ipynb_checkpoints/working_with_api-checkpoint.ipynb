{
 "cells": [
  {
   "cell_type": "markdown",
   "id": "48f9bfd4",
   "metadata": {},
   "source": [
    "# API\n",
    "\n",
    "#### Application Programming Interface\n",
    "\n",
    "Api is a data pipeline between two applications."
   ]
  },
  {
   "cell_type": "code",
   "execution_count": 1,
   "id": "3d5baa42",
   "metadata": {},
   "outputs": [],
   "source": [
    "import pandas as pd\n",
    "import requests"
   ]
  },
  {
   "cell_type": "code",
   "execution_count": 3,
   "id": "019dd501",
   "metadata": {},
   "outputs": [],
   "source": [
    "# Response 200 is OK\n",
    "response = requests.get('https://api.apis.guru/v2/list.json')"
   ]
  },
  {
   "cell_type": "code",
   "execution_count": 14,
   "id": "abf2f28f",
   "metadata": {},
   "outputs": [],
   "source": [
    "temp_df = pd.DataFrame(response.json()['1forge.com']).head(2)[['added','preferred']]"
   ]
  },
  {
   "cell_type": "code",
   "execution_count": 15,
   "id": "04ba01f1",
   "metadata": {},
   "outputs": [
    {
     "data": {
      "text/html": [
       "<div>\n",
       "<style scoped>\n",
       "    .dataframe tbody tr th:only-of-type {\n",
       "        vertical-align: middle;\n",
       "    }\n",
       "\n",
       "    .dataframe tbody tr th {\n",
       "        vertical-align: top;\n",
       "    }\n",
       "\n",
       "    .dataframe thead th {\n",
       "        text-align: right;\n",
       "    }\n",
       "</style>\n",
       "<table border=\"1\" class=\"dataframe\">\n",
       "  <thead>\n",
       "    <tr style=\"text-align: right;\">\n",
       "      <th></th>\n",
       "      <th>added</th>\n",
       "      <th>preferred</th>\n",
       "    </tr>\n",
       "  </thead>\n",
       "  <tbody>\n",
       "    <tr>\n",
       "      <th>0.0.1</th>\n",
       "      <td>2017-05-30T08:34:14.000Z</td>\n",
       "      <td>0.0.1</td>\n",
       "    </tr>\n",
       "  </tbody>\n",
       "</table>\n",
       "</div>"
      ],
      "text/plain": [
       "                          added preferred\n",
       "0.0.1  2017-05-30T08:34:14.000Z     0.0.1"
      ]
     },
     "execution_count": 15,
     "metadata": {},
     "output_type": "execute_result"
    }
   ],
   "source": [
    "temp_df"
   ]
  },
  {
   "cell_type": "code",
   "execution_count": 13,
   "id": "23081a4d",
   "metadata": {},
   "outputs": [],
   "source": [
    "# empty dataframe\n",
    "df = pd.DataFrame()"
   ]
  },
  {
   "cell_type": "code",
   "execution_count": 16,
   "id": "a1790bfb",
   "metadata": {},
   "outputs": [
    {
     "data": {
      "text/html": [
       "<div>\n",
       "<style scoped>\n",
       "    .dataframe tbody tr th:only-of-type {\n",
       "        vertical-align: middle;\n",
       "    }\n",
       "\n",
       "    .dataframe tbody tr th {\n",
       "        vertical-align: top;\n",
       "    }\n",
       "\n",
       "    .dataframe thead th {\n",
       "        text-align: right;\n",
       "    }\n",
       "</style>\n",
       "<table border=\"1\" class=\"dataframe\">\n",
       "  <thead>\n",
       "    <tr style=\"text-align: right;\">\n",
       "      <th></th>\n",
       "    </tr>\n",
       "  </thead>\n",
       "  <tbody>\n",
       "  </tbody>\n",
       "</table>\n",
       "</div>"
      ],
      "text/plain": [
       "Empty DataFrame\n",
       "Columns: []\n",
       "Index: []"
      ]
     },
     "execution_count": 16,
     "metadata": {},
     "output_type": "execute_result"
    }
   ],
   "source": [
    "df"
   ]
  },
  {
   "cell_type": "code",
   "execution_count": 17,
   "id": "f97ad38d",
   "metadata": {},
   "outputs": [],
   "source": [
    "# if you ave multiple pages\n",
    "\n",
    "# for i in range(1,429):\n",
    "#     response = requests.get('https://api.themoviedb.org/3/movie/top_rated?api_key=8265bd1679663a7ea12ac168da84d2e8&language=en-US&page={}'.format(i))\n",
    "#     temp_df = pd.DataFrame(response.json()['results'])[['id','title','overview','release_date','popularity','vote_average','vote_count']]\n",
    "#     df = df.append(temp_df,ignore_index=True)\n",
    "\n",
    "\n",
    "\n",
    "\n",
    "# https://rapidapi.com/collection/list-of-free-apis"
   ]
  },
  {
   "cell_type": "code",
   "execution_count": null,
   "id": "e8b5d8cb",
   "metadata": {},
   "outputs": [],
   "source": [
    "df.shape()\n",
    "\n",
    "df.to_csv('movies.csv')"
   ]
  }
 ],
 "metadata": {
  "kernelspec": {
   "display_name": "Python 3 (ipykernel)",
   "language": "python",
   "name": "python3"
  },
  "language_info": {
   "codemirror_mode": {
    "name": "ipython",
    "version": 3
   },
   "file_extension": ".py",
   "mimetype": "text/x-python",
   "name": "python",
   "nbconvert_exporter": "python",
   "pygments_lexer": "ipython3",
   "version": "3.9.13"
  }
 },
 "nbformat": 4,
 "nbformat_minor": 5
}
