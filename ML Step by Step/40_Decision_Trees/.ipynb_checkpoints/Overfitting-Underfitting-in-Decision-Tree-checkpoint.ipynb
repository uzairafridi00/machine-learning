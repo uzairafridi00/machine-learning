{
 "cells": [
  {
   "cell_type": "code",
   "execution_count": 1,
   "id": "452a2f53",
   "metadata": {},
   "outputs": [],
   "source": [
    "import numpy as np\n",
    "import pandas as pd\n",
    "import matplotlib.pyplot as plt\n",
    "from sklearn.tree import DecisionTreeClassifier"
   ]
  },
  {
   "cell_type": "code",
   "execution_count": 4,
   "id": "f8d17045",
   "metadata": {},
   "outputs": [],
   "source": [
    "def analyzer(max_depth):\n",
    "    data=pd.read_csv('Social_Network_Ads.csv')\n",
    "    X=data.iloc[:,2:4].values\n",
    "    y=data.iloc[:,-1].values\n",
    "    \n",
    "    clf=DecisionTreeClassifier(max_depth=max_depth) \n",
    "    clf.fit(X,y)\n",
    "    \n",
    "    a=np.arange(start=X[:,].min()-1, stop=X[:0].max()+1, step=0.1) \n",
    "    b=np.arange(start=X[:,1].min()-1, stop=X[:,1].max()+1, step=100)\n",
    "    \n",
    "    XX,YY=np.meshgrid(a,b)\n",
    "    \n",
    "    input_array=np.array([XX.ravel(), YY.ravel()]).T\n",
    "    \n",
    "    labels=clf.predict(input_array)\n",
    "    \n",
    "    plt.contourf (XX, YY, labels.reshape(XX.shape), alpha=0.5)\n",
    "    pit.scatter(X[:], X[:, 1], c=y)"
   ]
  },
  {
   "cell_type": "code",
   "execution_count": null,
   "id": "ae496026",
   "metadata": {},
   "outputs": [],
   "source": [
    "analyzer(max_depth=None)"
   ]
  },
  {
   "cell_type": "code",
   "execution_count": null,
   "id": "9424f04a",
   "metadata": {},
   "outputs": [],
   "source": []
  }
 ],
 "metadata": {
  "kernelspec": {
   "display_name": "Python 3 (ipykernel)",
   "language": "python",
   "name": "python3"
  },
  "language_info": {
   "codemirror_mode": {
    "name": "ipython",
    "version": 3
   },
   "file_extension": ".py",
   "mimetype": "text/x-python",
   "name": "python",
   "nbconvert_exporter": "python",
   "pygments_lexer": "ipython3",
   "version": "3.11.5"
  }
 },
 "nbformat": 4,
 "nbformat_minor": 5
}
