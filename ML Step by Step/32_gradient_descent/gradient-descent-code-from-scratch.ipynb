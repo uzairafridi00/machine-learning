{
 "cells": [
  {
   "cell_type": "code",
   "execution_count": 1,
   "id": "8e8a8138",
   "metadata": {},
   "outputs": [],
   "source": [
    "from sklearn.datasets import make_regression\n",
    "import matplotlib.pyplot as plt\n",
    "import numpy as np"
   ]
  },
  {
   "cell_type": "code",
   "execution_count": 2,
   "id": "7e4f61d7",
   "metadata": {},
   "outputs": [],
   "source": [
    "X,y = make_regression(n_samples=100, n_features=1, n_informative=1, n_targets=1, noise=20)"
   ]
  },
  {
   "cell_type": "code",
   "execution_count": 3,
   "id": "694a52ff",
   "metadata": {},
   "outputs": [
    {
     "data": {
      "text/plain": [
       "<matplotlib.collections.PathCollection at 0x223733722d0>"
      ]
     },
     "execution_count": 3,
     "metadata": {},
     "output_type": "execute_result"
    },
    {
     "data": {
      "image/png": "[encoded data removed]",
      "text/plain": [
       "<Figure size 640x480 with 1 Axes>"
      ]
     },
     "metadata": {},
     "output_type": "display_data"
    }
   ],
   "source": [
    "plt.scatter(X,y)"
   ]
  },
  {
   "cell_type": "code",
   "execution_count": 4,
   "id": "21a67335",
   "metadata": {},
   "outputs": [],
   "source": [
    "from sklearn.linear_model import LinearRegression"
   ]
  },
  {
   "cell_type": "code",
   "execution_count": 5,
   "id": "05babede",
   "metadata": {},
   "outputs": [],
   "source": [
    "lr = LinearRegression()"
   ]
  },
  {
   "cell_type": "code",
   "execution_count": 7,
   "id": "d5344773",
   "metadata": {},
   "outputs": [
    {
     "data": {
      "text/html": [
       "<style>#sk-container-id-1 {color: black;}#sk-container-id-1 pre{padding: 0;}#sk-container-id-1 div.sk-toggleable {background-color: white;}#sk-container-id-1 label.sk-toggleable__label {cursor: pointer;display: block;width: 100%;margin-bottom: 0;padding: 0.3em;box-sizing: border-box;text-align: center;}#sk-container-id-1 label.sk-toggleable__label-arrow:before {content: \"▸\";float: left;margin-right: 0.25em;color: #696969;}#sk-container-id-1 label.sk-toggleable__label-arrow:hover:before {color: black;}#sk-container-id-1 div.sk-estimator:hover label.sk-toggleable__label-arrow:before {color: black;}#sk-container-id-1 div.sk-toggleable__content {max-height: 0;max-width: 0;overflow: hidden;text-align: left;background-color: #f0f8ff;}#sk-container-id-1 div.sk-toggleable__content pre {margin: 0.2em;color: black;border-radius: 0.25em;background-color: #f0f8ff;}#sk-container-id-1 input.sk-toggleable__control:checked~div.sk-toggleable__content {max-height: 200px;max-width: 100%;overflow: auto;}#sk-container-id-1 input.sk-toggleable__control:checked~label.sk-toggleable__label-arrow:before {content: \"▾\";}#sk-container-id-1 div.sk-estimator input.sk-toggleable__control:checked~label.sk-toggleable__label {background-color: #d4ebff;}#sk-container-id-1 div.sk-label input.sk-toggleable__control:checked~label.sk-toggleable__label {background-color: #d4ebff;}#sk-container-id-1 input.sk-hidden--visually {border: 0;clip: rect(1px 1px 1px 1px);clip: rect(1px, 1px, 1px, 1px);height: 1px;margin: -1px;overflow: hidden;padding: 0;position: absolute;width: 1px;}#sk-container-id-1 div.sk-estimator {font-family: monospace;background-color: #f0f8ff;border: 1px dotted black;border-radius: 0.25em;box-sizing: border-box;margin-bottom: 0.5em;}#sk-container-id-1 div.sk-estimator:hover {background-color: #d4ebff;}#sk-container-id-1 div.sk-parallel-item::after {content: \"\";width: 100%;border-bottom: 1px solid gray;flex-grow: 1;}#sk-container-id-1 div.sk-label:hover label.sk-toggleable__label {background-color: #d4ebff;}#sk-container-id-1 div.sk-serial::before {content: \"\";position: absolute;border-left: 1px solid gray;box-sizing: border-box;top: 0;bottom: 0;left: 50%;z-index: 0;}#sk-container-id-1 div.sk-serial {display: flex;flex-direction: column;align-items: center;background-color: white;padding-right: 0.2em;padding-left: 0.2em;position: relative;}#sk-container-id-1 div.sk-item {position: relative;z-index: 1;}#sk-container-id-1 div.sk-parallel {display: flex;align-items: stretch;justify-content: center;background-color: white;position: relative;}#sk-container-id-1 div.sk-item::before, #sk-container-id-1 div.sk-parallel-item::before {content: \"\";position: absolute;border-left: 1px solid gray;box-sizing: border-box;top: 0;bottom: 0;left: 50%;z-index: -1;}#sk-container-id-1 div.sk-parallel-item {display: flex;flex-direction: column;z-index: 1;position: relative;background-color: white;}#sk-container-id-1 div.sk-parallel-item:first-child::after {align-self: flex-end;width: 50%;}#sk-container-id-1 div.sk-parallel-item:last-child::after {align-self: flex-start;width: 50%;}#sk-container-id-1 div.sk-parallel-item:only-child::after {width: 0;}#sk-container-id-1 div.sk-dashed-wrapped {border: 1px dashed gray;margin: 0 0.4em 0.5em 0.4em;box-sizing: border-box;padding-bottom: 0.4em;background-color: white;}#sk-container-id-1 div.sk-label label {font-family: monospace;font-weight: bold;display: inline-block;line-height: 1.2em;}#sk-container-id-1 div.sk-label-container {text-align: center;}#sk-container-id-1 div.sk-container {/* jupyter's `normalize.less` sets `[hidden] { display: none; }` but bootstrap.min.css set `[hidden] { display: none !important; }` so we also need the `!important` here to be able to override the default hidden behavior on the sphinx rendered scikit-learn.org. See: https://github.com/scikit-learn/scikit-learn/issues/21755 */display: inline-block !important;position: relative;}#sk-container-id-1 div.sk-text-repr-fallback {display: none;}</style><div id=\"sk-container-id-1\" class=\"sk-top-container\"><div class=\"sk-text-repr-fallback\"><pre>LinearRegression()</pre><b>In a Jupyter environment, please rerun this cell to show the HTML representation or trust the notebook. <br />On GitHub, the HTML representation is unable to render, please try loading this page with nbviewer.org.</b></div><div class=\"sk-container\" hidden><div class=\"sk-item\"><div class=\"sk-estimator sk-toggleable\"><input class=\"sk-toggleable__control sk-hidden--visually\" id=\"sk-estimator-id-1\" type=\"checkbox\" checked><label for=\"sk-estimator-id-1\" class=\"sk-toggleable__label sk-toggleable__label-arrow\">LinearRegression</label><div class=\"sk-toggleable__content\"><pre>LinearRegression()</pre></div></div></div></div></div>"
      ],
      "text/plain": [
       "LinearRegression()"
      ]
     },
     "execution_count": 7,
     "metadata": {},
     "output_type": "execute_result"
    }
   ],
   "source": [
    "lr.fit(X,y)"
   ]
  },
  {
   "cell_type": "code",
   "execution_count": 8,
   "id": "2c7293fa",
   "metadata": {},
   "outputs": [
    {
     "name": "stdout",
     "output_type": "stream",
     "text": [
      "Slope : [96.47487138]\n",
      "Intercept:  -0.098122802119196\n"
     ]
    }
   ],
   "source": [
    "print(\"Slope :\", lr.coef_)\n",
    "print(\"Intercept: \", lr.intercept_)"
   ]
  },
  {
   "cell_type": "code",
   "execution_count": 28,
   "id": "c7e731bb",
   "metadata": {},
   "outputs": [],
   "source": [
    "class GDRegressor:\n",
    "    \n",
    "    def __init__(self, learning_rate, epochs):\n",
    "        self.m = 96.47\n",
    "        self.b = -120\n",
    "        self.lr = learning_rate\n",
    "        self.epochs = epochs\n",
    "        \n",
    "    def fit(self, X, y):\n",
    "        # calulating the b using GD\n",
    "        for i in range(self.epochs):\n",
    "            loss_slope = -2 * np.sum(y - self.m * X.ravel() - self.b)\n",
    "            self.b = self.b - (self.lr * loss_slope)\n",
    "            print(loss_slope,self.b)\n",
    "        \n",
    "        print(\"Final Intercept Value: \" ,self.b)"
   ]
  },
  {
   "cell_type": "code",
   "execution_count": 29,
   "id": "dc7b6e0e",
   "metadata": {},
   "outputs": [],
   "source": [
    "gd = GDRegressor(0.001,100)"
   ]
  },
  {
   "cell_type": "code",
   "execution_count": 30,
   "id": "e49b6200",
   "metadata": {},
   "outputs": [
    {
     "name": "stdout",
     "output_type": "stream",
     "text": [
      "-23980.489102903364 -96.01951089709664\n",
      "-19184.391282322693 -76.83511961477394\n",
      "-15347.51302585815 -61.487606588915796\n",
      "-12278.01042068652 -49.209596168229275\n",
      "-9822.408336549219 -39.38718783168005\n",
      "-7857.926669239371 -31.52926116244068\n",
      "-6286.3413353914975 -25.24291982704918\n",
      "-5029.073068313198 -20.213846758735983\n",
      "-4023.2584546505577 -16.190588304085423\n",
      "-3218.606763720446 -12.971981540364977\n",
      "-2574.8854109763565 -10.39709612938862\n",
      "-2059.9083287810854 -8.337187800607534\n",
      "-1647.9266630248685 -6.689261137582665\n",
      "-1318.3413304198946 -5.370919807162771\n",
      "-1054.6730643359156 -4.316246742826856\n",
      "-843.7384514687326 -3.472508291358123\n",
      "-674.9907611749863 -2.7975175301831365\n",
      "-539.9926089399887 -2.2575249212431476\n",
      "-431.9940871519908 -1.8255308340911567\n",
      "-345.59526972159284 -1.4799355643695637\n",
      "-276.47621577727404 -1.2034593485922898\n",
      "-221.18097262181948 -0.9822783759704703\n",
      "-176.94477809745553 -0.8053335978730147\n",
      "-141.5558224779646 -0.6637777753950501\n",
      "-113.2446579823715 -0.5505331174126786\n",
      "-90.59572638589721 -0.45993739102678144\n",
      "-72.4765811087178 -0.38746080991806364\n",
      "-57.981264886974145 -0.3294795450310895\n",
      "-46.38501190957925 -0.28309453312151023\n",
      "-37.1080095276635 -0.24598652359384673\n",
      "-29.686407622130794 -0.21630011597171594\n",
      "-23.749126097704547 -0.1925509898740114\n",
      "-18.999300878163723 -0.17355168899584766\n",
      "-15.199440702530984 -0.15835224829331668\n",
      "-12.159552562024778 -0.1461926957312919\n",
      "-9.72764204961977 -0.13646505368167214\n",
      "-7.782113639695923 -0.12868294004197622\n",
      "-6.2256909117567005 -0.12245724913021952\n",
      "-4.980552729405662 -0.11747669640081386\n",
      "-3.98444218352435 -0.1134922542172895\n",
      "-3.1875537468193142 -0.1103047004704702\n",
      "-2.550042997455403 -0.1077546574730148\n",
      "-2.0400343979646216 -0.10571462307505018\n",
      "-1.632027518371718 -0.10408259555667847\n",
      "-1.3056220146971906 -0.10277697354198127\n",
      "-1.0444976117576479 -0.10173247593022362\n",
      "-0.8355980894062052 -0.10089687784081741\n",
      "-0.6684784715249492 -0.10022839936929247\n",
      "-0.5347827772200011 -0.09969361659207246\n",
      "-0.42782622177601315 -0.09926579037029645\n",
      "-0.34226097742080697 -0.09892352939287564\n",
      "-0.27380878193686886 -0.09864972061093878\n",
      "-0.2190470255492425 -0.09843067358538954\n",
      "-0.17523762043947322 -0.09825543596495007\n",
      "-0.1401900963516285 -0.09811524586859843\n",
      "-0.11215207708116282 -0.09800309379151727\n",
      "-0.08972166166519813 -0.09791337212985207\n",
      "-0.07177732933197856 -0.0978415948005201\n",
      "-0.057421863465591194 -0.0977841729370545\n",
      "-0.0459374907722756 -0.09773823544628223\n",
      "-0.03674999261785583 -0.09770148545366437\n",
      "-0.02939999409435945 -0.09767208545957001\n",
      "-0.023519995275589345 -0.09764856546429443\n",
      "-0.018815996220270748 -0.09762974946807416\n",
      "-0.015052796976251948 -0.09761469667109791\n",
      "-0.012042237581113113 -0.0976026544335168\n",
      "-0.00963379006474252 -0.09759302064345206\n",
      "-0.007707032051756713 -0.0975853136114003\n",
      "-0.0061656256414295285 -0.09757914798575887\n",
      "-0.004932500513292304 -0.09757421548524557\n",
      "-0.00394600041055071 -0.09757026948483502\n",
      "-0.0031568003283437562 -0.09756711268450667\n",
      "-0.0025254402626835315 -0.097564587244244\n",
      "-0.0020203522101267524 -0.09756256689203387\n",
      "-0.0016162817682925379 -0.09756095061026557\n",
      "-0.001293025414597082 -0.09755965758485097\n",
      "-0.0010344203318943812 -0.09755862316451908\n",
      "-0.0008275362653309415 -0.09755779562825374\n",
      "-0.0006620290123438011 -0.0975571335992414\n",
      "-0.0005296232097427023 -0.09755660397603165\n",
      "-0.00042369856774548964 -0.0975561802774639\n",
      "-0.0003389588544262523 -0.09755584131860948\n",
      "-0.00027116708335483963 -0.09755557015152612\n",
      "-0.0002169336669526345 -0.09755535321785917\n",
      "-0.00017354693330950965 -0.09755517967092586\n",
      "-0.00013883754672683324 -0.09755504083337914\n",
      "-0.00011107003708943353 -0.09755492976334205\n",
      "-8.885602977226625e-05 -0.09755484090731228\n",
      "-7.10848237979178e-05 -0.0975547698224885\n",
      "-5.686785901826141e-05 -0.09755471295462947\n",
      "-4.5494287405745126e-05 -0.09755466746034207\n",
      "-3.639543009104074e-05 -0.09755463106491198\n",
      "-2.9116343865709382e-05 -0.09755460194856812\n",
      "-2.3293075148700382e-05 -0.09755457865549297\n",
      "-1.863446003191882e-05 -0.09755456002103294\n",
      "-1.49075681044053e-05 -0.09755454511346483\n",
      "-1.1926054413358145e-05 -0.09755453318741042\n",
      "-9.540843565858381e-06 -0.09755452364656686\n",
      "-7.632674883240043e-06 -0.09755451601389198\n",
      "-6.1061400238315855e-06 -0.09755450990775195\n",
      "Final Intercept Value:  -0.09755450990775195\n"
     ]
    }
   ],
   "source": [
    "gd.fit(X,y)"
   ]
  },
  {
   "cell_type": "code",
   "execution_count": null,
   "id": "55884c86",
   "metadata": {},
   "outputs": [],
   "source": []
  }
 ],
 "metadata": {
  "kernelspec": {
   "display_name": "Python 3 (ipykernel)",
   "language": "python",
   "name": "python3"
  },
  "language_info": {
   "codemirror_mode": {
    "name": "ipython",
    "version": 3
   },
   "file_extension": ".py",
   "mimetype": "text/x-python",
   "name": "python",
   "nbconvert_exporter": "python",
   "pygments_lexer": "ipython3",
   "version": "3.11.5"
  }
 },
 "nbformat": 4,
 "nbformat_minor": 5
}
